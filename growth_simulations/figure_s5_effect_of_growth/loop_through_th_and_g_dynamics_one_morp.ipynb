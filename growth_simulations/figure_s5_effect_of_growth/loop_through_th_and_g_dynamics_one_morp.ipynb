{
 "cells": [
  {
   "cell_type": "code",
   "execution_count": 2,
   "id": "774d6920-8411-4c5b-a248-495c725f31ce",
   "metadata": {
    "tags": []
   },
   "outputs": [],
   "source": [
    "import numpy as np\n",
    "import matplotlib.pyplot as plt\n",
    "from tqdm import tqdm\n",
    "import math\n",
    "import shutil"
   ]
  },
  {
   "cell_type": "code",
   "execution_count": 3,
   "id": "1056a504-ab16-4075-aa7d-040daee98202",
   "metadata": {
    "tags": []
   },
   "outputs": [],
   "source": [
    "# function for numerical scheme in custom package \n",
    "from euler_scheme_1d_with_growth.analytical_solutions import steady_solution, nrect\n",
    "from euler_scheme_1d_with_growth.functions_for_numerics import *"
   ]
  },
  {
   "cell_type": "code",
   "execution_count": 4,
   "id": "87f15112-d814-4e57-aa2b-2e5700ce65cb",
   "metadata": {},
   "outputs": [],
   "source": [
    "# GROWTH RULE\n",
    "import euler_scheme_1d_with_growth.one_morph as one_morph"
   ]
  },
  {
   "cell_type": "code",
   "execution_count": 5,
   "id": "952101c5-79cf-4b7d-8882-40b61aa0aefd",
   "metadata": {},
   "outputs": [],
   "source": [
    "default_figsize = plt.rcParams['figure.figsize']"
   ]
  },
  {
   "cell_type": "markdown",
   "id": "c0a043ed-02c2-46dd-884c-2c2696e52bc3",
   "metadata": {},
   "source": [
    "# Parameters"
   ]
  },
  {
   "cell_type": "markdown",
   "id": "670fa0ed-087f-45c0-8b06-7913e7fda2f0",
   "metadata": {},
   "source": [
    "## Diffusion"
   ]
  },
  {
   "cell_type": "code",
   "execution_count": 6,
   "id": "07cb5004-e4a8-4033-8d18-81d3c3ebca12",
   "metadata": {
    "tags": []
   },
   "outputs": [],
   "source": [
    "# assume to be 1\n",
    "D     = 1\n",
    "beta  = 1\n",
    "alpha = 1\n",
    "lam   = math.sqrt(D/beta) \n",
    "\n",
    "# supported by experiments\n",
    "x0    = 0.5*lam \n",
    "w     = 0.5*lam\n",
    "\n",
    "# minimal anitial size: minimal possible x0 + w, minimal plausible 2 * (x0 + w/2), minimal prefered (2 * x0 + 2 * w)\n",
    "L0    = 1.8 * (x0 + w)\n",
    "\n",
    "thresholds_to_test = np.linspace(0.285, 0.31, 5)\n",
    "\n",
    "# for plotting\n",
    "Lfinals = np.linspace(0, 4 , 100)"
   ]
  },
  {
   "cell_type": "markdown",
   "id": "1b813f81-2b53-44de-9d65-2afe13a46e93",
   "metadata": {},
   "source": [
    "## Parameters for simulations"
   ]
  },
  {
   "cell_type": "code",
   "execution_count": 7,
   "id": "24193c7c-691e-498d-9c56-68dde47137ac",
   "metadata": {},
   "outputs": [],
   "source": [
    "small_number = 1e-6\n",
    "\n",
    "# space x\n",
    "ndx  = 500\n",
    "dx   = L0/ndx\n",
    "\n",
    "# time t\n",
    "tmax         = 5\n",
    "dt           = 0.5*1e-5\n",
    "t            = np.arange(0, tmax+small_number, dt)\n",
    "ndt          = len(t)\n",
    "\n",
    "# save only ndt_to_save time points\n",
    "ndt_to_save = 1000"
   ]
  },
  {
   "cell_type": "code",
   "execution_count": 8,
   "id": "c14e5775-c277-4908-90a3-1281017b4ce0",
   "metadata": {},
   "outputs": [
    {
     "data": {
      "text/plain": [
       "0.3858024691358025"
      ]
     },
     "execution_count": 8,
     "metadata": {},
     "output_type": "execute_result"
    }
   ],
   "source": [
    "D * dt / dx**2"
   ]
  },
  {
   "cell_type": "markdown",
   "id": "2b34e975-f9cb-4e82-b6be-1d92e287caa5",
   "metadata": {},
   "source": [
    "## Growth rate g"
   ]
  },
  {
   "cell_type": "code",
   "execution_count": 9,
   "id": "c2c5ce6a-e642-4bf8-aea8-0e10f030526e",
   "metadata": {
    "tags": []
   },
   "outputs": [
    {
     "data": {
      "text/plain": [
       "array([0.5, 1. , 5. ])"
      ]
     },
     "execution_count": 9,
     "metadata": {},
     "output_type": "execute_result"
    }
   ],
   "source": [
    "g_to_test = np.array([0.5, 1, 5]) * beta\n",
    "g_to_test"
   ]
  },
  {
   "cell_type": "markdown",
   "id": "b4a15846-65ca-440b-bdd3-6d766c641b0b",
   "metadata": {},
   "source": [
    "# Lfinal(threshold)"
   ]
  },
  {
   "cell_type": "code",
   "execution_count": 10,
   "id": "824aae54-1c9c-427b-b164-00cc49cbec49",
   "metadata": {},
   "outputs": [],
   "source": [
    "thresholds = np.array( [\n",
    "    one_morph.threshold_vs_Lfinal(Lfinal, x0, lam, alpha, w, beta, D) \n",
    "    for Lfinal in Lfinals] )"
   ]
  },
  {
   "cell_type": "code",
   "execution_count": 11,
   "id": "7c8cf303-7897-4d4b-af41-b14c53b74bca",
   "metadata": {},
   "outputs": [
    {
     "name": "stdout",
     "output_type": "stream",
     "text": [
      "[0.285   0.29125 0.2975  0.30375 0.31   ]\n"
     ]
    }
   ],
   "source": [
    "print( thresholds_to_test )\n",
    "Lfinals_to_reach   = np.array([\n",
    "    one_morph.Lfinal(threshold, x0, lam, alpha, w, beta, D) for threshold in thresholds_to_test\n",
    "])"
   ]
  },
  {
   "cell_type": "code",
   "execution_count": 12,
   "id": "2bc66f33-79be-4e8e-a0b7-9b8bc0e351d5",
   "metadata": {},
   "outputs": [
    {
     "data": {
      "image/png": "[encoded data removed]",
      "text/plain": [
       "<Figure size 640x480 with 1 Axes>"
      ]
     },
     "metadata": {},
     "output_type": "display_data"
    }
   ],
   "source": [
    "plt.plot( thresholds*beta/alpha/w, Lfinals/lam )\n",
    "plt.plot( thresholds_to_test*beta/alpha/w, Lfinals_to_reach/lam, '.' )\n",
    "plt.hlines( L0, 0, 2, linestyles='dashed')\n",
    "plt.hlines(x0+w, 0, 2)\n",
    "plt.xlabel(r'Threshold, $\\Theta \\beta / \\alpha w$')\n",
    "plt.ylabel(r'Final system size, $L^*/\\lambda$')\n",
    "plt.xlim( 0, 2 ) \n",
    "plt.ylim( 0, max(Lfinals) )\n",
    "plt.show()"
   ]
  },
  {
   "cell_type": "markdown",
   "id": "7531ddf1-76cb-48c4-b26d-773f73ac6e03",
   "metadata": {},
   "source": [
    "# Simulation"
   ]
  },
  {
   "cell_type": "code",
   "execution_count": 13,
   "id": "09502f62-954d-4eb9-84ad-340f7822bdf6",
   "metadata": {},
   "outputs": [],
   "source": [
    "from euler_scheme_1d_with_growth.one_morph import *"
   ]
  },
  {
   "cell_type": "code",
   "execution_count": 14,
   "id": "8e59319e-6870-465c-bae4-d1c105a4a1c6",
   "metadata": {},
   "outputs": [],
   "source": [
    "output_folder = 'results_of_numerics/one_morph/dynamics/'"
   ]
  },
  {
   "cell_type": "code",
   "execution_count": 15,
   "id": "b081ecad-8c5e-4be1-808b-1cb6f5b643ec",
   "metadata": {},
   "outputs": [],
   "source": [
    "if os.path.exists(output_folder):\n",
    "    # Delete the existing folder\n",
    "    shutil.rmtree(output_folder)\n",
    "\n",
    "# Create empty the folder\n",
    "os.makedirs(output_folder)"
   ]
  },
  {
   "cell_type": "code",
   "execution_count": 16,
   "id": "ba363b84-3ba6-4a8b-b3c7-2cf593b248f1",
   "metadata": {},
   "outputs": [],
   "source": [
    "# write simulation parameters to text file\n",
    "# Save parameters to a text file\n",
    "file_path = os.path.join( output_folder, \"parameters.txt\")\n",
    "\n",
    "with open(file_path, 'w') as file:\n",
    "    file.write(\"Model Parameters:\\n\")\n",
    "    file.write(f\"D: {D}\\n\")\n",
    "    file.write(f\"beta: {beta}\\n\")\n",
    "    file.write(f\"alpha: {alpha}\\n\")\n",
    "    file.write(f\"lambda (sqrt(D/beta)): {lam}\\n\")\n",
    "    file.write(f\"x0: {x0}\\n\")\n",
    "    file.write(f\"w: {w}\\n\")\n",
    "    file.write(f\"L0: {L0}\\n\")\n",
    "    file.write(f\"small_number: {small_number}\\n\\n\")\n",
    "    \n",
    "    file.write(\"Space Parameters:\\n\")\n",
    "    file.write(f\"ndx: {ndx}\\n\")\n",
    "    file.write(f\"dx: {dx}\\n\\n\")\n",
    "    \n",
    "    file.write(\"Time Parameters:\\n\")\n",
    "    file.write(f\"tmax: {tmax}\\n\")\n",
    "    file.write(f\"dt: {dt}\\n\")\n",
    "    file.write(f\"t (array length): {len(t)}\\n\")\n",
    "    file.write(f\"ndt: {ndt}\\n\")\n",
    "    file.write(f\"ndt_to_save: {ndt_to_save}\\n\")"
   ]
  },
  {
   "cell_type": "code",
   "execution_count": 17,
   "id": "3c620011-d5bc-49d1-87f2-bb44ba9936ec",
   "metadata": {},
   "outputs": [
    {
     "name": "stdout",
     "output_type": "stream",
     "text": [
      "th_0.285_g_0.5\n"
     ]
    },
    {
     "name": "stderr",
     "output_type": "stream",
     "text": [
      "100%|██████████████████████████████| 1000000/1000000 [01:17<00:00, 12823.12it/s]\n"
     ]
    },
    {
     "name": "stdout",
     "output_type": "stream",
     "text": [
      "Folder created at: results_of_numerics/one_morph/dynamics/th_0.285_g_0.5\n",
      "Results successfully saved in: results_of_numerics/one_morph/dynamics/th_0.285_g_0.5\n",
      "th_0.29125_g_0.5\n"
     ]
    },
    {
     "name": "stderr",
     "output_type": "stream",
     "text": [
      "100%|██████████████████████████████| 1000000/1000000 [01:17<00:00, 12872.05it/s]\n"
     ]
    },
    {
     "name": "stdout",
     "output_type": "stream",
     "text": [
      "Folder created at: results_of_numerics/one_morph/dynamics/th_0.29125_g_0.5\n",
      "Results successfully saved in: results_of_numerics/one_morph/dynamics/th_0.29125_g_0.5\n",
      "th_0.2975_g_0.5\n"
     ]
    },
    {
     "name": "stderr",
     "output_type": "stream",
     "text": [
      "100%|██████████████████████████████| 1000000/1000000 [01:16<00:00, 13151.29it/s]\n"
     ]
    },
    {
     "name": "stdout",
     "output_type": "stream",
     "text": [
      "Folder created at: results_of_numerics/one_morph/dynamics/th_0.2975_g_0.5\n",
      "Results successfully saved in: results_of_numerics/one_morph/dynamics/th_0.2975_g_0.5\n",
      "th_0.30374999999999996_g_0.5\n"
     ]
    },
    {
     "name": "stderr",
     "output_type": "stream",
     "text": [
      "100%|██████████████████████████████| 1000000/1000000 [01:15<00:00, 13267.92it/s]\n"
     ]
    },
    {
     "name": "stdout",
     "output_type": "stream",
     "text": [
      "Folder created at: results_of_numerics/one_morph/dynamics/th_0.30374999999999996_g_0.5\n",
      "Results successfully saved in: results_of_numerics/one_morph/dynamics/th_0.30374999999999996_g_0.5\n",
      "th_0.31_g_0.5\n"
     ]
    },
    {
     "name": "stderr",
     "output_type": "stream",
     "text": [
      "100%|██████████████████████████████| 1000000/1000000 [01:12<00:00, 13762.94it/s]\n"
     ]
    },
    {
     "name": "stdout",
     "output_type": "stream",
     "text": [
      "Folder created at: results_of_numerics/one_morph/dynamics/th_0.31_g_0.5\n",
      "Results successfully saved in: results_of_numerics/one_morph/dynamics/th_0.31_g_0.5\n",
      "th_0.285_g_1.0\n"
     ]
    },
    {
     "name": "stderr",
     "output_type": "stream",
     "text": [
      "100%|██████████████████████████████| 1000000/1000000 [01:12<00:00, 13804.69it/s]\n"
     ]
    },
    {
     "name": "stdout",
     "output_type": "stream",
     "text": [
      "Folder created at: results_of_numerics/one_morph/dynamics/th_0.285_g_1.0\n",
      "Results successfully saved in: results_of_numerics/one_morph/dynamics/th_0.285_g_1.0\n",
      "th_0.29125_g_1.0\n"
     ]
    },
    {
     "name": "stderr",
     "output_type": "stream",
     "text": [
      "100%|██████████████████████████████| 1000000/1000000 [01:11<00:00, 13983.95it/s]\n"
     ]
    },
    {
     "name": "stdout",
     "output_type": "stream",
     "text": [
      "Folder created at: results_of_numerics/one_morph/dynamics/th_0.29125_g_1.0\n",
      "Results successfully saved in: results_of_numerics/one_morph/dynamics/th_0.29125_g_1.0\n",
      "th_0.2975_g_1.0\n"
     ]
    },
    {
     "name": "stderr",
     "output_type": "stream",
     "text": [
      "100%|██████████████████████████████| 1000000/1000000 [01:12<00:00, 13802.79it/s]\n"
     ]
    },
    {
     "name": "stdout",
     "output_type": "stream",
     "text": [
      "Folder created at: results_of_numerics/one_morph/dynamics/th_0.2975_g_1.0\n",
      "Results successfully saved in: results_of_numerics/one_morph/dynamics/th_0.2975_g_1.0\n",
      "th_0.30374999999999996_g_1.0\n"
     ]
    },
    {
     "name": "stderr",
     "output_type": "stream",
     "text": [
      "100%|██████████████████████████████| 1000000/1000000 [01:10<00:00, 14115.87it/s]\n"
     ]
    },
    {
     "name": "stdout",
     "output_type": "stream",
     "text": [
      "Folder created at: results_of_numerics/one_morph/dynamics/th_0.30374999999999996_g_1.0\n",
      "Results successfully saved in: results_of_numerics/one_morph/dynamics/th_0.30374999999999996_g_1.0\n",
      "th_0.31_g_1.0\n"
     ]
    },
    {
     "name": "stderr",
     "output_type": "stream",
     "text": [
      "100%|██████████████████████████████| 1000000/1000000 [01:10<00:00, 14086.74it/s]\n"
     ]
    },
    {
     "name": "stdout",
     "output_type": "stream",
     "text": [
      "Folder created at: results_of_numerics/one_morph/dynamics/th_0.31_g_1.0\n",
      "Results successfully saved in: results_of_numerics/one_morph/dynamics/th_0.31_g_1.0\n",
      "th_0.285_g_5.0\n"
     ]
    },
    {
     "name": "stderr",
     "output_type": "stream",
     "text": [
      "100%|██████████████████████████████| 1000000/1000000 [01:07<00:00, 14796.07it/s]\n"
     ]
    },
    {
     "name": "stdout",
     "output_type": "stream",
     "text": [
      "Folder created at: results_of_numerics/one_morph/dynamics/th_0.285_g_5.0\n",
      "Results successfully saved in: results_of_numerics/one_morph/dynamics/th_0.285_g_5.0\n",
      "th_0.29125_g_5.0\n"
     ]
    },
    {
     "name": "stderr",
     "output_type": "stream",
     "text": [
      "100%|██████████████████████████████| 1000000/1000000 [01:07<00:00, 14742.40it/s]\n"
     ]
    },
    {
     "name": "stdout",
     "output_type": "stream",
     "text": [
      "Folder created at: results_of_numerics/one_morph/dynamics/th_0.29125_g_5.0\n",
      "Results successfully saved in: results_of_numerics/one_morph/dynamics/th_0.29125_g_5.0\n",
      "th_0.2975_g_5.0\n"
     ]
    },
    {
     "name": "stderr",
     "output_type": "stream",
     "text": [
      "100%|██████████████████████████████| 1000000/1000000 [01:07<00:00, 14803.34it/s]\n"
     ]
    },
    {
     "name": "stdout",
     "output_type": "stream",
     "text": [
      "Folder created at: results_of_numerics/one_morph/dynamics/th_0.2975_g_5.0\n",
      "Results successfully saved in: results_of_numerics/one_morph/dynamics/th_0.2975_g_5.0\n",
      "th_0.30374999999999996_g_5.0\n"
     ]
    },
    {
     "name": "stderr",
     "output_type": "stream",
     "text": [
      "100%|██████████████████████████████| 1000000/1000000 [01:08<00:00, 14595.92it/s]\n"
     ]
    },
    {
     "name": "stdout",
     "output_type": "stream",
     "text": [
      "Folder created at: results_of_numerics/one_morph/dynamics/th_0.30374999999999996_g_5.0\n",
      "Results successfully saved in: results_of_numerics/one_morph/dynamics/th_0.30374999999999996_g_5.0\n",
      "th_0.31_g_5.0\n"
     ]
    },
    {
     "name": "stderr",
     "output_type": "stream",
     "text": [
      "100%|██████████████████████████████| 1000000/1000000 [01:07<00:00, 14731.22it/s]"
     ]
    },
    {
     "name": "stdout",
     "output_type": "stream",
     "text": [
      "Folder created at: results_of_numerics/one_morph/dynamics/th_0.31_g_5.0\n",
      "Results successfully saved in: results_of_numerics/one_morph/dynamics/th_0.31_g_5.0\n"
     ]
    },
    {
     "name": "stderr",
     "output_type": "stream",
     "text": [
      "\n"
     ]
    }
   ],
   "source": [
    "for g in g_to_test:\n",
    "    for threshold_growth in thresholds_to_test:\n",
    "        print(f'th_{threshold_growth}_g_{g}')\n",
    "        simulation = one_morph_euler(D, beta, alpha, L0, x0, w, g, threshold_growth, ndx, dx, tmax, dt, t, ndt, ndt_to_save)\n",
    "        simulation.run_simulation()\n",
    "        simulation.save_results(folder_base=output_folder)"
   ]
  },
  {
   "cell_type": "code",
   "execution_count": null,
   "id": "2b5b9b63-8f60-4864-b8d9-e6ac9a2e20cd",
   "metadata": {},
   "outputs": [],
   "source": []
  },
  {
   "cell_type": "code",
   "execution_count": null,
   "id": "a136f619-3489-4f49-acb6-b0f914f222c3",
   "metadata": {},
   "outputs": [],
   "source": []
  },
  {
   "cell_type": "code",
   "execution_count": null,
   "id": "f696a25c-879f-473c-ae5f-a0cfbd2bf545",
   "metadata": {},
   "outputs": [],
   "source": []
  },
  {
   "cell_type": "code",
   "execution_count": null,
   "id": "cff52eac-7a70-43b6-b656-f33964ad862f",
   "metadata": {},
   "outputs": [],
   "source": []
  }
 ],
 "metadata": {
  "kernelspec": {
   "display_name": "Python 3 (ipykernel)",
   "language": "python",
   "name": "python3"
  },
  "language_info": {
   "codemirror_mode": {
    "name": "ipython",
    "version": 3
   },
   "file_extension": ".py",
   "mimetype": "text/x-python",
   "name": "python",
   "nbconvert_exporter": "python",
   "pygments_lexer": "ipython3",
   "version": "3.11.11"
  }
 },
 "nbformat": 4,
 "nbformat_minor": 5
}
