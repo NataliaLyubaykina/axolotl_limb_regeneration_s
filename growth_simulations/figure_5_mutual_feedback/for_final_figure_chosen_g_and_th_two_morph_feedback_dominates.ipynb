{
 "cells": [
  {
   "cell_type": "code",
   "execution_count": 2,
   "id": "c8bb22ae-84b7-418e-b9a0-147f5b373e8a",
   "metadata": {
    "tags": []
   },
   "outputs": [],
   "source": [
    "import numpy as np\n",
    "import matplotlib.pyplot as plt\n",
    "from tqdm import tqdm\n",
    "import math"
   ]
  },
  {
   "cell_type": "code",
   "execution_count": 3,
   "id": "db625ef6-7f97-434e-88e1-9d7413a54bc3",
   "metadata": {
    "tags": []
   },
   "outputs": [],
   "source": [
    "# function for numerical scheme in custom package \n",
    "from euler_scheme_1d_with_growth.analytical_solutions import steady_solution, nrect\n",
    "from euler_scheme_1d_with_growth.functions_for_numerics import *"
   ]
  },
  {
   "cell_type": "code",
   "execution_count": 4,
   "id": "aaa51666-1513-4416-9f58-181278c3eceb",
   "metadata": {
    "tags": []
   },
   "outputs": [],
   "source": [
    "# GROWTH RULE\n",
    "import euler_scheme_1d_with_growth.two_morph as two_morph\n",
    "from euler_scheme_1d_with_growth.growth_rules import two_morph_growth_rule as growth_rule"
   ]
  },
  {
   "cell_type": "code",
   "execution_count": 5,
   "id": "093676c7-ee42-47f2-b83e-9c025f538a70",
   "metadata": {},
   "outputs": [],
   "source": [
    "default_figsize = plt.rcParams['figure.figsize']"
   ]
  },
  {
   "cell_type": "code",
   "execution_count": 6,
   "id": "24d22852-98a2-4532-8117-3cf883f0f701",
   "metadata": {},
   "outputs": [],
   "source": [
    "# makes plotting very slow, should be commented while testing\n",
    "plt.rcParams['text.usetex'] = True "
   ]
  },
  {
   "cell_type": "markdown",
   "id": "c0a043ed-02c2-46dd-884c-2c2696e52bc3",
   "metadata": {},
   "source": [
    "# Parameters"
   ]
  },
  {
   "cell_type": "markdown",
   "id": "670fa0ed-087f-45c0-8b06-7913e7fda2f0",
   "metadata": {},
   "source": [
    "## Diffusion"
   ]
  },
  {
   "cell_type": "code",
   "execution_count": 7,
   "id": "09a5d5ed-bb3c-4056-adaa-97b9edff6e5c",
   "metadata": {},
   "outputs": [],
   "source": [
    "# assume to be 1\n",
    "D     = 1\n",
    "beta  = 1\n",
    "alpha = 1\n",
    "lam   = math.sqrt(D/beta) \n",
    "\n",
    "# supported by experiments\n",
    "x0    = 0.4*lam \n",
    "wComp = 0.8*lam\n",
    "\n",
    "# minimal anitial size: minimal possible x0 + w, minimal plausible 2 * (x0 + w/2), minimal prefered (2 * x0 + 2 * w)\n",
    "L0    = 1.8 * lam"
   ]
  },
  {
   "cell_type": "markdown",
   "id": "1b813f81-2b53-44de-9d65-2afe13a46e93",
   "metadata": {},
   "source": [
    "## Parameters for simulations"
   ]
  },
  {
   "cell_type": "code",
   "execution_count": 8,
   "id": "9b46bc4f-ce25-4362-8229-d04c5853201d",
   "metadata": {
    "tags": []
   },
   "outputs": [],
   "source": [
    "small_number = 1e-6\n",
    "\n",
    "# space x\n",
    "ndx  = 500\n",
    "dx   = L0/ndx\n",
    "\n",
    "# time t\n",
    "tmax         = 10#1e-5\n",
    "dt           = 0.5*1e-5#1e-8\n",
    "t            = np.arange(0, tmax+small_number, dt)\n",
    "ndt          = len(t)\n",
    "\n",
    "# save only ndt_to_save time points\n",
    "ndt_to_save = 1000"
   ]
  },
  {
   "cell_type": "code",
   "execution_count": 9,
   "id": "1df12ea2-e63f-4352-a53c-44f4dc875661",
   "metadata": {},
   "outputs": [
    {
     "data": {
      "text/plain": [
       "2000001"
      ]
     },
     "execution_count": 9,
     "metadata": {},
     "output_type": "execute_result"
    }
   ],
   "source": [
    "ndt"
   ]
  },
  {
   "cell_type": "code",
   "execution_count": 10,
   "id": "c14e5775-c277-4908-90a3-1281017b4ce0",
   "metadata": {},
   "outputs": [
    {
     "data": {
      "text/plain": [
       "0.3858024691358025"
      ]
     },
     "execution_count": 10,
     "metadata": {},
     "output_type": "execute_result"
    }
   ],
   "source": [
    "D * dt / dx**2"
   ]
  },
  {
   "cell_type": "markdown",
   "id": "2b34e975-f9cb-4e82-b6be-1d92e287caa5",
   "metadata": {},
   "source": [
    "## Chosen growth rate, threshold"
   ]
  },
  {
   "cell_type": "code",
   "execution_count": 11,
   "id": "235e55e9-3c3b-4ce2-8870-1e618ef52c4d",
   "metadata": {},
   "outputs": [
    {
     "data": {
      "text/plain": [
       "np.float64(0.06999749322782393)"
      ]
     },
     "execution_count": 11,
     "metadata": {},
     "output_type": "execute_result"
    }
   ],
   "source": [
    "threshold_fb = steady_solution( 2.6, 0, lam, alpha, wComp, beta, D, 4 )\n",
    "threshold_fb"
   ]
  },
  {
   "cell_type": "code",
   "execution_count": 12,
   "id": "c2c5ce6a-e642-4bf8-aea8-0e10f030526e",
   "metadata": {
    "tags": []
   },
   "outputs": [],
   "source": [
    "g_to_test = np.array([0.5, 1, 2]) * beta"
   ]
  },
  {
   "cell_type": "code",
   "execution_count": 13,
   "id": "c7efabbc-8e58-433a-bdab-4a51de970af6",
   "metadata": {},
   "outputs": [
    {
     "data": {
      "text/plain": [
       "np.float64(0.17499373306955984)"
      ]
     },
     "execution_count": 13,
     "metadata": {},
     "output_type": "execute_result"
    }
   ],
   "source": [
    "g = g_to_test[0]\n",
    "threshold_growth = 2.5 * threshold_fb\n",
    "threshold_growth"
   ]
  },
  {
   "cell_type": "markdown",
   "id": "7080e0b0-225c-41d9-aff3-c9448a85f010",
   "metadata": {},
   "source": [
    "# Simulation"
   ]
  },
  {
   "cell_type": "code",
   "execution_count": 14,
   "id": "9d34e289-3d93-422b-9074-b640c6e1f8c3",
   "metadata": {},
   "outputs": [],
   "source": [
    "from euler_scheme_1d_with_growth.two_morph import *"
   ]
  },
  {
   "cell_type": "code",
   "execution_count": 15,
   "id": "85a80c0f-4d68-4a3b-9c3d-fac4c153b142",
   "metadata": {},
   "outputs": [
    {
     "name": "stdout",
     "output_type": "stream",
     "text": [
      "th_0.17499373306955984_g_0.5\n"
     ]
    },
    {
     "name": "stderr",
     "output_type": "stream",
     "text": [
      "100%|██████████████████████████████| 2000000/2000000 [01:48<00:00, 18373.15it/s]\n"
     ]
    }
   ],
   "source": [
    "print(f'th_{threshold_growth}_g_{g}')\n",
    "\n",
    "simulation = two_morph_feedback_euler_steady(D, beta, alpha, L0, wComp, g, threshold_growth, threshold_fb, ndx, dx, tmax, dt, t, ndt, ndt_to_save)\n",
    "simulation.run_simulation()"
   ]
  },
  {
   "cell_type": "code",
   "execution_count": 16,
   "id": "1c1d6629-71c3-4e06-b3cb-63d6a1cfe7ba",
   "metadata": {},
   "outputs": [],
   "source": [
    "time_to_save = simulation.time_to_save\n",
    "Lt = simulation.Lt\n",
    "\n",
    "x_centerst = simulation.x_centerst\n",
    "x_edgest = simulation.x_edgest\n",
    "x_gridt = simulation.x_gridt\n",
    "\n",
    "s_steadyt = simulation.s_steadyt\n",
    "f_steadyt = simulation.f_steadyt\n",
    "\n",
    "#st = simulation.st\n",
    "#ft = simulation.ft\n",
    "\n",
    "source_st = simulation.source_st\n",
    "source_ft = simulation.source_ft\n",
    "\n",
    "grt = simulation.grt\n",
    "\n",
    "grsizet = simulation.grsizet"
   ]
  },
  {
   "cell_type": "markdown",
   "id": "b1a27f7d-df6a-4e8b-94b5-b1e2df50bf88",
   "metadata": {},
   "source": [
    "# Plot results"
   ]
  },
  {
   "cell_type": "markdown",
   "id": "cdd85e26-08e9-402f-a493-5fed7282f5a4",
   "metadata": {},
   "source": [
    "## System size"
   ]
  },
  {
   "cell_type": "code",
   "execution_count": 17,
   "id": "e918e0d3-6d94-4bf6-bf51-870640240a0e",
   "metadata": {},
   "outputs": [
    {
     "data": {
      "text/plain": [
       "np.float64(3.235043431902737)"
      ]
     },
     "execution_count": 17,
     "metadata": {},
     "output_type": "execute_result"
    }
   ],
   "source": [
    "Lt[ np.argwhere( Lt == Lt[-1] )[0][0] - 1]"
   ]
  },
  {
   "cell_type": "code",
   "execution_count": 18,
   "id": "7c22e6b8-1b2e-49e1-b45e-6616a7f3bcb5",
   "metadata": {},
   "outputs": [
    {
     "data": {
      "text/plain": [
       "np.float64(3.2353314411915033)"
      ]
     },
     "execution_count": 18,
     "metadata": {},
     "output_type": "execute_result"
    }
   ],
   "source": [
    "Lt[-1]"
   ]
  },
  {
   "cell_type": "code",
   "execution_count": 19,
   "id": "9f9d9223-f937-40ce-9c77-cf57a48bdabe",
   "metadata": {
    "tags": []
   },
   "outputs": [
    {
     "data": {
      "image/png": "[encoded data removed]",
      "text/plain": [
       "<Figure size 640x480 with 1 Axes>"
      ]
     },
     "metadata": {},
     "output_type": "display_data"
    }
   ],
   "source": [
    "plt.plot( time_to_save, Lt, 'b')\n",
    "plt.ylim(0, 3 * L0)\n",
    "plt.xlabel('Time, t')\n",
    "plt.ylabel('System size, L(t)')\n",
    "plt.show()"
   ]
  },
  {
   "cell_type": "markdown",
   "id": "483a6983-b1c6-43c8-b2c0-d96468ecb9a8",
   "metadata": {},
   "source": [
    "## Relative growth region size"
   ]
  },
  {
   "cell_type": "code",
   "execution_count": 20,
   "id": "28ea6753-3ec3-442f-869d-166f659533d3",
   "metadata": {
    "tags": []
   },
   "outputs": [
    {
     "data": {
      "image/png": "[encoded data removed]",
      "text/plain": [
       "<Figure size 640x480 with 1 Axes>"
      ]
     },
     "metadata": {},
     "output_type": "display_data"
    }
   ],
   "source": [
    "plt.plot(np.linspace(1, ndt, ndt_to_save).astype(int), grsizet / Lt)\n",
    "plt.ylim(-0.1, 1.2)\n",
    "plt.xlabel('Time, t')\n",
    "plt.ylabel('Growth region size, L(t)')\n",
    "plt.show()"
   ]
  },
  {
   "cell_type": "markdown",
   "id": "eb3544cc-7021-4d04-8924-ba1ee4bcceb8",
   "metadata": {},
   "source": [
    "# Source region size"
   ]
  },
  {
   "cell_type": "raw",
   "id": "8e01cc38-b458-48e3-96b1-585e7becc4d7",
   "metadata": {},
   "source": [
    "source_sizes = np.sum( source_st, 1)\n",
    "plt.plot(source_sizes, '.')\n",
    "plt.xlabel('Time, t')\n",
    "plt.ylabel('Source region size')\n",
    "#plt.xlim(75, 100)\n",
    "plt.show()"
   ]
  },
  {
   "cell_type": "markdown",
   "id": "e697786f-e6ac-4950-8a21-1eaf3e13d949",
   "metadata": {
    "tags": []
   },
   "source": [
    "## Morphogen gradient profiles for three picked time points\n",
    "\n",
    "- t0: gap between sources is ~w\n",
    "- t1: the relative growth region is ~1/2 of the relative growth region at t0\n",
    "- t2: growth has stopped"
   ]
  },
  {
   "cell_type": "code",
   "execution_count": 21,
   "id": "d745294f-3af6-4e6b-a3fc-d12f40214f92",
   "metadata": {},
   "outputs": [],
   "source": [
    "from matplotlib_defaults import *"
   ]
  },
  {
   "cell_type": "markdown",
   "id": "adff792e-3cc9-48e6-ba9a-a532c5efde1f",
   "metadata": {},
   "source": [
    "### Picking these time points"
   ]
  },
  {
   "cell_type": "code",
   "execution_count": 22,
   "id": "f0e51501-dc31-42a9-8c30-a54f44d30c17",
   "metadata": {},
   "outputs": [],
   "source": [
    "def plot_concentration(ax, n, i):\n",
    "    ax.fill_between(x_centerst[n], threshold_fb * source_st[n], color=\"red\", alpha=0.5)\n",
    "    ax.fill_between(x_centerst[n], threshold_fb * source_ft[n], color=\"blue\", alpha=0.5)\n",
    "    ax.fill_between(x_centerst[n], threshold_growth * grt[n], color=\"green\", alpha=0.5)\n",
    "    ax.plot(x_centerst[n], threshold_growth + np.zeros_like(x_centerst[n]), 'g--')\n",
    "    ax.plot(x_centerst[n], threshold_fb + np.zeros_like(x_centerst[n]), 'r--')\n",
    "    \n",
    "#    ax.plot(x_centerst[n], st[n], 'r', label='Source term (st)')\n",
    "#    ax.plot(x_centerst[n], ft[n], 'b', label='Source term (ft)')\n",
    "    ax.plot(x_centerst[n], s_steadyt[n], 'r', label='Steady state (st)')\n",
    "    ax.plot(x_centerst[n], f_steadyt[n], 'b', label='Steady state (ft)')\n",
    "    ax.set_title(f't = {round(time_to_save[n], 2)}')\n",
    "    ax.set_xlabel('Position, x')\n",
    "    ax.set_ylabel('Concentration, c(x)')\n",
    "    ax.set_ylim(0, 1)"
   ]
  },
  {
   "cell_type": "code",
   "execution_count": 23,
   "id": "8eca3856-5a19-4409-9a1e-182b9e05a791",
   "metadata": {},
   "outputs": [],
   "source": [
    "def mask_middle_zeros(arr):\n",
    "    \n",
    "    if not isinstance(arr, np.ndarray):\n",
    "        arr = np.array(arr)\n",
    "    \n",
    "    # Identify the indices where transitions between 0 and 1 occur\n",
    "    boundaries = np.where(np.diff(np.concatenate(([1], arr, [1]))))[0]\n",
    "    \n",
    "    # Find the groups of zeros\n",
    "    zero_groups = [\n",
    "        (start, end)\n",
    "        for start, end in zip(boundaries[:-1], boundaries[1:])\n",
    "        if arr[start:end].all() == 0\n",
    "    ]\n",
    "    \n",
    "    if len(zero_groups) < 1:\n",
    "        raise ValueError(\"The array does not contain a middle group of zeros.\")\n",
    "    \n",
    "    # Select the middle group of zeros\n",
    "    if len(zero_groups) != 1:\n",
    "        mid_group = zero_groups[len(zero_groups) // 2]\n",
    "    else:\n",
    "        mid_group = zero_groups[0]\n",
    "\n",
    "    # Create the mask\n",
    "    mask = np.zeros_like(arr, dtype=bool)\n",
    "    mask[mid_group[0]:mid_group[1]] = True\n",
    "\n",
    "    return mask"
   ]
  },
  {
   "cell_type": "code",
   "execution_count": 24,
   "id": "bd393677-4881-49d3-9c24-4a1b9c9af8aa",
   "metadata": {},
   "outputs": [],
   "source": [
    "gaps = []\n",
    "for n in range(0, len(time_to_save)):\n",
    "    if 2 not in source_st[n] + source_ft[n]: # no overlap between sources\n",
    "        gap_mask = mask_middle_zeros(source_st[n] + source_ft[n])\n",
    "        \n",
    "        gaps.append( \n",
    "            float( np.sum( gap_mask * x_gridt[n] ) )\n",
    "        )\n",
    "    else:\n",
    "        gaps.append( np.nan )\n",
    "gaps = np.array( gaps )"
   ]
  },
  {
   "cell_type": "code",
   "execution_count": 25,
   "id": "f4ddecf7-480d-434f-a07f-58bad9a8f639",
   "metadata": {},
   "outputs": [],
   "source": [
    "def find_closest_index(array, value):\n",
    "    array = np.array(array)  # Ensure input is a numpy array\n",
    "    # Mask NaN values\n",
    "    valid_mask = ~np.isnan(array)\n",
    "    valid_array = array[valid_mask]\n",
    "    \n",
    "    if valid_array.size == 0:\n",
    "        raise ValueError(\"The array contains only NaN values.\")\n",
    "    \n",
    "    # Find the index of the closest value in the valid array\n",
    "    closest_index_in_valid = np.argmin(np.abs(valid_array - value))\n",
    "    \n",
    "    # Map back to the original array index\n",
    "    original_index = np.where(valid_mask)[0][closest_index_in_valid]\n",
    "    \n",
    "    return int(original_index)"
   ]
  },
  {
   "cell_type": "code",
   "execution_count": 26,
   "id": "9d9e7ca8-0187-450a-b94f-818ab2a28776",
   "metadata": {},
   "outputs": [
    {
     "data": {
      "image/png": "[encoded data removed]",
      "text/plain": [
       "<Figure size 2125.98x519.684 with 3 Axes>"
      ]
     },
     "metadata": {},
     "output_type": "display_data"
    }
   ],
   "source": [
    "nrows, ncols = 1, 3\n",
    "fig, ax = plt.subplots(nrows, ncols, figsize=(default_figsize[\"large\"][0], default_figsize[\"large\"][1]/5), sharex=True, sharey=True)\n",
    "t_to_plot = np.arange(0, tmax+small_number, tmax/nrows)\n",
    "\n",
    "i = 1\n",
    "ax = plt.subplot(nrows, ncols, i)\n",
    "nt0 = 0\n",
    "plot_concentration(ax, nt0, i)\n",
    "\n",
    "# t2: growth has stopped\n",
    "if len(np.argwhere( grsizet == 0 )) == 0:\n",
    "    nt2 = len(grsizet)\n",
    "else:\n",
    "    nt2 = np.where( grsizet == 0 )[0][0]-1\n",
    "\n",
    "i = 2\n",
    "ax = plt.subplot(nrows, ncols, i)\n",
    "nt1 = int( (nt0 + nt2) / 2)\n",
    "plot_concentration(ax, nt1, i)\n",
    "\n",
    "i = 3\n",
    "ax = plt.subplot(nrows, ncols, i)\n",
    "\n",
    "plot_concentration(ax, nt2, i)\n",
    "\n",
    "plt.savefig(f'fig/two_morph_feedback_profiles_t0_t1_t2_steady_th_fb{round(threshold_fb, 3)}.pdf', bbox_inches='tight')\n",
    "\n",
    "plt.show()"
   ]
  },
  {
   "cell_type": "code",
   "execution_count": 27,
   "id": "c65be818-3561-4002-aaf9-5a16547a773f",
   "metadata": {},
   "outputs": [
    {
     "data": {
      "text/plain": [
       "np.int64(433)"
      ]
     },
     "execution_count": 27,
     "metadata": {},
     "output_type": "execute_result"
    }
   ],
   "source": [
    "nt2"
   ]
  },
  {
   "cell_type": "markdown",
   "id": "02fa36f1-28f7-40a2-80cd-2fcb040dec0d",
   "metadata": {},
   "source": [
    "## Cartoons"
   ]
  },
  {
   "cell_type": "code",
   "execution_count": null,
   "id": "ac51c330-ae69-4f47-90f2-eaaa1e832d8f",
   "metadata": {
    "tags": []
   },
   "outputs": [],
   "source": [
    "nrows, ncols = 201, 1\n",
    "fig, ax = plt.subplots(nrows, ncols, figsize=(default_figsize[\"medium\"][0], default_figsize[\"medium\"][0]), sharex=True, sharey=True, gridspec_kw={'hspace': 0})\n",
    "#t_to_plot = np.arange(0, time_to_save[nt2+50] + small_number, time_to_save[nt2+50]/nrows)\n",
    "t_to_plot = np.arange(0, tmax+small_number, tmax/nrows)\n",
    "\n",
    "# characteristic time points\n",
    "n_to_plot = []\n",
    "for i in range(1, ncols*nrows+1):\n",
    "    n = int(t_to_plot[i - 1] / dt / (ndt / ndt_to_save))\n",
    "    n_to_plot.append( n )\n",
    "\n",
    "nt = [ \n",
    "    n_to_plot[find_closest_index( n_to_plot, nt0 )], \n",
    "    n_to_plot[find_closest_index( n_to_plot, nt1 )], \n",
    "    n_to_plot[find_closest_index( n_to_plot, nt2 )] \n",
    "]\n",
    "\n",
    "middle = 0\n",
    "for i in range(1, ncols*nrows+1):\n",
    "    ax = plt.subplot(nrows, ncols, i)\n",
    "    n = int(t_to_plot[i - 1] / dt / (ndt / ndt_to_save))\n",
    "    \n",
    "    # shift to maintain the growth zone middle at the same position        \n",
    "    if grsizet[n] != 0:\n",
    "        x0gr = x_centerst[n][ np.nonzero( grt[n] )[0][0] ]  # Center position of the green rectangle\n",
    "        x_start = middle - Lt[n]/2\n",
    "\n",
    "    if n in nt:\n",
    "        ax.add_patch(plt.Rectangle( (x_start, 0), Lt[n], 1, color='black' ))\n",
    "    else:\n",
    "        ax.add_patch(plt.Rectangle( (x_start, 0), Lt[n], 1, color='gray', alpha=0.5))\n",
    "\n",
    "    if np.sum(source_st[n]) != 0:\n",
    "        x0 = x_edgest[n][ np.nonzero( source_st[n] )[0][0] ]\n",
    "        ax.add_patch(plt.Rectangle( (x_start+x0, 0),         wComp - x0,     1, color='red',  alpha=0.5))\n",
    "        ax.add_patch(plt.Rectangle( (x_start+Lt[n]-wComp, 0), wComp - x0,     1, color='blue', alpha=0.5))\n",
    "\n",
    "    if grsizet[n] != 0:\n",
    "        x0gr = x_centerst[n][ np.nonzero( grt[n] )[0][0] ]\n",
    "        ax.add_patch(plt.Rectangle((x_start + x0gr, 0), grsizet[n], 1, color='green', alpha=0.5))\n",
    "\n",
    "    #ax.plot(x_centerst[n], grt[n])\n",
    "    ax.set_xlim(-0.6*max(Lt), 0.6*max(Lt))\n",
    "    ax.set_axis_off()\n",
    "    \n",
    "plt.savefig(f'fig/two_morph_feedback_kymograph_steady_th_fb{round(threshold_fb, 3)}.pdf', bbox_inches='tight')\n",
    "\n",
    "plt.show()"
   ]
  },
  {
   "cell_type": "markdown",
   "id": "52ec926e-d477-40fa-bdcd-3b1da1f950cc",
   "metadata": {},
   "source": [
    "##### "
   ]
  },
  {
   "cell_type": "code",
   "execution_count": null,
   "id": "5c636efd-9e70-4023-bbde-22180ba47e6d",
   "metadata": {},
   "outputs": [],
   "source": []
  }
 ],
 "metadata": {
  "kernelspec": {
   "display_name": "Python 3 (ipykernel)",
   "language": "python",
   "name": "python3"
  },
  "language_info": {
   "codemirror_mode": {
    "name": "ipython",
    "version": 3
   },
   "file_extension": ".py",
   "mimetype": "text/x-python",
   "name": "python",
   "nbconvert_exporter": "python",
   "pygments_lexer": "ipython3",
   "version": "3.11.11"
  }
 },
 "nbformat": 4,
 "nbformat_minor": 5
}
