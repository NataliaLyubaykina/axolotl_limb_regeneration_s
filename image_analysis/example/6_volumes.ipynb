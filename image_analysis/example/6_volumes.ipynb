{
 "cells": [
  {
   "cell_type": "code",
   "execution_count": 1,
   "id": "e993eec9-c892-4c11-a1ad-7430e734be3f",
   "metadata": {},
   "outputs": [
    {
     "name": "stderr",
     "output_type": "stream",
     "text": [
      "/home/natalia/miniconda3/envs/axolotl/lib/python3.11/site-packages/pytools/persistent_dict.py:52: RecommendedHashNotFoundWarning: Unable to import recommended hash 'siphash24.siphash13', falling back to 'hashlib.sha256'. Run 'python3 -m pip install siphash24' to install the recommended hash.\n",
      "  warn(\"Unable to import recommended hash 'siphash24.siphash13', \"\n"
     ]
    }
   ],
   "source": [
    "import numpy as np\n",
    "import os\n",
    "import re\n",
    "import pandas as pd\n",
    "import matplotlib.pylab as plt\n",
    "\n",
    "from image_analysis.read_files import get_paths, change_paths\n",
    "from image_analysis.fit import plot, roi\n",
    "from image_analysis.preprocess import mask\n",
    "\n",
    "from tqdm import tqdm"
   ]
  },
  {
   "cell_type": "code",
   "execution_count": 2,
   "id": "96ef274a-7206-4299-aa16-f1a1255f4831",
   "metadata": {},
   "outputs": [],
   "source": [
    "pixel_size = 8"
   ]
  },
  {
   "cell_type": "code",
   "execution_count": 3,
   "id": "bfeb5766-eec3-4c08-9eee-e5fb5ff0c854",
   "metadata": {},
   "outputs": [],
   "source": [
    "folder_pretreated = r'example_pretreated_images'\n",
    "df = pd.read_excel(\"example_images.xlsx\")"
   ]
  },
  {
   "cell_type": "code",
   "execution_count": 4,
   "id": "93314377-56c7-4b37-8126-af6253e958c8",
   "metadata": {},
   "outputs": [
    {
     "data": {
      "text/html": [
       "<div>\n",
       "<style scoped>\n",
       "    .dataframe tbody tr th:only-of-type {\n",
       "        vertical-align: middle;\n",
       "    }\n",
       "\n",
       "    .dataframe tbody tr th {\n",
       "        vertical-align: top;\n",
       "    }\n",
       "\n",
       "    .dataframe thead th {\n",
       "        text-align: right;\n",
       "    }\n",
       "</style>\n",
       "<table border=\"1\" class=\"dataframe\">\n",
       "  <thead>\n",
       "    <tr style=\"text-align: right;\">\n",
       "      <th></th>\n",
       "      <th>Sample name</th>\n",
       "      <th>HCR</th>\n",
       "      <th>Animal size, cm</th>\n",
       "      <th>Regeneration time, dpa</th>\n",
       "      <th>Exact animal size (snout to tail), cm</th>\n",
       "    </tr>\n",
       "  </thead>\n",
       "  <tbody>\n",
       "    <tr>\n",
       "      <th>0</th>\n",
       "      <td>hcr21_2_5cm_6dpa_noif</td>\n",
       "      <td>21</td>\n",
       "      <td>3</td>\n",
       "      <td>6</td>\n",
       "      <td>2.7</td>\n",
       "    </tr>\n",
       "    <tr>\n",
       "      <th>1</th>\n",
       "      <td>hcr21_2_5cm_6dpa_p_hist</td>\n",
       "      <td>21</td>\n",
       "      <td>3</td>\n",
       "      <td>6</td>\n",
       "      <td>2.7</td>\n",
       "    </tr>\n",
       "    <tr>\n",
       "      <th>2</th>\n",
       "      <td>hcr21_2_5cm_7dpa_noif</td>\n",
       "      <td>21</td>\n",
       "      <td>3</td>\n",
       "      <td>7</td>\n",
       "      <td>2.9</td>\n",
       "    </tr>\n",
       "  </tbody>\n",
       "</table>\n",
       "</div>"
      ],
      "text/plain": [
       "               Sample name  HCR  Animal size, cm  Regeneration time, dpa  \\\n",
       "0    hcr21_2_5cm_6dpa_noif   21                3                       6   \n",
       "1  hcr21_2_5cm_6dpa_p_hist   21                3                       6   \n",
       "2    hcr21_2_5cm_7dpa_noif   21                3                       7   \n",
       "\n",
       "   Exact animal size (snout to tail), cm  \n",
       "0                                    2.7  \n",
       "1                                    2.7  \n",
       "2                                    2.9  "
      ]
     },
     "execution_count": 4,
     "metadata": {},
     "output_type": "execute_result"
    }
   ],
   "source": [
    "df.head()"
   ]
  },
  {
   "cell_type": "code",
   "execution_count": 5,
   "id": "a289a307-4d77-4790-ad62-03768de7dc30",
   "metadata": {},
   "outputs": [],
   "source": [
    "for pc in [50]:\n",
    "    for morph in ['shh', 'fgf', 'dusp']:\n",
    "        df[f'volume_{pc}pc_um3_{morph}']  = pd.NA"
   ]
  },
  {
   "cell_type": "code",
   "execution_count": 6,
   "id": "2b26c26c-01b3-40d0-89da-6da6e5a8a8b5",
   "metadata": {
    "scrolled": true
   },
   "outputs": [
    {
     "name": "stderr",
     "output_type": "stream",
     "text": [
      "3it [00:00, 34.03it/s]\n"
     ]
    }
   ],
   "source": [
    "for i, file_name in tqdm( enumerate( df['Sample name'].values) ):\n",
    "    \n",
    "    file = os.path.join( folder_pretreated, file_name) + '.npy'\n",
    "    \n",
    "    keys = np.load( file.split('.npy')[0] + '_keys.npy' )\n",
    "    image = dict(zip(\n",
    "        keys,\n",
    "        np.load( file )\n",
    "    ))\n",
    "\n",
    "    for pc in [50]:\n",
    "        for morph in ['shh', 'fgf', 'dusp']:\n",
    "            if f'{morph}{pc}_clip' in keys:\n",
    "                if morph != 'shh':\n",
    "                    df.loc[df['Sample name'] == file_name, f'volume_{pc}pc_um3_{morph}']  = np.sum(\n",
    "                        pixel_size**3 * mask.few_largest_components( image[f'{morph}{pc}_clip'] > 0, 2 )\n",
    "                    )\n",
    "                else:\n",
    "                    df.loc[df['Sample name'] == file_name, f'volume_{pc}pc_um3_{morph}']  = np.sum(\n",
    "                        pixel_size**3 * mask.largest_component( image[f'{morph}{pc}_clip'] > 0 )\n",
    "                    )"
   ]
  },
  {
   "cell_type": "code",
   "execution_count": 7,
   "id": "d669fcaf-3295-4abf-8b91-255ab95a0a11",
   "metadata": {},
   "outputs": [],
   "source": [
    "df.to_excel(\"results/volumes.xlsx\", index=False)"
   ]
  },
  {
   "cell_type": "code",
   "execution_count": 8,
   "id": "e8565417-8214-46c0-aa26-750d03b94965",
   "metadata": {},
   "outputs": [
    {
     "data": {
      "text/html": [
       "<div>\n",
       "<style scoped>\n",
       "    .dataframe tbody tr th:only-of-type {\n",
       "        vertical-align: middle;\n",
       "    }\n",
       "\n",
       "    .dataframe tbody tr th {\n",
       "        vertical-align: top;\n",
       "    }\n",
       "\n",
       "    .dataframe thead th {\n",
       "        text-align: right;\n",
       "    }\n",
       "</style>\n",
       "<table border=\"1\" class=\"dataframe\">\n",
       "  <thead>\n",
       "    <tr style=\"text-align: right;\">\n",
       "      <th></th>\n",
       "      <th>Sample name</th>\n",
       "      <th>HCR</th>\n",
       "      <th>Animal size, cm</th>\n",
       "      <th>Regeneration time, dpa</th>\n",
       "      <th>Exact animal size (snout to tail), cm</th>\n",
       "      <th>volume_50pc_um3_shh</th>\n",
       "      <th>volume_50pc_um3_fgf</th>\n",
       "      <th>volume_50pc_um3_dusp</th>\n",
       "    </tr>\n",
       "  </thead>\n",
       "  <tbody>\n",
       "    <tr>\n",
       "      <th>0</th>\n",
       "      <td>hcr21_2_5cm_6dpa_noif</td>\n",
       "      <td>21</td>\n",
       "      <td>3</td>\n",
       "      <td>6</td>\n",
       "      <td>2.7</td>\n",
       "      <td>2663424</td>\n",
       "      <td>3409920</td>\n",
       "      <td>14226432</td>\n",
       "    </tr>\n",
       "    <tr>\n",
       "      <th>1</th>\n",
       "      <td>hcr21_2_5cm_6dpa_p_hist</td>\n",
       "      <td>21</td>\n",
       "      <td>3</td>\n",
       "      <td>6</td>\n",
       "      <td>2.7</td>\n",
       "      <td>1657344</td>\n",
       "      <td>1355776</td>\n",
       "      <td>20955136</td>\n",
       "    </tr>\n",
       "    <tr>\n",
       "      <th>2</th>\n",
       "      <td>hcr21_2_5cm_7dpa_noif</td>\n",
       "      <td>21</td>\n",
       "      <td>3</td>\n",
       "      <td>7</td>\n",
       "      <td>2.9</td>\n",
       "      <td>1359872</td>\n",
       "      <td>1728000</td>\n",
       "      <td>27598848</td>\n",
       "    </tr>\n",
       "  </tbody>\n",
       "</table>\n",
       "</div>"
      ],
      "text/plain": [
       "               Sample name  HCR  Animal size, cm  Regeneration time, dpa  \\\n",
       "0    hcr21_2_5cm_6dpa_noif   21                3                       6   \n",
       "1  hcr21_2_5cm_6dpa_p_hist   21                3                       6   \n",
       "2    hcr21_2_5cm_7dpa_noif   21                3                       7   \n",
       "\n",
       "   Exact animal size (snout to tail), cm volume_50pc_um3_shh  \\\n",
       "0                                    2.7             2663424   \n",
       "1                                    2.7             1657344   \n",
       "2                                    2.9             1359872   \n",
       "\n",
       "  volume_50pc_um3_fgf volume_50pc_um3_dusp  \n",
       "0             3409920             14226432  \n",
       "1             1355776             20955136  \n",
       "2             1728000             27598848  "
      ]
     },
     "execution_count": 8,
     "metadata": {},
     "output_type": "execute_result"
    }
   ],
   "source": [
    "df"
   ]
  },
  {
   "cell_type": "code",
   "execution_count": null,
   "id": "a5817c0e-de06-4bfe-85bb-fa177390ea06",
   "metadata": {},
   "outputs": [],
   "source": []
  }
 ],
 "metadata": {
  "celltoolbar": "Hide code",
  "kernelspec": {
   "display_name": "Python 3 (ipykernel)",
   "language": "python",
   "name": "python3"
  },
  "language_info": {
   "codemirror_mode": {
    "name": "ipython",
    "version": 3
   },
   "file_extension": ".py",
   "mimetype": "text/x-python",
   "name": "python",
   "nbconvert_exporter": "python",
   "pygments_lexer": "ipython3",
   "version": "3.11.11"
  },
  "toc-showmarkdowntxt": false
 },
 "nbformat": 4,
 "nbformat_minor": 5
}
