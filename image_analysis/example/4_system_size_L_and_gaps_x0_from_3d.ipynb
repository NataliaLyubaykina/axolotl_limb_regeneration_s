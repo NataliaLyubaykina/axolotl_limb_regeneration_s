{
 "cells": [
  {
   "cell_type": "code",
   "execution_count": 1,
   "id": "e993eec9-c892-4c11-a1ad-7430e734be3f",
   "metadata": {},
   "outputs": [
    {
     "name": "stderr",
     "output_type": "stream",
     "text": [
      "/home/natalia/miniconda3/envs/axolotl/lib/python3.11/site-packages/pytools/persistent_dict.py:52: RecommendedHashNotFoundWarning: Unable to import recommended hash 'siphash24.siphash13', falling back to 'hashlib.sha256'. Run 'python3 -m pip install siphash24' to install the recommended hash.\n",
      "  warn(\"Unable to import recommended hash 'siphash24.siphash13', \"\n"
     ]
    }
   ],
   "source": [
    "import numpy as np\n",
    "import os\n",
    "import re\n",
    "import pandas as pd\n",
    "import matplotlib.pylab as plt\n",
    "import napari\n",
    "\n",
    "from image_analysis.read_files import get_paths, change_paths\n",
    "from image_analysis.fit import plot, roi, regionprops\n",
    "from image_analysis.preprocess import mask"
   ]
  },
  {
   "cell_type": "code",
   "execution_count": 2,
   "id": "96ef274a-7206-4299-aa16-f1a1255f4831",
   "metadata": {},
   "outputs": [],
   "source": [
    "pixel_size = 8"
   ]
  },
  {
   "cell_type": "code",
   "execution_count": 3,
   "id": "bfeb5766-eec3-4c08-9eee-e5fb5ff0c854",
   "metadata": {},
   "outputs": [],
   "source": [
    "folder_pretreated = r'example_pretreated_images'\n",
    "df = pd.read_excel(\"example_images.xlsx\")"
   ]
  },
  {
   "cell_type": "code",
   "execution_count": 4,
   "id": "93314377-56c7-4b37-8126-af6253e958c8",
   "metadata": {},
   "outputs": [
    {
     "data": {
      "text/html": [
       "<div>\n",
       "<style scoped>\n",
       "    .dataframe tbody tr th:only-of-type {\n",
       "        vertical-align: middle;\n",
       "    }\n",
       "\n",
       "    .dataframe tbody tr th {\n",
       "        vertical-align: top;\n",
       "    }\n",
       "\n",
       "    .dataframe thead th {\n",
       "        text-align: right;\n",
       "    }\n",
       "</style>\n",
       "<table border=\"1\" class=\"dataframe\">\n",
       "  <thead>\n",
       "    <tr style=\"text-align: right;\">\n",
       "      <th></th>\n",
       "      <th>Sample name</th>\n",
       "      <th>HCR</th>\n",
       "      <th>Animal size, cm</th>\n",
       "      <th>Regeneration time, dpa</th>\n",
       "      <th>Exact animal size (snout to tail), cm</th>\n",
       "    </tr>\n",
       "  </thead>\n",
       "  <tbody>\n",
       "    <tr>\n",
       "      <th>0</th>\n",
       "      <td>hcr21_2_5cm_6dpa_noif</td>\n",
       "      <td>21</td>\n",
       "      <td>3</td>\n",
       "      <td>6</td>\n",
       "      <td>2.7</td>\n",
       "    </tr>\n",
       "    <tr>\n",
       "      <th>1</th>\n",
       "      <td>hcr21_2_5cm_6dpa_p_hist</td>\n",
       "      <td>21</td>\n",
       "      <td>3</td>\n",
       "      <td>6</td>\n",
       "      <td>2.7</td>\n",
       "    </tr>\n",
       "    <tr>\n",
       "      <th>2</th>\n",
       "      <td>hcr21_2_5cm_7dpa_noif</td>\n",
       "      <td>21</td>\n",
       "      <td>3</td>\n",
       "      <td>7</td>\n",
       "      <td>2.9</td>\n",
       "    </tr>\n",
       "  </tbody>\n",
       "</table>\n",
       "</div>"
      ],
      "text/plain": [
       "               Sample name  HCR  Animal size, cm  Regeneration time, dpa  \\\n",
       "0    hcr21_2_5cm_6dpa_noif   21                3                       6   \n",
       "1  hcr21_2_5cm_6dpa_p_hist   21                3                       6   \n",
       "2    hcr21_2_5cm_7dpa_noif   21                3                       7   \n",
       "\n",
       "   Exact animal size (snout to tail), cm  \n",
       "0                                    2.7  \n",
       "1                                    2.7  \n",
       "2                                    2.9  "
      ]
     },
     "execution_count": 4,
     "metadata": {},
     "output_type": "execute_result"
    }
   ],
   "source": [
    "df.head()"
   ]
  },
  {
   "cell_type": "markdown",
   "id": "35cbd838-f043-44b9-b196-dac62735f569",
   "metadata": {},
   "source": [
    "# Check rotation of SF to ey"
   ]
  },
  {
   "cell_type": "code",
   "execution_count": 5,
   "id": "62f7095a-00f8-4f38-a31b-851302822055",
   "metadata": {},
   "outputs": [
    {
     "name": "stderr",
     "output_type": "stream",
     "text": [
      "/home/natalia/Documents/axolotl_limb_regeneration_s/image_analysis/image_analysis/image_analysis/fit/regionprops.py:24: RuntimeWarning: Mean of empty slice\n",
      "  img_arr_x = np.nanmean(np.nanmean(img_arr, axis=0), axis=0)\n",
      "/home/natalia/Documents/axolotl_limb_regeneration_s/image_analysis/image_analysis/image_analysis/fit/regionprops.py:27: RuntimeWarning: Mean of empty slice\n",
      "  img_arr_y = np.nanmean(np.nanmean(img_arr, axis=0), axis=1)\n",
      "/home/natalia/Documents/axolotl_limb_regeneration_s/image_analysis/image_analysis/image_analysis/fit/regionprops.py:30: RuntimeWarning: Mean of empty slice\n",
      "  img_arr_z = np.nanmean(np.nanmean(img_arr, axis=1), axis=1)\n",
      "/home/natalia/Documents/axolotl_limb_regeneration_s/image_analysis/image_analysis/image_analysis/fit/regionprops.py:24: RuntimeWarning: Mean of empty slice\n",
      "  img_arr_x = np.nanmean(np.nanmean(img_arr, axis=0), axis=0)\n",
      "/home/natalia/Documents/axolotl_limb_regeneration_s/image_analysis/image_analysis/image_analysis/fit/regionprops.py:27: RuntimeWarning: Mean of empty slice\n",
      "  img_arr_y = np.nanmean(np.nanmean(img_arr, axis=0), axis=1)\n",
      "/home/natalia/Documents/axolotl_limb_regeneration_s/image_analysis/image_analysis/image_analysis/fit/regionprops.py:30: RuntimeWarning: Mean of empty slice\n",
      "  img_arr_z = np.nanmean(np.nanmean(img_arr, axis=1), axis=1)\n"
     ]
    },
    {
     "name": "stdout",
     "output_type": "stream",
     "text": [
      "Re-running the rotation function due to insufficient alignment\n",
      "Re-running the rotation function due to insufficient alignment\n",
      "Angle between ey and SF: 2\n"
     ]
    }
   ],
   "source": [
    "i = 1\n",
    "file_name = df['Sample name'].values[i]\n",
    "    \n",
    "file = os.path.join( folder_pretreated, file_name) + '.npy'\n",
    "\n",
    "keys = np.load( file.split('.npy')[0] + '_keys.npy' )\n",
    "image = dict(zip(\n",
    "    keys,\n",
    "    np.load( file )\n",
    "))\n",
    "\n",
    "pc = 50\n",
    "if (f'shh{pc}_clip' in keys) and (f'fgf{pc}_clip' in keys):\n",
    "    \n",
    "    image = dict(zip(\n",
    "        ['shh_mask', 'fgf_mask', 'tissue_mask_with_epi'],\n",
    "        [ (image[f'shh{pc}_clip'] > 0).astype(int), (image[f'fgf{pc}_clip']>0).astype(int), image['tissue_mask_with_epi'] ]\n",
    "    ))\n",
    "    \n",
    "    image['shh_mask'] = mask.largest_component( image['shh_mask'] )\n",
    "    image['fgf_mask'] = mask.largest_component( image['fgf_mask'] )\n",
    "\n",
    "    regionprops_3d = regionprops.regionprops_3d(image, 1, 1, 1, pixel_size)\n",
    "    image = regionprops_3d.rotate_sf_to_ey()\n",
    "    regionprops_3d.center_mass(['shh_mask', 'fgf_mask'])\n",
    "    regionprops_3d.tensor_inertia('tissue_mask_with_epi')"
   ]
  },
  {
   "cell_type": "code",
   "execution_count": 6,
   "id": "64167af0-86db-40af-af15-9265bb686138",
   "metadata": {},
   "outputs": [
    {
     "data": {
      "text/plain": [
       "<Shapes layer 'ey' at 0x75dd30026990>"
      ]
     },
     "execution_count": 6,
     "metadata": {},
     "output_type": "execute_result"
    }
   ],
   "source": [
    "scale_u = (pixel_size, pixel_size, pixel_size)\n",
    "viewer = napari.Viewer()\n",
    "viewer.add_image(image['tissue_mask_with_epi'], name='tissue_mask_with_epi', scale=scale_u)\n",
    "viewer.add_image(image['shh_mask'], name='shh_mask', gamma=0.2, opacity=0.5, colormap=\"red\", scale=scale_u)\n",
    "viewer.add_image(image['fgf_mask'], name='fgf_mask', gamma=0.2, opacity=0.5, colormap=\"blue\", scale=scale_u)\n",
    "\n",
    "viewer.axes.visible = True\n",
    "viewer.scale_bar.visible = True\n",
    "viewer.scale_bar.unit = \"um\"\n",
    "\n",
    "viewer.add_points(regionprops_3d.parm['cm_shh_mask'], name='cm_shh', face_color='red')\n",
    "viewer.add_points(regionprops_3d.parm['cm_fgf_mask'], name='cm_fgf', face_color='blue')\n",
    "\n",
    "vector_line = np.array([ regionprops_3d.parm['cm_shh_mask'], regionprops_3d.parm['cm_fgf_mask'] ])\n",
    "viewer.add_shapes(vector_line, shape_type='line', name='SF', edge_color='red')\n",
    "\n",
    "ey = np.array([0,-1,0])\n",
    "vector_line = np.array([ regionprops_3d.parm['cm_shh_mask'], regionprops_3d.parm['cm_shh_mask'] - 100*ey ])\n",
    "viewer.add_shapes(vector_line, shape_type='line', name='ey', edge_color='green')"
   ]
  },
  {
   "cell_type": "markdown",
   "id": "56917538-3f18-4a12-9105-98bc22dbf321",
   "metadata": {},
   "source": [
    "# Loop trough all samples"
   ]
  },
  {
   "cell_type": "code",
   "execution_count": 7,
   "id": "a289a307-4d77-4790-ad62-03768de7dc30",
   "metadata": {},
   "outputs": [],
   "source": [
    "for pc in [50]:\n",
    "\n",
    "    df[f'system_size_L_along_SF_pc{pc}_um']  = pd.NA\n",
    "    df[f'length_L_SF_pc{pc}_um']  = pd.NA\n",
    "    \n",
    "    df[f'x0_pc{pc}_um_shh']  = pd.NA\n",
    "    df[f'x0_pc{pc}_um_fgf'] = pd.NA"
   ]
  },
  {
   "cell_type": "code",
   "execution_count": 8,
   "id": "2b26c26c-01b3-40d0-89da-6da6e5a8a8b5",
   "metadata": {},
   "outputs": [
    {
     "name": "stdout",
     "output_type": "stream",
     "text": [
      "0 hcr21_2_5cm_6dpa_noif\n",
      "50\n",
      "Angle between ey and SF: 0\n",
      "1 hcr21_2_5cm_6dpa_p_hist\n",
      "50\n",
      "Re-running the rotation function due to insufficient alignment\n",
      "Re-running the rotation function due to insufficient alignment\n",
      "Angle between ey and SF: 2\n",
      "2 hcr21_2_5cm_7dpa_noif\n"
     ]
    },
    {
     "name": "stderr",
     "output_type": "stream",
     "text": [
      "/home/natalia/Documents/axolotl_limb_regeneration_s/image_analysis/image_analysis/image_analysis/fit/regionprops.py:24: RuntimeWarning: Mean of empty slice\n",
      "  img_arr_x = np.nanmean(np.nanmean(img_arr, axis=0), axis=0)\n",
      "/home/natalia/Documents/axolotl_limb_regeneration_s/image_analysis/image_analysis/image_analysis/fit/regionprops.py:27: RuntimeWarning: Mean of empty slice\n",
      "  img_arr_y = np.nanmean(np.nanmean(img_arr, axis=0), axis=1)\n",
      "/home/natalia/Documents/axolotl_limb_regeneration_s/image_analysis/image_analysis/image_analysis/fit/regionprops.py:30: RuntimeWarning: Mean of empty slice\n",
      "  img_arr_z = np.nanmean(np.nanmean(img_arr, axis=1), axis=1)\n",
      "/home/natalia/Documents/axolotl_limb_regeneration_s/image_analysis/image_analysis/image_analysis/fit/regionprops.py:24: RuntimeWarning: Mean of empty slice\n",
      "  img_arr_x = np.nanmean(np.nanmean(img_arr, axis=0), axis=0)\n",
      "/home/natalia/Documents/axolotl_limb_regeneration_s/image_analysis/image_analysis/image_analysis/fit/regionprops.py:27: RuntimeWarning: Mean of empty slice\n",
      "  img_arr_y = np.nanmean(np.nanmean(img_arr, axis=0), axis=1)\n",
      "/home/natalia/Documents/axolotl_limb_regeneration_s/image_analysis/image_analysis/image_analysis/fit/regionprops.py:30: RuntimeWarning: Mean of empty slice\n",
      "  img_arr_z = np.nanmean(np.nanmean(img_arr, axis=1), axis=1)\n"
     ]
    },
    {
     "name": "stdout",
     "output_type": "stream",
     "text": [
      "50\n",
      "Angle between ey and SF: 1\n"
     ]
    },
    {
     "name": "stderr",
     "output_type": "stream",
     "text": [
      "/home/natalia/Documents/axolotl_limb_regeneration_s/image_analysis/image_analysis/image_analysis/fit/regionprops.py:24: RuntimeWarning: Mean of empty slice\n",
      "  img_arr_x = np.nanmean(np.nanmean(img_arr, axis=0), axis=0)\n",
      "/home/natalia/Documents/axolotl_limb_regeneration_s/image_analysis/image_analysis/image_analysis/fit/regionprops.py:27: RuntimeWarning: Mean of empty slice\n",
      "  img_arr_y = np.nanmean(np.nanmean(img_arr, axis=0), axis=1)\n",
      "/home/natalia/Documents/axolotl_limb_regeneration_s/image_analysis/image_analysis/image_analysis/fit/regionprops.py:30: RuntimeWarning: Mean of empty slice\n",
      "  img_arr_z = np.nanmean(np.nanmean(img_arr, axis=1), axis=1)\n"
     ]
    }
   ],
   "source": [
    "for i, file_name in enumerate( df['Sample name'].values):\n",
    "\n",
    "    print(i, file_name)\n",
    "    \n",
    "    file = os.path.join( folder_pretreated, file_name) + '.npy'\n",
    "    \n",
    "    keys = np.load( file.split('.npy')[0] + '_keys.npy' )\n",
    "    image = dict(zip(\n",
    "        keys,\n",
    "        np.load( file )\n",
    "    ))\n",
    "\n",
    "    for pc in [50]:\n",
    "\n",
    "        if (f'shh{pc}_clip' in keys) and (f'fgf{pc}_clip' in keys):\n",
    "\n",
    "            print(pc)\n",
    "            \n",
    "            image_to_rotate = dict(zip(\n",
    "                ['shh_mask', 'fgf_mask', 'tissue_mask_with_epi'],\n",
    "                [ (image[f'shh{pc}_clip'] > 0).astype(int), (image[f'fgf{pc}_clip']>0).astype(int), image['tissue_mask_with_epi'] ]\n",
    "            ))\n",
    "            \n",
    "            image_to_rotate['shh_mask'] = mask.largest_component( image_to_rotate['shh_mask'] )\n",
    "            image_to_rotate['fgf_mask'] = mask.few_largest_components( image_to_rotate['fgf_mask'], 2 )\n",
    "             \n",
    "            regionprops_3d = regionprops.regionprops_3d(image_to_rotate, 1, 1, 1, pixel_size)\n",
    "            image_to_rotate = regionprops_3d.rotate_sf_to_ey()\n",
    "\n",
    "            S = regionprops.center_mass( image_to_rotate['shh_mask'] )\n",
    "            F = regionprops.center_mass( image_to_rotate['fgf_mask'] )\n",
    "\n",
    "            L = np.sum( \n",
    "                mask.largest_component( image_to_rotate['tissue_mask_with_epi'][S[0], :, S[2]]  )\n",
    "            ) * pixel_size\n",
    "            L_SF  = np.abs( S[1] - F[1] ) * pixel_size\n",
    "            \n",
    "            ymin = np.nonzero( mask.largest_component(image_to_rotate['tissue_mask_with_epi'][S[0], :, S[2]]) )[0][0]\n",
    "            ymax = np.nonzero( mask.largest_component(image_to_rotate['tissue_mask_with_epi'][S[0], :, S[2]]) )[0][-1]            \n",
    "            \n",
    "            x0_S = min( (S[1] - ymin) * pixel_size, (ymax - S[1]) * pixel_size )\n",
    "            x0_F = min( (F[1] - ymin) * pixel_size, (ymax - F[1]) * pixel_size )\n",
    "\n",
    "            df.loc[df['Sample name'] == file_name, f'system_size_L_along_SF_pc{pc}_um']  = L\n",
    "            df.loc[df['Sample name'] == file_name, f'length_L_SF_pc{pc}_um']             = L_SF\n",
    "            df.loc[df['Sample name'] == file_name, f'x0_pc{pc}_um_shh']                  = x0_S\n",
    "            df.loc[df['Sample name'] == file_name, f'x0_pc{pc}_um_fgf']                  = x0_F\n",
    "            \n",
    "df.to_excel(\"results/system_size_L_and_gaps_x0_from_3d.xlsx\", index=False)"
   ]
  },
  {
   "cell_type": "code",
   "execution_count": null,
   "id": "e8565417-8214-46c0-aa26-750d03b94965",
   "metadata": {},
   "outputs": [],
   "source": []
  },
  {
   "cell_type": "code",
   "execution_count": null,
   "id": "1d7841e7-b742-4da4-8975-b05af74d8370",
   "metadata": {},
   "outputs": [],
   "source": []
  },
  {
   "cell_type": "code",
   "execution_count": null,
   "id": "6c816c0a-7f10-4358-b9e3-c336e2bd008b",
   "metadata": {},
   "outputs": [],
   "source": []
  }
 ],
 "metadata": {
  "celltoolbar": "Hide code",
  "kernelspec": {
   "display_name": "Python 3 (ipykernel)",
   "language": "python",
   "name": "python3"
  },
  "language_info": {
   "codemirror_mode": {
    "name": "ipython",
    "version": 3
   },
   "file_extension": ".py",
   "mimetype": "text/x-python",
   "name": "python",
   "nbconvert_exporter": "python",
   "pygments_lexer": "ipython3",
   "version": "3.11.11"
  },
  "toc-showmarkdowntxt": false
 },
 "nbformat": 4,
 "nbformat_minor": 5
}
