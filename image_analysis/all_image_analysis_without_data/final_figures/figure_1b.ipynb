{
 "cells": [
  {
   "cell_type": "code",
   "execution_count": 1,
   "metadata": {},
   "outputs": [],
   "source": [
    "%load_ext autoreload\n",
    "%autoreload 2"
   ]
  },
  {
   "cell_type": "code",
   "execution_count": 2,
   "metadata": {},
   "outputs": [],
   "source": [
    "import numpy as np\n",
    "import os\n",
    "import re\n",
    "import pandas as pd\n",
    "import matplotlib.pylab as plt"
   ]
  },
  {
   "cell_type": "code",
   "execution_count": 3,
   "metadata": {
    "tags": []
   },
   "outputs": [
    {
     "name": "stderr",
     "output_type": "stream",
     "text": [
      "C:\\Users\\naly008c\\.conda\\envs\\axolotl\\Lib\\site-packages\\pytools\\persistent_dict.py:52: RecommendedHashNotFoundWarning: Unable to import recommended hash 'siphash24.siphash13', falling back to 'hashlib.sha256'. Run 'python3 -m pip install siphash24' to install the recommended hash.\n",
      "  warn(\"Unable to import recommended hash 'siphash24.siphash13', \"\n"
     ]
    }
   ],
   "source": [
    "from image_analysis.read_files import *\n",
    "from image_analysis.fit import plot\n",
    "from image_analysis.fit import regionprops, statistics\n",
    "from image_analysis.preprocess import mask"
   ]
  },
  {
   "cell_type": "code",
   "execution_count": 4,
   "metadata": {},
   "outputs": [],
   "source": [
    "# makes plotting very slow, should be commented while testing\n",
    "plt.rcParams['text.usetex'] = True "
   ]
  },
  {
   "cell_type": "code",
   "execution_count": 5,
   "metadata": {},
   "outputs": [],
   "source": [
    "df = pd.read_excel(\"results_from_image_analysis_figure_4.xlsx\")"
   ]
  },
  {
   "cell_type": "code",
   "execution_count": 6,
   "metadata": {},
   "outputs": [],
   "source": [
    "df.loc[df['Regeneration time, dpa'] == 'development', 'Regeneration time, dpa'] = 1"
   ]
  },
  {
   "cell_type": "code",
   "execution_count": 7,
   "metadata": {},
   "outputs": [
    {
     "data": {
      "text/html": [
       "<div>\n",
       "<style scoped>\n",
       "    .dataframe tbody tr th:only-of-type {\n",
       "        vertical-align: middle;\n",
       "    }\n",
       "\n",
       "    .dataframe tbody tr th {\n",
       "        vertical-align: top;\n",
       "    }\n",
       "\n",
       "    .dataframe thead th {\n",
       "        text-align: right;\n",
       "    }\n",
       "</style>\n",
       "<table border=\"1\" class=\"dataframe\">\n",
       "  <thead>\n",
       "    <tr style=\"text-align: right;\">\n",
       "      <th></th>\n",
       "      <th>Sample name</th>\n",
       "      <th>HCR</th>\n",
       "      <th>Animal size, cm</th>\n",
       "      <th>Regeneration time, dpa</th>\n",
       "      <th>Exact animal size (snout to tail), cm</th>\n",
       "      <th>Blastema width, um</th>\n",
       "      <th>x0(Shh), um</th>\n",
       "      <th>x0(Fgf8), um</th>\n",
       "      <th>Volume^1/3(Shh), um</th>\n",
       "      <th>Volume^1/3(Fgf8), um</th>\n",
       "      <th>Volume^1/3(Dusp), um</th>\n",
       "    </tr>\n",
       "  </thead>\n",
       "  <tbody>\n",
       "    <tr>\n",
       "      <th>0</th>\n",
       "      <td>hcr11_lb27_fl</td>\n",
       "      <td>11</td>\n",
       "      <td>development</td>\n",
       "      <td>1</td>\n",
       "      <td>development</td>\n",
       "      <td>284</td>\n",
       "      <td>42</td>\n",
       "      <td>66</td>\n",
       "      <td>56.082362</td>\n",
       "      <td>96.264030</td>\n",
       "      <td>96.367228</td>\n",
       "    </tr>\n",
       "    <tr>\n",
       "      <th>1</th>\n",
       "      <td>hcr11_lb28_fl</td>\n",
       "      <td>11</td>\n",
       "      <td>development</td>\n",
       "      <td>1</td>\n",
       "      <td>development</td>\n",
       "      <td>300</td>\n",
       "      <td>52</td>\n",
       "      <td>88</td>\n",
       "      <td>50.523565</td>\n",
       "      <td>118.366951</td>\n",
       "      <td>76.702625</td>\n",
       "    </tr>\n",
       "    <tr>\n",
       "      <th>2</th>\n",
       "      <td>hcr15_lb41_fl</td>\n",
       "      <td>15</td>\n",
       "      <td>development</td>\n",
       "      <td>1</td>\n",
       "      <td>development</td>\n",
       "      <td>250</td>\n",
       "      <td>28</td>\n",
       "      <td>64</td>\n",
       "      <td>52.053200</td>\n",
       "      <td>102.600583</td>\n",
       "      <td>143.503563</td>\n",
       "    </tr>\n",
       "    <tr>\n",
       "      <th>3</th>\n",
       "      <td>hcr16_lb44_fl</td>\n",
       "      <td>16</td>\n",
       "      <td>development</td>\n",
       "      <td>1</td>\n",
       "      <td>development</td>\n",
       "      <td>240</td>\n",
       "      <td>50</td>\n",
       "      <td>70</td>\n",
       "      <td>57.340123</td>\n",
       "      <td>118.235668</td>\n",
       "      <td>114.030360</td>\n",
       "    </tr>\n",
       "    <tr>\n",
       "      <th>4</th>\n",
       "      <td>hcr16_lb45_fl</td>\n",
       "      <td>16</td>\n",
       "      <td>development</td>\n",
       "      <td>1</td>\n",
       "      <td>development</td>\n",
       "      <td>256</td>\n",
       "      <td>48</td>\n",
       "      <td>74</td>\n",
       "      <td>51.700447</td>\n",
       "      <td>101.728098</td>\n",
       "      <td>125.571400</td>\n",
       "    </tr>\n",
       "  </tbody>\n",
       "</table>\n",
       "</div>"
      ],
      "text/plain": [
       "     Sample name  HCR Animal size, cm Regeneration time, dpa  \\\n",
       "0  hcr11_lb27_fl   11     development                      1   \n",
       "1  hcr11_lb28_fl   11     development                      1   \n",
       "2  hcr15_lb41_fl   15     development                      1   \n",
       "3  hcr16_lb44_fl   16     development                      1   \n",
       "4  hcr16_lb45_fl   16     development                      1   \n",
       "\n",
       "  Exact animal size (snout to tail), cm  Blastema width, um  x0(Shh), um  \\\n",
       "0                           development                 284           42   \n",
       "1                           development                 300           52   \n",
       "2                           development                 250           28   \n",
       "3                           development                 240           50   \n",
       "4                           development                 256           48   \n",
       "\n",
       "   x0(Fgf8), um  Volume^1/3(Shh), um  Volume^1/3(Fgf8), um  \\\n",
       "0            66            56.082362             96.264030   \n",
       "1            88            50.523565            118.366951   \n",
       "2            64            52.053200            102.600583   \n",
       "3            70            57.340123            118.235668   \n",
       "4            74            51.700447            101.728098   \n",
       "\n",
       "   Volume^1/3(Dusp), um  \n",
       "0             96.367228  \n",
       "1             76.702625  \n",
       "2            143.503563  \n",
       "3            114.030360  \n",
       "4            125.571400  "
      ]
     },
     "execution_count": 7,
     "metadata": {},
     "output_type": "execute_result"
    }
   ],
   "source": [
    "df.head()"
   ]
  },
  {
   "cell_type": "markdown",
   "metadata": {},
   "source": [
    "# Plot"
   ]
  },
  {
   "cell_type": "code",
   "execution_count": 8,
   "metadata": {},
   "outputs": [],
   "source": [
    "from matplotlib_defaults import *"
   ]
  },
  {
   "cell_type": "code",
   "execution_count": 9,
   "metadata": {},
   "outputs": [
    {
     "data": {
      "text/plain": [
       "array(['development', 2.92857142857143, 5.3, 7.2375], dtype=object)"
      ]
     },
     "execution_count": 9,
     "metadata": {},
     "output_type": "execute_result"
    }
   ],
   "source": [
    "df['Animal size, cm'].unique()"
   ]
  },
  {
   "cell_type": "code",
   "execution_count": 10,
   "metadata": {},
   "outputs": [],
   "source": [
    "colormap = plt.colormaps['Dark2']\n",
    "colors = colormap(np.linspace(0, 1, 10))\n",
    "sizes = df['Animal size, cm'].unique()\n",
    "size_to_color = {\n",
    "    sizes[0]: colors[1], \n",
    "    sizes[1]: colors[2],\n",
    "    sizes[2]: colors[3],\n",
    "    sizes[3]: colors[4]\n",
    "}\n",
    "df['color'] = df['Animal size, cm'].map(size_to_color)\n",
    "\n",
    "# Define the marker mapping\n",
    "default_marker = 'o'  # Circle marker\n",
    "# Star marker for HCR = 23, another method for dusp staning\n",
    "df['marker'] = df['HCR'].apply(lambda x: '*' if x == 23 else default_marker)"
   ]
  },
  {
   "cell_type": "code",
   "execution_count": 11,
   "metadata": {},
   "outputs": [
    {
     "data": {
      "image/png": "[encoded data removed]",
      "text/html": [
       "<div style=\"vertical-align: middle;\"><strong>Dark2</strong> </div><div class=\"cmap\"><img alt=\"Dark2 colormap\" title=\"Dark2\" style=\"border: 1px solid #555;\" src=\"data:image/png;base64,iVBORw0KGgoAAAANSUhEUgAAAgAAAABACAYAAABsv8+/AAAAFHRFWHRUaXRsZQBEYXJrMiBjb2xvcm1hcG6jjd4AAAAadEVYdERlc2NyaXB0aW9uAERhcmsyIGNvbG9ybWFwkPwkOAAAADF0RVh0QXV0aG9yAE1hdHBsb3RsaWIgdjMuMTAuMSwgaHR0cHM6Ly9tYXRwbG90bGliLm9yZxYcXggAAAAzdEVYdFNvZnR3YXJlAE1hdHBsb3RsaWIgdjMuMTAuMSwgaHR0cHM6Ly9tYXRwbG90bGliLm9yZ7M4TfwAAAFmSURBVHic7dahbQIAFABRSsIA1UzEOhhUAx5bSdgBiSGgOwALdIBuAFv0i3tvgpP3sT7vXouw2+M4nTDq9HmZThi1vT6nE0btv76nE0YdVr/TCaPuP+vphFH3v810wqjldAAA8P8MAAAEGQAACDIAABBkAAAgyAAAQJABAIAgAwAAQQYAAIIMAAAEGQAACDIAABBkAAAgyAAAQJABAIAgAwAAQQYAAIIMAAAEGQAACDIAABBkAAAgyAAAQJABAIAgAwAAQQYAAIIMAAAEGQAACDIAABBkAAAgyAAAQJABAIAgAwAAQQYAAIIMAAAEGQAACDIAABBkAAAgyAAAQJABAIAgAwAAQQYAAIIMAAAEGQAACDIAABBkAAAgyAAAQJABAIAgAwAAQQYAAIIMAAAEGQAACDIAABBkAAAgyAAAQJABAIAgAwAAQQYAAIIMAAAEGQAACDIAABBkAAAgyAAAQJABAICgN2D3DrFf6GvOAAAAAElFTkSuQmCC\"></div><div style=\"vertical-align: middle; max-width: 514px; display: flex; justify-content: space-between;\"><div style=\"float: left;\"><div title=\"#1b9e77ff\" style=\"display: inline-block; width: 1em; height: 1em; margin: 0; vertical-align: middle; border: 1px solid #555; background-color: #1b9e77ff;\"></div> under</div><div style=\"margin: 0 auto; display: inline-block;\">bad <div title=\"#00000000\" style=\"display: inline-block; width: 1em; height: 1em; margin: 0; vertical-align: middle; border: 1px solid #555; background-color: #00000000;\"></div></div><div style=\"float: right;\">over <div title=\"#666666ff\" style=\"display: inline-block; width: 1em; height: 1em; margin: 0; vertical-align: middle; border: 1px solid #555; background-color: #666666ff;\"></div></div></div>"
      ],
      "text/plain": [
       "<matplotlib.colors.ListedColormap at 0x23670709dd0>"
      ]
     },
     "execution_count": 11,
     "metadata": {},
     "output_type": "execute_result"
    }
   ],
   "source": [
    "colormap"
   ]
  },
  {
   "cell_type": "code",
   "execution_count": 12,
   "metadata": {},
   "outputs": [],
   "source": [
    "df = df.dropna(subset=['Regeneration time, dpa'])"
   ]
  },
  {
   "cell_type": "code",
   "execution_count": 13,
   "metadata": {},
   "outputs": [
    {
     "data": {
      "text/html": [
       "<div>\n",
       "<style scoped>\n",
       "    .dataframe tbody tr th:only-of-type {\n",
       "        vertical-align: middle;\n",
       "    }\n",
       "\n",
       "    .dataframe tbody tr th {\n",
       "        vertical-align: top;\n",
       "    }\n",
       "\n",
       "    .dataframe thead th {\n",
       "        text-align: right;\n",
       "    }\n",
       "</style>\n",
       "<table border=\"1\" class=\"dataframe\">\n",
       "  <thead>\n",
       "    <tr style=\"text-align: right;\">\n",
       "      <th></th>\n",
       "      <th>Sample name</th>\n",
       "      <th>HCR</th>\n",
       "      <th>Animal size, cm</th>\n",
       "      <th>Regeneration time, dpa</th>\n",
       "      <th>Exact animal size (snout to tail), cm</th>\n",
       "      <th>Blastema width, um</th>\n",
       "      <th>x0(Shh), um</th>\n",
       "      <th>x0(Fgf8), um</th>\n",
       "      <th>Volume^1/3(Shh), um</th>\n",
       "      <th>Volume^1/3(Fgf8), um</th>\n",
       "      <th>Volume^1/3(Dusp), um</th>\n",
       "      <th>color</th>\n",
       "      <th>marker</th>\n",
       "    </tr>\n",
       "  </thead>\n",
       "  <tbody>\n",
       "    <tr>\n",
       "      <th>0</th>\n",
       "      <td>hcr11_lb27_fl</td>\n",
       "      <td>11</td>\n",
       "      <td>development</td>\n",
       "      <td>1</td>\n",
       "      <td>development</td>\n",
       "      <td>284</td>\n",
       "      <td>42</td>\n",
       "      <td>66</td>\n",
       "      <td>56.082362</td>\n",
       "      <td>96.264030</td>\n",
       "      <td>96.367228</td>\n",
       "      <td>[0.10588235294117647, 0.6196078431372549, 0.46...</td>\n",
       "      <td>o</td>\n",
       "    </tr>\n",
       "    <tr>\n",
       "      <th>1</th>\n",
       "      <td>hcr11_lb28_fl</td>\n",
       "      <td>11</td>\n",
       "      <td>development</td>\n",
       "      <td>1</td>\n",
       "      <td>development</td>\n",
       "      <td>300</td>\n",
       "      <td>52</td>\n",
       "      <td>88</td>\n",
       "      <td>50.523565</td>\n",
       "      <td>118.366951</td>\n",
       "      <td>76.702625</td>\n",
       "      <td>[0.10588235294117647, 0.6196078431372549, 0.46...</td>\n",
       "      <td>o</td>\n",
       "    </tr>\n",
       "    <tr>\n",
       "      <th>2</th>\n",
       "      <td>hcr15_lb41_fl</td>\n",
       "      <td>15</td>\n",
       "      <td>development</td>\n",
       "      <td>1</td>\n",
       "      <td>development</td>\n",
       "      <td>250</td>\n",
       "      <td>28</td>\n",
       "      <td>64</td>\n",
       "      <td>52.053200</td>\n",
       "      <td>102.600583</td>\n",
       "      <td>143.503563</td>\n",
       "      <td>[0.10588235294117647, 0.6196078431372549, 0.46...</td>\n",
       "      <td>o</td>\n",
       "    </tr>\n",
       "    <tr>\n",
       "      <th>3</th>\n",
       "      <td>hcr16_lb44_fl</td>\n",
       "      <td>16</td>\n",
       "      <td>development</td>\n",
       "      <td>1</td>\n",
       "      <td>development</td>\n",
       "      <td>240</td>\n",
       "      <td>50</td>\n",
       "      <td>70</td>\n",
       "      <td>57.340123</td>\n",
       "      <td>118.235668</td>\n",
       "      <td>114.030360</td>\n",
       "      <td>[0.10588235294117647, 0.6196078431372549, 0.46...</td>\n",
       "      <td>o</td>\n",
       "    </tr>\n",
       "    <tr>\n",
       "      <th>4</th>\n",
       "      <td>hcr16_lb45_fl</td>\n",
       "      <td>16</td>\n",
       "      <td>development</td>\n",
       "      <td>1</td>\n",
       "      <td>development</td>\n",
       "      <td>256</td>\n",
       "      <td>48</td>\n",
       "      <td>74</td>\n",
       "      <td>51.700447</td>\n",
       "      <td>101.728098</td>\n",
       "      <td>125.571400</td>\n",
       "      <td>[0.10588235294117647, 0.6196078431372549, 0.46...</td>\n",
       "      <td>o</td>\n",
       "    </tr>\n",
       "  </tbody>\n",
       "</table>\n",
       "</div>"
      ],
      "text/plain": [
       "     Sample name  HCR Animal size, cm Regeneration time, dpa  \\\n",
       "0  hcr11_lb27_fl   11     development                      1   \n",
       "1  hcr11_lb28_fl   11     development                      1   \n",
       "2  hcr15_lb41_fl   15     development                      1   \n",
       "3  hcr16_lb44_fl   16     development                      1   \n",
       "4  hcr16_lb45_fl   16     development                      1   \n",
       "\n",
       "  Exact animal size (snout to tail), cm  Blastema width, um  x0(Shh), um  \\\n",
       "0                           development                 284           42   \n",
       "1                           development                 300           52   \n",
       "2                           development                 250           28   \n",
       "3                           development                 240           50   \n",
       "4                           development                 256           48   \n",
       "\n",
       "   x0(Fgf8), um  Volume^1/3(Shh), um  Volume^1/3(Fgf8), um  \\\n",
       "0            66            56.082362             96.264030   \n",
       "1            88            50.523565            118.366951   \n",
       "2            64            52.053200            102.600583   \n",
       "3            70            57.340123            118.235668   \n",
       "4            74            51.700447            101.728098   \n",
       "\n",
       "   Volume^1/3(Dusp), um                                              color  \\\n",
       "0             96.367228  [0.10588235294117647, 0.6196078431372549, 0.46...   \n",
       "1             76.702625  [0.10588235294117647, 0.6196078431372549, 0.46...   \n",
       "2            143.503563  [0.10588235294117647, 0.6196078431372549, 0.46...   \n",
       "3            114.030360  [0.10588235294117647, 0.6196078431372549, 0.46...   \n",
       "4            125.571400  [0.10588235294117647, 0.6196078431372549, 0.46...   \n",
       "\n",
       "  marker  \n",
       "0      o  \n",
       "1      o  \n",
       "2      o  \n",
       "3      o  \n",
       "4      o  "
      ]
     },
     "execution_count": 13,
     "metadata": {},
     "output_type": "execute_result"
    }
   ],
   "source": [
    "df.head()"
   ]
  },
  {
   "cell_type": "code",
   "execution_count": 14,
   "metadata": {},
   "outputs": [
    {
     "data": {
      "image/png": "[encoded data removed]",
      "text/plain": [
       "<Figure size 1062.99x708.66 with 1 Axes>"
      ]
     },
     "metadata": {},
     "output_type": "display_data"
    }
   ],
   "source": [
    "fig = plt.figure(figsize=default_figsize['small'])\n",
    "ax = plt.subplot()\n",
    "\n",
    "to_plot = 'Blastema width, um'\n",
    "    \n",
    "df_to_plot = df.dropna(subset=[to_plot])\n",
    "\n",
    "for size in sizes:\n",
    "    df_regr = df_to_plot[df_to_plot['Animal size, cm'] == size]\n",
    "    x, y = np.array(df_regr['Regeneration time, dpa']), np.array(df_regr[to_plot]) # um\n",
    "    x, y = x[~np.isnan(y)].astype(float), y[~np.isnan(y)].astype(float)  # Remove NaNs\n",
    "    x, y = x[~np.isnan(x)], y[~np.isnan(x)]  # Remove NaNs\n",
    "\n",
    "    if size != 'development':\n",
    "        plot.add_regr(ax, x, y, size_to_color[size], '', fit_intercept=True, extend_to_zero=False)\n",
    "        ax.scatter(\n",
    "            x, y,\n",
    "            edgecolor=size_to_color[size], facecolor=size_to_color[size],\n",
    "            s=10  # Marker size\n",
    "        )\n",
    "    else:\n",
    "        ax.scatter(\n",
    "            x, y,\n",
    "            edgecolor=size_to_color[size], facecolor='none',\n",
    "            s=10  # Marker size\n",
    "        )\n",
    "\n",
    "ax.set_xlabel( 'Regeneration time, dpa' )\n",
    "ax.set_ylabel( 'Blastema width, $\\mu$m' )\n",
    "\n",
    "plt.xticks(np.arange(-0, 13, 1)) \n",
    "ax.set_ylim(0, 2000)\n",
    "plt.savefig(f'fig/figure_1c.pdf')\n",
    "plt.show()"
   ]
  },
  {
   "cell_type": "code",
   "execution_count": null,
   "metadata": {},
   "outputs": [],
   "source": []
  },
  {
   "cell_type": "code",
   "execution_count": null,
   "metadata": {},
   "outputs": [],
   "source": []
  },
  {
   "cell_type": "code",
   "execution_count": null,
   "metadata": {},
   "outputs": [],
   "source": []
  },
  {
   "cell_type": "code",
   "execution_count": null,
   "metadata": {},
   "outputs": [],
   "source": []
  },
  {
   "cell_type": "code",
   "execution_count": null,
   "metadata": {},
   "outputs": [],
   "source": []
  }
 ],
 "metadata": {
  "kernelspec": {
   "display_name": "Python 3 (ipykernel)",
   "language": "python",
   "name": "python3"
  },
  "language_info": {
   "codemirror_mode": {
    "name": "ipython",
    "version": 3
   },
   "file_extension": ".py",
   "mimetype": "text/x-python",
   "name": "python",
   "nbconvert_exporter": "python",
   "pygments_lexer": "ipython3",
   "version": "3.11.11"
  }
 },
 "nbformat": 4,
 "nbformat_minor": 4
}
