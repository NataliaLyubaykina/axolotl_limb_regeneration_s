{
 "cells": [
  {
   "cell_type": "code",
   "execution_count": 1,
   "id": "3e231dd7-d95d-4d78-bedf-a5b275111c2a",
   "metadata": {},
   "outputs": [],
   "source": [
    "%load_ext autoreload\n",
    "%autoreload 2"
   ]
  },
  {
   "cell_type": "code",
   "execution_count": 2,
   "id": "e993eec9-c892-4c11-a1ad-7430e734be3f",
   "metadata": {},
   "outputs": [],
   "source": [
    "import numpy as np\n",
    "import os\n",
    "import re\n",
    "import pandas as pd\n",
    "import matplotlib.pylab as plt\n",
    "import napari\n",
    "\n",
    "from image_analysis.read_files import get_paths, change_paths\n",
    "from image_analysis.fit import plot, roi, regionprops\n",
    "from image_analysis.preprocess import mask"
   ]
  },
  {
   "cell_type": "code",
   "execution_count": 3,
   "id": "96ef274a-7206-4299-aa16-f1a1255f4831",
   "metadata": {},
   "outputs": [],
   "source": [
    "pixel_size = 2"
   ]
  },
  {
   "cell_type": "code",
   "execution_count": 4,
   "id": "bfeb5766-eec3-4c08-9eee-e5fb5ff0c854",
   "metadata": {},
   "outputs": [],
   "source": [
    "folder_pretreated = r'/home/natalia/Documents/github_image_analysis/experimental_data/treatment_all/'\n",
    "df = pd.read_excel(\"../images.xlsx\")"
   ]
  },
  {
   "cell_type": "code",
   "execution_count": 5,
   "id": "93314377-56c7-4b37-8126-af6253e958c8",
   "metadata": {},
   "outputs": [
    {
     "data": {
      "text/html": [
       "<div>\n",
       "<style scoped>\n",
       "    .dataframe tbody tr th:only-of-type {\n",
       "        vertical-align: middle;\n",
       "    }\n",
       "\n",
       "    .dataframe tbody tr th {\n",
       "        vertical-align: top;\n",
       "    }\n",
       "\n",
       "    .dataframe thead th {\n",
       "        text-align: right;\n",
       "    }\n",
       "</style>\n",
       "<table border=\"1\" class=\"dataframe\">\n",
       "  <thead>\n",
       "    <tr style=\"text-align: right;\">\n",
       "      <th></th>\n",
       "      <th>Sample name</th>\n",
       "      <th>HCR</th>\n",
       "      <th>Animal size, cm</th>\n",
       "      <th>Regeneration time, dpa</th>\n",
       "      <th>Exact animal size (snout to tail), cm</th>\n",
       "      <th>Average animal size inside each group, cm</th>\n",
       "      <th>Unnamed: 6</th>\n",
       "      <th>Unnamed: 7</th>\n",
       "    </tr>\n",
       "  </thead>\n",
       "  <tbody>\n",
       "    <tr>\n",
       "      <th>0</th>\n",
       "      <td>hcr11_lb27_fl</td>\n",
       "      <td>11</td>\n",
       "      <td>development</td>\n",
       "      <td>development</td>\n",
       "      <td>NaN</td>\n",
       "      <td>NaN</td>\n",
       "      <td>NaN</td>\n",
       "      <td>NaN</td>\n",
       "    </tr>\n",
       "    <tr>\n",
       "      <th>1</th>\n",
       "      <td>hcr11_lb28_fl</td>\n",
       "      <td>11</td>\n",
       "      <td>development</td>\n",
       "      <td>development</td>\n",
       "      <td>NaN</td>\n",
       "      <td>NaN</td>\n",
       "      <td>NaN</td>\n",
       "      <td>NaN</td>\n",
       "    </tr>\n",
       "    <tr>\n",
       "      <th>2</th>\n",
       "      <td>hcr15_lb41_fl</td>\n",
       "      <td>15</td>\n",
       "      <td>development</td>\n",
       "      <td>development</td>\n",
       "      <td>NaN</td>\n",
       "      <td>NaN</td>\n",
       "      <td>NaN</td>\n",
       "      <td>NaN</td>\n",
       "    </tr>\n",
       "    <tr>\n",
       "      <th>3</th>\n",
       "      <td>hcr16_lb44_fl</td>\n",
       "      <td>16</td>\n",
       "      <td>development</td>\n",
       "      <td>development</td>\n",
       "      <td>NaN</td>\n",
       "      <td>NaN</td>\n",
       "      <td>NaN</td>\n",
       "      <td>NaN</td>\n",
       "    </tr>\n",
       "    <tr>\n",
       "      <th>4</th>\n",
       "      <td>hcr16_lb45_fl</td>\n",
       "      <td>16</td>\n",
       "      <td>development</td>\n",
       "      <td>development</td>\n",
       "      <td>NaN</td>\n",
       "      <td>NaN</td>\n",
       "      <td>NaN</td>\n",
       "      <td>NaN</td>\n",
       "    </tr>\n",
       "  </tbody>\n",
       "</table>\n",
       "</div>"
      ],
      "text/plain": [
       "     Sample name  HCR Animal size, cm Regeneration time, dpa  \\\n",
       "0  hcr11_lb27_fl   11     development            development   \n",
       "1  hcr11_lb28_fl   11     development            development   \n",
       "2  hcr15_lb41_fl   15     development            development   \n",
       "3  hcr16_lb44_fl   16     development            development   \n",
       "4  hcr16_lb45_fl   16     development            development   \n",
       "\n",
       "   Exact animal size (snout to tail), cm  \\\n",
       "0                                    NaN   \n",
       "1                                    NaN   \n",
       "2                                    NaN   \n",
       "3                                    NaN   \n",
       "4                                    NaN   \n",
       "\n",
       "   Average animal size inside each group, cm Unnamed: 6 Unnamed: 7  \n",
       "0                                        NaN        NaN        NaN  \n",
       "1                                        NaN        NaN        NaN  \n",
       "2                                        NaN        NaN        NaN  \n",
       "3                                        NaN        NaN        NaN  \n",
       "4                                        NaN        NaN        NaN  "
      ]
     },
     "execution_count": 5,
     "metadata": {},
     "output_type": "execute_result"
    }
   ],
   "source": [
    "df.head()"
   ]
  },
  {
   "cell_type": "markdown",
   "id": "56917538-3f18-4a12-9105-98bc22dbf321",
   "metadata": {},
   "source": [
    "# Loop trough all samples"
   ]
  },
  {
   "cell_type": "code",
   "execution_count": 6,
   "id": "a289a307-4d77-4790-ad62-03768de7dc30",
   "metadata": {},
   "outputs": [],
   "source": [
    "for pc in [50]:\n",
    "\n",
    "    df[f'system_size_L_along_SF_from_proj_pc{pc}_um']  = pd.NA\n",
    "    df[f'length_L_SF_pc{pc}_um']  = pd.NA\n",
    "    \n",
    "    df[f'x0_pc{pc}_um_shh']  = pd.NA\n",
    "    df[f'x0_pc{pc}_um_fgf'] = pd.NA\n",
    "    \n",
    "    df[f'PD_length_{pc}_um'] = pd.NA"
   ]
  },
  {
   "cell_type": "code",
   "execution_count": 7,
   "id": "bda39d5c-0e18-4008-a35f-1318b8634b5f",
   "metadata": {},
   "outputs": [],
   "source": [
    "ex_2d = np.array([0,1])"
   ]
  },
  {
   "cell_type": "code",
   "execution_count": 8,
   "id": "2b26c26c-01b3-40d0-89da-6da6e5a8a8b5",
   "metadata": {},
   "outputs": [
    {
     "name": "stdout",
     "output_type": "stream",
     "text": [
      "0 hcr11_lb27_fl\n"
     ]
    },
    {
     "name": "stderr",
     "output_type": "stream",
     "text": [
      "/home/natalia/Documents/github_image_analysis/image_analysis/image_analysis/fit/regionprops.py:24: RuntimeWarning: Mean of empty slice\n",
      "  img_arr_x = np.nanmean(np.nanmean(img_arr, axis=0), axis=0)\n",
      "/home/natalia/Documents/github_image_analysis/image_analysis/image_analysis/fit/regionprops.py:27: RuntimeWarning: Mean of empty slice\n",
      "  img_arr_y = np.nanmean(np.nanmean(img_arr, axis=0), axis=1)\n",
      "/home/natalia/Documents/github_image_analysis/image_analysis/image_analysis/fit/regionprops.py:30: RuntimeWarning: Mean of empty slice\n",
      "  img_arr_z = np.nanmean(np.nanmean(img_arr, axis=1), axis=1)\n",
      "/home/natalia/Documents/github_image_analysis/image_analysis/image_analysis/fit/regionprops.py:24: RuntimeWarning: Mean of empty slice\n",
      "  img_arr_x = np.nanmean(np.nanmean(img_arr, axis=0), axis=0)\n",
      "/home/natalia/Documents/github_image_analysis/image_analysis/image_analysis/fit/regionprops.py:27: RuntimeWarning: Mean of empty slice\n",
      "  img_arr_y = np.nanmean(np.nanmean(img_arr, axis=0), axis=1)\n",
      "/home/natalia/Documents/github_image_analysis/image_analysis/image_analysis/fit/regionprops.py:30: RuntimeWarning: Mean of empty slice\n",
      "  img_arr_z = np.nanmean(np.nanmean(img_arr, axis=1), axis=1)\n"
     ]
    },
    {
     "name": "stdout",
     "output_type": "stream",
     "text": [
      "Angle between ez and N_desired: 10\n",
      "1 hcr11_lb28_fl\n"
     ]
    },
    {
     "name": "stderr",
     "output_type": "stream",
     "text": [
      "/home/natalia/Documents/github_image_analysis/image_analysis/image_analysis/fit/roi.py:67: RuntimeWarning: Mean of empty slice\n",
      "  arr = np.nanmean(arr, axis=axis_n)\n",
      "/home/natalia/Documents/github_image_analysis/image_analysis/image_analysis/fit/roi.py:69: RuntimeWarning: invalid value encountered in cast\n",
      "  return arr.astype( np.uint16 )\n",
      "/home/natalia/Documents/github_image_analysis/image_analysis/image_analysis/fit/regionprops.py:37: RuntimeWarning: Mean of empty slice\n",
      "  img_arr_x = np.nanmean(img_arr, axis=0)\n",
      "/home/natalia/Documents/github_image_analysis/image_analysis/image_analysis/fit/regionprops.py:40: RuntimeWarning: Mean of empty slice\n",
      "  img_arr_y = np.nanmean(img_arr, axis=1)\n",
      "/home/natalia/Documents/github_image_analysis/image_analysis/image_analysis/fit/regionprops.py:24: RuntimeWarning: Mean of empty slice\n",
      "  img_arr_x = np.nanmean(np.nanmean(img_arr, axis=0), axis=0)\n",
      "/home/natalia/Documents/github_image_analysis/image_analysis/image_analysis/fit/regionprops.py:27: RuntimeWarning: Mean of empty slice\n",
      "  img_arr_y = np.nanmean(np.nanmean(img_arr, axis=0), axis=1)\n",
      "/home/natalia/Documents/github_image_analysis/image_analysis/image_analysis/fit/regionprops.py:30: RuntimeWarning: Mean of empty slice\n",
      "  img_arr_z = np.nanmean(np.nanmean(img_arr, axis=1), axis=1)\n"
     ]
    },
    {
     "name": "stdout",
     "output_type": "stream",
     "text": [
      "Angle between ez and N_desired: -5\n",
      "2 hcr15_lb41_fl\n"
     ]
    },
    {
     "name": "stderr",
     "output_type": "stream",
     "text": [
      "/home/natalia/Documents/github_image_analysis/image_analysis/image_analysis/fit/roi.py:67: RuntimeWarning: Mean of empty slice\n",
      "  arr = np.nanmean(arr, axis=axis_n)\n",
      "/home/natalia/Documents/github_image_analysis/image_analysis/image_analysis/fit/roi.py:69: RuntimeWarning: invalid value encountered in cast\n",
      "  return arr.astype( np.uint16 )\n",
      "/home/natalia/Documents/github_image_analysis/image_analysis/image_analysis/fit/regionprops.py:37: RuntimeWarning: Mean of empty slice\n",
      "  img_arr_x = np.nanmean(img_arr, axis=0)\n",
      "/home/natalia/Documents/github_image_analysis/image_analysis/image_analysis/fit/regionprops.py:40: RuntimeWarning: Mean of empty slice\n",
      "  img_arr_y = np.nanmean(img_arr, axis=1)\n",
      "/home/natalia/Documents/github_image_analysis/image_analysis/image_analysis/fit/regionprops.py:24: RuntimeWarning: Mean of empty slice\n",
      "  img_arr_x = np.nanmean(np.nanmean(img_arr, axis=0), axis=0)\n",
      "/home/natalia/Documents/github_image_analysis/image_analysis/image_analysis/fit/regionprops.py:27: RuntimeWarning: Mean of empty slice\n",
      "  img_arr_y = np.nanmean(np.nanmean(img_arr, axis=0), axis=1)\n",
      "/home/natalia/Documents/github_image_analysis/image_analysis/image_analysis/fit/regionprops.py:30: RuntimeWarning: Mean of empty slice\n",
      "  img_arr_z = np.nanmean(np.nanmean(img_arr, axis=1), axis=1)\n"
     ]
    },
    {
     "name": "stdout",
     "output_type": "stream",
     "text": [
      "Angle between ez and N_desired: 1\n",
      "3 hcr16_lb44_fl\n",
      "Angle between ez and N_desired: -2\n"
     ]
    },
    {
     "name": "stderr",
     "output_type": "stream",
     "text": [
      "/home/natalia/Documents/github_image_analysis/image_analysis/image_analysis/fit/roi.py:67: RuntimeWarning: Mean of empty slice\n",
      "  arr = np.nanmean(arr, axis=axis_n)\n",
      "/home/natalia/Documents/github_image_analysis/image_analysis/image_analysis/fit/roi.py:69: RuntimeWarning: invalid value encountered in cast\n",
      "  return arr.astype( np.uint16 )\n",
      "/home/natalia/Documents/github_image_analysis/image_analysis/image_analysis/fit/regionprops.py:37: RuntimeWarning: Mean of empty slice\n",
      "  img_arr_x = np.nanmean(img_arr, axis=0)\n",
      "/home/natalia/Documents/github_image_analysis/image_analysis/image_analysis/fit/regionprops.py:40: RuntimeWarning: Mean of empty slice\n",
      "  img_arr_y = np.nanmean(img_arr, axis=1)\n",
      "/home/natalia/Documents/github_image_analysis/image_analysis/image_analysis/fit/regionprops.py:24: RuntimeWarning: Mean of empty slice\n",
      "  img_arr_x = np.nanmean(np.nanmean(img_arr, axis=0), axis=0)\n",
      "/home/natalia/Documents/github_image_analysis/image_analysis/image_analysis/fit/regionprops.py:27: RuntimeWarning: Mean of empty slice\n",
      "  img_arr_y = np.nanmean(np.nanmean(img_arr, axis=0), axis=1)\n",
      "/home/natalia/Documents/github_image_analysis/image_analysis/image_analysis/fit/regionprops.py:30: RuntimeWarning: Mean of empty slice\n",
      "  img_arr_z = np.nanmean(np.nanmean(img_arr, axis=1), axis=1)\n",
      "/home/natalia/Documents/github_image_analysis/image_analysis/image_analysis/fit/roi.py:67: RuntimeWarning: Mean of empty slice\n",
      "  arr = np.nanmean(arr, axis=axis_n)\n",
      "/home/natalia/Documents/github_image_analysis/image_analysis/image_analysis/fit/roi.py:69: RuntimeWarning: invalid value encountered in cast\n",
      "  return arr.astype( np.uint16 )\n",
      "/home/natalia/Documents/github_image_analysis/image_analysis/image_analysis/fit/regionprops.py:37: RuntimeWarning: Mean of empty slice\n",
      "  img_arr_x = np.nanmean(img_arr, axis=0)\n",
      "/home/natalia/Documents/github_image_analysis/image_analysis/image_analysis/fit/regionprops.py:40: RuntimeWarning: Mean of empty slice\n",
      "  img_arr_y = np.nanmean(img_arr, axis=1)\n"
     ]
    },
    {
     "name": "stdout",
     "output_type": "stream",
     "text": [
      "4 hcr16_lb45_fl\n"
     ]
    },
    {
     "name": "stderr",
     "output_type": "stream",
     "text": [
      "/home/natalia/Documents/github_image_analysis/image_analysis/image_analysis/fit/regionprops.py:24: RuntimeWarning: Mean of empty slice\n",
      "  img_arr_x = np.nanmean(np.nanmean(img_arr, axis=0), axis=0)\n",
      "/home/natalia/Documents/github_image_analysis/image_analysis/image_analysis/fit/regionprops.py:27: RuntimeWarning: Mean of empty slice\n",
      "  img_arr_y = np.nanmean(np.nanmean(img_arr, axis=0), axis=1)\n",
      "/home/natalia/Documents/github_image_analysis/image_analysis/image_analysis/fit/regionprops.py:30: RuntimeWarning: Mean of empty slice\n",
      "  img_arr_z = np.nanmean(np.nanmean(img_arr, axis=1), axis=1)\n",
      "/home/natalia/Documents/github_image_analysis/image_analysis/image_analysis/fit/roi.py:67: RuntimeWarning: Mean of empty slice\n",
      "  arr = np.nanmean(arr, axis=axis_n)\n",
      "/home/natalia/Documents/github_image_analysis/image_analysis/image_analysis/fit/roi.py:69: RuntimeWarning: invalid value encountered in cast\n",
      "  return arr.astype( np.uint16 )\n"
     ]
    },
    {
     "name": "stdout",
     "output_type": "stream",
     "text": [
      "Angle between ez and N_desired: -3\n",
      "5 hcr17_lb50_dd_fl_hoe\n"
     ]
    },
    {
     "name": "stderr",
     "output_type": "stream",
     "text": [
      "/home/natalia/Documents/github_image_analysis/image_analysis/image_analysis/fit/regionprops.py:37: RuntimeWarning: Mean of empty slice\n",
      "  img_arr_x = np.nanmean(img_arr, axis=0)\n",
      "/home/natalia/Documents/github_image_analysis/image_analysis/image_analysis/fit/regionprops.py:40: RuntimeWarning: Mean of empty slice\n",
      "  img_arr_y = np.nanmean(img_arr, axis=1)\n",
      "/home/natalia/Documents/github_image_analysis/image_analysis/image_analysis/fit/regionprops.py:24: RuntimeWarning: Mean of empty slice\n",
      "  img_arr_x = np.nanmean(np.nanmean(img_arr, axis=0), axis=0)\n",
      "/home/natalia/Documents/github_image_analysis/image_analysis/image_analysis/fit/regionprops.py:27: RuntimeWarning: Mean of empty slice\n",
      "  img_arr_y = np.nanmean(np.nanmean(img_arr, axis=0), axis=1)\n",
      "/home/natalia/Documents/github_image_analysis/image_analysis/image_analysis/fit/regionprops.py:30: RuntimeWarning: Mean of empty slice\n",
      "  img_arr_z = np.nanmean(np.nanmean(img_arr, axis=1), axis=1)\n"
     ]
    },
    {
     "name": "stdout",
     "output_type": "stream",
     "text": [
      "Angle between ez and N_desired: 5\n",
      "6 hcr17_lb50_dd_fr_hoe\n"
     ]
    },
    {
     "name": "stderr",
     "output_type": "stream",
     "text": [
      "/home/natalia/Documents/github_image_analysis/image_analysis/image_analysis/fit/roi.py:67: RuntimeWarning: Mean of empty slice\n",
      "  arr = np.nanmean(arr, axis=axis_n)\n",
      "/home/natalia/Documents/github_image_analysis/image_analysis/image_analysis/fit/roi.py:69: RuntimeWarning: invalid value encountered in cast\n",
      "  return arr.astype( np.uint16 )\n",
      "/home/natalia/Documents/github_image_analysis/image_analysis/image_analysis/fit/regionprops.py:37: RuntimeWarning: Mean of empty slice\n",
      "  img_arr_x = np.nanmean(img_arr, axis=0)\n",
      "/home/natalia/Documents/github_image_analysis/image_analysis/image_analysis/fit/regionprops.py:40: RuntimeWarning: Mean of empty slice\n",
      "  img_arr_y = np.nanmean(img_arr, axis=1)\n",
      "/home/natalia/Documents/github_image_analysis/image_analysis/image_analysis/fit/regionprops.py:24: RuntimeWarning: Mean of empty slice\n",
      "  img_arr_x = np.nanmean(np.nanmean(img_arr, axis=0), axis=0)\n",
      "/home/natalia/Documents/github_image_analysis/image_analysis/image_analysis/fit/regionprops.py:27: RuntimeWarning: Mean of empty slice\n",
      "  img_arr_y = np.nanmean(np.nanmean(img_arr, axis=0), axis=1)\n",
      "/home/natalia/Documents/github_image_analysis/image_analysis/image_analysis/fit/regionprops.py:30: RuntimeWarning: Mean of empty slice\n",
      "  img_arr_z = np.nanmean(np.nanmean(img_arr, axis=1), axis=1)\n"
     ]
    },
    {
     "name": "stdout",
     "output_type": "stream",
     "text": [
      "Angle between ez and N_desired: 2\n",
      "7 hcr17_lb49_dd_fl_dapi\n"
     ]
    },
    {
     "name": "stderr",
     "output_type": "stream",
     "text": [
      "/home/natalia/Documents/github_image_analysis/image_analysis/image_analysis/fit/roi.py:67: RuntimeWarning: Mean of empty slice\n",
      "  arr = np.nanmean(arr, axis=axis_n)\n",
      "/home/natalia/Documents/github_image_analysis/image_analysis/image_analysis/fit/roi.py:69: RuntimeWarning: invalid value encountered in cast\n",
      "  return arr.astype( np.uint16 )\n",
      "/home/natalia/Documents/github_image_analysis/image_analysis/image_analysis/fit/regionprops.py:37: RuntimeWarning: Mean of empty slice\n",
      "  img_arr_x = np.nanmean(img_arr, axis=0)\n",
      "/home/natalia/Documents/github_image_analysis/image_analysis/image_analysis/fit/regionprops.py:40: RuntimeWarning: Mean of empty slice\n",
      "  img_arr_y = np.nanmean(img_arr, axis=1)\n",
      "/home/natalia/Documents/github_image_analysis/image_analysis/image_analysis/fit/regionprops.py:24: RuntimeWarning: Mean of empty slice\n",
      "  img_arr_x = np.nanmean(np.nanmean(img_arr, axis=0), axis=0)\n",
      "/home/natalia/Documents/github_image_analysis/image_analysis/image_analysis/fit/regionprops.py:27: RuntimeWarning: Mean of empty slice\n",
      "  img_arr_y = np.nanmean(np.nanmean(img_arr, axis=0), axis=1)\n",
      "/home/natalia/Documents/github_image_analysis/image_analysis/image_analysis/fit/regionprops.py:30: RuntimeWarning: Mean of empty slice\n",
      "  img_arr_z = np.nanmean(np.nanmean(img_arr, axis=1), axis=1)\n"
     ]
    },
    {
     "name": "stdout",
     "output_type": "stream",
     "text": [
      "Angle between ez and N_desired: 7\n",
      "8 hcr20_lb58_fr\n"
     ]
    },
    {
     "name": "stderr",
     "output_type": "stream",
     "text": [
      "/home/natalia/Documents/github_image_analysis/image_analysis/image_analysis/fit/roi.py:67: RuntimeWarning: Mean of empty slice\n",
      "  arr = np.nanmean(arr, axis=axis_n)\n",
      "/home/natalia/Documents/github_image_analysis/image_analysis/image_analysis/fit/roi.py:69: RuntimeWarning: invalid value encountered in cast\n",
      "  return arr.astype( np.uint16 )\n",
      "/home/natalia/Documents/github_image_analysis/image_analysis/image_analysis/fit/regionprops.py:37: RuntimeWarning: Mean of empty slice\n",
      "  img_arr_x = np.nanmean(img_arr, axis=0)\n",
      "/home/natalia/Documents/github_image_analysis/image_analysis/image_analysis/fit/regionprops.py:40: RuntimeWarning: Mean of empty slice\n",
      "  img_arr_y = np.nanmean(img_arr, axis=1)\n",
      "/home/natalia/Documents/github_image_analysis/image_analysis/image_analysis/fit/regionprops.py:24: RuntimeWarning: Mean of empty slice\n",
      "  img_arr_x = np.nanmean(np.nanmean(img_arr, axis=0), axis=0)\n",
      "/home/natalia/Documents/github_image_analysis/image_analysis/image_analysis/fit/regionprops.py:27: RuntimeWarning: Mean of empty slice\n",
      "  img_arr_y = np.nanmean(np.nanmean(img_arr, axis=0), axis=1)\n",
      "/home/natalia/Documents/github_image_analysis/image_analysis/image_analysis/fit/regionprops.py:30: RuntimeWarning: Mean of empty slice\n",
      "  img_arr_z = np.nanmean(np.nanmean(img_arr, axis=1), axis=1)\n"
     ]
    },
    {
     "name": "stdout",
     "output_type": "stream",
     "text": [
      "Angle between ez and N_desired: 6\n",
      "9 hcr21_lb68_fr\n"
     ]
    },
    {
     "name": "stderr",
     "output_type": "stream",
     "text": [
      "/home/natalia/Documents/github_image_analysis/image_analysis/image_analysis/fit/roi.py:67: RuntimeWarning: Mean of empty slice\n",
      "  arr = np.nanmean(arr, axis=axis_n)\n",
      "/home/natalia/Documents/github_image_analysis/image_analysis/image_analysis/fit/roi.py:69: RuntimeWarning: invalid value encountered in cast\n",
      "  return arr.astype( np.uint16 )\n",
      "/home/natalia/Documents/github_image_analysis/image_analysis/image_analysis/fit/regionprops.py:37: RuntimeWarning: Mean of empty slice\n",
      "  img_arr_x = np.nanmean(img_arr, axis=0)\n",
      "/home/natalia/Documents/github_image_analysis/image_analysis/image_analysis/fit/regionprops.py:40: RuntimeWarning: Mean of empty slice\n",
      "  img_arr_y = np.nanmean(img_arr, axis=1)\n",
      "/home/natalia/Documents/github_image_analysis/image_analysis/image_analysis/fit/regionprops.py:24: RuntimeWarning: Mean of empty slice\n",
      "  img_arr_x = np.nanmean(np.nanmean(img_arr, axis=0), axis=0)\n",
      "/home/natalia/Documents/github_image_analysis/image_analysis/image_analysis/fit/regionprops.py:27: RuntimeWarning: Mean of empty slice\n",
      "  img_arr_y = np.nanmean(np.nanmean(img_arr, axis=0), axis=1)\n",
      "/home/natalia/Documents/github_image_analysis/image_analysis/image_analysis/fit/regionprops.py:30: RuntimeWarning: Mean of empty slice\n",
      "  img_arr_z = np.nanmean(np.nanmean(img_arr, axis=1), axis=1)\n"
     ]
    },
    {
     "name": "stdout",
     "output_type": "stream",
     "text": [
      "Angle between ez and N_desired: -8\n",
      "10 hcr22_lb72_fl\n"
     ]
    },
    {
     "name": "stderr",
     "output_type": "stream",
     "text": [
      "/home/natalia/Documents/github_image_analysis/image_analysis/image_analysis/fit/roi.py:67: RuntimeWarning: Mean of empty slice\n",
      "  arr = np.nanmean(arr, axis=axis_n)\n",
      "/home/natalia/Documents/github_image_analysis/image_analysis/image_analysis/fit/roi.py:69: RuntimeWarning: invalid value encountered in cast\n",
      "  return arr.astype( np.uint16 )\n",
      "/home/natalia/Documents/github_image_analysis/image_analysis/image_analysis/fit/regionprops.py:37: RuntimeWarning: Mean of empty slice\n",
      "  img_arr_x = np.nanmean(img_arr, axis=0)\n",
      "/home/natalia/Documents/github_image_analysis/image_analysis/image_analysis/fit/regionprops.py:40: RuntimeWarning: Mean of empty slice\n",
      "  img_arr_y = np.nanmean(img_arr, axis=1)\n",
      "/home/natalia/Documents/github_image_analysis/image_analysis/image_analysis/fit/regionprops.py:24: RuntimeWarning: Mean of empty slice\n",
      "  img_arr_x = np.nanmean(np.nanmean(img_arr, axis=0), axis=0)\n",
      "/home/natalia/Documents/github_image_analysis/image_analysis/image_analysis/fit/regionprops.py:27: RuntimeWarning: Mean of empty slice\n",
      "  img_arr_y = np.nanmean(np.nanmean(img_arr, axis=0), axis=1)\n",
      "/home/natalia/Documents/github_image_analysis/image_analysis/image_analysis/fit/regionprops.py:30: RuntimeWarning: Mean of empty slice\n",
      "  img_arr_z = np.nanmean(np.nanmean(img_arr, axis=1), axis=1)\n"
     ]
    },
    {
     "name": "stdout",
     "output_type": "stream",
     "text": [
      "Angle between ez and N_desired: -3\n",
      "11 hcr22_lb73_fr\n"
     ]
    },
    {
     "name": "stderr",
     "output_type": "stream",
     "text": [
      "/home/natalia/Documents/github_image_analysis/image_analysis/image_analysis/fit/roi.py:67: RuntimeWarning: Mean of empty slice\n",
      "  arr = np.nanmean(arr, axis=axis_n)\n",
      "/home/natalia/Documents/github_image_analysis/image_analysis/image_analysis/fit/roi.py:69: RuntimeWarning: invalid value encountered in cast\n",
      "  return arr.astype( np.uint16 )\n",
      "/home/natalia/Documents/github_image_analysis/image_analysis/image_analysis/fit/regionprops.py:37: RuntimeWarning: Mean of empty slice\n",
      "  img_arr_x = np.nanmean(img_arr, axis=0)\n",
      "/home/natalia/Documents/github_image_analysis/image_analysis/image_analysis/fit/regionprops.py:40: RuntimeWarning: Mean of empty slice\n",
      "  img_arr_y = np.nanmean(img_arr, axis=1)\n",
      "/home/natalia/Documents/github_image_analysis/image_analysis/image_analysis/fit/regionprops.py:24: RuntimeWarning: Mean of empty slice\n",
      "  img_arr_x = np.nanmean(np.nanmean(img_arr, axis=0), axis=0)\n",
      "/home/natalia/Documents/github_image_analysis/image_analysis/image_analysis/fit/regionprops.py:27: RuntimeWarning: Mean of empty slice\n",
      "  img_arr_y = np.nanmean(np.nanmean(img_arr, axis=0), axis=1)\n",
      "/home/natalia/Documents/github_image_analysis/image_analysis/image_analysis/fit/regionprops.py:30: RuntimeWarning: Mean of empty slice\n",
      "  img_arr_z = np.nanmean(np.nanmean(img_arr, axis=1), axis=1)\n"
     ]
    },
    {
     "name": "stdout",
     "output_type": "stream",
     "text": [
      "Angle between ez and N_desired: 3\n",
      "12 hcr22_lb72_fr\n",
      "Angle between ez and N_desired: 6\n"
     ]
    },
    {
     "name": "stderr",
     "output_type": "stream",
     "text": [
      "/home/natalia/Documents/github_image_analysis/image_analysis/image_analysis/fit/roi.py:67: RuntimeWarning: Mean of empty slice\n",
      "  arr = np.nanmean(arr, axis=axis_n)\n",
      "/home/natalia/Documents/github_image_analysis/image_analysis/image_analysis/fit/roi.py:69: RuntimeWarning: invalid value encountered in cast\n",
      "  return arr.astype( np.uint16 )\n",
      "/home/natalia/Documents/github_image_analysis/image_analysis/image_analysis/fit/regionprops.py:37: RuntimeWarning: Mean of empty slice\n",
      "  img_arr_x = np.nanmean(img_arr, axis=0)\n",
      "/home/natalia/Documents/github_image_analysis/image_analysis/image_analysis/fit/regionprops.py:40: RuntimeWarning: Mean of empty slice\n",
      "  img_arr_y = np.nanmean(img_arr, axis=1)\n",
      "/home/natalia/Documents/github_image_analysis/image_analysis/image_analysis/fit/regionprops.py:24: RuntimeWarning: Mean of empty slice\n",
      "  img_arr_x = np.nanmean(np.nanmean(img_arr, axis=0), axis=0)\n",
      "/home/natalia/Documents/github_image_analysis/image_analysis/image_analysis/fit/regionprops.py:27: RuntimeWarning: Mean of empty slice\n",
      "  img_arr_y = np.nanmean(np.nanmean(img_arr, axis=0), axis=1)\n",
      "/home/natalia/Documents/github_image_analysis/image_analysis/image_analysis/fit/regionprops.py:30: RuntimeWarning: Mean of empty slice\n",
      "  img_arr_z = np.nanmean(np.nanmean(img_arr, axis=1), axis=1)\n",
      "/home/natalia/Documents/github_image_analysis/image_analysis/image_analysis/fit/roi.py:67: RuntimeWarning: Mean of empty slice\n",
      "  arr = np.nanmean(arr, axis=axis_n)\n",
      "/home/natalia/Documents/github_image_analysis/image_analysis/image_analysis/fit/roi.py:69: RuntimeWarning: invalid value encountered in cast\n",
      "  return arr.astype( np.uint16 )\n",
      "/home/natalia/Documents/github_image_analysis/image_analysis/image_analysis/fit/regionprops.py:37: RuntimeWarning: Mean of empty slice\n",
      "  img_arr_x = np.nanmean(img_arr, axis=0)\n",
      "/home/natalia/Documents/github_image_analysis/image_analysis/image_analysis/fit/regionprops.py:40: RuntimeWarning: Mean of empty slice\n",
      "  img_arr_y = np.nanmean(img_arr, axis=1)\n",
      "/home/natalia/Documents/github_image_analysis/image_analysis/image_analysis/fit/regionprops.py:24: RuntimeWarning: Mean of empty slice\n",
      "  img_arr_x = np.nanmean(np.nanmean(img_arr, axis=0), axis=0)\n",
      "/home/natalia/Documents/github_image_analysis/image_analysis/image_analysis/fit/regionprops.py:27: RuntimeWarning: Mean of empty slice\n",
      "  img_arr_y = np.nanmean(np.nanmean(img_arr, axis=0), axis=1)\n",
      "/home/natalia/Documents/github_image_analysis/image_analysis/image_analysis/fit/regionprops.py:30: RuntimeWarning: Mean of empty slice\n",
      "  img_arr_z = np.nanmean(np.nanmean(img_arr, axis=1), axis=1)\n"
     ]
    },
    {
     "name": "stdout",
     "output_type": "stream",
     "text": [
      "13 hcr22_lb70_fl\n",
      "Angle between ez and N_desired: -6\n",
      "14 hcr22_lb74_fl\n"
     ]
    },
    {
     "name": "stderr",
     "output_type": "stream",
     "text": [
      "/home/natalia/Documents/github_image_analysis/image_analysis/image_analysis/fit/roi.py:67: RuntimeWarning: Mean of empty slice\n",
      "  arr = np.nanmean(arr, axis=axis_n)\n",
      "/home/natalia/Documents/github_image_analysis/image_analysis/image_analysis/fit/roi.py:69: RuntimeWarning: invalid value encountered in cast\n",
      "  return arr.astype( np.uint16 )\n",
      "/home/natalia/Documents/github_image_analysis/image_analysis/image_analysis/fit/regionprops.py:37: RuntimeWarning: Mean of empty slice\n",
      "  img_arr_x = np.nanmean(img_arr, axis=0)\n",
      "/home/natalia/Documents/github_image_analysis/image_analysis/image_analysis/fit/regionprops.py:40: RuntimeWarning: Mean of empty slice\n",
      "  img_arr_y = np.nanmean(img_arr, axis=1)\n",
      "/home/natalia/Documents/github_image_analysis/image_analysis/image_analysis/fit/regionprops.py:24: RuntimeWarning: Mean of empty slice\n",
      "  img_arr_x = np.nanmean(np.nanmean(img_arr, axis=0), axis=0)\n",
      "/home/natalia/Documents/github_image_analysis/image_analysis/image_analysis/fit/regionprops.py:27: RuntimeWarning: Mean of empty slice\n",
      "  img_arr_y = np.nanmean(np.nanmean(img_arr, axis=0), axis=1)\n",
      "/home/natalia/Documents/github_image_analysis/image_analysis/image_analysis/fit/regionprops.py:30: RuntimeWarning: Mean of empty slice\n",
      "  img_arr_z = np.nanmean(np.nanmean(img_arr, axis=1), axis=1)\n"
     ]
    },
    {
     "name": "stdout",
     "output_type": "stream",
     "text": [
      "Angle between ez and N_desired: 1\n",
      "15 hcr22_lb74_fr\n"
     ]
    },
    {
     "name": "stderr",
     "output_type": "stream",
     "text": [
      "/home/natalia/Documents/github_image_analysis/image_analysis/image_analysis/fit/roi.py:67: RuntimeWarning: Mean of empty slice\n",
      "  arr = np.nanmean(arr, axis=axis_n)\n",
      "/home/natalia/Documents/github_image_analysis/image_analysis/image_analysis/fit/roi.py:69: RuntimeWarning: invalid value encountered in cast\n",
      "  return arr.astype( np.uint16 )\n",
      "/home/natalia/Documents/github_image_analysis/image_analysis/image_analysis/fit/regionprops.py:37: RuntimeWarning: Mean of empty slice\n",
      "  img_arr_x = np.nanmean(img_arr, axis=0)\n",
      "/home/natalia/Documents/github_image_analysis/image_analysis/image_analysis/fit/regionprops.py:40: RuntimeWarning: Mean of empty slice\n",
      "  img_arr_y = np.nanmean(img_arr, axis=1)\n",
      "/home/natalia/Documents/github_image_analysis/image_analysis/image_analysis/fit/regionprops.py:24: RuntimeWarning: Mean of empty slice\n",
      "  img_arr_x = np.nanmean(np.nanmean(img_arr, axis=0), axis=0)\n",
      "/home/natalia/Documents/github_image_analysis/image_analysis/image_analysis/fit/regionprops.py:27: RuntimeWarning: Mean of empty slice\n",
      "  img_arr_y = np.nanmean(np.nanmean(img_arr, axis=0), axis=1)\n",
      "/home/natalia/Documents/github_image_analysis/image_analysis/image_analysis/fit/regionprops.py:30: RuntimeWarning: Mean of empty slice\n",
      "  img_arr_z = np.nanmean(np.nanmean(img_arr, axis=1), axis=1)\n"
     ]
    },
    {
     "name": "stdout",
     "output_type": "stream",
     "text": [
      "Angle between ez and N_desired: -1\n",
      "16 hcr22_lb71_fr\n"
     ]
    },
    {
     "name": "stderr",
     "output_type": "stream",
     "text": [
      "/home/natalia/Documents/github_image_analysis/image_analysis/image_analysis/fit/roi.py:67: RuntimeWarning: Mean of empty slice\n",
      "  arr = np.nanmean(arr, axis=axis_n)\n",
      "/home/natalia/Documents/github_image_analysis/image_analysis/image_analysis/fit/roi.py:69: RuntimeWarning: invalid value encountered in cast\n",
      "  return arr.astype( np.uint16 )\n",
      "/home/natalia/Documents/github_image_analysis/image_analysis/image_analysis/fit/regionprops.py:37: RuntimeWarning: Mean of empty slice\n",
      "  img_arr_x = np.nanmean(img_arr, axis=0)\n",
      "/home/natalia/Documents/github_image_analysis/image_analysis/image_analysis/fit/regionprops.py:40: RuntimeWarning: Mean of empty slice\n",
      "  img_arr_y = np.nanmean(img_arr, axis=1)\n",
      "/home/natalia/Documents/github_image_analysis/image_analysis/image_analysis/fit/regionprops.py:24: RuntimeWarning: Mean of empty slice\n",
      "  img_arr_x = np.nanmean(np.nanmean(img_arr, axis=0), axis=0)\n",
      "/home/natalia/Documents/github_image_analysis/image_analysis/image_analysis/fit/regionprops.py:27: RuntimeWarning: Mean of empty slice\n",
      "  img_arr_y = np.nanmean(np.nanmean(img_arr, axis=0), axis=1)\n",
      "/home/natalia/Documents/github_image_analysis/image_analysis/image_analysis/fit/regionprops.py:30: RuntimeWarning: Mean of empty slice\n",
      "  img_arr_z = np.nanmean(np.nanmean(img_arr, axis=1), axis=1)\n"
     ]
    },
    {
     "name": "stdout",
     "output_type": "stream",
     "text": [
      "Angle between ez and N_desired: -21\n",
      "Re-running the rotation function due to insufficient alignment\n",
      "Angle between ez and N_desired: 23\n",
      "Re-running the rotation function due to insufficient alignment\n",
      "Angle between ez and N_desired: -15\n",
      "Re-running the rotation function due to insufficient alignment\n",
      "Angle between ez and N_desired: -13\n"
     ]
    },
    {
     "name": "stderr",
     "output_type": "stream",
     "text": [
      "/home/natalia/Documents/github_image_analysis/image_analysis/image_analysis/fit/roi.py:67: RuntimeWarning: Mean of empty slice\n",
      "  arr = np.nanmean(arr, axis=axis_n)\n",
      "/home/natalia/Documents/github_image_analysis/image_analysis/image_analysis/fit/roi.py:69: RuntimeWarning: invalid value encountered in cast\n",
      "  return arr.astype( np.uint16 )\n",
      "/home/natalia/Documents/github_image_analysis/image_analysis/image_analysis/fit/regionprops.py:37: RuntimeWarning: Mean of empty slice\n",
      "  img_arr_x = np.nanmean(img_arr, axis=0)\n",
      "/home/natalia/Documents/github_image_analysis/image_analysis/image_analysis/fit/regionprops.py:40: RuntimeWarning: Mean of empty slice\n",
      "  img_arr_y = np.nanmean(img_arr, axis=1)\n",
      "/home/natalia/Documents/github_image_analysis/image_analysis/image_analysis/fit/regionprops.py:24: RuntimeWarning: Mean of empty slice\n",
      "  img_arr_x = np.nanmean(np.nanmean(img_arr, axis=0), axis=0)\n",
      "/home/natalia/Documents/github_image_analysis/image_analysis/image_analysis/fit/regionprops.py:27: RuntimeWarning: Mean of empty slice\n",
      "  img_arr_y = np.nanmean(np.nanmean(img_arr, axis=0), axis=1)\n",
      "/home/natalia/Documents/github_image_analysis/image_analysis/image_analysis/fit/regionprops.py:30: RuntimeWarning: Mean of empty slice\n",
      "  img_arr_z = np.nanmean(np.nanmean(img_arr, axis=1), axis=1)\n"
     ]
    },
    {
     "name": "stdout",
     "output_type": "stream",
     "text": [
      "17 hcr23_lb79_fl\n",
      "Angle between ez and N_desired: 7\n"
     ]
    },
    {
     "name": "stderr",
     "output_type": "stream",
     "text": [
      "/home/natalia/Documents/github_image_analysis/image_analysis/image_analysis/fit/roi.py:67: RuntimeWarning: Mean of empty slice\n",
      "  arr = np.nanmean(arr, axis=axis_n)\n",
      "/home/natalia/Documents/github_image_analysis/image_analysis/image_analysis/fit/roi.py:69: RuntimeWarning: invalid value encountered in cast\n",
      "  return arr.astype( np.uint16 )\n",
      "/home/natalia/Documents/github_image_analysis/image_analysis/image_analysis/fit/regionprops.py:37: RuntimeWarning: Mean of empty slice\n",
      "  img_arr_x = np.nanmean(img_arr, axis=0)\n",
      "/home/natalia/Documents/github_image_analysis/image_analysis/image_analysis/fit/regionprops.py:40: RuntimeWarning: Mean of empty slice\n",
      "  img_arr_y = np.nanmean(img_arr, axis=1)\n",
      "/home/natalia/Documents/github_image_analysis/image_analysis/image_analysis/fit/regionprops.py:24: RuntimeWarning: Mean of empty slice\n",
      "  img_arr_x = np.nanmean(np.nanmean(img_arr, axis=0), axis=0)\n",
      "/home/natalia/Documents/github_image_analysis/image_analysis/image_analysis/fit/regionprops.py:27: RuntimeWarning: Mean of empty slice\n",
      "  img_arr_y = np.nanmean(np.nanmean(img_arr, axis=0), axis=1)\n",
      "/home/natalia/Documents/github_image_analysis/image_analysis/image_analysis/fit/regionprops.py:30: RuntimeWarning: Mean of empty slice\n",
      "  img_arr_z = np.nanmean(np.nanmean(img_arr, axis=1), axis=1)\n"
     ]
    },
    {
     "name": "stdout",
     "output_type": "stream",
     "text": [
      "18 hcr23_lb76_fr\n",
      "Angle between ez and N_desired: -5\n",
      "19 hcr23_lb79_fr\n"
     ]
    },
    {
     "name": "stderr",
     "output_type": "stream",
     "text": [
      "/home/natalia/Documents/github_image_analysis/image_analysis/image_analysis/fit/roi.py:67: RuntimeWarning: Mean of empty slice\n",
      "  arr = np.nanmean(arr, axis=axis_n)\n",
      "/home/natalia/Documents/github_image_analysis/image_analysis/image_analysis/fit/roi.py:69: RuntimeWarning: invalid value encountered in cast\n",
      "  return arr.astype( np.uint16 )\n",
      "/home/natalia/Documents/github_image_analysis/image_analysis/image_analysis/fit/regionprops.py:37: RuntimeWarning: Mean of empty slice\n",
      "  img_arr_x = np.nanmean(img_arr, axis=0)\n",
      "/home/natalia/Documents/github_image_analysis/image_analysis/image_analysis/fit/regionprops.py:40: RuntimeWarning: Mean of empty slice\n",
      "  img_arr_y = np.nanmean(img_arr, axis=1)\n",
      "/home/natalia/Documents/github_image_analysis/image_analysis/image_analysis/fit/regionprops.py:24: RuntimeWarning: Mean of empty slice\n",
      "  img_arr_x = np.nanmean(np.nanmean(img_arr, axis=0), axis=0)\n",
      "/home/natalia/Documents/github_image_analysis/image_analysis/image_analysis/fit/regionprops.py:27: RuntimeWarning: Mean of empty slice\n",
      "  img_arr_y = np.nanmean(np.nanmean(img_arr, axis=0), axis=1)\n",
      "/home/natalia/Documents/github_image_analysis/image_analysis/image_analysis/fit/regionprops.py:30: RuntimeWarning: Mean of empty slice\n",
      "  img_arr_z = np.nanmean(np.nanmean(img_arr, axis=1), axis=1)\n"
     ]
    },
    {
     "name": "stdout",
     "output_type": "stream",
     "text": [
      "Angle between ez and N_desired: 2\n",
      "20 hcr23_lb80_fr\n",
      "Angle between ez and N_desired: 6\n"
     ]
    },
    {
     "name": "stderr",
     "output_type": "stream",
     "text": [
      "/home/natalia/Documents/github_image_analysis/image_analysis/image_analysis/fit/roi.py:67: RuntimeWarning: Mean of empty slice\n",
      "  arr = np.nanmean(arr, axis=axis_n)\n",
      "/home/natalia/Documents/github_image_analysis/image_analysis/image_analysis/fit/roi.py:69: RuntimeWarning: invalid value encountered in cast\n",
      "  return arr.astype( np.uint16 )\n",
      "/home/natalia/Documents/github_image_analysis/image_analysis/image_analysis/fit/regionprops.py:37: RuntimeWarning: Mean of empty slice\n",
      "  img_arr_x = np.nanmean(img_arr, axis=0)\n",
      "/home/natalia/Documents/github_image_analysis/image_analysis/image_analysis/fit/regionprops.py:40: RuntimeWarning: Mean of empty slice\n",
      "  img_arr_y = np.nanmean(img_arr, axis=1)\n",
      "/home/natalia/Documents/github_image_analysis/image_analysis/image_analysis/fit/regionprops.py:24: RuntimeWarning: Mean of empty slice\n",
      "  img_arr_x = np.nanmean(np.nanmean(img_arr, axis=0), axis=0)\n",
      "/home/natalia/Documents/github_image_analysis/image_analysis/image_analysis/fit/regionprops.py:27: RuntimeWarning: Mean of empty slice\n",
      "  img_arr_y = np.nanmean(np.nanmean(img_arr, axis=0), axis=1)\n",
      "/home/natalia/Documents/github_image_analysis/image_analysis/image_analysis/fit/regionprops.py:30: RuntimeWarning: Mean of empty slice\n",
      "  img_arr_z = np.nanmean(np.nanmean(img_arr, axis=1), axis=1)\n",
      "/home/natalia/Documents/github_image_analysis/image_analysis/image_analysis/fit/roi.py:67: RuntimeWarning: Mean of empty slice\n",
      "  arr = np.nanmean(arr, axis=axis_n)\n",
      "/home/natalia/Documents/github_image_analysis/image_analysis/image_analysis/fit/roi.py:69: RuntimeWarning: invalid value encountered in cast\n",
      "  return arr.astype( np.uint16 )\n",
      "/home/natalia/Documents/github_image_analysis/image_analysis/image_analysis/fit/regionprops.py:37: RuntimeWarning: Mean of empty slice\n",
      "  img_arr_x = np.nanmean(img_arr, axis=0)\n",
      "/home/natalia/Documents/github_image_analysis/image_analysis/image_analysis/fit/regionprops.py:40: RuntimeWarning: Mean of empty slice\n",
      "  img_arr_y = np.nanmean(img_arr, axis=1)\n",
      "/home/natalia/Documents/github_image_analysis/image_analysis/image_analysis/fit/regionprops.py:24: RuntimeWarning: Mean of empty slice\n",
      "  img_arr_x = np.nanmean(np.nanmean(img_arr, axis=0), axis=0)\n",
      "/home/natalia/Documents/github_image_analysis/image_analysis/image_analysis/fit/regionprops.py:27: RuntimeWarning: Mean of empty slice\n",
      "  img_arr_y = np.nanmean(np.nanmean(img_arr, axis=0), axis=1)\n",
      "/home/natalia/Documents/github_image_analysis/image_analysis/image_analysis/fit/regionprops.py:30: RuntimeWarning: Mean of empty slice\n",
      "  img_arr_z = np.nanmean(np.nanmean(img_arr, axis=1), axis=1)\n"
     ]
    },
    {
     "name": "stdout",
     "output_type": "stream",
     "text": [
      "21 hcr23_lb76_fl\n",
      "Angle between ez and N_desired: -5\n",
      "22 hcr23_lb80_fl\n"
     ]
    },
    {
     "name": "stderr",
     "output_type": "stream",
     "text": [
      "/home/natalia/Documents/github_image_analysis/image_analysis/image_analysis/fit/roi.py:67: RuntimeWarning: Mean of empty slice\n",
      "  arr = np.nanmean(arr, axis=axis_n)\n",
      "/home/natalia/Documents/github_image_analysis/image_analysis/image_analysis/fit/roi.py:69: RuntimeWarning: invalid value encountered in cast\n",
      "  return arr.astype( np.uint16 )\n",
      "/home/natalia/Documents/github_image_analysis/image_analysis/image_analysis/fit/regionprops.py:37: RuntimeWarning: Mean of empty slice\n",
      "  img_arr_x = np.nanmean(img_arr, axis=0)\n",
      "/home/natalia/Documents/github_image_analysis/image_analysis/image_analysis/fit/regionprops.py:40: RuntimeWarning: Mean of empty slice\n",
      "  img_arr_y = np.nanmean(img_arr, axis=1)\n",
      "/home/natalia/Documents/github_image_analysis/image_analysis/image_analysis/fit/regionprops.py:24: RuntimeWarning: Mean of empty slice\n",
      "  img_arr_x = np.nanmean(np.nanmean(img_arr, axis=0), axis=0)\n",
      "/home/natalia/Documents/github_image_analysis/image_analysis/image_analysis/fit/regionprops.py:27: RuntimeWarning: Mean of empty slice\n",
      "  img_arr_y = np.nanmean(np.nanmean(img_arr, axis=0), axis=1)\n",
      "/home/natalia/Documents/github_image_analysis/image_analysis/image_analysis/fit/regionprops.py:30: RuntimeWarning: Mean of empty slice\n",
      "  img_arr_z = np.nanmean(np.nanmean(img_arr, axis=1), axis=1)\n"
     ]
    },
    {
     "name": "stdout",
     "output_type": "stream",
     "text": [
      "Angle between ez and N_desired: -5\n",
      "23 hcr22_2_5cm_4d_t1b\n"
     ]
    },
    {
     "name": "stderr",
     "output_type": "stream",
     "text": [
      "/home/natalia/Documents/github_image_analysis/image_analysis/image_analysis/fit/roi.py:67: RuntimeWarning: Mean of empty slice\n",
      "  arr = np.nanmean(arr, axis=axis_n)\n",
      "/home/natalia/Documents/github_image_analysis/image_analysis/image_analysis/fit/roi.py:69: RuntimeWarning: invalid value encountered in cast\n",
      "  return arr.astype( np.uint16 )\n",
      "/home/natalia/Documents/github_image_analysis/image_analysis/image_analysis/fit/regionprops.py:37: RuntimeWarning: Mean of empty slice\n",
      "  img_arr_x = np.nanmean(img_arr, axis=0)\n",
      "/home/natalia/Documents/github_image_analysis/image_analysis/image_analysis/fit/regionprops.py:40: RuntimeWarning: Mean of empty slice\n",
      "  img_arr_y = np.nanmean(img_arr, axis=1)\n",
      "/home/natalia/Documents/github_image_analysis/image_analysis/image_analysis/fit/regionprops.py:24: RuntimeWarning: Mean of empty slice\n",
      "  img_arr_x = np.nanmean(np.nanmean(img_arr, axis=0), axis=0)\n",
      "/home/natalia/Documents/github_image_analysis/image_analysis/image_analysis/fit/regionprops.py:27: RuntimeWarning: Mean of empty slice\n",
      "  img_arr_y = np.nanmean(np.nanmean(img_arr, axis=0), axis=1)\n",
      "/home/natalia/Documents/github_image_analysis/image_analysis/image_analysis/fit/regionprops.py:30: RuntimeWarning: Mean of empty slice\n",
      "  img_arr_z = np.nanmean(np.nanmean(img_arr, axis=1), axis=1)\n"
     ]
    },
    {
     "name": "stdout",
     "output_type": "stream",
     "text": [
      "Angle between ez and N_desired: -1\n"
     ]
    },
    {
     "name": "stderr",
     "output_type": "stream",
     "text": [
      "/home/natalia/Documents/github_image_analysis/image_analysis/image_analysis/fit/roi.py:67: RuntimeWarning: Mean of empty slice\n",
      "  arr = np.nanmean(arr, axis=axis_n)\n",
      "/home/natalia/Documents/github_image_analysis/image_analysis/image_analysis/fit/roi.py:69: RuntimeWarning: invalid value encountered in cast\n",
      "  return arr.astype( np.uint16 )\n",
      "/home/natalia/Documents/github_image_analysis/image_analysis/image_analysis/fit/regionprops.py:37: RuntimeWarning: Mean of empty slice\n",
      "  img_arr_x = np.nanmean(img_arr, axis=0)\n",
      "/home/natalia/Documents/github_image_analysis/image_analysis/image_analysis/fit/regionprops.py:40: RuntimeWarning: Mean of empty slice\n",
      "  img_arr_y = np.nanmean(img_arr, axis=1)\n"
     ]
    },
    {
     "name": "stdout",
     "output_type": "stream",
     "text": [
      "24 hcr22_2_5cm_4d_t1a\n"
     ]
    },
    {
     "name": "stderr",
     "output_type": "stream",
     "text": [
      "/home/natalia/Documents/github_image_analysis/image_analysis/image_analysis/fit/regionprops.py:24: RuntimeWarning: Mean of empty slice\n",
      "  img_arr_x = np.nanmean(np.nanmean(img_arr, axis=0), axis=0)\n",
      "/home/natalia/Documents/github_image_analysis/image_analysis/image_analysis/fit/regionprops.py:27: RuntimeWarning: Mean of empty slice\n",
      "  img_arr_y = np.nanmean(np.nanmean(img_arr, axis=0), axis=1)\n",
      "/home/natalia/Documents/github_image_analysis/image_analysis/image_analysis/fit/regionprops.py:30: RuntimeWarning: Mean of empty slice\n",
      "  img_arr_z = np.nanmean(np.nanmean(img_arr, axis=1), axis=1)\n"
     ]
    },
    {
     "name": "stdout",
     "output_type": "stream",
     "text": [
      "Angle between ez and N_desired: -20\n",
      "Re-running the rotation function due to insufficient alignment\n",
      "Angle between ez and N_desired: 3\n"
     ]
    },
    {
     "name": "stderr",
     "output_type": "stream",
     "text": [
      "/home/natalia/Documents/github_image_analysis/image_analysis/image_analysis/fit/roi.py:67: RuntimeWarning: Mean of empty slice\n",
      "  arr = np.nanmean(arr, axis=axis_n)\n",
      "/home/natalia/Documents/github_image_analysis/image_analysis/image_analysis/fit/roi.py:69: RuntimeWarning: invalid value encountered in cast\n",
      "  return arr.astype( np.uint16 )\n",
      "/home/natalia/Documents/github_image_analysis/image_analysis/image_analysis/fit/regionprops.py:37: RuntimeWarning: Mean of empty slice\n",
      "  img_arr_x = np.nanmean(img_arr, axis=0)\n",
      "/home/natalia/Documents/github_image_analysis/image_analysis/image_analysis/fit/regionprops.py:40: RuntimeWarning: Mean of empty slice\n",
      "  img_arr_y = np.nanmean(img_arr, axis=1)\n"
     ]
    },
    {
     "name": "stdout",
     "output_type": "stream",
     "text": [
      "25 hcr21_2_5cm_5dpa_p_hist\n"
     ]
    },
    {
     "name": "stderr",
     "output_type": "stream",
     "text": [
      "/home/natalia/Documents/github_image_analysis/image_analysis/image_analysis/fit/regionprops.py:24: RuntimeWarning: Mean of empty slice\n",
      "  img_arr_x = np.nanmean(np.nanmean(img_arr, axis=0), axis=0)\n",
      "/home/natalia/Documents/github_image_analysis/image_analysis/image_analysis/fit/regionprops.py:27: RuntimeWarning: Mean of empty slice\n",
      "  img_arr_y = np.nanmean(np.nanmean(img_arr, axis=0), axis=1)\n",
      "/home/natalia/Documents/github_image_analysis/image_analysis/image_analysis/fit/regionprops.py:30: RuntimeWarning: Mean of empty slice\n",
      "  img_arr_z = np.nanmean(np.nanmean(img_arr, axis=1), axis=1)\n"
     ]
    },
    {
     "name": "stdout",
     "output_type": "stream",
     "text": [
      "Angle between ez and N_desired: 1\n"
     ]
    },
    {
     "name": "stderr",
     "output_type": "stream",
     "text": [
      "/home/natalia/Documents/github_image_analysis/image_analysis/image_analysis/fit/roi.py:67: RuntimeWarning: Mean of empty slice\n",
      "  arr = np.nanmean(arr, axis=axis_n)\n",
      "/home/natalia/Documents/github_image_analysis/image_analysis/image_analysis/fit/roi.py:69: RuntimeWarning: invalid value encountered in cast\n",
      "  return arr.astype( np.uint16 )\n",
      "/home/natalia/Documents/github_image_analysis/image_analysis/image_analysis/fit/regionprops.py:37: RuntimeWarning: Mean of empty slice\n",
      "  img_arr_x = np.nanmean(img_arr, axis=0)\n",
      "/home/natalia/Documents/github_image_analysis/image_analysis/image_analysis/fit/regionprops.py:40: RuntimeWarning: Mean of empty slice\n",
      "  img_arr_y = np.nanmean(img_arr, axis=1)\n"
     ]
    },
    {
     "name": "stdout",
     "output_type": "stream",
     "text": [
      "26 hcr22_2_5cm_5d_t2a\n"
     ]
    },
    {
     "name": "stderr",
     "output_type": "stream",
     "text": [
      "/home/natalia/Documents/github_image_analysis/image_analysis/image_analysis/fit/regionprops.py:24: RuntimeWarning: Mean of empty slice\n",
      "  img_arr_x = np.nanmean(np.nanmean(img_arr, axis=0), axis=0)\n",
      "/home/natalia/Documents/github_image_analysis/image_analysis/image_analysis/fit/regionprops.py:27: RuntimeWarning: Mean of empty slice\n",
      "  img_arr_y = np.nanmean(np.nanmean(img_arr, axis=0), axis=1)\n",
      "/home/natalia/Documents/github_image_analysis/image_analysis/image_analysis/fit/regionprops.py:30: RuntimeWarning: Mean of empty slice\n",
      "  img_arr_z = np.nanmean(np.nanmean(img_arr, axis=1), axis=1)\n"
     ]
    },
    {
     "name": "stdout",
     "output_type": "stream",
     "text": [
      "Angle between ez and N_desired: -21\n",
      "Re-running the rotation function due to insufficient alignment\n",
      "Angle between ez and N_desired: 3\n"
     ]
    },
    {
     "name": "stderr",
     "output_type": "stream",
     "text": [
      "/home/natalia/Documents/github_image_analysis/image_analysis/image_analysis/fit/roi.py:67: RuntimeWarning: Mean of empty slice\n",
      "  arr = np.nanmean(arr, axis=axis_n)\n",
      "/home/natalia/Documents/github_image_analysis/image_analysis/image_analysis/fit/roi.py:69: RuntimeWarning: invalid value encountered in cast\n",
      "  return arr.astype( np.uint16 )\n",
      "/home/natalia/Documents/github_image_analysis/image_analysis/image_analysis/fit/regionprops.py:37: RuntimeWarning: Mean of empty slice\n",
      "  img_arr_x = np.nanmean(img_arr, axis=0)\n",
      "/home/natalia/Documents/github_image_analysis/image_analysis/image_analysis/fit/regionprops.py:40: RuntimeWarning: Mean of empty slice\n",
      "  img_arr_y = np.nanmean(img_arr, axis=1)\n"
     ]
    },
    {
     "name": "stdout",
     "output_type": "stream",
     "text": [
      "27 hcr21_2_5cm_6dpa_noif\n"
     ]
    },
    {
     "name": "stderr",
     "output_type": "stream",
     "text": [
      "/home/natalia/Documents/github_image_analysis/image_analysis/image_analysis/fit/regionprops.py:24: RuntimeWarning: Mean of empty slice\n",
      "  img_arr_x = np.nanmean(np.nanmean(img_arr, axis=0), axis=0)\n",
      "/home/natalia/Documents/github_image_analysis/image_analysis/image_analysis/fit/regionprops.py:27: RuntimeWarning: Mean of empty slice\n",
      "  img_arr_y = np.nanmean(np.nanmean(img_arr, axis=0), axis=1)\n",
      "/home/natalia/Documents/github_image_analysis/image_analysis/image_analysis/fit/regionprops.py:30: RuntimeWarning: Mean of empty slice\n",
      "  img_arr_z = np.nanmean(np.nanmean(img_arr, axis=1), axis=1)\n"
     ]
    },
    {
     "name": "stdout",
     "output_type": "stream",
     "text": [
      "Angle between ez and N_desired: 0\n"
     ]
    },
    {
     "name": "stderr",
     "output_type": "stream",
     "text": [
      "/home/natalia/Documents/github_image_analysis/image_analysis/image_analysis/fit/roi.py:67: RuntimeWarning: Mean of empty slice\n",
      "  arr = np.nanmean(arr, axis=axis_n)\n",
      "/home/natalia/Documents/github_image_analysis/image_analysis/image_analysis/fit/roi.py:69: RuntimeWarning: invalid value encountered in cast\n",
      "  return arr.astype( np.uint16 )\n",
      "/home/natalia/Documents/github_image_analysis/image_analysis/image_analysis/fit/regionprops.py:37: RuntimeWarning: Mean of empty slice\n",
      "  img_arr_x = np.nanmean(img_arr, axis=0)\n",
      "/home/natalia/Documents/github_image_analysis/image_analysis/image_analysis/fit/regionprops.py:40: RuntimeWarning: Mean of empty slice\n",
      "  img_arr_y = np.nanmean(img_arr, axis=1)\n"
     ]
    },
    {
     "name": "stdout",
     "output_type": "stream",
     "text": [
      "28 hcr21_2_5cm_6dpa_p_hist\n"
     ]
    },
    {
     "name": "stderr",
     "output_type": "stream",
     "text": [
      "/home/natalia/Documents/github_image_analysis/image_analysis/image_analysis/fit/regionprops.py:24: RuntimeWarning: Mean of empty slice\n",
      "  img_arr_x = np.nanmean(np.nanmean(img_arr, axis=0), axis=0)\n",
      "/home/natalia/Documents/github_image_analysis/image_analysis/image_analysis/fit/regionprops.py:27: RuntimeWarning: Mean of empty slice\n",
      "  img_arr_y = np.nanmean(np.nanmean(img_arr, axis=0), axis=1)\n",
      "/home/natalia/Documents/github_image_analysis/image_analysis/image_analysis/fit/regionprops.py:30: RuntimeWarning: Mean of empty slice\n",
      "  img_arr_z = np.nanmean(np.nanmean(img_arr, axis=1), axis=1)\n"
     ]
    },
    {
     "name": "stdout",
     "output_type": "stream",
     "text": [
      "Angle between ez and N_desired: -2\n"
     ]
    },
    {
     "name": "stderr",
     "output_type": "stream",
     "text": [
      "/home/natalia/Documents/github_image_analysis/image_analysis/image_analysis/fit/roi.py:67: RuntimeWarning: Mean of empty slice\n",
      "  arr = np.nanmean(arr, axis=axis_n)\n",
      "/home/natalia/Documents/github_image_analysis/image_analysis/image_analysis/fit/roi.py:69: RuntimeWarning: invalid value encountered in cast\n",
      "  return arr.astype( np.uint16 )\n",
      "/home/natalia/Documents/github_image_analysis/image_analysis/image_analysis/fit/regionprops.py:37: RuntimeWarning: Mean of empty slice\n",
      "  img_arr_x = np.nanmean(img_arr, axis=0)\n",
      "/home/natalia/Documents/github_image_analysis/image_analysis/image_analysis/fit/regionprops.py:40: RuntimeWarning: Mean of empty slice\n",
      "  img_arr_y = np.nanmean(img_arr, axis=1)\n"
     ]
    },
    {
     "name": "stdout",
     "output_type": "stream",
     "text": [
      "29 hcr21_2_5cm_7dpa_noif\n"
     ]
    },
    {
     "name": "stderr",
     "output_type": "stream",
     "text": [
      "/home/natalia/Documents/github_image_analysis/image_analysis/image_analysis/fit/regionprops.py:24: RuntimeWarning: Mean of empty slice\n",
      "  img_arr_x = np.nanmean(np.nanmean(img_arr, axis=0), axis=0)\n",
      "/home/natalia/Documents/github_image_analysis/image_analysis/image_analysis/fit/regionprops.py:27: RuntimeWarning: Mean of empty slice\n",
      "  img_arr_y = np.nanmean(np.nanmean(img_arr, axis=0), axis=1)\n",
      "/home/natalia/Documents/github_image_analysis/image_analysis/image_analysis/fit/regionprops.py:30: RuntimeWarning: Mean of empty slice\n",
      "  img_arr_z = np.nanmean(np.nanmean(img_arr, axis=1), axis=1)\n"
     ]
    },
    {
     "name": "stdout",
     "output_type": "stream",
     "text": [
      "Angle between ez and N_desired: 11\n"
     ]
    },
    {
     "name": "stderr",
     "output_type": "stream",
     "text": [
      "/home/natalia/Documents/github_image_analysis/image_analysis/image_analysis/fit/roi.py:67: RuntimeWarning: Mean of empty slice\n",
      "  arr = np.nanmean(arr, axis=axis_n)\n",
      "/home/natalia/Documents/github_image_analysis/image_analysis/image_analysis/fit/roi.py:69: RuntimeWarning: invalid value encountered in cast\n",
      "  return arr.astype( np.uint16 )\n",
      "/home/natalia/Documents/github_image_analysis/image_analysis/image_analysis/fit/regionprops.py:37: RuntimeWarning: Mean of empty slice\n",
      "  img_arr_x = np.nanmean(img_arr, axis=0)\n",
      "/home/natalia/Documents/github_image_analysis/image_analysis/image_analysis/fit/regionprops.py:40: RuntimeWarning: Mean of empty slice\n",
      "  img_arr_y = np.nanmean(img_arr, axis=1)\n"
     ]
    },
    {
     "name": "stdout",
     "output_type": "stream",
     "text": [
      "30 hcr23_5cm_an14070_6d_fl\n"
     ]
    },
    {
     "name": "stderr",
     "output_type": "stream",
     "text": [
      "/home/natalia/Documents/github_image_analysis/image_analysis/image_analysis/fit/regionprops.py:24: RuntimeWarning: Mean of empty slice\n",
      "  img_arr_x = np.nanmean(np.nanmean(img_arr, axis=0), axis=0)\n",
      "/home/natalia/Documents/github_image_analysis/image_analysis/image_analysis/fit/regionprops.py:27: RuntimeWarning: Mean of empty slice\n",
      "  img_arr_y = np.nanmean(np.nanmean(img_arr, axis=0), axis=1)\n",
      "/home/natalia/Documents/github_image_analysis/image_analysis/image_analysis/fit/regionprops.py:30: RuntimeWarning: Mean of empty slice\n",
      "  img_arr_z = np.nanmean(np.nanmean(img_arr, axis=1), axis=1)\n"
     ]
    },
    {
     "name": "stdout",
     "output_type": "stream",
     "text": [
      "Angle between ez and N_desired: 11\n"
     ]
    },
    {
     "name": "stderr",
     "output_type": "stream",
     "text": [
      "/home/natalia/Documents/github_image_analysis/image_analysis/image_analysis/fit/roi.py:67: RuntimeWarning: Mean of empty slice\n",
      "  arr = np.nanmean(arr, axis=axis_n)\n",
      "/home/natalia/Documents/github_image_analysis/image_analysis/image_analysis/fit/roi.py:69: RuntimeWarning: invalid value encountered in cast\n",
      "  return arr.astype( np.uint16 )\n",
      "/home/natalia/Documents/github_image_analysis/image_analysis/image_analysis/fit/regionprops.py:37: RuntimeWarning: Mean of empty slice\n",
      "  img_arr_x = np.nanmean(img_arr, axis=0)\n",
      "/home/natalia/Documents/github_image_analysis/image_analysis/image_analysis/fit/regionprops.py:40: RuntimeWarning: Mean of empty slice\n",
      "  img_arr_y = np.nanmean(img_arr, axis=1)\n"
     ]
    },
    {
     "name": "stdout",
     "output_type": "stream",
     "text": [
      "31 hcr23_5cm_an14066_6d_fr\n"
     ]
    },
    {
     "name": "stderr",
     "output_type": "stream",
     "text": [
      "/home/natalia/Documents/github_image_analysis/image_analysis/image_analysis/fit/regionprops.py:24: RuntimeWarning: Mean of empty slice\n",
      "  img_arr_x = np.nanmean(np.nanmean(img_arr, axis=0), axis=0)\n",
      "/home/natalia/Documents/github_image_analysis/image_analysis/image_analysis/fit/regionprops.py:27: RuntimeWarning: Mean of empty slice\n",
      "  img_arr_y = np.nanmean(np.nanmean(img_arr, axis=0), axis=1)\n",
      "/home/natalia/Documents/github_image_analysis/image_analysis/image_analysis/fit/regionprops.py:30: RuntimeWarning: Mean of empty slice\n",
      "  img_arr_z = np.nanmean(np.nanmean(img_arr, axis=1), axis=1)\n"
     ]
    },
    {
     "name": "stdout",
     "output_type": "stream",
     "text": [
      "Angle between ez and N_desired: 0\n"
     ]
    },
    {
     "name": "stderr",
     "output_type": "stream",
     "text": [
      "/home/natalia/Documents/github_image_analysis/image_analysis/image_analysis/fit/roi.py:67: RuntimeWarning: Mean of empty slice\n",
      "  arr = np.nanmean(arr, axis=axis_n)\n",
      "/home/natalia/Documents/github_image_analysis/image_analysis/image_analysis/fit/roi.py:69: RuntimeWarning: invalid value encountered in cast\n",
      "  return arr.astype( np.uint16 )\n",
      "/home/natalia/Documents/github_image_analysis/image_analysis/image_analysis/fit/regionprops.py:37: RuntimeWarning: Mean of empty slice\n",
      "  img_arr_x = np.nanmean(img_arr, axis=0)\n",
      "/home/natalia/Documents/github_image_analysis/image_analysis/image_analysis/fit/regionprops.py:40: RuntimeWarning: Mean of empty slice\n",
      "  img_arr_y = np.nanmean(img_arr, axis=1)\n"
     ]
    },
    {
     "name": "stdout",
     "output_type": "stream",
     "text": [
      "32 hcr23_5cm_an14072_7d_fl\n"
     ]
    },
    {
     "name": "stderr",
     "output_type": "stream",
     "text": [
      "/home/natalia/Documents/github_image_analysis/image_analysis/image_analysis/fit/regionprops.py:24: RuntimeWarning: Mean of empty slice\n",
      "  img_arr_x = np.nanmean(np.nanmean(img_arr, axis=0), axis=0)\n",
      "/home/natalia/Documents/github_image_analysis/image_analysis/image_analysis/fit/regionprops.py:27: RuntimeWarning: Mean of empty slice\n",
      "  img_arr_y = np.nanmean(np.nanmean(img_arr, axis=0), axis=1)\n",
      "/home/natalia/Documents/github_image_analysis/image_analysis/image_analysis/fit/regionprops.py:30: RuntimeWarning: Mean of empty slice\n",
      "  img_arr_z = np.nanmean(np.nanmean(img_arr, axis=1), axis=1)\n"
     ]
    },
    {
     "name": "stdout",
     "output_type": "stream",
     "text": [
      "Angle between ez and N_desired: 2\n"
     ]
    },
    {
     "name": "stderr",
     "output_type": "stream",
     "text": [
      "/home/natalia/Documents/github_image_analysis/image_analysis/image_analysis/fit/roi.py:67: RuntimeWarning: Mean of empty slice\n",
      "  arr = np.nanmean(arr, axis=axis_n)\n",
      "/home/natalia/Documents/github_image_analysis/image_analysis/image_analysis/fit/roi.py:69: RuntimeWarning: invalid value encountered in cast\n",
      "  return arr.astype( np.uint16 )\n",
      "/home/natalia/Documents/github_image_analysis/image_analysis/image_analysis/fit/regionprops.py:37: RuntimeWarning: Mean of empty slice\n",
      "  img_arr_x = np.nanmean(img_arr, axis=0)\n",
      "/home/natalia/Documents/github_image_analysis/image_analysis/image_analysis/fit/regionprops.py:40: RuntimeWarning: Mean of empty slice\n",
      "  img_arr_y = np.nanmean(img_arr, axis=1)\n"
     ]
    },
    {
     "name": "stdout",
     "output_type": "stream",
     "text": [
      "33 hcr11_5cmbl_8d\n"
     ]
    },
    {
     "name": "stderr",
     "output_type": "stream",
     "text": [
      "/home/natalia/Documents/github_image_analysis/image_analysis/image_analysis/fit/regionprops.py:24: RuntimeWarning: Mean of empty slice\n",
      "  img_arr_x = np.nanmean(np.nanmean(img_arr, axis=0), axis=0)\n",
      "/home/natalia/Documents/github_image_analysis/image_analysis/image_analysis/fit/regionprops.py:27: RuntimeWarning: Mean of empty slice\n",
      "  img_arr_y = np.nanmean(np.nanmean(img_arr, axis=0), axis=1)\n",
      "/home/natalia/Documents/github_image_analysis/image_analysis/image_analysis/fit/regionprops.py:30: RuntimeWarning: Mean of empty slice\n",
      "  img_arr_z = np.nanmean(np.nanmean(img_arr, axis=1), axis=1)\n"
     ]
    },
    {
     "name": "stdout",
     "output_type": "stream",
     "text": [
      "Angle between ez and N_desired: -42\n",
      "Re-running the rotation function due to insufficient alignment\n",
      "Angle between ez and N_desired: 2\n"
     ]
    },
    {
     "name": "stderr",
     "output_type": "stream",
     "text": [
      "/home/natalia/Documents/github_image_analysis/image_analysis/image_analysis/fit/roi.py:67: RuntimeWarning: Mean of empty slice\n",
      "  arr = np.nanmean(arr, axis=axis_n)\n",
      "/home/natalia/Documents/github_image_analysis/image_analysis/image_analysis/fit/roi.py:69: RuntimeWarning: invalid value encountered in cast\n",
      "  return arr.astype( np.uint16 )\n",
      "/home/natalia/Documents/github_image_analysis/image_analysis/image_analysis/fit/regionprops.py:37: RuntimeWarning: Mean of empty slice\n",
      "  img_arr_x = np.nanmean(img_arr, axis=0)\n",
      "/home/natalia/Documents/github_image_analysis/image_analysis/image_analysis/fit/regionprops.py:40: RuntimeWarning: Mean of empty slice\n",
      "  img_arr_y = np.nanmean(img_arr, axis=1)\n"
     ]
    },
    {
     "name": "stdout",
     "output_type": "stream",
     "text": [
      "34 hcr21_5cm_8dpa_p_hist\n"
     ]
    },
    {
     "name": "stderr",
     "output_type": "stream",
     "text": [
      "/home/natalia/Documents/github_image_analysis/image_analysis/image_analysis/fit/regionprops.py:24: RuntimeWarning: Mean of empty slice\n",
      "  img_arr_x = np.nanmean(np.nanmean(img_arr, axis=0), axis=0)\n",
      "/home/natalia/Documents/github_image_analysis/image_analysis/image_analysis/fit/regionprops.py:27: RuntimeWarning: Mean of empty slice\n",
      "  img_arr_y = np.nanmean(np.nanmean(img_arr, axis=0), axis=1)\n",
      "/home/natalia/Documents/github_image_analysis/image_analysis/image_analysis/fit/regionprops.py:30: RuntimeWarning: Mean of empty slice\n",
      "  img_arr_z = np.nanmean(np.nanmean(img_arr, axis=1), axis=1)\n"
     ]
    },
    {
     "name": "stdout",
     "output_type": "stream",
     "text": [
      "Angle between ez and N_desired: 3\n"
     ]
    },
    {
     "name": "stderr",
     "output_type": "stream",
     "text": [
      "/home/natalia/Documents/github_image_analysis/image_analysis/image_analysis/fit/roi.py:67: RuntimeWarning: Mean of empty slice\n",
      "  arr = np.nanmean(arr, axis=axis_n)\n",
      "/home/natalia/Documents/github_image_analysis/image_analysis/image_analysis/fit/roi.py:69: RuntimeWarning: invalid value encountered in cast\n",
      "  return arr.astype( np.uint16 )\n",
      "/home/natalia/Documents/github_image_analysis/image_analysis/image_analysis/fit/regionprops.py:37: RuntimeWarning: Mean of empty slice\n",
      "  img_arr_x = np.nanmean(img_arr, axis=0)\n",
      "/home/natalia/Documents/github_image_analysis/image_analysis/image_analysis/fit/regionprops.py:40: RuntimeWarning: Mean of empty slice\n",
      "  img_arr_y = np.nanmean(img_arr, axis=1)\n"
     ]
    },
    {
     "name": "stdout",
     "output_type": "stream",
     "text": [
      "35 hcr22_5cm_8d_t4b\n"
     ]
    },
    {
     "name": "stderr",
     "output_type": "stream",
     "text": [
      "/home/natalia/Documents/github_image_analysis/image_analysis/image_analysis/fit/regionprops.py:24: RuntimeWarning: Mean of empty slice\n",
      "  img_arr_x = np.nanmean(np.nanmean(img_arr, axis=0), axis=0)\n",
      "/home/natalia/Documents/github_image_analysis/image_analysis/image_analysis/fit/regionprops.py:27: RuntimeWarning: Mean of empty slice\n",
      "  img_arr_y = np.nanmean(np.nanmean(img_arr, axis=0), axis=1)\n",
      "/home/natalia/Documents/github_image_analysis/image_analysis/image_analysis/fit/regionprops.py:30: RuntimeWarning: Mean of empty slice\n",
      "  img_arr_z = np.nanmean(np.nanmean(img_arr, axis=1), axis=1)\n"
     ]
    },
    {
     "name": "stdout",
     "output_type": "stream",
     "text": [
      "Angle between ez and N_desired: -7\n"
     ]
    },
    {
     "name": "stderr",
     "output_type": "stream",
     "text": [
      "/home/natalia/Documents/github_image_analysis/image_analysis/image_analysis/fit/roi.py:67: RuntimeWarning: Mean of empty slice\n",
      "  arr = np.nanmean(arr, axis=axis_n)\n",
      "/home/natalia/Documents/github_image_analysis/image_analysis/image_analysis/fit/roi.py:69: RuntimeWarning: invalid value encountered in cast\n",
      "  return arr.astype( np.uint16 )\n",
      "/home/natalia/Documents/github_image_analysis/image_analysis/image_analysis/fit/regionprops.py:37: RuntimeWarning: Mean of empty slice\n",
      "  img_arr_x = np.nanmean(img_arr, axis=0)\n",
      "/home/natalia/Documents/github_image_analysis/image_analysis/image_analysis/fit/regionprops.py:40: RuntimeWarning: Mean of empty slice\n",
      "  img_arr_y = np.nanmean(img_arr, axis=1)\n"
     ]
    },
    {
     "name": "stdout",
     "output_type": "stream",
     "text": [
      "36 hcr22_5cm_8d_t4a\n"
     ]
    },
    {
     "name": "stderr",
     "output_type": "stream",
     "text": [
      "/home/natalia/Documents/github_image_analysis/image_analysis/image_analysis/fit/regionprops.py:24: RuntimeWarning: Mean of empty slice\n",
      "  img_arr_x = np.nanmean(np.nanmean(img_arr, axis=0), axis=0)\n",
      "/home/natalia/Documents/github_image_analysis/image_analysis/image_analysis/fit/regionprops.py:27: RuntimeWarning: Mean of empty slice\n",
      "  img_arr_y = np.nanmean(np.nanmean(img_arr, axis=0), axis=1)\n",
      "/home/natalia/Documents/github_image_analysis/image_analysis/image_analysis/fit/regionprops.py:30: RuntimeWarning: Mean of empty slice\n",
      "  img_arr_z = np.nanmean(np.nanmean(img_arr, axis=1), axis=1)\n"
     ]
    },
    {
     "name": "stdout",
     "output_type": "stream",
     "text": [
      "Angle between ez and N_desired: 1\n"
     ]
    },
    {
     "name": "stderr",
     "output_type": "stream",
     "text": [
      "/home/natalia/Documents/github_image_analysis/image_analysis/image_analysis/fit/roi.py:67: RuntimeWarning: Mean of empty slice\n",
      "  arr = np.nanmean(arr, axis=axis_n)\n",
      "/home/natalia/Documents/github_image_analysis/image_analysis/image_analysis/fit/roi.py:69: RuntimeWarning: invalid value encountered in cast\n",
      "  return arr.astype( np.uint16 )\n",
      "/home/natalia/Documents/github_image_analysis/image_analysis/image_analysis/fit/regionprops.py:37: RuntimeWarning: Mean of empty slice\n",
      "  img_arr_x = np.nanmean(img_arr, axis=0)\n",
      "/home/natalia/Documents/github_image_analysis/image_analysis/image_analysis/fit/regionprops.py:40: RuntimeWarning: Mean of empty slice\n",
      "  img_arr_y = np.nanmean(img_arr, axis=1)\n"
     ]
    },
    {
     "name": "stdout",
     "output_type": "stream",
     "text": [
      "37 hcr21_5cm_9dpa_noif\n"
     ]
    },
    {
     "name": "stderr",
     "output_type": "stream",
     "text": [
      "/home/natalia/Documents/github_image_analysis/image_analysis/image_analysis/fit/regionprops.py:24: RuntimeWarning: Mean of empty slice\n",
      "  img_arr_x = np.nanmean(np.nanmean(img_arr, axis=0), axis=0)\n",
      "/home/natalia/Documents/github_image_analysis/image_analysis/image_analysis/fit/regionprops.py:27: RuntimeWarning: Mean of empty slice\n",
      "  img_arr_y = np.nanmean(np.nanmean(img_arr, axis=0), axis=1)\n",
      "/home/natalia/Documents/github_image_analysis/image_analysis/image_analysis/fit/regionprops.py:30: RuntimeWarning: Mean of empty slice\n",
      "  img_arr_z = np.nanmean(np.nanmean(img_arr, axis=1), axis=1)\n"
     ]
    },
    {
     "name": "stdout",
     "output_type": "stream",
     "text": [
      "Angle between ez and N_desired: -2\n"
     ]
    },
    {
     "name": "stderr",
     "output_type": "stream",
     "text": [
      "/home/natalia/Documents/github_image_analysis/image_analysis/image_analysis/fit/roi.py:67: RuntimeWarning: Mean of empty slice\n",
      "  arr = np.nanmean(arr, axis=axis_n)\n",
      "/home/natalia/Documents/github_image_analysis/image_analysis/image_analysis/fit/roi.py:69: RuntimeWarning: invalid value encountered in cast\n",
      "  return arr.astype( np.uint16 )\n",
      "/home/natalia/Documents/github_image_analysis/image_analysis/image_analysis/fit/regionprops.py:37: RuntimeWarning: Mean of empty slice\n",
      "  img_arr_x = np.nanmean(img_arr, axis=0)\n",
      "/home/natalia/Documents/github_image_analysis/image_analysis/image_analysis/fit/regionprops.py:40: RuntimeWarning: Mean of empty slice\n",
      "  img_arr_y = np.nanmean(img_arr, axis=1)\n"
     ]
    },
    {
     "name": "stdout",
     "output_type": "stream",
     "text": [
      "38 hcr11_5cmbl_10d\n"
     ]
    },
    {
     "name": "stderr",
     "output_type": "stream",
     "text": [
      "/home/natalia/Documents/github_image_analysis/image_analysis/image_analysis/fit/regionprops.py:24: RuntimeWarning: Mean of empty slice\n",
      "  img_arr_x = np.nanmean(np.nanmean(img_arr, axis=0), axis=0)\n",
      "/home/natalia/Documents/github_image_analysis/image_analysis/image_analysis/fit/regionprops.py:27: RuntimeWarning: Mean of empty slice\n",
      "  img_arr_y = np.nanmean(np.nanmean(img_arr, axis=0), axis=1)\n",
      "/home/natalia/Documents/github_image_analysis/image_analysis/image_analysis/fit/regionprops.py:30: RuntimeWarning: Mean of empty slice\n",
      "  img_arr_z = np.nanmean(np.nanmean(img_arr, axis=1), axis=1)\n"
     ]
    },
    {
     "name": "stdout",
     "output_type": "stream",
     "text": [
      "Angle between ez and N_desired: 1\n"
     ]
    },
    {
     "name": "stderr",
     "output_type": "stream",
     "text": [
      "/home/natalia/Documents/github_image_analysis/image_analysis/image_analysis/fit/roi.py:67: RuntimeWarning: Mean of empty slice\n",
      "  arr = np.nanmean(arr, axis=axis_n)\n",
      "/home/natalia/Documents/github_image_analysis/image_analysis/image_analysis/fit/roi.py:69: RuntimeWarning: invalid value encountered in cast\n",
      "  return arr.astype( np.uint16 )\n",
      "/home/natalia/Documents/github_image_analysis/image_analysis/image_analysis/fit/regionprops.py:37: RuntimeWarning: Mean of empty slice\n",
      "  img_arr_x = np.nanmean(img_arr, axis=0)\n",
      "/home/natalia/Documents/github_image_analysis/image_analysis/image_analysis/fit/regionprops.py:40: RuntimeWarning: Mean of empty slice\n",
      "  img_arr_y = np.nanmean(img_arr, axis=1)\n"
     ]
    },
    {
     "name": "stdout",
     "output_type": "stream",
     "text": [
      "39 hcr21_5cm_10dpa_noif\n"
     ]
    },
    {
     "name": "stderr",
     "output_type": "stream",
     "text": [
      "/home/natalia/Documents/github_image_analysis/image_analysis/image_analysis/fit/regionprops.py:24: RuntimeWarning: Mean of empty slice\n",
      "  img_arr_x = np.nanmean(np.nanmean(img_arr, axis=0), axis=0)\n",
      "/home/natalia/Documents/github_image_analysis/image_analysis/image_analysis/fit/regionprops.py:27: RuntimeWarning: Mean of empty slice\n",
      "  img_arr_y = np.nanmean(np.nanmean(img_arr, axis=0), axis=1)\n",
      "/home/natalia/Documents/github_image_analysis/image_analysis/image_analysis/fit/regionprops.py:30: RuntimeWarning: Mean of empty slice\n",
      "  img_arr_z = np.nanmean(np.nanmean(img_arr, axis=1), axis=1)\n"
     ]
    },
    {
     "name": "stdout",
     "output_type": "stream",
     "text": [
      "Angle between ez and N_desired: 0\n"
     ]
    },
    {
     "name": "stderr",
     "output_type": "stream",
     "text": [
      "/home/natalia/Documents/github_image_analysis/image_analysis/image_analysis/fit/roi.py:67: RuntimeWarning: Mean of empty slice\n",
      "  arr = np.nanmean(arr, axis=axis_n)\n",
      "/home/natalia/Documents/github_image_analysis/image_analysis/image_analysis/fit/roi.py:69: RuntimeWarning: invalid value encountered in cast\n",
      "  return arr.astype( np.uint16 )\n",
      "/home/natalia/Documents/github_image_analysis/image_analysis/image_analysis/fit/regionprops.py:37: RuntimeWarning: Mean of empty slice\n",
      "  img_arr_x = np.nanmean(img_arr, axis=0)\n",
      "/home/natalia/Documents/github_image_analysis/image_analysis/image_analysis/fit/regionprops.py:40: RuntimeWarning: Mean of empty slice\n",
      "  img_arr_y = np.nanmean(img_arr, axis=1)\n"
     ]
    },
    {
     "name": "stdout",
     "output_type": "stream",
     "text": [
      "40 hcr22_5cm_10d_t1a\n"
     ]
    },
    {
     "name": "stderr",
     "output_type": "stream",
     "text": [
      "/home/natalia/Documents/github_image_analysis/image_analysis/image_analysis/fit/regionprops.py:24: RuntimeWarning: Mean of empty slice\n",
      "  img_arr_x = np.nanmean(np.nanmean(img_arr, axis=0), axis=0)\n",
      "/home/natalia/Documents/github_image_analysis/image_analysis/image_analysis/fit/regionprops.py:27: RuntimeWarning: Mean of empty slice\n",
      "  img_arr_y = np.nanmean(np.nanmean(img_arr, axis=0), axis=1)\n",
      "/home/natalia/Documents/github_image_analysis/image_analysis/image_analysis/fit/regionprops.py:30: RuntimeWarning: Mean of empty slice\n",
      "  img_arr_z = np.nanmean(np.nanmean(img_arr, axis=1), axis=1)\n"
     ]
    },
    {
     "name": "stdout",
     "output_type": "stream",
     "text": [
      "Angle between ez and N_desired: -1\n"
     ]
    },
    {
     "name": "stderr",
     "output_type": "stream",
     "text": [
      "/home/natalia/Documents/github_image_analysis/image_analysis/image_analysis/fit/roi.py:67: RuntimeWarning: Mean of empty slice\n",
      "  arr = np.nanmean(arr, axis=axis_n)\n",
      "/home/natalia/Documents/github_image_analysis/image_analysis/image_analysis/fit/roi.py:69: RuntimeWarning: invalid value encountered in cast\n",
      "  return arr.astype( np.uint16 )\n",
      "/home/natalia/Documents/github_image_analysis/image_analysis/image_analysis/fit/regionprops.py:37: RuntimeWarning: Mean of empty slice\n",
      "  img_arr_x = np.nanmean(img_arr, axis=0)\n",
      "/home/natalia/Documents/github_image_analysis/image_analysis/image_analysis/fit/regionprops.py:40: RuntimeWarning: Mean of empty slice\n",
      "  img_arr_y = np.nanmean(img_arr, axis=1)\n"
     ]
    },
    {
     "name": "stdout",
     "output_type": "stream",
     "text": [
      "41 hcr17_7cm_8dpa_hoechst\n"
     ]
    },
    {
     "name": "stderr",
     "output_type": "stream",
     "text": [
      "/home/natalia/Documents/github_image_analysis/image_analysis/image_analysis/fit/regionprops.py:24: RuntimeWarning: Mean of empty slice\n",
      "  img_arr_x = np.nanmean(np.nanmean(img_arr, axis=0), axis=0)\n",
      "/home/natalia/Documents/github_image_analysis/image_analysis/image_analysis/fit/regionprops.py:27: RuntimeWarning: Mean of empty slice\n",
      "  img_arr_y = np.nanmean(np.nanmean(img_arr, axis=0), axis=1)\n",
      "/home/natalia/Documents/github_image_analysis/image_analysis/image_analysis/fit/regionprops.py:30: RuntimeWarning: Mean of empty slice\n",
      "  img_arr_z = np.nanmean(np.nanmean(img_arr, axis=1), axis=1)\n"
     ]
    },
    {
     "name": "stdout",
     "output_type": "stream",
     "text": [
      "Angle between ez and N_desired: -2\n"
     ]
    },
    {
     "name": "stderr",
     "output_type": "stream",
     "text": [
      "/home/natalia/Documents/github_image_analysis/image_analysis/image_analysis/fit/roi.py:67: RuntimeWarning: Mean of empty slice\n",
      "  arr = np.nanmean(arr, axis=axis_n)\n",
      "/home/natalia/Documents/github_image_analysis/image_analysis/image_analysis/fit/roi.py:69: RuntimeWarning: invalid value encountered in cast\n",
      "  return arr.astype( np.uint16 )\n",
      "/home/natalia/Documents/github_image_analysis/image_analysis/image_analysis/fit/regionprops.py:37: RuntimeWarning: Mean of empty slice\n",
      "  img_arr_x = np.nanmean(img_arr, axis=0)\n",
      "/home/natalia/Documents/github_image_analysis/image_analysis/image_analysis/fit/regionprops.py:40: RuntimeWarning: Mean of empty slice\n",
      "  img_arr_y = np.nanmean(img_arr, axis=1)\n"
     ]
    },
    {
     "name": "stdout",
     "output_type": "stream",
     "text": [
      "42 hcr17_7cm_8dpa_dapi\n"
     ]
    },
    {
     "name": "stderr",
     "output_type": "stream",
     "text": [
      "/home/natalia/Documents/github_image_analysis/image_analysis/image_analysis/fit/regionprops.py:24: RuntimeWarning: Mean of empty slice\n",
      "  img_arr_x = np.nanmean(np.nanmean(img_arr, axis=0), axis=0)\n",
      "/home/natalia/Documents/github_image_analysis/image_analysis/image_analysis/fit/regionprops.py:27: RuntimeWarning: Mean of empty slice\n",
      "  img_arr_y = np.nanmean(np.nanmean(img_arr, axis=0), axis=1)\n",
      "/home/natalia/Documents/github_image_analysis/image_analysis/image_analysis/fit/regionprops.py:30: RuntimeWarning: Mean of empty slice\n",
      "  img_arr_z = np.nanmean(np.nanmean(img_arr, axis=1), axis=1)\n"
     ]
    },
    {
     "name": "stdout",
     "output_type": "stream",
     "text": [
      "Angle between ez and N_desired: 2\n"
     ]
    },
    {
     "name": "stderr",
     "output_type": "stream",
     "text": [
      "/home/natalia/Documents/github_image_analysis/image_analysis/image_analysis/fit/roi.py:67: RuntimeWarning: Mean of empty slice\n",
      "  arr = np.nanmean(arr, axis=axis_n)\n",
      "/home/natalia/Documents/github_image_analysis/image_analysis/image_analysis/fit/roi.py:69: RuntimeWarning: invalid value encountered in cast\n",
      "  return arr.astype( np.uint16 )\n",
      "/home/natalia/Documents/github_image_analysis/image_analysis/image_analysis/fit/regionprops.py:37: RuntimeWarning: Mean of empty slice\n",
      "  img_arr_x = np.nanmean(img_arr, axis=0)\n",
      "/home/natalia/Documents/github_image_analysis/image_analysis/image_analysis/fit/regionprops.py:40: RuntimeWarning: Mean of empty slice\n",
      "  img_arr_y = np.nanmean(img_arr, axis=1)\n"
     ]
    },
    {
     "name": "stdout",
     "output_type": "stream",
     "text": [
      "43 hcr17_7cm_9dpa_hoechst\n"
     ]
    },
    {
     "name": "stderr",
     "output_type": "stream",
     "text": [
      "/home/natalia/Documents/github_image_analysis/image_analysis/image_analysis/fit/regionprops.py:24: RuntimeWarning: Mean of empty slice\n",
      "  img_arr_x = np.nanmean(np.nanmean(img_arr, axis=0), axis=0)\n",
      "/home/natalia/Documents/github_image_analysis/image_analysis/image_analysis/fit/regionprops.py:27: RuntimeWarning: Mean of empty slice\n",
      "  img_arr_y = np.nanmean(np.nanmean(img_arr, axis=0), axis=1)\n",
      "/home/natalia/Documents/github_image_analysis/image_analysis/image_analysis/fit/regionprops.py:30: RuntimeWarning: Mean of empty slice\n",
      "  img_arr_z = np.nanmean(np.nanmean(img_arr, axis=1), axis=1)\n"
     ]
    },
    {
     "name": "stdout",
     "output_type": "stream",
     "text": [
      "Angle between ez and N_desired: -3\n"
     ]
    },
    {
     "name": "stderr",
     "output_type": "stream",
     "text": [
      "/home/natalia/Documents/github_image_analysis/image_analysis/image_analysis/fit/roi.py:67: RuntimeWarning: Mean of empty slice\n",
      "  arr = np.nanmean(arr, axis=axis_n)\n",
      "/home/natalia/Documents/github_image_analysis/image_analysis/image_analysis/fit/roi.py:69: RuntimeWarning: invalid value encountered in cast\n",
      "  return arr.astype( np.uint16 )\n",
      "/home/natalia/Documents/github_image_analysis/image_analysis/image_analysis/fit/regionprops.py:37: RuntimeWarning: Mean of empty slice\n",
      "  img_arr_x = np.nanmean(img_arr, axis=0)\n",
      "/home/natalia/Documents/github_image_analysis/image_analysis/image_analysis/fit/regionprops.py:40: RuntimeWarning: Mean of empty slice\n",
      "  img_arr_y = np.nanmean(img_arr, axis=1)\n"
     ]
    },
    {
     "name": "stdout",
     "output_type": "stream",
     "text": [
      "44 hcr17_7cm_9dpa_dapi\n"
     ]
    },
    {
     "name": "stderr",
     "output_type": "stream",
     "text": [
      "/home/natalia/Documents/github_image_analysis/image_analysis/image_analysis/fit/regionprops.py:24: RuntimeWarning: Mean of empty slice\n",
      "  img_arr_x = np.nanmean(np.nanmean(img_arr, axis=0), axis=0)\n",
      "/home/natalia/Documents/github_image_analysis/image_analysis/image_analysis/fit/regionprops.py:27: RuntimeWarning: Mean of empty slice\n",
      "  img_arr_y = np.nanmean(np.nanmean(img_arr, axis=0), axis=1)\n",
      "/home/natalia/Documents/github_image_analysis/image_analysis/image_analysis/fit/regionprops.py:30: RuntimeWarning: Mean of empty slice\n",
      "  img_arr_z = np.nanmean(np.nanmean(img_arr, axis=1), axis=1)\n"
     ]
    },
    {
     "name": "stdout",
     "output_type": "stream",
     "text": [
      "Angle between ez and N_desired: 3\n"
     ]
    },
    {
     "name": "stderr",
     "output_type": "stream",
     "text": [
      "/home/natalia/Documents/github_image_analysis/image_analysis/image_analysis/fit/roi.py:67: RuntimeWarning: Mean of empty slice\n",
      "  arr = np.nanmean(arr, axis=axis_n)\n",
      "/home/natalia/Documents/github_image_analysis/image_analysis/image_analysis/fit/roi.py:69: RuntimeWarning: invalid value encountered in cast\n",
      "  return arr.astype( np.uint16 )\n",
      "/home/natalia/Documents/github_image_analysis/image_analysis/image_analysis/fit/regionprops.py:37: RuntimeWarning: Mean of empty slice\n",
      "  img_arr_x = np.nanmean(img_arr, axis=0)\n",
      "/home/natalia/Documents/github_image_analysis/image_analysis/image_analysis/fit/regionprops.py:40: RuntimeWarning: Mean of empty slice\n",
      "  img_arr_y = np.nanmean(img_arr, axis=1)\n"
     ]
    },
    {
     "name": "stdout",
     "output_type": "stream",
     "text": [
      "45 hcr21_7cm_10dpa_noif_17\n"
     ]
    },
    {
     "name": "stderr",
     "output_type": "stream",
     "text": [
      "/home/natalia/Documents/github_image_analysis/image_analysis/image_analysis/fit/regionprops.py:24: RuntimeWarning: Mean of empty slice\n",
      "  img_arr_x = np.nanmean(np.nanmean(img_arr, axis=0), axis=0)\n",
      "/home/natalia/Documents/github_image_analysis/image_analysis/image_analysis/fit/regionprops.py:27: RuntimeWarning: Mean of empty slice\n",
      "  img_arr_y = np.nanmean(np.nanmean(img_arr, axis=0), axis=1)\n",
      "/home/natalia/Documents/github_image_analysis/image_analysis/image_analysis/fit/regionprops.py:30: RuntimeWarning: Mean of empty slice\n",
      "  img_arr_z = np.nanmean(np.nanmean(img_arr, axis=1), axis=1)\n"
     ]
    },
    {
     "name": "stdout",
     "output_type": "stream",
     "text": [
      "Angle between ez and N_desired: -1\n"
     ]
    },
    {
     "name": "stderr",
     "output_type": "stream",
     "text": [
      "/home/natalia/Documents/github_image_analysis/image_analysis/image_analysis/fit/roi.py:67: RuntimeWarning: Mean of empty slice\n",
      "  arr = np.nanmean(arr, axis=axis_n)\n",
      "/home/natalia/Documents/github_image_analysis/image_analysis/image_analysis/fit/roi.py:69: RuntimeWarning: invalid value encountered in cast\n",
      "  return arr.astype( np.uint16 )\n",
      "/home/natalia/Documents/github_image_analysis/image_analysis/image_analysis/fit/regionprops.py:37: RuntimeWarning: Mean of empty slice\n",
      "  img_arr_x = np.nanmean(img_arr, axis=0)\n",
      "/home/natalia/Documents/github_image_analysis/image_analysis/image_analysis/fit/regionprops.py:40: RuntimeWarning: Mean of empty slice\n",
      "  img_arr_y = np.nanmean(img_arr, axis=1)\n"
     ]
    },
    {
     "name": "stdout",
     "output_type": "stream",
     "text": [
      "46 hcr21_7cm_10dpa_noif_16\n"
     ]
    },
    {
     "name": "stderr",
     "output_type": "stream",
     "text": [
      "/home/natalia/Documents/github_image_analysis/image_analysis/image_analysis/fit/regionprops.py:24: RuntimeWarning: Mean of empty slice\n",
      "  img_arr_x = np.nanmean(np.nanmean(img_arr, axis=0), axis=0)\n",
      "/home/natalia/Documents/github_image_analysis/image_analysis/image_analysis/fit/regionprops.py:27: RuntimeWarning: Mean of empty slice\n",
      "  img_arr_y = np.nanmean(np.nanmean(img_arr, axis=0), axis=1)\n",
      "/home/natalia/Documents/github_image_analysis/image_analysis/image_analysis/fit/regionprops.py:30: RuntimeWarning: Mean of empty slice\n",
      "  img_arr_z = np.nanmean(np.nanmean(img_arr, axis=1), axis=1)\n"
     ]
    },
    {
     "name": "stdout",
     "output_type": "stream",
     "text": [
      "Angle between ez and N_desired: 10\n"
     ]
    },
    {
     "name": "stderr",
     "output_type": "stream",
     "text": [
      "/home/natalia/Documents/github_image_analysis/image_analysis/image_analysis/fit/roi.py:67: RuntimeWarning: Mean of empty slice\n",
      "  arr = np.nanmean(arr, axis=axis_n)\n",
      "/home/natalia/Documents/github_image_analysis/image_analysis/image_analysis/fit/roi.py:69: RuntimeWarning: invalid value encountered in cast\n",
      "  return arr.astype( np.uint16 )\n",
      "/home/natalia/Documents/github_image_analysis/image_analysis/image_analysis/fit/regionprops.py:37: RuntimeWarning: Mean of empty slice\n",
      "  img_arr_x = np.nanmean(img_arr, axis=0)\n",
      "/home/natalia/Documents/github_image_analysis/image_analysis/image_analysis/fit/regionprops.py:40: RuntimeWarning: Mean of empty slice\n",
      "  img_arr_y = np.nanmean(img_arr, axis=1)\n"
     ]
    },
    {
     "name": "stdout",
     "output_type": "stream",
     "text": [
      "47 hcr22_7cm_10d_t3a\n"
     ]
    },
    {
     "name": "stderr",
     "output_type": "stream",
     "text": [
      "/home/natalia/Documents/github_image_analysis/image_analysis/image_analysis/fit/regionprops.py:24: RuntimeWarning: Mean of empty slice\n",
      "  img_arr_x = np.nanmean(np.nanmean(img_arr, axis=0), axis=0)\n",
      "/home/natalia/Documents/github_image_analysis/image_analysis/image_analysis/fit/regionprops.py:27: RuntimeWarning: Mean of empty slice\n",
      "  img_arr_y = np.nanmean(np.nanmean(img_arr, axis=0), axis=1)\n",
      "/home/natalia/Documents/github_image_analysis/image_analysis/image_analysis/fit/regionprops.py:30: RuntimeWarning: Mean of empty slice\n",
      "  img_arr_z = np.nanmean(np.nanmean(img_arr, axis=1), axis=1)\n"
     ]
    },
    {
     "name": "stdout",
     "output_type": "stream",
     "text": [
      "Angle between ez and N_desired: 1\n"
     ]
    },
    {
     "name": "stderr",
     "output_type": "stream",
     "text": [
      "/home/natalia/Documents/github_image_analysis/image_analysis/image_analysis/fit/roi.py:67: RuntimeWarning: Mean of empty slice\n",
      "  arr = np.nanmean(arr, axis=axis_n)\n",
      "/home/natalia/Documents/github_image_analysis/image_analysis/image_analysis/fit/roi.py:69: RuntimeWarning: invalid value encountered in cast\n",
      "  return arr.astype( np.uint16 )\n",
      "/home/natalia/Documents/github_image_analysis/image_analysis/image_analysis/fit/regionprops.py:37: RuntimeWarning: Mean of empty slice\n",
      "  img_arr_x = np.nanmean(img_arr, axis=0)\n",
      "/home/natalia/Documents/github_image_analysis/image_analysis/image_analysis/fit/regionprops.py:40: RuntimeWarning: Mean of empty slice\n",
      "  img_arr_y = np.nanmean(img_arr, axis=1)\n"
     ]
    },
    {
     "name": "stdout",
     "output_type": "stream",
     "text": [
      "48 hcr21_7cm_12dpa_noif\n"
     ]
    },
    {
     "name": "stderr",
     "output_type": "stream",
     "text": [
      "/home/natalia/Documents/github_image_analysis/image_analysis/image_analysis/fit/regionprops.py:24: RuntimeWarning: Mean of empty slice\n",
      "  img_arr_x = np.nanmean(np.nanmean(img_arr, axis=0), axis=0)\n",
      "/home/natalia/Documents/github_image_analysis/image_analysis/image_analysis/fit/regionprops.py:27: RuntimeWarning: Mean of empty slice\n",
      "  img_arr_y = np.nanmean(np.nanmean(img_arr, axis=0), axis=1)\n",
      "/home/natalia/Documents/github_image_analysis/image_analysis/image_analysis/fit/regionprops.py:30: RuntimeWarning: Mean of empty slice\n",
      "  img_arr_z = np.nanmean(np.nanmean(img_arr, axis=1), axis=1)\n"
     ]
    },
    {
     "name": "stdout",
     "output_type": "stream",
     "text": [
      "Angle between ez and N_desired: 0\n"
     ]
    },
    {
     "name": "stderr",
     "output_type": "stream",
     "text": [
      "/home/natalia/Documents/github_image_analysis/image_analysis/image_analysis/fit/roi.py:67: RuntimeWarning: Mean of empty slice\n",
      "  arr = np.nanmean(arr, axis=axis_n)\n",
      "/home/natalia/Documents/github_image_analysis/image_analysis/image_analysis/fit/roi.py:69: RuntimeWarning: invalid value encountered in cast\n",
      "  return arr.astype( np.uint16 )\n",
      "/home/natalia/Documents/github_image_analysis/image_analysis/image_analysis/fit/regionprops.py:37: RuntimeWarning: Mean of empty slice\n",
      "  img_arr_x = np.nanmean(img_arr, axis=0)\n",
      "/home/natalia/Documents/github_image_analysis/image_analysis/image_analysis/fit/regionprops.py:40: RuntimeWarning: Mean of empty slice\n",
      "  img_arr_y = np.nanmean(img_arr, axis=1)\n"
     ]
    }
   ],
   "source": [
    "for i, file_name in enumerate( df['Sample name'].values):\n",
    "\n",
    "    print(i, file_name)\n",
    "    \n",
    "    file = os.path.join( folder_pretreated, file_name) + '.npy'\n",
    "    \n",
    "    keys = np.load( file.split('.npy')[0] + '_keys.npy' )\n",
    "    image = dict(zip(\n",
    "        keys,\n",
    "        np.load( file )\n",
    "    ))\n",
    "\n",
    "    for pc in [50]:\n",
    "\n",
    "        if (f'shh{pc}_clip' in keys) and (f'fgf{pc}_clip' in keys):\n",
    "            \n",
    "            image_to_rotate = dict(zip(\n",
    "                ['shh_mask', 'fgf_mask', 'tissue_mask_with_epi'],\n",
    "                [ (image[f'shh{pc}_clip'] > 0).astype(int), (image[f'fgf{pc}_clip']>0).astype(int), image['tissue_mask_with_epi'] ]\n",
    "            ))\n",
    "            \n",
    "            image_to_rotate['shh_mask'] = mask.largest_component( image_to_rotate['shh_mask'] )\n",
    "            image_to_rotate['fgf_mask'] = mask.few_largest_components( image_to_rotate['fgf_mask'], 2 )\n",
    "             \n",
    "            regionprops_3d = regionprops.regionprops_3d(image_to_rotate, 1, 1, 1, pixel_size)\n",
    "            regionprops_3d.center_mass(['shh_mask', 'fgf_mask'])\n",
    "            regionprops_3d.tensor_inertia('tissue_mask_with_epi')\n",
    "            \n",
    "            if file_name not in ['hcr21_lb68_fr']:\n",
    "                image_to_rotate = regionprops_3d.rotate_N_desired_to_ez()\n",
    "            else:\n",
    "                image_to_rotate = regionprops_3d.rotate_N_desired_to_ez_special()\n",
    "            \n",
    "            # projection\n",
    "            for key in image_to_rotate.keys():\n",
    "                image_to_rotate[key] = roi.mean_nonzero( image_to_rotate[key], 0)\n",
    "                if 'mask' in key:\n",
    "                    image_to_rotate[key] = (image_to_rotate[key] > 0) * 1\n",
    "\n",
    "            # SF to be horisontal\n",
    "            S = regionprops.center_mass(image_to_rotate['shh_mask'])\n",
    "            F = regionprops.center_mass(image_to_rotate['fgf_mask'])\n",
    "            \n",
    "            SF   = F - S\n",
    "            \n",
    "            rot_x = 0\n",
    "            rot_y = 0\n",
    "            rot_z = roi.angle_between_2d(\n",
    "                    SF, \n",
    "                    ex_2d\n",
    "                )      \n",
    "            \n",
    "            image_to_rotate = roi.rotate(image_to_rotate, rot_x, rot_y, rot_z)\n",
    "\n",
    "            S = regionprops.center_mass(image_to_rotate['shh_mask'])\n",
    "\n",
    "            L = np.sum( \n",
    "                mask.largest_component( image_to_rotate['tissue_mask_with_epi'][S[0], :]  )\n",
    "            ) * pixel_size\n",
    "            L_SF  = np.abs( S[1] - F[1] ) * pixel_size\n",
    "            \n",
    "            ymin = np.nonzero( mask.largest_component(image_to_rotate['tissue_mask_with_epi'][S[0], :]) )[0][0]\n",
    "            ymax = np.nonzero( mask.largest_component(image_to_rotate['tissue_mask_with_epi'][S[0], :]) )[0][-1]            \n",
    "            \n",
    "            x0_S = min( (S[1] - ymin) * pixel_size, (ymax - S[1]) * pixel_size )\n",
    "            x0_F = min( (F[1] - ymin) * pixel_size, (ymax - F[1]) * pixel_size )\n",
    "\n",
    "            df.loc[df['Sample name'] == file_name, f'system_size_L_along_SF_from_proj_pc{pc}_um']  = L\n",
    "            df.loc[df['Sample name'] == file_name, f'length_L_SF_pc{pc}_um']             = L_SF\n",
    "            df.loc[df['Sample name'] == file_name, f'x0_pc{pc}_um_shh']                  = x0_S\n",
    "            df.loc[df['Sample name'] == file_name, f'x0_pc{pc}_um_fgf']                  = x0_F\n",
    "            \n",
    "            df.loc[df['Sample name'] == file_name, f'PD_length_{pc}_um']                 = ( image_to_rotate['tissue_mask_with_epi'].shape[0] - S[0]) * pixel_size\n",
    "\n",
    "            \n",
    "df.to_excel(\"results/system_size_L_and_gaps_x0_from_proj.xlsx\", index=False)"
   ]
  },
  {
   "cell_type": "code",
   "execution_count": null,
   "id": "e8565417-8214-46c0-aa26-750d03b94965",
   "metadata": {},
   "outputs": [],
   "source": []
  },
  {
   "cell_type": "code",
   "execution_count": null,
   "id": "1d7841e7-b742-4da4-8975-b05af74d8370",
   "metadata": {},
   "outputs": [],
   "source": []
  },
  {
   "cell_type": "code",
   "execution_count": null,
   "id": "6c816c0a-7f10-4358-b9e3-c336e2bd008b",
   "metadata": {},
   "outputs": [],
   "source": []
  }
 ],
 "metadata": {
  "celltoolbar": "Hide code",
  "kernelspec": {
   "display_name": "Python 3 (ipykernel)",
   "language": "python",
   "name": "python3"
  },
  "language_info": {
   "codemirror_mode": {
    "name": "ipython",
    "version": 3
   },
   "file_extension": ".py",
   "mimetype": "text/x-python",
   "name": "python",
   "nbconvert_exporter": "python",
   "pygments_lexer": "ipython3",
   "version": "3.9.19"
  },
  "toc-showmarkdowntxt": false
 },
 "nbformat": 4,
 "nbformat_minor": 5
}
