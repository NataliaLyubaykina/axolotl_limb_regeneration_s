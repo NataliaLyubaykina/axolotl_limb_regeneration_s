{
 "cells": [
  {
   "cell_type": "code",
   "execution_count": 1,
   "id": "3e231dd7-d95d-4d78-bedf-a5b275111c2a",
   "metadata": {},
   "outputs": [],
   "source": [
    "%load_ext autoreload\n",
    "%autoreload 2"
   ]
  },
  {
   "cell_type": "code",
   "execution_count": 2,
   "id": "e993eec9-c892-4c11-a1ad-7430e734be3f",
   "metadata": {},
   "outputs": [],
   "source": [
    "import numpy as np\n",
    "import os\n",
    "import re\n",
    "import pandas as pd\n",
    "import matplotlib.pylab as plt\n",
    "\n",
    "from image_analysis.read_files import get_paths, change_paths\n",
    "from image_analysis.fit import plot, roi, regionprops\n",
    "from image_analysis.preprocess import mask\n",
    "\n",
    "from tqdm import tqdm"
   ]
  },
  {
   "cell_type": "code",
   "execution_count": 3,
   "id": "96ef274a-7206-4299-aa16-f1a1255f4831",
   "metadata": {},
   "outputs": [],
   "source": [
    "pixel_size = 2"
   ]
  },
  {
   "cell_type": "code",
   "execution_count": 4,
   "id": "bfeb5766-eec3-4c08-9eee-e5fb5ff0c854",
   "metadata": {},
   "outputs": [],
   "source": [
    "folder_pretreated = r'/home/natalia/Documents/github_image_analysis/experimental_data/treatment_all/'\n",
    "df = pd.read_excel(\"../filtering_image/preview/description_of_all_images_exclude_not_nice_segm.xlsx\")"
   ]
  },
  {
   "cell_type": "code",
   "execution_count": 5,
   "id": "cea1812a-97db-4023-94dd-a0466e14997e",
   "metadata": {},
   "outputs": [],
   "source": [
    "# Remove rows where the 'exclude' column is 'yes'\n",
    "df = df[df['exclude'] != 'yes']\n",
    "\n",
    "df = df.drop(columns=['exclude'])\n",
    "df = df.drop(columns=['comment'])\n",
    "df = df.dropna(subset=['time'])\n",
    "df['time'] = df['time'].astype(int)\n",
    "\n",
    "# Reset the index\n",
    "df.reset_index(drop=True, inplace=True)"
   ]
  },
  {
   "cell_type": "code",
   "execution_count": 6,
   "id": "93314377-56c7-4b37-8126-af6253e958c8",
   "metadata": {},
   "outputs": [
    {
     "data": {
      "text/html": [
       "<div>\n",
       "<style scoped>\n",
       "    .dataframe tbody tr th:only-of-type {\n",
       "        vertical-align: middle;\n",
       "    }\n",
       "\n",
       "    .dataframe tbody tr th {\n",
       "        vertical-align: top;\n",
       "    }\n",
       "\n",
       "    .dataframe thead th {\n",
       "        text-align: right;\n",
       "    }\n",
       "</style>\n",
       "<table border=\"1\" class=\"dataframe\">\n",
       "  <thead>\n",
       "    <tr style=\"text-align: right;\">\n",
       "      <th></th>\n",
       "      <th>pretreated_file_name</th>\n",
       "      <th>hcr</th>\n",
       "      <th>animal_size</th>\n",
       "      <th>time</th>\n",
       "      <th>shh_segm</th>\n",
       "      <th>fgf_segm</th>\n",
       "      <th>dusp_segm</th>\n",
       "    </tr>\n",
       "  </thead>\n",
       "  <tbody>\n",
       "    <tr>\n",
       "      <th>0</th>\n",
       "      <td>hcr11_lb27_fl</td>\n",
       "      <td>11</td>\n",
       "      <td>1.5</td>\n",
       "      <td>1</td>\n",
       "      <td>yes</td>\n",
       "      <td>yes</td>\n",
       "      <td>yes</td>\n",
       "    </tr>\n",
       "    <tr>\n",
       "      <th>1</th>\n",
       "      <td>hcr11_lb28_fl</td>\n",
       "      <td>11</td>\n",
       "      <td>1.5</td>\n",
       "      <td>1</td>\n",
       "      <td>yes</td>\n",
       "      <td>yes</td>\n",
       "      <td>yes</td>\n",
       "    </tr>\n",
       "    <tr>\n",
       "      <th>2</th>\n",
       "      <td>hcr11_lb28_fr</td>\n",
       "      <td>11</td>\n",
       "      <td>1.5</td>\n",
       "      <td>1</td>\n",
       "      <td>yes</td>\n",
       "      <td>yes</td>\n",
       "      <td>yes</td>\n",
       "    </tr>\n",
       "    <tr>\n",
       "      <th>3</th>\n",
       "      <td>hcr15_lb41_fl</td>\n",
       "      <td>15</td>\n",
       "      <td>1.5</td>\n",
       "      <td>1</td>\n",
       "      <td>yes</td>\n",
       "      <td>yes</td>\n",
       "      <td>yes</td>\n",
       "    </tr>\n",
       "    <tr>\n",
       "      <th>4</th>\n",
       "      <td>hcr16_lb44_fl</td>\n",
       "      <td>16</td>\n",
       "      <td>1.5</td>\n",
       "      <td>1</td>\n",
       "      <td>yes</td>\n",
       "      <td>yes</td>\n",
       "      <td>yes</td>\n",
       "    </tr>\n",
       "    <tr>\n",
       "      <th>...</th>\n",
       "      <td>...</td>\n",
       "      <td>...</td>\n",
       "      <td>...</td>\n",
       "      <td>...</td>\n",
       "      <td>...</td>\n",
       "      <td>...</td>\n",
       "      <td>...</td>\n",
       "    </tr>\n",
       "    <tr>\n",
       "      <th>58</th>\n",
       "      <td>hcr17_7cm_9dpa_dapi</td>\n",
       "      <td>17</td>\n",
       "      <td>7.0</td>\n",
       "      <td>9</td>\n",
       "      <td>yes</td>\n",
       "      <td>yes</td>\n",
       "      <td>yes</td>\n",
       "    </tr>\n",
       "    <tr>\n",
       "      <th>59</th>\n",
       "      <td>hcr21_7cm_10dpa_noif_17</td>\n",
       "      <td>21</td>\n",
       "      <td>7.0</td>\n",
       "      <td>10</td>\n",
       "      <td>yes</td>\n",
       "      <td>yes</td>\n",
       "      <td>yes</td>\n",
       "    </tr>\n",
       "    <tr>\n",
       "      <th>60</th>\n",
       "      <td>hcr21_7cm_10dpa_noif_16</td>\n",
       "      <td>21</td>\n",
       "      <td>7.0</td>\n",
       "      <td>10</td>\n",
       "      <td>yes</td>\n",
       "      <td>yes</td>\n",
       "      <td>no</td>\n",
       "    </tr>\n",
       "    <tr>\n",
       "      <th>61</th>\n",
       "      <td>hcr22_7cm_10d_t3a</td>\n",
       "      <td>22</td>\n",
       "      <td>7.0</td>\n",
       "      <td>10</td>\n",
       "      <td>yes</td>\n",
       "      <td>yes</td>\n",
       "      <td>yes</td>\n",
       "    </tr>\n",
       "    <tr>\n",
       "      <th>62</th>\n",
       "      <td>hcr21_7cm_12dpa_noif</td>\n",
       "      <td>21</td>\n",
       "      <td>7.0</td>\n",
       "      <td>12</td>\n",
       "      <td>yes</td>\n",
       "      <td>yes</td>\n",
       "      <td>yes</td>\n",
       "    </tr>\n",
       "  </tbody>\n",
       "</table>\n",
       "<p>63 rows × 7 columns</p>\n",
       "</div>"
      ],
      "text/plain": [
       "       pretreated_file_name  hcr  animal_size  time shh_segm fgf_segm  \\\n",
       "0             hcr11_lb27_fl   11          1.5     1      yes      yes   \n",
       "1             hcr11_lb28_fl   11          1.5     1      yes      yes   \n",
       "2             hcr11_lb28_fr   11          1.5     1      yes      yes   \n",
       "3             hcr15_lb41_fl   15          1.5     1      yes      yes   \n",
       "4             hcr16_lb44_fl   16          1.5     1      yes      yes   \n",
       "..                      ...  ...          ...   ...      ...      ...   \n",
       "58      hcr17_7cm_9dpa_dapi   17          7.0     9      yes      yes   \n",
       "59  hcr21_7cm_10dpa_noif_17   21          7.0    10      yes      yes   \n",
       "60  hcr21_7cm_10dpa_noif_16   21          7.0    10      yes      yes   \n",
       "61        hcr22_7cm_10d_t3a   22          7.0    10      yes      yes   \n",
       "62     hcr21_7cm_12dpa_noif   21          7.0    12      yes      yes   \n",
       "\n",
       "   dusp_segm  \n",
       "0        yes  \n",
       "1        yes  \n",
       "2        yes  \n",
       "3        yes  \n",
       "4        yes  \n",
       "..       ...  \n",
       "58       yes  \n",
       "59       yes  \n",
       "60        no  \n",
       "61       yes  \n",
       "62       yes  \n",
       "\n",
       "[63 rows x 7 columns]"
      ]
     },
     "execution_count": 6,
     "metadata": {},
     "output_type": "execute_result"
    }
   ],
   "source": [
    "df"
   ]
  },
  {
   "cell_type": "code",
   "execution_count": 7,
   "id": "a289a307-4d77-4790-ad62-03768de7dc30",
   "metadata": {},
   "outputs": [],
   "source": [
    "for pc in [40, 50, 60, 70, 80]:\n",
    "\n",
    "    df[f'system_size_L_along_SF_pc{pc}_um']  = pd.NA\n",
    "    df[f'length_L_SF_pc{pc}_um']  = pd.NA\n",
    "    \n",
    "    df[f'x0_pc{pc}_um_shh']  = pd.NA\n",
    "    df[f'x0_pc{pc}_um_fgf'] = pd.NA"
   ]
  },
  {
   "cell_type": "code",
   "execution_count": 8,
   "id": "2b26c26c-01b3-40d0-89da-6da6e5a8a8b5",
   "metadata": {},
   "outputs": [
    {
     "name": "stderr",
     "output_type": "stream",
     "text": [
      "0it [00:00, ?it/s]/home/natalia/Documents/github_image_analysis/image_analysis/image_analysis/fit/regionprops.py:25: RuntimeWarning: Mean of empty slice\n",
      "  img_arr_x = np.nanmean(np.nanmean(img_arr, axis=0), axis=0)\n",
      "/home/natalia/Documents/github_image_analysis/image_analysis/image_analysis/fit/regionprops.py:28: RuntimeWarning: Mean of empty slice\n",
      "  img_arr_y = np.nanmean(np.nanmean(img_arr, axis=0), axis=1)\n",
      "/home/natalia/Documents/github_image_analysis/image_analysis/image_analysis/fit/regionprops.py:31: RuntimeWarning: Mean of empty slice\n",
      "  img_arr_z = np.nanmean(np.nanmean(img_arr, axis=1), axis=1)\n"
     ]
    },
    {
     "name": "stdout",
     "output_type": "stream",
     "text": [
      "rotation around x:\n",
      "-66.8014094863518 0 0\n",
      "dictionary, with 3d data\n",
      "dictionary, with 3d data\n"
     ]
    },
    {
     "name": "stderr",
     "output_type": "stream",
     "text": [
      "/home/natalia/Documents/github_image_analysis/image_analysis/image_analysis/fit/regionprops.py:25: RuntimeWarning: Mean of empty slice\n",
      "  img_arr_x = np.nanmean(np.nanmean(img_arr, axis=0), axis=0)\n",
      "/home/natalia/Documents/github_image_analysis/image_analysis/image_analysis/fit/regionprops.py:28: RuntimeWarning: Mean of empty slice\n",
      "  img_arr_y = np.nanmean(np.nanmean(img_arr, axis=0), axis=1)\n",
      "/home/natalia/Documents/github_image_analysis/image_analysis/image_analysis/fit/regionprops.py:31: RuntimeWarning: Mean of empty slice\n",
      "  img_arr_z = np.nanmean(np.nanmean(img_arr, axis=1), axis=1)\n"
     ]
    },
    {
     "name": "stdout",
     "output_type": "stream",
     "text": [
      "rotation around y:\n",
      "0 0 54.04177572930654\n",
      "dictionary, with 3d data\n",
      "dictionary, with 3d data\n",
      "angle beetween ey and sf: 3\n"
     ]
    },
    {
     "name": "stderr",
     "output_type": "stream",
     "text": [
      "/home/natalia/Documents/github_image_analysis/image_analysis/image_analysis/fit/regionprops.py:25: RuntimeWarning: Mean of empty slice\n",
      "  img_arr_x = np.nanmean(np.nanmean(img_arr, axis=0), axis=0)\n",
      "/home/natalia/Documents/github_image_analysis/image_analysis/image_analysis/fit/regionprops.py:28: RuntimeWarning: Mean of empty slice\n",
      "  img_arr_y = np.nanmean(np.nanmean(img_arr, axis=0), axis=1)\n",
      "/home/natalia/Documents/github_image_analysis/image_analysis/image_analysis/fit/regionprops.py:31: RuntimeWarning: Mean of empty slice\n",
      "  img_arr_z = np.nanmean(np.nanmean(img_arr, axis=1), axis=1)\n"
     ]
    },
    {
     "name": "stdout",
     "output_type": "stream",
     "text": [
      "rotation around x:\n",
      "-65.05609473657542 0 0\n",
      "dictionary, with 3d data\n",
      "dictionary, with 3d data\n",
      "rotation around y:\n",
      "0 0 53.40891173260071\n",
      "dictionary, with 3d data\n",
      "dictionary, with 3d data\n",
      "angle beetween ey and sf: -1\n"
     ]
    },
    {
     "name": "stderr",
     "output_type": "stream",
     "text": [
      "/home/natalia/Documents/github_image_analysis/image_analysis/image_analysis/fit/regionprops.py:25: RuntimeWarning: Mean of empty slice\n",
      "  img_arr_x = np.nanmean(np.nanmean(img_arr, axis=0), axis=0)\n",
      "/home/natalia/Documents/github_image_analysis/image_analysis/image_analysis/fit/regionprops.py:28: RuntimeWarning: Mean of empty slice\n",
      "  img_arr_y = np.nanmean(np.nanmean(img_arr, axis=0), axis=1)\n",
      "/home/natalia/Documents/github_image_analysis/image_analysis/image_analysis/fit/regionprops.py:31: RuntimeWarning: Mean of empty slice\n",
      "  img_arr_z = np.nanmean(np.nanmean(img_arr, axis=1), axis=1)\n"
     ]
    },
    {
     "name": "stdout",
     "output_type": "stream",
     "text": [
      "rotation around x:\n",
      "-58.4652080948117 0 0\n",
      "dictionary, with 3d data\n",
      "dictionary, with 3d data\n",
      "rotation around y:\n",
      "0 0 52.2613035197446\n",
      "dictionary, with 3d data\n",
      "dictionary, with 3d data\n",
      "angle beetween ey and sf: 3\n"
     ]
    },
    {
     "name": "stderr",
     "output_type": "stream",
     "text": [
      "/home/natalia/Documents/github_image_analysis/image_analysis/image_analysis/fit/regionprops.py:25: RuntimeWarning: Mean of empty slice\n",
      "  img_arr_x = np.nanmean(np.nanmean(img_arr, axis=0), axis=0)\n",
      "/home/natalia/Documents/github_image_analysis/image_analysis/image_analysis/fit/regionprops.py:28: RuntimeWarning: Mean of empty slice\n",
      "  img_arr_y = np.nanmean(np.nanmean(img_arr, axis=0), axis=1)\n",
      "/home/natalia/Documents/github_image_analysis/image_analysis/image_analysis/fit/regionprops.py:31: RuntimeWarning: Mean of empty slice\n",
      "  img_arr_z = np.nanmean(np.nanmean(img_arr, axis=1), axis=1)\n"
     ]
    },
    {
     "name": "stdout",
     "output_type": "stream",
     "text": [
      "rotation around x:\n",
      "-58.32453126189081 0 0\n",
      "dictionary, with 3d data\n",
      "dictionary, with 3d data\n",
      "rotation around y:\n",
      "0 0 50.630093463458365\n",
      "dictionary, with 3d data\n",
      "dictionary, with 3d data\n",
      "angle beetween ey and sf: -1\n"
     ]
    },
    {
     "name": "stderr",
     "output_type": "stream",
     "text": [
      "/home/natalia/Documents/github_image_analysis/image_analysis/image_analysis/fit/regionprops.py:25: RuntimeWarning: Mean of empty slice\n",
      "  img_arr_x = np.nanmean(np.nanmean(img_arr, axis=0), axis=0)\n",
      "/home/natalia/Documents/github_image_analysis/image_analysis/image_analysis/fit/regionprops.py:28: RuntimeWarning: Mean of empty slice\n",
      "  img_arr_y = np.nanmean(np.nanmean(img_arr, axis=0), axis=1)\n",
      "/home/natalia/Documents/github_image_analysis/image_analysis/image_analysis/fit/regionprops.py:31: RuntimeWarning: Mean of empty slice\n",
      "  img_arr_z = np.nanmean(np.nanmean(img_arr, axis=1), axis=1)\n"
     ]
    },
    {
     "name": "stdout",
     "output_type": "stream",
     "text": [
      "rotation around x:\n",
      "-62.447188423282185 0 0\n",
      "dictionary, with 3d data\n",
      "dictionary, with 3d data\n",
      "rotation around y:\n",
      "0 0 53.156837162642255\n",
      "dictionary, with 3d data\n",
      "dictionary, with 3d data\n",
      "angle beetween ey and sf: -2\n"
     ]
    },
    {
     "name": "stderr",
     "output_type": "stream",
     "text": [
      "1it [00:10, 10.42s/it]/home/natalia/Documents/github_image_analysis/image_analysis/image_analysis/fit/regionprops.py:25: RuntimeWarning: Mean of empty slice\n",
      "  img_arr_x = np.nanmean(np.nanmean(img_arr, axis=0), axis=0)\n",
      "/home/natalia/Documents/github_image_analysis/image_analysis/image_analysis/fit/regionprops.py:28: RuntimeWarning: Mean of empty slice\n",
      "  img_arr_y = np.nanmean(np.nanmean(img_arr, axis=0), axis=1)\n",
      "/home/natalia/Documents/github_image_analysis/image_analysis/image_analysis/fit/regionprops.py:31: RuntimeWarning: Mean of empty slice\n",
      "  img_arr_z = np.nanmean(np.nanmean(img_arr, axis=1), axis=1)\n"
     ]
    },
    {
     "name": "stdout",
     "output_type": "stream",
     "text": [
      "rotation around x:\n",
      "79.11447294534125 0 0\n",
      "dictionary, with 3d data\n",
      "dictionary, with 3d data\n",
      "rotation around y:\n",
      "0 0 68.8678370790185\n",
      "dictionary, with 3d data\n",
      "dictionary, with 3d data\n",
      "angle beetween ey and sf: -4\n"
     ]
    },
    {
     "name": "stderr",
     "output_type": "stream",
     "text": [
      "/home/natalia/Documents/github_image_analysis/image_analysis/image_analysis/fit/regionprops.py:25: RuntimeWarning: Mean of empty slice\n",
      "  img_arr_x = np.nanmean(np.nanmean(img_arr, axis=0), axis=0)\n",
      "/home/natalia/Documents/github_image_analysis/image_analysis/image_analysis/fit/regionprops.py:28: RuntimeWarning: Mean of empty slice\n",
      "  img_arr_y = np.nanmean(np.nanmean(img_arr, axis=0), axis=1)\n",
      "/home/natalia/Documents/github_image_analysis/image_analysis/image_analysis/fit/regionprops.py:31: RuntimeWarning: Mean of empty slice\n",
      "  img_arr_z = np.nanmean(np.nanmean(img_arr, axis=1), axis=1)\n"
     ]
    },
    {
     "name": "stdout",
     "output_type": "stream",
     "text": [
      "rotation around x:\n",
      "-87.95459151111277 0 0\n",
      "dictionary, with 3d data\n",
      "dictionary, with 3d data\n",
      "rotation around y:\n",
      "0 0 -67.31944039297508\n",
      "dictionary, with 3d data\n",
      "dictionary, with 3d data\n",
      "angle beetween ey and sf: 2\n"
     ]
    },
    {
     "name": "stderr",
     "output_type": "stream",
     "text": [
      "/home/natalia/Documents/github_image_analysis/image_analysis/image_analysis/fit/regionprops.py:25: RuntimeWarning: Mean of empty slice\n",
      "  img_arr_x = np.nanmean(np.nanmean(img_arr, axis=0), axis=0)\n",
      "/home/natalia/Documents/github_image_analysis/image_analysis/image_analysis/fit/regionprops.py:28: RuntimeWarning: Mean of empty slice\n",
      "  img_arr_y = np.nanmean(np.nanmean(img_arr, axis=0), axis=1)\n",
      "/home/natalia/Documents/github_image_analysis/image_analysis/image_analysis/fit/regionprops.py:31: RuntimeWarning: Mean of empty slice\n",
      "  img_arr_z = np.nanmean(np.nanmean(img_arr, axis=1), axis=1)\n"
     ]
    },
    {
     "name": "stdout",
     "output_type": "stream",
     "text": [
      "rotation around x:\n",
      "-88.1523897340054 0 0\n",
      "dictionary, with 3d data\n",
      "dictionary, with 3d data\n",
      "rotation around y:\n",
      "0 0 -63.78862198216848\n",
      "dictionary, with 3d data\n",
      "dictionary, with 3d data\n",
      "angle beetween ey and sf: 2\n"
     ]
    },
    {
     "name": "stderr",
     "output_type": "stream",
     "text": [
      "/home/natalia/Documents/github_image_analysis/image_analysis/image_analysis/fit/regionprops.py:25: RuntimeWarning: Mean of empty slice\n",
      "  img_arr_x = np.nanmean(np.nanmean(img_arr, axis=0), axis=0)\n",
      "/home/natalia/Documents/github_image_analysis/image_analysis/image_analysis/fit/regionprops.py:28: RuntimeWarning: Mean of empty slice\n",
      "  img_arr_y = np.nanmean(np.nanmean(img_arr, axis=0), axis=1)\n",
      "/home/natalia/Documents/github_image_analysis/image_analysis/image_analysis/fit/regionprops.py:31: RuntimeWarning: Mean of empty slice\n",
      "  img_arr_z = np.nanmean(np.nanmean(img_arr, axis=1), axis=1)\n"
     ]
    },
    {
     "name": "stdout",
     "output_type": "stream",
     "text": [
      "rotation around x:\n",
      "-82.87498365109819 0 0\n",
      "dictionary, with 3d data\n",
      "dictionary, with 3d data\n",
      "rotation around y:\n",
      "0 0 -61.672149660169055\n",
      "dictionary, with 3d data\n",
      "dictionary, with 3d data\n",
      "angle beetween ey and sf: 2\n"
     ]
    },
    {
     "name": "stderr",
     "output_type": "stream",
     "text": [
      "/home/natalia/Documents/github_image_analysis/image_analysis/image_analysis/fit/regionprops.py:25: RuntimeWarning: Mean of empty slice\n",
      "  img_arr_x = np.nanmean(np.nanmean(img_arr, axis=0), axis=0)\n",
      "/home/natalia/Documents/github_image_analysis/image_analysis/image_analysis/fit/regionprops.py:28: RuntimeWarning: Mean of empty slice\n",
      "  img_arr_y = np.nanmean(np.nanmean(img_arr, axis=0), axis=1)\n",
      "/home/natalia/Documents/github_image_analysis/image_analysis/image_analysis/fit/regionprops.py:31: RuntimeWarning: Mean of empty slice\n",
      "  img_arr_z = np.nanmean(np.nanmean(img_arr, axis=1), axis=1)\n"
     ]
    },
    {
     "name": "stdout",
     "output_type": "stream",
     "text": [
      "rotation around x:\n",
      "-71.02959219151346 0 0\n",
      "dictionary, with 3d data\n",
      "dictionary, with 3d data\n",
      "rotation around y:\n",
      "0 0 -58.16515183308064\n",
      "dictionary, with 3d data\n",
      "dictionary, with 3d data\n",
      "angle beetween ey and sf: 5\n"
     ]
    },
    {
     "name": "stderr",
     "output_type": "stream",
     "text": [
      "2it [00:17,  8.20s/it]/home/natalia/Documents/github_image_analysis/image_analysis/image_analysis/fit/regionprops.py:25: RuntimeWarning: Mean of empty slice\n",
      "  img_arr_x = np.nanmean(np.nanmean(img_arr, axis=0), axis=0)\n",
      "/home/natalia/Documents/github_image_analysis/image_analysis/image_analysis/fit/regionprops.py:28: RuntimeWarning: Mean of empty slice\n",
      "  img_arr_y = np.nanmean(np.nanmean(img_arr, axis=0), axis=1)\n",
      "/home/natalia/Documents/github_image_analysis/image_analysis/image_analysis/fit/regionprops.py:31: RuntimeWarning: Mean of empty slice\n",
      "  img_arr_z = np.nanmean(np.nanmean(img_arr, axis=1), axis=1)\n",
      "/home/natalia/Documents/github_image_analysis/image_analysis/image_analysis/fit/regionprops.py:25: RuntimeWarning: Mean of empty slice\n",
      "  img_arr_x = np.nanmean(np.nanmean(img_arr, axis=0), axis=0)\n",
      "/home/natalia/Documents/github_image_analysis/image_analysis/image_analysis/fit/regionprops.py:28: RuntimeWarning: Mean of empty slice\n",
      "  img_arr_y = np.nanmean(np.nanmean(img_arr, axis=0), axis=1)\n",
      "/home/natalia/Documents/github_image_analysis/image_analysis/image_analysis/fit/regionprops.py:31: RuntimeWarning: Mean of empty slice\n",
      "  img_arr_z = np.nanmean(np.nanmean(img_arr, axis=1), axis=1)\n"
     ]
    },
    {
     "name": "stdout",
     "output_type": "stream",
     "text": [
      "rotation around x:\n",
      "-11.888658039627984 0 0\n",
      "dictionary, with 3d data\n",
      "dictionary, with 3d data\n",
      "rotation around y:\n",
      "0 0 50.54625648237944\n",
      "dictionary, with 3d data\n",
      "dictionary, with 3d data\n",
      "strange rotation\n",
      "angle beetween ey and sf: -10\n",
      "rotation around x:\n",
      "-59.03624346792648 0 0\n"
     ]
    },
    {
     "name": "stderr",
     "output_type": "stream",
     "text": [
      "/home/natalia/Documents/github_image_analysis/image_analysis/image_analysis/fit/regionprops.py:25: RuntimeWarning: Mean of empty slice\n",
      "  img_arr_x = np.nanmean(np.nanmean(img_arr, axis=0), axis=0)\n",
      "/home/natalia/Documents/github_image_analysis/image_analysis/image_analysis/fit/regionprops.py:28: RuntimeWarning: Mean of empty slice\n",
      "  img_arr_y = np.nanmean(np.nanmean(img_arr, axis=0), axis=1)\n",
      "/home/natalia/Documents/github_image_analysis/image_analysis/image_analysis/fit/regionprops.py:31: RuntimeWarning: Mean of empty slice\n",
      "  img_arr_z = np.nanmean(np.nanmean(img_arr, axis=1), axis=1)\n"
     ]
    },
    {
     "name": "stdout",
     "output_type": "stream",
     "text": [
      "dictionary, with 3d data\n",
      "dictionary, with 3d data\n",
      "rotation around y:\n",
      "0 0 80.54031025516073\n",
      "dictionary, with 3d data\n",
      "dictionary, with 3d data\n",
      "angle beetween ey and sf: -2\n",
      "rotation around x:\n",
      "-45.0 0 0\n",
      "dictionary, with 3d data\n",
      "dictionary, with 3d data\n",
      "rotation around y:\n",
      "0 0 79.46360128297113\n",
      "dictionary, with 3d data\n",
      "dictionary, with 3d data\n",
      "angle beetween ey and sf: 1\n",
      "rotation around x:\n",
      "-38.65980825409008 0 0\n",
      "dictionary, with 3d data\n"
     ]
    },
    {
     "name": "stderr",
     "output_type": "stream",
     "text": [
      "/home/natalia/Documents/github_image_analysis/image_analysis/image_analysis/fit/regionprops.py:25: RuntimeWarning: Mean of empty slice\n",
      "  img_arr_x = np.nanmean(np.nanmean(img_arr, axis=0), axis=0)\n",
      "/home/natalia/Documents/github_image_analysis/image_analysis/image_analysis/fit/regionprops.py:28: RuntimeWarning: Mean of empty slice\n",
      "  img_arr_y = np.nanmean(np.nanmean(img_arr, axis=0), axis=1)\n",
      "/home/natalia/Documents/github_image_analysis/image_analysis/image_analysis/fit/regionprops.py:31: RuntimeWarning: Mean of empty slice\n",
      "  img_arr_z = np.nanmean(np.nanmean(img_arr, axis=1), axis=1)\n"
     ]
    },
    {
     "name": "stdout",
     "output_type": "stream",
     "text": [
      "dictionary, with 3d data\n",
      "rotation around y:\n",
      "0 0 75.66552510625827\n",
      "dictionary, with 3d data\n",
      "dictionary, with 3d data\n",
      "angle beetween ey and sf: -2\n",
      "rotation around x:\n",
      "-12.994616791916513 0 0\n",
      "dictionary, with 3d data\n"
     ]
    },
    {
     "name": "stderr",
     "output_type": "stream",
     "text": [
      "/home/natalia/Documents/github_image_analysis/image_analysis/image_analysis/fit/regionprops.py:25: RuntimeWarning: Mean of empty slice\n",
      "  img_arr_x = np.nanmean(np.nanmean(img_arr, axis=0), axis=0)\n",
      "/home/natalia/Documents/github_image_analysis/image_analysis/image_analysis/fit/regionprops.py:28: RuntimeWarning: Mean of empty slice\n",
      "  img_arr_y = np.nanmean(np.nanmean(img_arr, axis=0), axis=1)\n",
      "/home/natalia/Documents/github_image_analysis/image_analysis/image_analysis/fit/regionprops.py:31: RuntimeWarning: Mean of empty slice\n",
      "  img_arr_z = np.nanmean(np.nanmean(img_arr, axis=1), axis=1)\n",
      "3it [00:18,  4.98s/it]"
     ]
    },
    {
     "name": "stdout",
     "output_type": "stream",
     "text": [
      "dictionary, with 3d data\n",
      "rotation around y:\n",
      "0 0 71.5845086580629\n",
      "dictionary, with 3d data\n",
      "dictionary, with 3d data\n",
      "angle beetween ey and sf: 2\n"
     ]
    },
    {
     "name": "stderr",
     "output_type": "stream",
     "text": [
      "/home/natalia/Documents/github_image_analysis/image_analysis/image_analysis/fit/regionprops.py:25: RuntimeWarning: Mean of empty slice\n",
      "  img_arr_x = np.nanmean(np.nanmean(img_arr, axis=0), axis=0)\n",
      "/home/natalia/Documents/github_image_analysis/image_analysis/image_analysis/fit/regionprops.py:28: RuntimeWarning: Mean of empty slice\n",
      "  img_arr_y = np.nanmean(np.nanmean(img_arr, axis=0), axis=1)\n",
      "/home/natalia/Documents/github_image_analysis/image_analysis/image_analysis/fit/regionprops.py:31: RuntimeWarning: Mean of empty slice\n",
      "  img_arr_z = np.nanmean(np.nanmean(img_arr, axis=1), axis=1)\n"
     ]
    },
    {
     "name": "stdout",
     "output_type": "stream",
     "text": [
      "rotation around x:\n",
      "1.1934894239820486 0 0\n",
      "dictionary, with 3d data\n",
      "dictionary, with 3d data\n",
      "rotation around y:\n",
      "0 0 -45.006215641132854\n",
      "dictionary, with 3d data\n",
      "dictionary, with 3d data\n",
      "strange rotation\n",
      "angle beetween ey and sf: 8\n",
      "rotation around x:\n",
      "-28.610459665965216 0 0\n",
      "dictionary, with 3d data\n",
      "dictionary, with 3d data\n"
     ]
    },
    {
     "name": "stderr",
     "output_type": "stream",
     "text": [
      "/home/natalia/Documents/github_image_analysis/image_analysis/image_analysis/fit/regionprops.py:25: RuntimeWarning: Mean of empty slice\n",
      "  img_arr_x = np.nanmean(np.nanmean(img_arr, axis=0), axis=0)\n",
      "/home/natalia/Documents/github_image_analysis/image_analysis/image_analysis/fit/regionprops.py:28: RuntimeWarning: Mean of empty slice\n",
      "  img_arr_y = np.nanmean(np.nanmean(img_arr, axis=0), axis=1)\n",
      "/home/natalia/Documents/github_image_analysis/image_analysis/image_analysis/fit/regionprops.py:31: RuntimeWarning: Mean of empty slice\n",
      "  img_arr_z = np.nanmean(np.nanmean(img_arr, axis=1), axis=1)\n"
     ]
    },
    {
     "name": "stdout",
     "output_type": "stream",
     "text": [
      "rotation around y:\n",
      "0 0 -82.26640190097713\n",
      "dictionary, with 3d data\n",
      "dictionary, with 3d data\n",
      "angle beetween ey and sf: 0\n",
      "rotation around x:\n",
      "0.0 0 0\n",
      "dictionary, with 3d data\n",
      "dictionary, with 3d data\n"
     ]
    },
    {
     "name": "stderr",
     "output_type": "stream",
     "text": [
      "/home/natalia/Documents/github_image_analysis/image_analysis/image_analysis/fit/regionprops.py:25: RuntimeWarning: Mean of empty slice\n",
      "  img_arr_x = np.nanmean(np.nanmean(img_arr, axis=0), axis=0)\n",
      "/home/natalia/Documents/github_image_analysis/image_analysis/image_analysis/fit/regionprops.py:28: RuntimeWarning: Mean of empty slice\n",
      "  img_arr_y = np.nanmean(np.nanmean(img_arr, axis=0), axis=1)\n",
      "/home/natalia/Documents/github_image_analysis/image_analysis/image_analysis/fit/regionprops.py:31: RuntimeWarning: Mean of empty slice\n",
      "  img_arr_z = np.nanmean(np.nanmean(img_arr, axis=1), axis=1)\n"
     ]
    },
    {
     "name": "stdout",
     "output_type": "stream",
     "text": [
      "rotation around y:\n",
      "0 0 -57.05078488340955\n",
      "dictionary, with 3d data\n",
      "dictionary, with 3d data\n",
      "angle beetween ey and sf: 1\n"
     ]
    },
    {
     "name": "stderr",
     "output_type": "stream",
     "text": [
      "/home/natalia/Documents/github_image_analysis/image_analysis/image_analysis/fit/regionprops.py:25: RuntimeWarning: Mean of empty slice\n",
      "  img_arr_x = np.nanmean(np.nanmean(img_arr, axis=0), axis=0)\n",
      "/home/natalia/Documents/github_image_analysis/image_analysis/image_analysis/fit/regionprops.py:28: RuntimeWarning: Mean of empty slice\n",
      "  img_arr_y = np.nanmean(np.nanmean(img_arr, axis=0), axis=1)\n",
      "/home/natalia/Documents/github_image_analysis/image_analysis/image_analysis/fit/regionprops.py:31: RuntimeWarning: Mean of empty slice\n",
      "  img_arr_z = np.nanmean(np.nanmean(img_arr, axis=1), axis=1)\n"
     ]
    },
    {
     "name": "stdout",
     "output_type": "stream",
     "text": [
      "rotation around x:\n",
      "-12.094757077012119 0 0\n",
      "dictionary, with 3d data\n",
      "dictionary, with 3d data\n",
      "rotation around y:\n",
      "0 0 -67.3556808560632\n",
      "dictionary, with 3d data\n",
      "dictionary, with 3d data\n",
      "angle beetween ey and sf: -2\n"
     ]
    },
    {
     "name": "stderr",
     "output_type": "stream",
     "text": [
      "/home/natalia/Documents/github_image_analysis/image_analysis/image_analysis/fit/regionprops.py:25: RuntimeWarning: Mean of empty slice\n",
      "  img_arr_x = np.nanmean(np.nanmean(img_arr, axis=0), axis=0)\n",
      "/home/natalia/Documents/github_image_analysis/image_analysis/image_analysis/fit/regionprops.py:28: RuntimeWarning: Mean of empty slice\n",
      "  img_arr_y = np.nanmean(np.nanmean(img_arr, axis=0), axis=1)\n",
      "/home/natalia/Documents/github_image_analysis/image_analysis/image_analysis/fit/regionprops.py:31: RuntimeWarning: Mean of empty slice\n",
      "  img_arr_z = np.nanmean(np.nanmean(img_arr, axis=1), axis=1)\n"
     ]
    },
    {
     "name": "stdout",
     "output_type": "stream",
     "text": [
      "rotation around x:\n",
      "78.69006752597979 0 0\n",
      "dictionary, with 3d data\n",
      "dictionary, with 3d data\n",
      "rotation around y:\n",
      "0 0 86.05507353709045\n",
      "dictionary, with 3d data\n"
     ]
    },
    {
     "name": "stderr",
     "output_type": "stream",
     "text": [
      "4it [00:20,  3.95s/it]"
     ]
    },
    {
     "name": "stdout",
     "output_type": "stream",
     "text": [
      "dictionary, with 3d data\n",
      "angle beetween ey and sf: 1\n"
     ]
    },
    {
     "name": "stderr",
     "output_type": "stream",
     "text": [
      "/home/natalia/Documents/github_image_analysis/image_analysis/image_analysis/fit/regionprops.py:25: RuntimeWarning: Mean of empty slice\n",
      "  img_arr_x = np.nanmean(np.nanmean(img_arr, axis=0), axis=0)\n",
      "/home/natalia/Documents/github_image_analysis/image_analysis/image_analysis/fit/regionprops.py:28: RuntimeWarning: Mean of empty slice\n",
      "  img_arr_y = np.nanmean(np.nanmean(img_arr, axis=0), axis=1)\n",
      "/home/natalia/Documents/github_image_analysis/image_analysis/image_analysis/fit/regionprops.py:31: RuntimeWarning: Mean of empty slice\n",
      "  img_arr_z = np.nanmean(np.nanmean(img_arr, axis=1), axis=1)\n"
     ]
    },
    {
     "name": "stdout",
     "output_type": "stream",
     "text": [
      "rotation around x:\n",
      "28.07248693585296 0 0\n",
      "dictionary, with 3d data\n",
      "dictionary, with 3d data\n",
      "rotation around y:\n",
      "0 0 -76.62211546760315\n",
      "dictionary, with 3d data\n",
      "dictionary, with 3d data\n",
      "angle beetween ey and sf: 3\n"
     ]
    },
    {
     "name": "stderr",
     "output_type": "stream",
     "text": [
      "/home/natalia/Documents/github_image_analysis/image_analysis/image_analysis/fit/regionprops.py:25: RuntimeWarning: Mean of empty slice\n",
      "  img_arr_x = np.nanmean(np.nanmean(img_arr, axis=0), axis=0)\n",
      "/home/natalia/Documents/github_image_analysis/image_analysis/image_analysis/fit/regionprops.py:28: RuntimeWarning: Mean of empty slice\n",
      "  img_arr_y = np.nanmean(np.nanmean(img_arr, axis=0), axis=1)\n",
      "/home/natalia/Documents/github_image_analysis/image_analysis/image_analysis/fit/regionprops.py:31: RuntimeWarning: Mean of empty slice\n",
      "  img_arr_z = np.nanmean(np.nanmean(img_arr, axis=1), axis=1)\n"
     ]
    },
    {
     "name": "stdout",
     "output_type": "stream",
     "text": [
      "rotation around x:\n",
      "40.60129464500447 0 0\n",
      "dictionary, with 3d data\n",
      "dictionary, with 3d data\n",
      "rotation around y:\n",
      "0 0 -84.81089967188734\n",
      "dictionary, with 3d data\n",
      "dictionary, with 3d data\n",
      "angle beetween ey and sf: 3\n",
      "rotation around x:\n",
      "-75.9637565320735 0 0\n",
      "dictionary, with 3d data\n",
      "dictionary, with 3d data\n"
     ]
    },
    {
     "name": "stderr",
     "output_type": "stream",
     "text": [
      "/home/natalia/Documents/github_image_analysis/image_analysis/image_analysis/fit/regionprops.py:25: RuntimeWarning: Mean of empty slice\n",
      "  img_arr_x = np.nanmean(np.nanmean(img_arr, axis=0), axis=0)\n",
      "/home/natalia/Documents/github_image_analysis/image_analysis/image_analysis/fit/regionprops.py:28: RuntimeWarning: Mean of empty slice\n",
      "  img_arr_y = np.nanmean(np.nanmean(img_arr, axis=0), axis=1)\n",
      "/home/natalia/Documents/github_image_analysis/image_analysis/image_analysis/fit/regionprops.py:31: RuntimeWarning: Mean of empty slice\n",
      "  img_arr_z = np.nanmean(np.nanmean(img_arr, axis=1), axis=1)\n"
     ]
    },
    {
     "name": "stdout",
     "output_type": "stream",
     "text": [
      "rotation around y:\n",
      "0 0 88.26509130172882\n",
      "dictionary, with 3d data\n",
      "dictionary, with 3d data\n",
      "angle beetween ey and sf: -1\n"
     ]
    },
    {
     "name": "stderr",
     "output_type": "stream",
     "text": [
      "/home/natalia/Documents/github_image_analysis/image_analysis/image_analysis/fit/regionprops.py:25: RuntimeWarning: Mean of empty slice\n",
      "  img_arr_x = np.nanmean(np.nanmean(img_arr, axis=0), axis=0)\n",
      "/home/natalia/Documents/github_image_analysis/image_analysis/image_analysis/fit/regionprops.py:28: RuntimeWarning: Mean of empty slice\n",
      "  img_arr_y = np.nanmean(np.nanmean(img_arr, axis=0), axis=1)\n",
      "/home/natalia/Documents/github_image_analysis/image_analysis/image_analysis/fit/regionprops.py:31: RuntimeWarning: Mean of empty slice\n",
      "  img_arr_z = np.nanmean(np.nanmean(img_arr, axis=1), axis=1)\n"
     ]
    },
    {
     "name": "stdout",
     "output_type": "stream",
     "text": [
      "rotation around x:\n",
      "7.125016348901767 0 0\n",
      "dictionary, with 3d data\n",
      "dictionary, with 3d data\n",
      "rotation around y:\n",
      "0 0 83.29088200589143\n",
      "dictionary, with 3d data\n",
      "dictionary, with 3d data\n",
      "angle beetween ey and sf: -2\n",
      "rotation around x:\n",
      "21.03751102542182 0 0\n",
      "dictionary, with 3d data\n",
      "dictionary, with 3d data\n"
     ]
    },
    {
     "name": "stderr",
     "output_type": "stream",
     "text": [
      "/home/natalia/Documents/github_image_analysis/image_analysis/image_analysis/fit/regionprops.py:25: RuntimeWarning: Mean of empty slice\n",
      "  img_arr_x = np.nanmean(np.nanmean(img_arr, axis=0), axis=0)\n",
      "/home/natalia/Documents/github_image_analysis/image_analysis/image_analysis/fit/regionprops.py:28: RuntimeWarning: Mean of empty slice\n",
      "  img_arr_y = np.nanmean(np.nanmean(img_arr, axis=0), axis=1)\n",
      "/home/natalia/Documents/github_image_analysis/image_analysis/image_analysis/fit/regionprops.py:31: RuntimeWarning: Mean of empty slice\n",
      "  img_arr_z = np.nanmean(np.nanmean(img_arr, axis=1), axis=1)\n"
     ]
    },
    {
     "name": "stdout",
     "output_type": "stream",
     "text": [
      "rotation around y:\n",
      "0 0 80.28117243244373\n",
      "dictionary, with 3d data\n",
      "dictionary, with 3d data\n"
     ]
    },
    {
     "name": "stderr",
     "output_type": "stream",
     "text": [
      "5it [00:23,  3.46s/it]"
     ]
    },
    {
     "name": "stdout",
     "output_type": "stream",
     "text": [
      "angle beetween ey and sf: -2\n"
     ]
    },
    {
     "name": "stderr",
     "output_type": "stream",
     "text": [
      "/home/natalia/Documents/github_image_analysis/image_analysis/image_analysis/fit/regionprops.py:25: RuntimeWarning: Mean of empty slice\n",
      "  img_arr_x = np.nanmean(np.nanmean(img_arr, axis=0), axis=0)\n",
      "/home/natalia/Documents/github_image_analysis/image_analysis/image_analysis/fit/regionprops.py:28: RuntimeWarning: Mean of empty slice\n",
      "  img_arr_y = np.nanmean(np.nanmean(img_arr, axis=0), axis=1)\n",
      "/home/natalia/Documents/github_image_analysis/image_analysis/image_analysis/fit/regionprops.py:31: RuntimeWarning: Mean of empty slice\n",
      "  img_arr_z = np.nanmean(np.nanmean(img_arr, axis=1), axis=1)\n"
     ]
    },
    {
     "name": "stdout",
     "output_type": "stream",
     "text": [
      "rotation around x:\n",
      "19.983106521899995 0 0\n",
      "dictionary, with 3d data\n",
      "dictionary, with 3d data\n",
      "rotation around y:\n",
      "0 0 -79.51028155225951\n",
      "dictionary, with 3d data\n",
      "dictionary, with 3d data\n",
      "angle beetween ey and sf: 2\n",
      "rotation around x:\n",
      "-26.565051177077976 0 0\n"
     ]
    },
    {
     "name": "stderr",
     "output_type": "stream",
     "text": [
      "/home/natalia/Documents/github_image_analysis/image_analysis/image_analysis/fit/regionprops.py:25: RuntimeWarning: Mean of empty slice\n",
      "  img_arr_x = np.nanmean(np.nanmean(img_arr, axis=0), axis=0)\n",
      "/home/natalia/Documents/github_image_analysis/image_analysis/image_analysis/fit/regionprops.py:28: RuntimeWarning: Mean of empty slice\n",
      "  img_arr_y = np.nanmean(np.nanmean(img_arr, axis=0), axis=1)\n",
      "/home/natalia/Documents/github_image_analysis/image_analysis/image_analysis/fit/regionprops.py:31: RuntimeWarning: Mean of empty slice\n",
      "  img_arr_z = np.nanmean(np.nanmean(img_arr, axis=1), axis=1)\n"
     ]
    },
    {
     "name": "stdout",
     "output_type": "stream",
     "text": [
      "dictionary, with 3d data\n",
      "dictionary, with 3d data\n",
      "rotation around y:\n",
      "0 0 84.807941375635\n",
      "dictionary, with 3d data\n",
      "dictionary, with 3d data\n",
      "angle beetween ey and sf: 2\n"
     ]
    },
    {
     "name": "stderr",
     "output_type": "stream",
     "text": [
      "/home/natalia/Documents/github_image_analysis/image_analysis/image_analysis/fit/regionprops.py:25: RuntimeWarning: Mean of empty slice\n",
      "  img_arr_x = np.nanmean(np.nanmean(img_arr, axis=0), axis=0)\n",
      "/home/natalia/Documents/github_image_analysis/image_analysis/image_analysis/fit/regionprops.py:28: RuntimeWarning: Mean of empty slice\n",
      "  img_arr_y = np.nanmean(np.nanmean(img_arr, axis=0), axis=1)\n",
      "/home/natalia/Documents/github_image_analysis/image_analysis/image_analysis/fit/regionprops.py:31: RuntimeWarning: Mean of empty slice\n",
      "  img_arr_z = np.nanmean(np.nanmean(img_arr, axis=1), axis=1)\n"
     ]
    },
    {
     "name": "stdout",
     "output_type": "stream",
     "text": [
      "rotation around x:\n",
      "-0.0 0 0\n",
      "dictionary, with 3d data\n",
      "dictionary, with 3d data\n",
      "rotation around y:\n",
      "0 0 87.47388308838045\n",
      "dictionary, with 3d data\n",
      "dictionary, with 3d data\n",
      "angle beetween ey and sf: 1\n"
     ]
    },
    {
     "name": "stderr",
     "output_type": "stream",
     "text": [
      "/home/natalia/Documents/github_image_analysis/image_analysis/image_analysis/fit/regionprops.py:25: RuntimeWarning: Mean of empty slice\n",
      "  img_arr_x = np.nanmean(np.nanmean(img_arr, axis=0), axis=0)\n",
      "/home/natalia/Documents/github_image_analysis/image_analysis/image_analysis/fit/regionprops.py:28: RuntimeWarning: Mean of empty slice\n",
      "  img_arr_y = np.nanmean(np.nanmean(img_arr, axis=0), axis=1)\n",
      "/home/natalia/Documents/github_image_analysis/image_analysis/image_analysis/fit/regionprops.py:31: RuntimeWarning: Mean of empty slice\n",
      "  img_arr_z = np.nanmean(np.nanmean(img_arr, axis=1), axis=1)\n"
     ]
    },
    {
     "name": "stdout",
     "output_type": "stream",
     "text": [
      "rotation around x:\n",
      "-0.0 0 0\n",
      "dictionary, with 3d data\n",
      "dictionary, with 3d data\n",
      "rotation around y:\n",
      "0 0 82.9716037610504\n",
      "dictionary, with 3d data\n",
      "dictionary, with 3d data\n",
      "angle beetween ey and sf: -1\n"
     ]
    },
    {
     "name": "stderr",
     "output_type": "stream",
     "text": [
      "/home/natalia/Documents/github_image_analysis/image_analysis/image_analysis/fit/regionprops.py:25: RuntimeWarning: Mean of empty slice\n",
      "  img_arr_x = np.nanmean(np.nanmean(img_arr, axis=0), axis=0)\n",
      "/home/natalia/Documents/github_image_analysis/image_analysis/image_analysis/fit/regionprops.py:28: RuntimeWarning: Mean of empty slice\n",
      "  img_arr_y = np.nanmean(np.nanmean(img_arr, axis=0), axis=1)\n",
      "/home/natalia/Documents/github_image_analysis/image_analysis/image_analysis/fit/regionprops.py:31: RuntimeWarning: Mean of empty slice\n",
      "  img_arr_z = np.nanmean(np.nanmean(img_arr, axis=1), axis=1)\n"
     ]
    },
    {
     "name": "stdout",
     "output_type": "stream",
     "text": [
      "rotation around x:\n",
      "6.340191745909948 0 0\n",
      "dictionary, with 3d data\n",
      "dictionary, with 3d data\n",
      "rotation around y:\n",
      "0 0 82.50478377881086\n",
      "dictionary, with 3d data\n",
      "dictionary, with 3d data\n",
      "angle beetween ey and sf: 0\n"
     ]
    },
    {
     "name": "stderr",
     "output_type": "stream",
     "text": [
      "6it [00:26,  3.41s/it]/home/natalia/Documents/github_image_analysis/image_analysis/image_analysis/fit/regionprops.py:25: RuntimeWarning: Mean of empty slice\n",
      "  img_arr_x = np.nanmean(np.nanmean(img_arr, axis=0), axis=0)\n",
      "/home/natalia/Documents/github_image_analysis/image_analysis/image_analysis/fit/regionprops.py:28: RuntimeWarning: Mean of empty slice\n",
      "  img_arr_y = np.nanmean(np.nanmean(img_arr, axis=0), axis=1)\n",
      "/home/natalia/Documents/github_image_analysis/image_analysis/image_analysis/fit/regionprops.py:31: RuntimeWarning: Mean of empty slice\n",
      "  img_arr_z = np.nanmean(np.nanmean(img_arr, axis=1), axis=1)\n"
     ]
    },
    {
     "name": "stdout",
     "output_type": "stream",
     "text": [
      "rotation around x:\n",
      "-78.11134196037202 0 0\n",
      "dictionary, with 3d data\n",
      "dictionary, with 3d data\n",
      "rotation around y:\n",
      "0 0 -6.934599712271563\n",
      "dictionary, with 3d data\n",
      "dictionary, with 3d data\n",
      "strange rotation\n",
      "angle beetween ey and sf: 6\n"
     ]
    },
    {
     "name": "stderr",
     "output_type": "stream",
     "text": [
      "/home/natalia/Documents/github_image_analysis/image_analysis/image_analysis/fit/regionprops.py:25: RuntimeWarning: Mean of empty slice\n",
      "  img_arr_x = np.nanmean(np.nanmean(img_arr, axis=0), axis=0)\n",
      "/home/natalia/Documents/github_image_analysis/image_analysis/image_analysis/fit/regionprops.py:28: RuntimeWarning: Mean of empty slice\n",
      "  img_arr_y = np.nanmean(np.nanmean(img_arr, axis=0), axis=1)\n",
      "/home/natalia/Documents/github_image_analysis/image_analysis/image_analysis/fit/regionprops.py:31: RuntimeWarning: Mean of empty slice\n",
      "  img_arr_z = np.nanmean(np.nanmean(img_arr, axis=1), axis=1)\n"
     ]
    },
    {
     "name": "stdout",
     "output_type": "stream",
     "text": [
      "rotation around x:\n",
      "45.0 0 0\n",
      "dictionary, with 3d data\n",
      "dictionary, with 3d data\n",
      "rotation around y:\n",
      "0 0 -36.03989343030386\n",
      "dictionary, with 3d data\n",
      "dictionary, with 3d data\n",
      "strange rotation\n",
      "angle beetween ey and sf: -8\n",
      "rotation around x:\n",
      "87.70938995736147 0 0\n",
      "dictionary, with 3d data\n"
     ]
    },
    {
     "name": "stderr",
     "output_type": "stream",
     "text": [
      "/home/natalia/Documents/github_image_analysis/image_analysis/image_analysis/fit/regionprops.py:25: RuntimeWarning: Mean of empty slice\n",
      "  img_arr_x = np.nanmean(np.nanmean(img_arr, axis=0), axis=0)\n",
      "/home/natalia/Documents/github_image_analysis/image_analysis/image_analysis/fit/regionprops.py:28: RuntimeWarning: Mean of empty slice\n",
      "  img_arr_y = np.nanmean(np.nanmean(img_arr, axis=0), axis=1)\n",
      "/home/natalia/Documents/github_image_analysis/image_analysis/image_analysis/fit/regionprops.py:31: RuntimeWarning: Mean of empty slice\n",
      "  img_arr_z = np.nanmean(np.nanmean(img_arr, axis=1), axis=1)\n"
     ]
    },
    {
     "name": "stdout",
     "output_type": "stream",
     "text": [
      "dictionary, with 3d data\n",
      "rotation around y:\n",
      "0 0 -48.36646066342979\n",
      "dictionary, with 3d data\n",
      "dictionary, with 3d data\n",
      "angle beetween ey and sf: 2\n",
      "rotation around x:\n",
      "-84.5596679689945 0 0\n",
      "dictionary, with 3d data\n"
     ]
    },
    {
     "name": "stderr",
     "output_type": "stream",
     "text": [
      "/home/natalia/Documents/github_image_analysis/image_analysis/image_analysis/fit/regionprops.py:25: RuntimeWarning: Mean of empty slice\n",
      "  img_arr_x = np.nanmean(np.nanmean(img_arr, axis=0), axis=0)\n",
      "/home/natalia/Documents/github_image_analysis/image_analysis/image_analysis/fit/regionprops.py:28: RuntimeWarning: Mean of empty slice\n",
      "  img_arr_y = np.nanmean(np.nanmean(img_arr, axis=0), axis=1)\n",
      "/home/natalia/Documents/github_image_analysis/image_analysis/image_analysis/fit/regionprops.py:31: RuntimeWarning: Mean of empty slice\n",
      "  img_arr_z = np.nanmean(np.nanmean(img_arr, axis=1), axis=1)\n"
     ]
    },
    {
     "name": "stdout",
     "output_type": "stream",
     "text": [
      "dictionary, with 3d data\n",
      "rotation around y:\n",
      "0 0 64.85521436932105\n",
      "dictionary, with 3d data\n",
      "dictionary, with 3d data\n",
      "angle beetween ey and sf: 0\n"
     ]
    },
    {
     "name": "stderr",
     "output_type": "stream",
     "text": [
      "/home/natalia/Documents/github_image_analysis/image_analysis/image_analysis/fit/regionprops.py:25: RuntimeWarning: Mean of empty slice\n",
      "  img_arr_x = np.nanmean(np.nanmean(img_arr, axis=0), axis=0)\n",
      "/home/natalia/Documents/github_image_analysis/image_analysis/image_analysis/fit/regionprops.py:28: RuntimeWarning: Mean of empty slice\n",
      "  img_arr_y = np.nanmean(np.nanmean(img_arr, axis=0), axis=1)\n",
      "/home/natalia/Documents/github_image_analysis/image_analysis/image_analysis/fit/regionprops.py:31: RuntimeWarning: Mean of empty slice\n",
      "  img_arr_z = np.nanmean(np.nanmean(img_arr, axis=1), axis=1)\n"
     ]
    },
    {
     "name": "stdout",
     "output_type": "stream",
     "text": [
      "rotation around x:\n",
      "-77.19573393471325 0 0\n",
      "dictionary, with 3d data\n",
      "dictionary, with 3d data\n",
      "rotation around y:\n",
      "0 0 63.89043937153114\n",
      "dictionary, with 3d data\n",
      "dictionary, with 3d data\n",
      "angle beetween ey and sf: -1\n"
     ]
    },
    {
     "name": "stderr",
     "output_type": "stream",
     "text": [
      "7it [00:29,  3.34s/it]/home/natalia/Documents/github_image_analysis/image_analysis/image_analysis/fit/regionprops.py:25: RuntimeWarning: Mean of empty slice\n",
      "  img_arr_x = np.nanmean(np.nanmean(img_arr, axis=0), axis=0)\n",
      "/home/natalia/Documents/github_image_analysis/image_analysis/image_analysis/fit/regionprops.py:28: RuntimeWarning: Mean of empty slice\n",
      "  img_arr_y = np.nanmean(np.nanmean(img_arr, axis=0), axis=1)\n",
      "/home/natalia/Documents/github_image_analysis/image_analysis/image_analysis/fit/regionprops.py:31: RuntimeWarning: Mean of empty slice\n",
      "  img_arr_z = np.nanmean(np.nanmean(img_arr, axis=1), axis=1)\n"
     ]
    },
    {
     "name": "stdout",
     "output_type": "stream",
     "text": [
      "rotation around x:\n",
      "42.87890360333854 0 0\n",
      "dictionary, with 3d data\n",
      "dictionary, with 3d data\n",
      "rotation around y:\n",
      "0 0 -73.65320385285725\n",
      "dictionary, with 3d data\n",
      "dictionary, with 3d data\n",
      "angle beetween ey and sf: -2\n"
     ]
    },
    {
     "name": "stderr",
     "output_type": "stream",
     "text": [
      "/home/natalia/Documents/github_image_analysis/image_analysis/image_analysis/fit/regionprops.py:25: RuntimeWarning: Mean of empty slice\n",
      "  img_arr_x = np.nanmean(np.nanmean(img_arr, axis=0), axis=0)\n",
      "/home/natalia/Documents/github_image_analysis/image_analysis/image_analysis/fit/regionprops.py:28: RuntimeWarning: Mean of empty slice\n",
      "  img_arr_y = np.nanmean(np.nanmean(img_arr, axis=0), axis=1)\n",
      "/home/natalia/Documents/github_image_analysis/image_analysis/image_analysis/fit/regionprops.py:31: RuntimeWarning: Mean of empty slice\n",
      "  img_arr_z = np.nanmean(np.nanmean(img_arr, axis=1), axis=1)\n"
     ]
    },
    {
     "name": "stdout",
     "output_type": "stream",
     "text": [
      "rotation around x:\n",
      "-72.89727103094764 0 0\n",
      "dictionary, with 3d data\n",
      "dictionary, with 3d data\n",
      "rotation around y:\n",
      "0 0 83.6641169998511\n",
      "dictionary, with 3d data\n",
      "dictionary, with 3d data\n",
      "angle beetween ey and sf: 2\n"
     ]
    },
    {
     "name": "stderr",
     "output_type": "stream",
     "text": [
      "/home/natalia/Documents/github_image_analysis/image_analysis/image_analysis/fit/regionprops.py:25: RuntimeWarning: Mean of empty slice\n",
      "  img_arr_x = np.nanmean(np.nanmean(img_arr, axis=0), axis=0)\n",
      "/home/natalia/Documents/github_image_analysis/image_analysis/image_analysis/fit/regionprops.py:28: RuntimeWarning: Mean of empty slice\n",
      "  img_arr_y = np.nanmean(np.nanmean(img_arr, axis=0), axis=1)\n",
      "/home/natalia/Documents/github_image_analysis/image_analysis/image_analysis/fit/regionprops.py:31: RuntimeWarning: Mean of empty slice\n",
      "  img_arr_z = np.nanmean(np.nanmean(img_arr, axis=1), axis=1)\n"
     ]
    },
    {
     "name": "stdout",
     "output_type": "stream",
     "text": [
      "rotation around x:\n",
      "-67.61986494804042 0 0\n",
      "dictionary, with 3d data\n",
      "dictionary, with 3d data\n",
      "rotation around y:\n",
      "0 0 80.19683710125541\n",
      "dictionary, with 3d data\n",
      "dictionary, with 3d data\n",
      "angle beetween ey and sf: 1\n"
     ]
    },
    {
     "name": "stderr",
     "output_type": "stream",
     "text": [
      "/home/natalia/Documents/github_image_analysis/image_analysis/image_analysis/fit/regionprops.py:25: RuntimeWarning: Mean of empty slice\n",
      "  img_arr_x = np.nanmean(np.nanmean(img_arr, axis=0), axis=0)\n",
      "/home/natalia/Documents/github_image_analysis/image_analysis/image_analysis/fit/regionprops.py:28: RuntimeWarning: Mean of empty slice\n",
      "  img_arr_y = np.nanmean(np.nanmean(img_arr, axis=0), axis=1)\n",
      "/home/natalia/Documents/github_image_analysis/image_analysis/image_analysis/fit/regionprops.py:31: RuntimeWarning: Mean of empty slice\n",
      "  img_arr_z = np.nanmean(np.nanmean(img_arr, axis=1), axis=1)\n"
     ]
    },
    {
     "name": "stdout",
     "output_type": "stream",
     "text": [
      "rotation around x:\n",
      "-66.8014094863518 0 0\n",
      "dictionary, with 3d data\n",
      "dictionary, with 3d data\n",
      "rotation around y:\n",
      "0 0 81.46989097430284\n",
      "dictionary, with 3d data\n",
      "dictionary, with 3d data\n",
      "angle beetween ey and sf: 1\n"
     ]
    },
    {
     "name": "stderr",
     "output_type": "stream",
     "text": [
      "/home/natalia/Documents/github_image_analysis/image_analysis/image_analysis/fit/regionprops.py:25: RuntimeWarning: Mean of empty slice\n",
      "  img_arr_x = np.nanmean(np.nanmean(img_arr, axis=0), axis=0)\n",
      "/home/natalia/Documents/github_image_analysis/image_analysis/image_analysis/fit/regionprops.py:28: RuntimeWarning: Mean of empty slice\n",
      "  img_arr_y = np.nanmean(np.nanmean(img_arr, axis=0), axis=1)\n",
      "/home/natalia/Documents/github_image_analysis/image_analysis/image_analysis/fit/regionprops.py:31: RuntimeWarning: Mean of empty slice\n",
      "  img_arr_z = np.nanmean(np.nanmean(img_arr, axis=1), axis=1)\n"
     ]
    },
    {
     "name": "stdout",
     "output_type": "stream",
     "text": [
      "rotation around x:\n",
      "-50.19442890773479 0 0\n",
      "dictionary, with 3d data\n",
      "dictionary, with 3d data\n",
      "rotation around y:\n",
      "0 0 84.21944727654814\n",
      "dictionary, with 3d data\n",
      "dictionary, with 3d data\n",
      "angle beetween ey and sf: 1\n"
     ]
    },
    {
     "name": "stderr",
     "output_type": "stream",
     "text": [
      "8it [00:36,  4.46s/it]/home/natalia/Documents/github_image_analysis/image_analysis/image_analysis/fit/regionprops.py:25: RuntimeWarning: Mean of empty slice\n",
      "  img_arr_x = np.nanmean(np.nanmean(img_arr, axis=0), axis=0)\n",
      "/home/natalia/Documents/github_image_analysis/image_analysis/image_analysis/fit/regionprops.py:28: RuntimeWarning: Mean of empty slice\n",
      "  img_arr_y = np.nanmean(np.nanmean(img_arr, axis=0), axis=1)\n",
      "/home/natalia/Documents/github_image_analysis/image_analysis/image_analysis/fit/regionprops.py:31: RuntimeWarning: Mean of empty slice\n",
      "  img_arr_z = np.nanmean(np.nanmean(img_arr, axis=1), axis=1)\n"
     ]
    },
    {
     "name": "stdout",
     "output_type": "stream",
     "text": [
      "rotation around x:\n",
      "38.65980825409009 0 0\n",
      "dictionary, with 3d data\n",
      "dictionary, with 3d data\n",
      "rotation around y:\n",
      "0 0 -76.16698329763368\n",
      "dictionary, with 3d data\n",
      "dictionary, with 3d data\n",
      "angle beetween ey and sf: -4\n"
     ]
    },
    {
     "name": "stderr",
     "output_type": "stream",
     "text": [
      "/home/natalia/Documents/github_image_analysis/image_analysis/image_analysis/fit/regionprops.py:25: RuntimeWarning: Mean of empty slice\n",
      "  img_arr_x = np.nanmean(np.nanmean(img_arr, axis=0), axis=0)\n",
      "/home/natalia/Documents/github_image_analysis/image_analysis/image_analysis/fit/regionprops.py:28: RuntimeWarning: Mean of empty slice\n",
      "  img_arr_y = np.nanmean(np.nanmean(img_arr, axis=0), axis=1)\n",
      "/home/natalia/Documents/github_image_analysis/image_analysis/image_analysis/fit/regionprops.py:31: RuntimeWarning: Mean of empty slice\n",
      "  img_arr_z = np.nanmean(np.nanmean(img_arr, axis=1), axis=1)\n"
     ]
    },
    {
     "name": "stdout",
     "output_type": "stream",
     "text": [
      "rotation around x:\n",
      "-51.34019174590992 0 0\n",
      "dictionary, with 3d data\n",
      "dictionary, with 3d data\n",
      "rotation around y:\n",
      "0 0 82.27570076610733\n",
      "dictionary, with 3d data\n",
      "dictionary, with 3d data\n",
      "angle beetween ey and sf: 2\n"
     ]
    },
    {
     "name": "stderr",
     "output_type": "stream",
     "text": [
      "/home/natalia/Documents/github_image_analysis/image_analysis/image_analysis/fit/regionprops.py:25: RuntimeWarning: Mean of empty slice\n",
      "  img_arr_x = np.nanmean(np.nanmean(img_arr, axis=0), axis=0)\n",
      "/home/natalia/Documents/github_image_analysis/image_analysis/image_analysis/fit/regionprops.py:28: RuntimeWarning: Mean of empty slice\n",
      "  img_arr_y = np.nanmean(np.nanmean(img_arr, axis=0), axis=1)\n",
      "/home/natalia/Documents/github_image_analysis/image_analysis/image_analysis/fit/regionprops.py:31: RuntimeWarning: Mean of empty slice\n",
      "  img_arr_z = np.nanmean(np.nanmean(img_arr, axis=1), axis=1)\n"
     ]
    },
    {
     "name": "stdout",
     "output_type": "stream",
     "text": [
      "rotation around x:\n",
      "-8.746162262555202 0 0\n",
      "dictionary, with 3d data\n",
      "dictionary, with 3d data\n",
      "rotation around y:\n",
      "0 0 81.40466094409852\n",
      "dictionary, with 3d data\n",
      "dictionary, with 3d data\n",
      "angle beetween ey and sf: -1\n"
     ]
    },
    {
     "name": "stderr",
     "output_type": "stream",
     "text": [
      "/home/natalia/Documents/github_image_analysis/image_analysis/image_analysis/fit/regionprops.py:25: RuntimeWarning: Mean of empty slice\n",
      "  img_arr_x = np.nanmean(np.nanmean(img_arr, axis=0), axis=0)\n",
      "/home/natalia/Documents/github_image_analysis/image_analysis/image_analysis/fit/regionprops.py:28: RuntimeWarning: Mean of empty slice\n",
      "  img_arr_y = np.nanmean(np.nanmean(img_arr, axis=0), axis=1)\n",
      "/home/natalia/Documents/github_image_analysis/image_analysis/image_analysis/fit/regionprops.py:31: RuntimeWarning: Mean of empty slice\n",
      "  img_arr_z = np.nanmean(np.nanmean(img_arr, axis=1), axis=1)\n"
     ]
    },
    {
     "name": "stdout",
     "output_type": "stream",
     "text": [
      "rotation around x:\n",
      "-6.340191745909948 0 0\n",
      "dictionary, with 3d data\n",
      "dictionary, with 3d data\n",
      "rotation around y:\n",
      "0 0 78.31363341704834\n",
      "dictionary, with 3d data\n",
      "dictionary, with 3d data\n",
      "angle beetween ey and sf: -1\n"
     ]
    },
    {
     "name": "stderr",
     "output_type": "stream",
     "text": [
      "/home/natalia/Documents/github_image_analysis/image_analysis/image_analysis/fit/regionprops.py:25: RuntimeWarning: Mean of empty slice\n",
      "  img_arr_x = np.nanmean(np.nanmean(img_arr, axis=0), axis=0)\n",
      "/home/natalia/Documents/github_image_analysis/image_analysis/image_analysis/fit/regionprops.py:28: RuntimeWarning: Mean of empty slice\n",
      "  img_arr_y = np.nanmean(np.nanmean(img_arr, axis=0), axis=1)\n",
      "/home/natalia/Documents/github_image_analysis/image_analysis/image_analysis/fit/regionprops.py:31: RuntimeWarning: Mean of empty slice\n",
      "  img_arr_z = np.nanmean(np.nanmean(img_arr, axis=1), axis=1)\n"
     ]
    },
    {
     "name": "stdout",
     "output_type": "stream",
     "text": [
      "rotation around x:\n",
      "-11.888658039627984 0 0\n",
      "dictionary, with 3d data\n",
      "dictionary, with 3d data\n",
      "rotation around y:\n",
      "0 0 77.54501600599762\n",
      "dictionary, with 3d data\n",
      "dictionary, with 3d data\n",
      "angle beetween ey and sf: -1\n"
     ]
    },
    {
     "name": "stderr",
     "output_type": "stream",
     "text": [
      "9it [00:43,  5.17s/it]/home/natalia/Documents/github_image_analysis/image_analysis/image_analysis/fit/regionprops.py:25: RuntimeWarning: Mean of empty slice\n",
      "  img_arr_x = np.nanmean(np.nanmean(img_arr, axis=0), axis=0)\n",
      "/home/natalia/Documents/github_image_analysis/image_analysis/image_analysis/fit/regionprops.py:28: RuntimeWarning: Mean of empty slice\n",
      "  img_arr_y = np.nanmean(np.nanmean(img_arr, axis=0), axis=1)\n",
      "/home/natalia/Documents/github_image_analysis/image_analysis/image_analysis/fit/regionprops.py:31: RuntimeWarning: Mean of empty slice\n",
      "  img_arr_z = np.nanmean(np.nanmean(img_arr, axis=1), axis=1)\n"
     ]
    },
    {
     "name": "stdout",
     "output_type": "stream",
     "text": [
      "rotation around x:\n",
      "-19.53665493812838 0 0\n",
      "dictionary, with 3d data\n",
      "dictionary, with 3d data\n",
      "rotation around y:\n",
      "0 0 71.58319184678899\n",
      "dictionary, with 3d data\n",
      "dictionary, with 3d data\n",
      "angle beetween ey and sf: 4\n"
     ]
    },
    {
     "name": "stderr",
     "output_type": "stream",
     "text": [
      "/home/natalia/Documents/github_image_analysis/image_analysis/image_analysis/fit/regionprops.py:25: RuntimeWarning: Mean of empty slice\n",
      "  img_arr_x = np.nanmean(np.nanmean(img_arr, axis=0), axis=0)\n",
      "/home/natalia/Documents/github_image_analysis/image_analysis/image_analysis/fit/regionprops.py:28: RuntimeWarning: Mean of empty slice\n",
      "  img_arr_y = np.nanmean(np.nanmean(img_arr, axis=0), axis=1)\n",
      "/home/natalia/Documents/github_image_analysis/image_analysis/image_analysis/fit/regionprops.py:31: RuntimeWarning: Mean of empty slice\n",
      "  img_arr_z = np.nanmean(np.nanmean(img_arr, axis=1), axis=1)\n"
     ]
    },
    {
     "name": "stdout",
     "output_type": "stream",
     "text": [
      "rotation around x:\n",
      "-16.858398767738265 0 0\n",
      "dictionary, with 3d data\n",
      "dictionary, with 3d data\n",
      "rotation around y:\n",
      "0 0 70.79937225013536\n",
      "dictionary, with 3d data\n",
      "dictionary, with 3d data\n",
      "angle beetween ey and sf: 4\n"
     ]
    },
    {
     "name": "stderr",
     "output_type": "stream",
     "text": [
      "/home/natalia/Documents/github_image_analysis/image_analysis/image_analysis/fit/regionprops.py:25: RuntimeWarning: Mean of empty slice\n",
      "  img_arr_x = np.nanmean(np.nanmean(img_arr, axis=0), axis=0)\n",
      "/home/natalia/Documents/github_image_analysis/image_analysis/image_analysis/fit/regionprops.py:28: RuntimeWarning: Mean of empty slice\n",
      "  img_arr_y = np.nanmean(np.nanmean(img_arr, axis=0), axis=1)\n",
      "/home/natalia/Documents/github_image_analysis/image_analysis/image_analysis/fit/regionprops.py:31: RuntimeWarning: Mean of empty slice\n",
      "  img_arr_z = np.nanmean(np.nanmean(img_arr, axis=1), axis=1)\n"
     ]
    },
    {
     "name": "stdout",
     "output_type": "stream",
     "text": [
      "rotation around x:\n",
      "-19.53665493812838 0 0\n",
      "dictionary, with 3d data\n",
      "dictionary, with 3d data\n",
      "rotation around y:\n",
      "0 0 70.57115538924604\n",
      "dictionary, with 3d data\n",
      "dictionary, with 3d data\n",
      "angle beetween ey and sf: 3\n"
     ]
    },
    {
     "name": "stderr",
     "output_type": "stream",
     "text": [
      "/home/natalia/Documents/github_image_analysis/image_analysis/image_analysis/fit/regionprops.py:25: RuntimeWarning: Mean of empty slice\n",
      "  img_arr_x = np.nanmean(np.nanmean(img_arr, axis=0), axis=0)\n",
      "/home/natalia/Documents/github_image_analysis/image_analysis/image_analysis/fit/regionprops.py:28: RuntimeWarning: Mean of empty slice\n",
      "  img_arr_y = np.nanmean(np.nanmean(img_arr, axis=0), axis=1)\n",
      "/home/natalia/Documents/github_image_analysis/image_analysis/image_analysis/fit/regionprops.py:31: RuntimeWarning: Mean of empty slice\n",
      "  img_arr_z = np.nanmean(np.nanmean(img_arr, axis=1), axis=1)\n"
     ]
    },
    {
     "name": "stdout",
     "output_type": "stream",
     "text": [
      "rotation around x:\n",
      "-19.53665493812838 0 0\n",
      "dictionary, with 3d data\n",
      "dictionary, with 3d data\n",
      "rotation around y:\n",
      "0 0 70.9791591015151\n",
      "dictionary, with 3d data\n",
      "dictionary, with 3d data\n",
      "angle beetween ey and sf: 5\n"
     ]
    },
    {
     "name": "stderr",
     "output_type": "stream",
     "text": [
      "/home/natalia/Documents/github_image_analysis/image_analysis/image_analysis/fit/regionprops.py:25: RuntimeWarning: Mean of empty slice\n",
      "  img_arr_x = np.nanmean(np.nanmean(img_arr, axis=0), axis=0)\n",
      "/home/natalia/Documents/github_image_analysis/image_analysis/image_analysis/fit/regionprops.py:28: RuntimeWarning: Mean of empty slice\n",
      "  img_arr_y = np.nanmean(np.nanmean(img_arr, axis=0), axis=1)\n",
      "/home/natalia/Documents/github_image_analysis/image_analysis/image_analysis/fit/regionprops.py:31: RuntimeWarning: Mean of empty slice\n",
      "  img_arr_z = np.nanmean(np.nanmean(img_arr, axis=1), axis=1)\n"
     ]
    },
    {
     "name": "stdout",
     "output_type": "stream",
     "text": [
      "rotation around x:\n",
      "-20.323136829662957 0 0\n",
      "dictionary, with 3d data\n",
      "dictionary, with 3d data\n",
      "rotation around y:\n",
      "0 0 72.3156274780867\n",
      "dictionary, with 3d data\n",
      "dictionary, with 3d data\n",
      "strange rotation\n",
      "angle beetween ey and sf: 6\n"
     ]
    },
    {
     "name": "stderr",
     "output_type": "stream",
     "text": [
      "10it [00:50,  5.86s/it]/home/natalia/Documents/github_image_analysis/image_analysis/image_analysis/fit/regionprops.py:25: RuntimeWarning: Mean of empty slice\n",
      "  img_arr_x = np.nanmean(np.nanmean(img_arr, axis=0), axis=0)\n",
      "/home/natalia/Documents/github_image_analysis/image_analysis/image_analysis/fit/regionprops.py:28: RuntimeWarning: Mean of empty slice\n",
      "  img_arr_y = np.nanmean(np.nanmean(img_arr, axis=0), axis=1)\n",
      "/home/natalia/Documents/github_image_analysis/image_analysis/image_analysis/fit/regionprops.py:31: RuntimeWarning: Mean of empty slice\n",
      "  img_arr_z = np.nanmean(np.nanmean(img_arr, axis=1), axis=1)\n"
     ]
    },
    {
     "name": "stdout",
     "output_type": "stream",
     "text": [
      "rotation around x:\n",
      "-5.572197803963775 0 0\n",
      "dictionary, with 3d data\n",
      "dictionary, with 3d data\n",
      "rotation around y:\n",
      "0 0 13.201627708191822\n",
      "dictionary, with 3d data\n",
      "dictionary, with 3d data\n",
      "angle beetween ey and sf: 3\n"
     ]
    },
    {
     "name": "stderr",
     "output_type": "stream",
     "text": [
      "/home/natalia/Documents/github_image_analysis/image_analysis/image_analysis/fit/regionprops.py:25: RuntimeWarning: Mean of empty slice\n",
      "  img_arr_x = np.nanmean(np.nanmean(img_arr, axis=0), axis=0)\n",
      "/home/natalia/Documents/github_image_analysis/image_analysis/image_analysis/fit/regionprops.py:28: RuntimeWarning: Mean of empty slice\n",
      "  img_arr_y = np.nanmean(np.nanmean(img_arr, axis=0), axis=1)\n",
      "/home/natalia/Documents/github_image_analysis/image_analysis/image_analysis/fit/regionprops.py:31: RuntimeWarning: Mean of empty slice\n",
      "  img_arr_z = np.nanmean(np.nanmean(img_arr, axis=1), axis=1)\n"
     ]
    },
    {
     "name": "stdout",
     "output_type": "stream",
     "text": [
      "rotation around x:\n",
      "-6.11550356628544 0 0\n",
      "dictionary, with 3d data\n",
      "dictionary, with 3d data\n",
      "rotation around y:\n",
      "0 0 14.097229152243004\n",
      "dictionary, with 3d data\n",
      "dictionary, with 3d data\n",
      "angle beetween ey and sf: 2\n"
     ]
    },
    {
     "name": "stderr",
     "output_type": "stream",
     "text": [
      "/home/natalia/Documents/github_image_analysis/image_analysis/image_analysis/fit/regionprops.py:25: RuntimeWarning: Mean of empty slice\n",
      "  img_arr_x = np.nanmean(np.nanmean(img_arr, axis=0), axis=0)\n",
      "/home/natalia/Documents/github_image_analysis/image_analysis/image_analysis/fit/regionprops.py:28: RuntimeWarning: Mean of empty slice\n",
      "  img_arr_y = np.nanmean(np.nanmean(img_arr, axis=0), axis=1)\n",
      "/home/natalia/Documents/github_image_analysis/image_analysis/image_analysis/fit/regionprops.py:31: RuntimeWarning: Mean of empty slice\n",
      "  img_arr_z = np.nanmean(np.nanmean(img_arr, axis=1), axis=1)\n"
     ]
    },
    {
     "name": "stdout",
     "output_type": "stream",
     "text": [
      "rotation around x:\n",
      "-6.49934627965456 0 0\n",
      "dictionary, with 3d data\n",
      "dictionary, with 3d data\n",
      "rotation around y:\n",
      "0 0 18.6495387540514\n",
      "dictionary, with 3d data\n",
      "dictionary, with 3d data\n",
      "angle beetween ey and sf: 3\n"
     ]
    },
    {
     "name": "stderr",
     "output_type": "stream",
     "text": [
      "/home/natalia/Documents/github_image_analysis/image_analysis/image_analysis/fit/regionprops.py:25: RuntimeWarning: Mean of empty slice\n",
      "  img_arr_x = np.nanmean(np.nanmean(img_arr, axis=0), axis=0)\n",
      "/home/natalia/Documents/github_image_analysis/image_analysis/image_analysis/fit/regionprops.py:28: RuntimeWarning: Mean of empty slice\n",
      "  img_arr_y = np.nanmean(np.nanmean(img_arr, axis=0), axis=1)\n",
      "/home/natalia/Documents/github_image_analysis/image_analysis/image_analysis/fit/regionprops.py:31: RuntimeWarning: Mean of empty slice\n",
      "  img_arr_z = np.nanmean(np.nanmean(img_arr, axis=1), axis=1)\n"
     ]
    },
    {
     "name": "stdout",
     "output_type": "stream",
     "text": [
      "rotation around x:\n",
      "-2.353296866108195 0 0\n",
      "dictionary, with 3d data\n",
      "dictionary, with 3d data\n",
      "rotation around y:\n",
      "0 0 20.29756977222869\n",
      "dictionary, with 3d data\n",
      "dictionary, with 3d data\n",
      "angle beetween ey and sf: 2\n"
     ]
    },
    {
     "name": "stderr",
     "output_type": "stream",
     "text": [
      "/home/natalia/Documents/github_image_analysis/image_analysis/image_analysis/fit/regionprops.py:25: RuntimeWarning: Mean of empty slice\n",
      "  img_arr_x = np.nanmean(np.nanmean(img_arr, axis=0), axis=0)\n",
      "/home/natalia/Documents/github_image_analysis/image_analysis/image_analysis/fit/regionprops.py:28: RuntimeWarning: Mean of empty slice\n",
      "  img_arr_y = np.nanmean(np.nanmean(img_arr, axis=0), axis=1)\n",
      "/home/natalia/Documents/github_image_analysis/image_analysis/image_analysis/fit/regionprops.py:31: RuntimeWarning: Mean of empty slice\n",
      "  img_arr_z = np.nanmean(np.nanmean(img_arr, axis=1), axis=1)\n"
     ]
    },
    {
     "name": "stdout",
     "output_type": "stream",
     "text": [
      "rotation around x:\n",
      "-2.3215305898326903 0 0\n",
      "dictionary, with 3d data\n",
      "dictionary, with 3d data\n",
      "rotation around y:\n",
      "0 0 26.87813975209865\n",
      "dictionary, with 3d data\n",
      "dictionary, with 3d data\n"
     ]
    },
    {
     "name": "stderr",
     "output_type": "stream",
     "text": [
      "11it [00:55,  5.47s/it]"
     ]
    },
    {
     "name": "stdout",
     "output_type": "stream",
     "text": [
      "angle beetween ey and sf: 2\n"
     ]
    },
    {
     "name": "stderr",
     "output_type": "stream",
     "text": [
      "/home/natalia/Documents/github_image_analysis/image_analysis/image_analysis/fit/regionprops.py:25: RuntimeWarning: Mean of empty slice\n",
      "  img_arr_x = np.nanmean(np.nanmean(img_arr, axis=0), axis=0)\n",
      "/home/natalia/Documents/github_image_analysis/image_analysis/image_analysis/fit/regionprops.py:28: RuntimeWarning: Mean of empty slice\n",
      "  img_arr_y = np.nanmean(np.nanmean(img_arr, axis=0), axis=1)\n",
      "/home/natalia/Documents/github_image_analysis/image_analysis/image_analysis/fit/regionprops.py:31: RuntimeWarning: Mean of empty slice\n",
      "  img_arr_z = np.nanmean(np.nanmean(img_arr, axis=1), axis=1)\n"
     ]
    },
    {
     "name": "stdout",
     "output_type": "stream",
     "text": [
      "rotation around x:\n",
      "5.648247373735244 0 0\n",
      "dictionary, with 3d data\n",
      "dictionary, with 3d data\n",
      "rotation around y:\n",
      "0 0 -47.442591214818066\n",
      "dictionary, with 3d data\n",
      "dictionary, with 3d data\n",
      "angle beetween ey and sf: 2\n"
     ]
    },
    {
     "name": "stderr",
     "output_type": "stream",
     "text": [
      "/home/natalia/Documents/github_image_analysis/image_analysis/image_analysis/fit/regionprops.py:25: RuntimeWarning: Mean of empty slice\n",
      "  img_arr_x = np.nanmean(np.nanmean(img_arr, axis=0), axis=0)\n",
      "/home/natalia/Documents/github_image_analysis/image_analysis/image_analysis/fit/regionprops.py:28: RuntimeWarning: Mean of empty slice\n",
      "  img_arr_y = np.nanmean(np.nanmean(img_arr, axis=0), axis=1)\n",
      "/home/natalia/Documents/github_image_analysis/image_analysis/image_analysis/fit/regionprops.py:31: RuntimeWarning: Mean of empty slice\n",
      "  img_arr_z = np.nanmean(np.nanmean(img_arr, axis=1), axis=1)\n"
     ]
    },
    {
     "name": "stdout",
     "output_type": "stream",
     "text": [
      "rotation around x:\n",
      "6.84277341263097 0 0\n",
      "dictionary, with 3d data\n",
      "dictionary, with 3d data\n",
      "rotation around y:\n",
      "0 0 -54.20762224145528\n",
      "dictionary, with 3d data\n",
      "dictionary, with 3d data\n",
      "angle beetween ey and sf: 1\n",
      "rotation around x:\n",
      "6.93434890126956 0 0\n"
     ]
    },
    {
     "name": "stderr",
     "output_type": "stream",
     "text": [
      "/home/natalia/Documents/github_image_analysis/image_analysis/image_analysis/fit/regionprops.py:25: RuntimeWarning: Mean of empty slice\n",
      "  img_arr_x = np.nanmean(np.nanmean(img_arr, axis=0), axis=0)\n",
      "/home/natalia/Documents/github_image_analysis/image_analysis/image_analysis/fit/regionprops.py:28: RuntimeWarning: Mean of empty slice\n",
      "  img_arr_y = np.nanmean(np.nanmean(img_arr, axis=0), axis=1)\n",
      "/home/natalia/Documents/github_image_analysis/image_analysis/image_analysis/fit/regionprops.py:31: RuntimeWarning: Mean of empty slice\n",
      "  img_arr_z = np.nanmean(np.nanmean(img_arr, axis=1), axis=1)\n"
     ]
    },
    {
     "name": "stdout",
     "output_type": "stream",
     "text": [
      "dictionary, with 3d data\n",
      "dictionary, with 3d data\n",
      "rotation around y:\n",
      "0 0 -54.56793709324553\n",
      "dictionary, with 3d data\n",
      "dictionary, with 3d data\n",
      "angle beetween ey and sf: 1\n"
     ]
    },
    {
     "name": "stderr",
     "output_type": "stream",
     "text": [
      "/home/natalia/Documents/github_image_analysis/image_analysis/image_analysis/fit/regionprops.py:25: RuntimeWarning: Mean of empty slice\n",
      "  img_arr_x = np.nanmean(np.nanmean(img_arr, axis=0), axis=0)\n",
      "/home/natalia/Documents/github_image_analysis/image_analysis/image_analysis/fit/regionprops.py:28: RuntimeWarning: Mean of empty slice\n",
      "  img_arr_y = np.nanmean(np.nanmean(img_arr, axis=0), axis=1)\n",
      "/home/natalia/Documents/github_image_analysis/image_analysis/image_analysis/fit/regionprops.py:31: RuntimeWarning: Mean of empty slice\n",
      "  img_arr_z = np.nanmean(np.nanmean(img_arr, axis=1), axis=1)\n"
     ]
    },
    {
     "name": "stdout",
     "output_type": "stream",
     "text": [
      "rotation around x:\n",
      "4.573921259900897 0 0\n",
      "dictionary, with 3d data\n",
      "dictionary, with 3d data\n",
      "rotation around y:\n",
      "0 0 -53.843076245441296\n",
      "dictionary, with 3d data\n",
      "dictionary, with 3d data\n",
      "angle beetween ey and sf: 1\n",
      "rotation around x:\n",
      "1.397181027296108 0 0\n"
     ]
    },
    {
     "name": "stderr",
     "output_type": "stream",
     "text": [
      "/home/natalia/Documents/github_image_analysis/image_analysis/image_analysis/fit/regionprops.py:25: RuntimeWarning: Mean of empty slice\n",
      "  img_arr_x = np.nanmean(np.nanmean(img_arr, axis=0), axis=0)\n",
      "/home/natalia/Documents/github_image_analysis/image_analysis/image_analysis/fit/regionprops.py:28: RuntimeWarning: Mean of empty slice\n",
      "  img_arr_y = np.nanmean(np.nanmean(img_arr, axis=0), axis=1)\n",
      "/home/natalia/Documents/github_image_analysis/image_analysis/image_analysis/fit/regionprops.py:31: RuntimeWarning: Mean of empty slice\n",
      "  img_arr_z = np.nanmean(np.nanmean(img_arr, axis=1), axis=1)\n"
     ]
    },
    {
     "name": "stdout",
     "output_type": "stream",
     "text": [
      "dictionary, with 3d data\n",
      "dictionary, with 3d data\n",
      "rotation around y:\n",
      "0 0 -50.92750419239016\n",
      "dictionary, with 3d data\n",
      "dictionary, with 3d data\n",
      "angle beetween ey and sf: -1\n"
     ]
    },
    {
     "name": "stderr",
     "output_type": "stream",
     "text": [
      "12it [00:59,  5.24s/it]/home/natalia/Documents/github_image_analysis/image_analysis/image_analysis/fit/regionprops.py:25: RuntimeWarning: Mean of empty slice\n",
      "  img_arr_x = np.nanmean(np.nanmean(img_arr, axis=0), axis=0)\n",
      "/home/natalia/Documents/github_image_analysis/image_analysis/image_analysis/fit/regionprops.py:28: RuntimeWarning: Mean of empty slice\n",
      "  img_arr_y = np.nanmean(np.nanmean(img_arr, axis=0), axis=1)\n",
      "/home/natalia/Documents/github_image_analysis/image_analysis/image_analysis/fit/regionprops.py:31: RuntimeWarning: Mean of empty slice\n",
      "  img_arr_z = np.nanmean(np.nanmean(img_arr, axis=1), axis=1)\n"
     ]
    },
    {
     "name": "stdout",
     "output_type": "stream",
     "text": [
      "rotation around x:\n",
      "33.690067525979785 0 0\n",
      "dictionary, with 3d data\n",
      "dictionary, with 3d data\n",
      "rotation around y:\n",
      "0 0 -84.49452214202167\n",
      "dictionary, with 3d data\n",
      "dictionary, with 3d data\n",
      "angle beetween ey and sf: -2\n"
     ]
    },
    {
     "name": "stderr",
     "output_type": "stream",
     "text": [
      "/home/natalia/Documents/github_image_analysis/image_analysis/image_analysis/fit/regionprops.py:25: RuntimeWarning: Mean of empty slice\n",
      "  img_arr_x = np.nanmean(np.nanmean(img_arr, axis=0), axis=0)\n",
      "/home/natalia/Documents/github_image_analysis/image_analysis/image_analysis/fit/regionprops.py:28: RuntimeWarning: Mean of empty slice\n",
      "  img_arr_y = np.nanmean(np.nanmean(img_arr, axis=0), axis=1)\n",
      "/home/natalia/Documents/github_image_analysis/image_analysis/image_analysis/fit/regionprops.py:31: RuntimeWarning: Mean of empty slice\n",
      "  img_arr_z = np.nanmean(np.nanmean(img_arr, axis=1), axis=1)\n"
     ]
    },
    {
     "name": "stdout",
     "output_type": "stream",
     "text": [
      "rotation around x:\n",
      "-24.443954780416533 0 0\n",
      "dictionary, with 3d data\n",
      "dictionary, with 3d data\n",
      "rotation around y:\n",
      "0 0 80.11568035641233\n",
      "dictionary, with 3d data\n",
      "dictionary, with 3d data\n",
      "angle beetween ey and sf: 2\n"
     ]
    },
    {
     "name": "stderr",
     "output_type": "stream",
     "text": [
      "/home/natalia/Documents/github_image_analysis/image_analysis/image_analysis/fit/regionprops.py:25: RuntimeWarning: Mean of empty slice\n",
      "  img_arr_x = np.nanmean(np.nanmean(img_arr, axis=0), axis=0)\n",
      "/home/natalia/Documents/github_image_analysis/image_analysis/image_analysis/fit/regionprops.py:28: RuntimeWarning: Mean of empty slice\n",
      "  img_arr_y = np.nanmean(np.nanmean(img_arr, axis=0), axis=1)\n",
      "/home/natalia/Documents/github_image_analysis/image_analysis/image_analysis/fit/regionprops.py:31: RuntimeWarning: Mean of empty slice\n",
      "  img_arr_z = np.nanmean(np.nanmean(img_arr, axis=1), axis=1)\n"
     ]
    },
    {
     "name": "stdout",
     "output_type": "stream",
     "text": [
      "rotation around x:\n",
      "-26.565051177077976 0 0\n",
      "dictionary, with 3d data\n",
      "dictionary, with 3d data\n",
      "rotation around y:\n",
      "0 0 85.8802549126795\n",
      "dictionary, with 3d data\n",
      "dictionary, with 3d data\n",
      "angle beetween ey and sf: 3\n"
     ]
    },
    {
     "name": "stderr",
     "output_type": "stream",
     "text": [
      "/home/natalia/Documents/github_image_analysis/image_analysis/image_analysis/fit/regionprops.py:25: RuntimeWarning: Mean of empty slice\n",
      "  img_arr_x = np.nanmean(np.nanmean(img_arr, axis=0), axis=0)\n",
      "/home/natalia/Documents/github_image_analysis/image_analysis/image_analysis/fit/regionprops.py:28: RuntimeWarning: Mean of empty slice\n",
      "  img_arr_y = np.nanmean(np.nanmean(img_arr, axis=0), axis=1)\n",
      "/home/natalia/Documents/github_image_analysis/image_analysis/image_analysis/fit/regionprops.py:31: RuntimeWarning: Mean of empty slice\n",
      "  img_arr_z = np.nanmean(np.nanmean(img_arr, axis=1), axis=1)\n"
     ]
    },
    {
     "name": "stdout",
     "output_type": "stream",
     "text": [
      "rotation around x:\n",
      "77.00538320808349 0 0\n",
      "dictionary, with 3d data\n",
      "dictionary, with 3d data\n",
      "rotation around y:\n",
      "0 0 -83.07278187399083\n",
      "dictionary, with 3d data\n",
      "dictionary, with 3d data\n",
      "angle beetween ey and sf: -1\n"
     ]
    },
    {
     "name": "stderr",
     "output_type": "stream",
     "text": [
      "/home/natalia/Documents/github_image_analysis/image_analysis/image_analysis/fit/regionprops.py:25: RuntimeWarning: Mean of empty slice\n",
      "  img_arr_x = np.nanmean(np.nanmean(img_arr, axis=0), axis=0)\n",
      "/home/natalia/Documents/github_image_analysis/image_analysis/image_analysis/fit/regionprops.py:28: RuntimeWarning: Mean of empty slice\n",
      "  img_arr_y = np.nanmean(np.nanmean(img_arr, axis=0), axis=1)\n",
      "/home/natalia/Documents/github_image_analysis/image_analysis/image_analysis/fit/regionprops.py:31: RuntimeWarning: Mean of empty slice\n",
      "  img_arr_z = np.nanmean(np.nanmean(img_arr, axis=1), axis=1)\n"
     ]
    },
    {
     "name": "stdout",
     "output_type": "stream",
     "text": [
      "rotation around x:\n",
      "70.3461759419467 0 0\n",
      "dictionary, with 3d data\n",
      "dictionary, with 3d data\n",
      "rotation around y:\n",
      "0 0 -81.41675477514553\n",
      "dictionary, with 3d data\n",
      "dictionary, with 3d data\n",
      "angle beetween ey and sf: -1\n"
     ]
    },
    {
     "name": "stderr",
     "output_type": "stream",
     "text": [
      "13it [01:07,  5.92s/it]/home/natalia/Documents/github_image_analysis/image_analysis/image_analysis/fit/regionprops.py:25: RuntimeWarning: Mean of empty slice\n",
      "  img_arr_x = np.nanmean(np.nanmean(img_arr, axis=0), axis=0)\n",
      "/home/natalia/Documents/github_image_analysis/image_analysis/image_analysis/fit/regionprops.py:28: RuntimeWarning: Mean of empty slice\n",
      "  img_arr_y = np.nanmean(np.nanmean(img_arr, axis=0), axis=1)\n",
      "/home/natalia/Documents/github_image_analysis/image_analysis/image_analysis/fit/regionprops.py:31: RuntimeWarning: Mean of empty slice\n",
      "  img_arr_z = np.nanmean(np.nanmean(img_arr, axis=1), axis=1)\n"
     ]
    },
    {
     "name": "stdout",
     "output_type": "stream",
     "text": [
      "rotation around x:\n",
      "-27.64597536373867 0 0\n",
      "dictionary, with 3d data\n",
      "dictionary, with 3d data\n",
      "rotation around y:\n",
      "0 0 68.07093188439283\n",
      "dictionary, with 3d data\n",
      "dictionary, with 3d data\n",
      "angle beetween ey and sf: 4\n"
     ]
    },
    {
     "name": "stderr",
     "output_type": "stream",
     "text": [
      "/home/natalia/Documents/github_image_analysis/image_analysis/image_analysis/fit/regionprops.py:25: RuntimeWarning: Mean of empty slice\n",
      "  img_arr_x = np.nanmean(np.nanmean(img_arr, axis=0), axis=0)\n",
      "/home/natalia/Documents/github_image_analysis/image_analysis/image_analysis/fit/regionprops.py:28: RuntimeWarning: Mean of empty slice\n",
      "  img_arr_y = np.nanmean(np.nanmean(img_arr, axis=0), axis=1)\n",
      "/home/natalia/Documents/github_image_analysis/image_analysis/image_analysis/fit/regionprops.py:31: RuntimeWarning: Mean of empty slice\n",
      "  img_arr_z = np.nanmean(np.nanmean(img_arr, axis=1), axis=1)\n"
     ]
    },
    {
     "name": "stdout",
     "output_type": "stream",
     "text": [
      "rotation around x:\n",
      "-28.44292862436336 0 0\n",
      "dictionary, with 3d data\n",
      "dictionary, with 3d data\n",
      "rotation around y:\n",
      "0 0 62.68028735282605\n",
      "dictionary, with 3d data\n",
      "dictionary, with 3d data\n",
      "angle beetween ey and sf: 5\n"
     ]
    },
    {
     "name": "stderr",
     "output_type": "stream",
     "text": [
      "/home/natalia/Documents/github_image_analysis/image_analysis/image_analysis/fit/regionprops.py:25: RuntimeWarning: Mean of empty slice\n",
      "  img_arr_x = np.nanmean(np.nanmean(img_arr, axis=0), axis=0)\n",
      "/home/natalia/Documents/github_image_analysis/image_analysis/image_analysis/fit/regionprops.py:28: RuntimeWarning: Mean of empty slice\n",
      "  img_arr_y = np.nanmean(np.nanmean(img_arr, axis=0), axis=1)\n",
      "/home/natalia/Documents/github_image_analysis/image_analysis/image_analysis/fit/regionprops.py:31: RuntimeWarning: Mean of empty slice\n",
      "  img_arr_z = np.nanmean(np.nanmean(img_arr, axis=1), axis=1)\n"
     ]
    },
    {
     "name": "stdout",
     "output_type": "stream",
     "text": [
      "rotation around x:\n",
      "-34.56252464888183 0 0\n",
      "dictionary, with 3d data\n",
      "dictionary, with 3d data\n",
      "rotation around y:\n",
      "0 0 64.73214098815048\n",
      "dictionary, with 3d data\n",
      "dictionary, with 3d data\n",
      "strange rotation\n",
      "angle beetween ey and sf: 6\n"
     ]
    },
    {
     "name": "stderr",
     "output_type": "stream",
     "text": [
      "/home/natalia/Documents/github_image_analysis/image_analysis/image_analysis/fit/regionprops.py:25: RuntimeWarning: Mean of empty slice\n",
      "  img_arr_x = np.nanmean(np.nanmean(img_arr, axis=0), axis=0)\n",
      "/home/natalia/Documents/github_image_analysis/image_analysis/image_analysis/fit/regionprops.py:28: RuntimeWarning: Mean of empty slice\n",
      "  img_arr_y = np.nanmean(np.nanmean(img_arr, axis=0), axis=1)\n",
      "/home/natalia/Documents/github_image_analysis/image_analysis/image_analysis/fit/regionprops.py:31: RuntimeWarning: Mean of empty slice\n",
      "  img_arr_z = np.nanmean(np.nanmean(img_arr, axis=1), axis=1)\n"
     ]
    },
    {
     "name": "stdout",
     "output_type": "stream",
     "text": [
      "rotation around x:\n",
      "-53.901716032892 0 0\n",
      "dictionary, with 3d data\n",
      "dictionary, with 3d data\n",
      "rotation around y:\n",
      "0 0 64.35970941155747\n",
      "dictionary, with 3d data\n",
      "dictionary, with 3d data\n",
      "angle beetween ey and sf: -1\n"
     ]
    },
    {
     "name": "stderr",
     "output_type": "stream",
     "text": [
      "/home/natalia/Documents/github_image_analysis/image_analysis/image_analysis/fit/regionprops.py:25: RuntimeWarning: Mean of empty slice\n",
      "  img_arr_x = np.nanmean(np.nanmean(img_arr, axis=0), axis=0)\n",
      "/home/natalia/Documents/github_image_analysis/image_analysis/image_analysis/fit/regionprops.py:28: RuntimeWarning: Mean of empty slice\n",
      "  img_arr_y = np.nanmean(np.nanmean(img_arr, axis=0), axis=1)\n",
      "/home/natalia/Documents/github_image_analysis/image_analysis/image_analysis/fit/regionprops.py:31: RuntimeWarning: Mean of empty slice\n",
      "  img_arr_z = np.nanmean(np.nanmean(img_arr, axis=1), axis=1)\n"
     ]
    },
    {
     "name": "stdout",
     "output_type": "stream",
     "text": [
      "rotation around x:\n",
      "-52.943471810590424 0 0\n",
      "dictionary, with 3d data\n",
      "dictionary, with 3d data\n",
      "rotation around y:\n",
      "0 0 63.97957995183381\n",
      "dictionary, with 3d data\n",
      "dictionary, with 3d data\n",
      "angle beetween ey and sf: -1\n"
     ]
    },
    {
     "name": "stderr",
     "output_type": "stream",
     "text": [
      "14it [01:28, 10.60s/it]/home/natalia/Documents/github_image_analysis/image_analysis/image_analysis/fit/regionprops.py:25: RuntimeWarning: Mean of empty slice\n",
      "  img_arr_x = np.nanmean(np.nanmean(img_arr, axis=0), axis=0)\n",
      "/home/natalia/Documents/github_image_analysis/image_analysis/image_analysis/fit/regionprops.py:28: RuntimeWarning: Mean of empty slice\n",
      "  img_arr_y = np.nanmean(np.nanmean(img_arr, axis=0), axis=1)\n",
      "/home/natalia/Documents/github_image_analysis/image_analysis/image_analysis/fit/regionprops.py:31: RuntimeWarning: Mean of empty slice\n",
      "  img_arr_z = np.nanmean(np.nanmean(img_arr, axis=1), axis=1)\n"
     ]
    },
    {
     "name": "stdout",
     "output_type": "stream",
     "text": [
      "rotation around x:\n",
      "-25.016893478100002 0 0\n",
      "dictionary, with 3d data\n",
      "dictionary, with 3d data\n",
      "rotation around y:\n",
      "0 0 48.1227918127987\n",
      "dictionary, with 3d data\n",
      "dictionary, with 3d data\n",
      "strange rotation\n",
      "angle beetween ey and sf: 15\n",
      "rotation around x:\n",
      "-13.495733280795832 0 0\n"
     ]
    },
    {
     "name": "stderr",
     "output_type": "stream",
     "text": [
      "/home/natalia/Documents/github_image_analysis/image_analysis/image_analysis/fit/regionprops.py:25: RuntimeWarning: Mean of empty slice\n",
      "  img_arr_x = np.nanmean(np.nanmean(img_arr, axis=0), axis=0)\n",
      "/home/natalia/Documents/github_image_analysis/image_analysis/image_analysis/fit/regionprops.py:28: RuntimeWarning: Mean of empty slice\n",
      "  img_arr_y = np.nanmean(np.nanmean(img_arr, axis=0), axis=1)\n",
      "/home/natalia/Documents/github_image_analysis/image_analysis/image_analysis/fit/regionprops.py:31: RuntimeWarning: Mean of empty slice\n",
      "  img_arr_z = np.nanmean(np.nanmean(img_arr, axis=1), axis=1)\n"
     ]
    },
    {
     "name": "stdout",
     "output_type": "stream",
     "text": [
      "dictionary, with 3d data\n",
      "dictionary, with 3d data\n",
      "rotation around y:\n",
      "0 0 22.28994448793711\n",
      "dictionary, with 3d data\n",
      "dictionary, with 3d data\n",
      "strange rotation\n",
      "angle beetween ey and sf: 10\n"
     ]
    },
    {
     "name": "stderr",
     "output_type": "stream",
     "text": [
      "/home/natalia/Documents/github_image_analysis/image_analysis/image_analysis/fit/regionprops.py:25: RuntimeWarning: Mean of empty slice\n",
      "  img_arr_x = np.nanmean(np.nanmean(img_arr, axis=0), axis=0)\n",
      "/home/natalia/Documents/github_image_analysis/image_analysis/image_analysis/fit/regionprops.py:28: RuntimeWarning: Mean of empty slice\n",
      "  img_arr_y = np.nanmean(np.nanmean(img_arr, axis=0), axis=1)\n",
      "/home/natalia/Documents/github_image_analysis/image_analysis/image_analysis/fit/regionprops.py:31: RuntimeWarning: Mean of empty slice\n",
      "  img_arr_z = np.nanmean(np.nanmean(img_arr, axis=1), axis=1)\n"
     ]
    },
    {
     "name": "stdout",
     "output_type": "stream",
     "text": [
      "rotation around x:\n",
      "-9.462322208025569 0 0\n",
      "dictionary, with 3d data\n",
      "dictionary, with 3d data\n",
      "rotation around y:\n",
      "0 0 4.166245781782871\n",
      "dictionary, with 3d data\n",
      "dictionary, with 3d data\n",
      "angle beetween ey and sf: 1\n"
     ]
    },
    {
     "name": "stderr",
     "output_type": "stream",
     "text": [
      "/home/natalia/Documents/github_image_analysis/image_analysis/image_analysis/fit/regionprops.py:25: RuntimeWarning: Mean of empty slice\n",
      "  img_arr_x = np.nanmean(np.nanmean(img_arr, axis=0), axis=0)\n",
      "/home/natalia/Documents/github_image_analysis/image_analysis/image_analysis/fit/regionprops.py:28: RuntimeWarning: Mean of empty slice\n",
      "  img_arr_y = np.nanmean(np.nanmean(img_arr, axis=0), axis=1)\n",
      "/home/natalia/Documents/github_image_analysis/image_analysis/image_analysis/fit/regionprops.py:31: RuntimeWarning: Mean of empty slice\n",
      "  img_arr_z = np.nanmean(np.nanmean(img_arr, axis=1), axis=1)\n"
     ]
    },
    {
     "name": "stdout",
     "output_type": "stream",
     "text": [
      "rotation around x:\n",
      "-8.857958763628318 0 0\n",
      "dictionary, with 3d data\n",
      "dictionary, with 3d data\n",
      "rotation around y:\n",
      "0 0 1.5812929325063578\n",
      "dictionary, with 3d data\n",
      "dictionary, with 3d data\n",
      "angle beetween ey and sf: 1\n",
      "rotation around x:\n",
      "-8.901716032891983 0 0\n",
      "dictionary, with 3d data\n",
      "dictionary, with 3d data\n"
     ]
    },
    {
     "name": "stderr",
     "output_type": "stream",
     "text": [
      "/home/natalia/Documents/github_image_analysis/image_analysis/image_analysis/fit/regionprops.py:25: RuntimeWarning: Mean of empty slice\n",
      "  img_arr_x = np.nanmean(np.nanmean(img_arr, axis=0), axis=0)\n",
      "/home/natalia/Documents/github_image_analysis/image_analysis/image_analysis/fit/regionprops.py:28: RuntimeWarning: Mean of empty slice\n",
      "  img_arr_y = np.nanmean(np.nanmean(img_arr, axis=0), axis=1)\n",
      "/home/natalia/Documents/github_image_analysis/image_analysis/image_analysis/fit/regionprops.py:31: RuntimeWarning: Mean of empty slice\n",
      "  img_arr_z = np.nanmean(np.nanmean(img_arr, axis=1), axis=1)\n"
     ]
    },
    {
     "name": "stdout",
     "output_type": "stream",
     "text": [
      "rotation around y:\n",
      "0 0 2.130607543004611\n",
      "dictionary, with 3d data\n",
      "dictionary, with 3d data\n",
      "angle beetween ey and sf: 3\n"
     ]
    },
    {
     "name": "stderr",
     "output_type": "stream",
     "text": [
      "15it [01:31,  8.26s/it]/home/natalia/Documents/github_image_analysis/image_analysis/image_analysis/fit/regionprops.py:25: RuntimeWarning: Mean of empty slice\n",
      "  img_arr_x = np.nanmean(np.nanmean(img_arr, axis=0), axis=0)\n",
      "/home/natalia/Documents/github_image_analysis/image_analysis/image_analysis/fit/regionprops.py:28: RuntimeWarning: Mean of empty slice\n",
      "  img_arr_y = np.nanmean(np.nanmean(img_arr, axis=0), axis=1)\n",
      "/home/natalia/Documents/github_image_analysis/image_analysis/image_analysis/fit/regionprops.py:31: RuntimeWarning: Mean of empty slice\n",
      "  img_arr_z = np.nanmean(np.nanmean(img_arr, axis=1), axis=1)\n"
     ]
    },
    {
     "name": "stdout",
     "output_type": "stream",
     "text": [
      "rotation around x:\n",
      "52.79207807821844 0 0\n",
      "dictionary, with 3d data\n",
      "dictionary, with 3d data\n",
      "rotation around y:\n",
      "0 0 -1.9702577587463732\n",
      "dictionary, with 3d data\n",
      "dictionary, with 3d data\n",
      "angle beetween ey and sf: -2\n"
     ]
    },
    {
     "name": "stderr",
     "output_type": "stream",
     "text": [
      "/home/natalia/Documents/github_image_analysis/image_analysis/image_analysis/fit/regionprops.py:25: RuntimeWarning: Mean of empty slice\n",
      "  img_arr_x = np.nanmean(np.nanmean(img_arr, axis=0), axis=0)\n",
      "/home/natalia/Documents/github_image_analysis/image_analysis/image_analysis/fit/regionprops.py:28: RuntimeWarning: Mean of empty slice\n",
      "  img_arr_y = np.nanmean(np.nanmean(img_arr, axis=0), axis=1)\n",
      "/home/natalia/Documents/github_image_analysis/image_analysis/image_analysis/fit/regionprops.py:31: RuntimeWarning: Mean of empty slice\n",
      "  img_arr_z = np.nanmean(np.nanmean(img_arr, axis=1), axis=1)\n"
     ]
    },
    {
     "name": "stdout",
     "output_type": "stream",
     "text": [
      "rotation around x:\n",
      "54.46232220802561 0 0\n",
      "dictionary, with 3d data\n",
      "dictionary, with 3d data\n",
      "rotation around y:\n",
      "0 0 -3.126935306096372\n",
      "dictionary, with 3d data\n",
      "dictionary, with 3d data\n",
      "angle beetween ey and sf: -2\n"
     ]
    },
    {
     "name": "stderr",
     "output_type": "stream",
     "text": [
      "/home/natalia/Documents/github_image_analysis/image_analysis/image_analysis/fit/regionprops.py:25: RuntimeWarning: Mean of empty slice\n",
      "  img_arr_x = np.nanmean(np.nanmean(img_arr, axis=0), axis=0)\n",
      "/home/natalia/Documents/github_image_analysis/image_analysis/image_analysis/fit/regionprops.py:28: RuntimeWarning: Mean of empty slice\n",
      "  img_arr_y = np.nanmean(np.nanmean(img_arr, axis=0), axis=1)\n",
      "/home/natalia/Documents/github_image_analysis/image_analysis/image_analysis/fit/regionprops.py:31: RuntimeWarning: Mean of empty slice\n",
      "  img_arr_z = np.nanmean(np.nanmean(img_arr, axis=1), axis=1)\n"
     ]
    },
    {
     "name": "stdout",
     "output_type": "stream",
     "text": [
      "rotation around x:\n",
      "55.840305454330576 0 0\n",
      "dictionary, with 3d data\n",
      "dictionary, with 3d data\n",
      "rotation around y:\n",
      "0 0 -4.332313983188556\n",
      "dictionary, with 3d data\n",
      "dictionary, with 3d data\n",
      "angle beetween ey and sf: 0\n",
      "rotation around x:\n",
      "52.957525226917156 0 0\n"
     ]
    },
    {
     "name": "stderr",
     "output_type": "stream",
     "text": [
      "/home/natalia/Documents/github_image_analysis/image_analysis/image_analysis/fit/regionprops.py:25: RuntimeWarning: Mean of empty slice\n",
      "  img_arr_x = np.nanmean(np.nanmean(img_arr, axis=0), axis=0)\n",
      "/home/natalia/Documents/github_image_analysis/image_analysis/image_analysis/fit/regionprops.py:28: RuntimeWarning: Mean of empty slice\n",
      "  img_arr_y = np.nanmean(np.nanmean(img_arr, axis=0), axis=1)\n",
      "/home/natalia/Documents/github_image_analysis/image_analysis/image_analysis/fit/regionprops.py:31: RuntimeWarning: Mean of empty slice\n",
      "  img_arr_z = np.nanmean(np.nanmean(img_arr, axis=1), axis=1)\n"
     ]
    },
    {
     "name": "stdout",
     "output_type": "stream",
     "text": [
      "dictionary, with 3d data\n",
      "dictionary, with 3d data\n",
      "rotation around y:\n",
      "0 0 -6.146625659646666\n",
      "dictionary, with 3d data\n",
      "dictionary, with 3d data\n",
      "angle beetween ey and sf: 0\n"
     ]
    },
    {
     "name": "stderr",
     "output_type": "stream",
     "text": [
      "/home/natalia/Documents/github_image_analysis/image_analysis/image_analysis/fit/regionprops.py:25: RuntimeWarning: Mean of empty slice\n",
      "  img_arr_x = np.nanmean(np.nanmean(img_arr, axis=0), axis=0)\n",
      "/home/natalia/Documents/github_image_analysis/image_analysis/image_analysis/fit/regionprops.py:28: RuntimeWarning: Mean of empty slice\n",
      "  img_arr_y = np.nanmean(np.nanmean(img_arr, axis=0), axis=1)\n",
      "/home/natalia/Documents/github_image_analysis/image_analysis/image_analysis/fit/regionprops.py:31: RuntimeWarning: Mean of empty slice\n",
      "  img_arr_z = np.nanmean(np.nanmean(img_arr, axis=1), axis=1)\n"
     ]
    },
    {
     "name": "stdout",
     "output_type": "stream",
     "text": [
      "rotation around x:\n",
      "50.9061411137705 0 0\n",
      "dictionary, with 3d data\n",
      "dictionary, with 3d data\n",
      "rotation around y:\n",
      "0 0 -7.292637342435487\n"
     ]
    },
    {
     "name": "stderr",
     "output_type": "stream",
     "text": [
      "16it [01:34,  6.75s/it]"
     ]
    },
    {
     "name": "stdout",
     "output_type": "stream",
     "text": [
      "dictionary, with 3d data\n",
      "dictionary, with 3d data\n",
      "angle beetween ey and sf: 1\n"
     ]
    },
    {
     "name": "stderr",
     "output_type": "stream",
     "text": [
      "/home/natalia/Documents/github_image_analysis/image_analysis/image_analysis/fit/regionprops.py:25: RuntimeWarning: Mean of empty slice\n",
      "  img_arr_x = np.nanmean(np.nanmean(img_arr, axis=0), axis=0)\n",
      "/home/natalia/Documents/github_image_analysis/image_analysis/image_analysis/fit/regionprops.py:28: RuntimeWarning: Mean of empty slice\n",
      "  img_arr_y = np.nanmean(np.nanmean(img_arr, axis=0), axis=1)\n",
      "/home/natalia/Documents/github_image_analysis/image_analysis/image_analysis/fit/regionprops.py:31: RuntimeWarning: Mean of empty slice\n",
      "  img_arr_z = np.nanmean(np.nanmean(img_arr, axis=1), axis=1)\n"
     ]
    },
    {
     "name": "stdout",
     "output_type": "stream",
     "text": [
      "rotation around x:\n",
      "78.31063082456082 0 0\n",
      "dictionary, with 3d data\n",
      "dictionary, with 3d data\n",
      "rotation around y:\n",
      "0 0 34.992020198558656\n",
      "dictionary, with 3d data\n",
      "dictionary, with 3d data\n",
      "strange rotation\n",
      "angle beetween ey and sf: 14\n"
     ]
    },
    {
     "name": "stderr",
     "output_type": "stream",
     "text": [
      "/home/natalia/Documents/github_image_analysis/image_analysis/image_analysis/fit/regionprops.py:25: RuntimeWarning: Mean of empty slice\n",
      "  img_arr_x = np.nanmean(np.nanmean(img_arr, axis=0), axis=0)\n",
      "/home/natalia/Documents/github_image_analysis/image_analysis/image_analysis/fit/regionprops.py:28: RuntimeWarning: Mean of empty slice\n",
      "  img_arr_y = np.nanmean(np.nanmean(img_arr, axis=0), axis=1)\n",
      "/home/natalia/Documents/github_image_analysis/image_analysis/image_analysis/fit/regionprops.py:31: RuntimeWarning: Mean of empty slice\n",
      "  img_arr_z = np.nanmean(np.nanmean(img_arr, axis=1), axis=1)\n"
     ]
    },
    {
     "name": "stdout",
     "output_type": "stream",
     "text": [
      "rotation around x:\n",
      "75.57922687248902 0 0\n",
      "dictionary, with 3d data\n",
      "dictionary, with 3d data\n",
      "rotation around y:\n",
      "0 0 28.926425835253617\n",
      "dictionary, with 3d data\n",
      "dictionary, with 3d data\n",
      "angle beetween ey and sf: 5\n"
     ]
    },
    {
     "name": "stderr",
     "output_type": "stream",
     "text": [
      "/home/natalia/Documents/github_image_analysis/image_analysis/image_analysis/fit/regionprops.py:25: RuntimeWarning: Mean of empty slice\n",
      "  img_arr_x = np.nanmean(np.nanmean(img_arr, axis=0), axis=0)\n",
      "/home/natalia/Documents/github_image_analysis/image_analysis/image_analysis/fit/regionprops.py:28: RuntimeWarning: Mean of empty slice\n",
      "  img_arr_y = np.nanmean(np.nanmean(img_arr, axis=0), axis=1)\n",
      "/home/natalia/Documents/github_image_analysis/image_analysis/image_analysis/fit/regionprops.py:31: RuntimeWarning: Mean of empty slice\n",
      "  img_arr_z = np.nanmean(np.nanmean(img_arr, axis=1), axis=1)\n"
     ]
    },
    {
     "name": "stdout",
     "output_type": "stream",
     "text": [
      "rotation around x:\n",
      "73.00917670801384 0 0\n",
      "dictionary, with 3d data\n",
      "dictionary, with 3d data\n",
      "rotation around y:\n",
      "0 0 24.8087480538268\n",
      "dictionary, with 3d data\n",
      "dictionary, with 3d data\n",
      "angle beetween ey and sf: 1\n"
     ]
    },
    {
     "name": "stderr",
     "output_type": "stream",
     "text": [
      "/home/natalia/Documents/github_image_analysis/image_analysis/image_analysis/fit/regionprops.py:25: RuntimeWarning: Mean of empty slice\n",
      "  img_arr_x = np.nanmean(np.nanmean(img_arr, axis=0), axis=0)\n",
      "/home/natalia/Documents/github_image_analysis/image_analysis/image_analysis/fit/regionprops.py:28: RuntimeWarning: Mean of empty slice\n",
      "  img_arr_y = np.nanmean(np.nanmean(img_arr, axis=0), axis=1)\n",
      "/home/natalia/Documents/github_image_analysis/image_analysis/image_analysis/fit/regionprops.py:31: RuntimeWarning: Mean of empty slice\n",
      "  img_arr_z = np.nanmean(np.nanmean(img_arr, axis=1), axis=1)\n"
     ]
    },
    {
     "name": "stdout",
     "output_type": "stream",
     "text": [
      "rotation around x:\n",
      "78.9964591482505 0 0\n",
      "dictionary, with 3d data\n",
      "dictionary, with 3d data\n",
      "rotation around y:\n",
      "0 0 25.942295489871682\n",
      "dictionary, with 3d data\n",
      "dictionary, with 3d data\n",
      "angle beetween ey and sf: 4\n"
     ]
    },
    {
     "name": "stderr",
     "output_type": "stream",
     "text": [
      "/home/natalia/Documents/github_image_analysis/image_analysis/image_analysis/fit/regionprops.py:25: RuntimeWarning: Mean of empty slice\n",
      "  img_arr_x = np.nanmean(np.nanmean(img_arr, axis=0), axis=0)\n",
      "/home/natalia/Documents/github_image_analysis/image_analysis/image_analysis/fit/regionprops.py:28: RuntimeWarning: Mean of empty slice\n",
      "  img_arr_y = np.nanmean(np.nanmean(img_arr, axis=0), axis=1)\n",
      "/home/natalia/Documents/github_image_analysis/image_analysis/image_analysis/fit/regionprops.py:31: RuntimeWarning: Mean of empty slice\n",
      "  img_arr_z = np.nanmean(np.nanmean(img_arr, axis=1), axis=1)\n"
     ]
    },
    {
     "name": "stdout",
     "output_type": "stream",
     "text": [
      "rotation around x:\n",
      "77.47119229084849 0 0\n",
      "dictionary, with 3d data\n",
      "dictionary, with 3d data\n",
      "rotation around y:\n",
      "0 0 22.83365417791755\n",
      "dictionary, with 3d data\n",
      "dictionary, with 3d data\n"
     ]
    },
    {
     "name": "stderr",
     "output_type": "stream",
     "text": [
      "17it [01:36,  5.24s/it]"
     ]
    },
    {
     "name": "stdout",
     "output_type": "stream",
     "text": [
      "angle beetween ey and sf: 1\n"
     ]
    },
    {
     "name": "stderr",
     "output_type": "stream",
     "text": [
      "/home/natalia/Documents/github_image_analysis/image_analysis/image_analysis/fit/regionprops.py:25: RuntimeWarning: Mean of empty slice\n",
      "  img_arr_x = np.nanmean(np.nanmean(img_arr, axis=0), axis=0)\n",
      "/home/natalia/Documents/github_image_analysis/image_analysis/image_analysis/fit/regionprops.py:28: RuntimeWarning: Mean of empty slice\n",
      "  img_arr_y = np.nanmean(np.nanmean(img_arr, axis=0), axis=1)\n",
      "/home/natalia/Documents/github_image_analysis/image_analysis/image_analysis/fit/regionprops.py:31: RuntimeWarning: Mean of empty slice\n",
      "  img_arr_z = np.nanmean(np.nanmean(img_arr, axis=1), axis=1)\n"
     ]
    },
    {
     "name": "stdout",
     "output_type": "stream",
     "text": [
      "rotation around x:\n",
      "4.635463426902618 0 0\n",
      "dictionary, with 3d data\n",
      "dictionary, with 3d data\n",
      "rotation around y:\n",
      "0 0 22.873626204969113\n",
      "dictionary, with 3d data\n",
      "dictionary, with 3d data\n",
      "strange rotation\n",
      "angle beetween ey and sf: -15\n",
      "rotation around x:\n",
      "8.297144969836864 0 0\n",
      "dictionary, with 3d data\n",
      "dictionary, with 3d data\n",
      "rotation around y:\n",
      "0 0 31.15404257237139\n",
      "dictionary, with 3d data\n"
     ]
    },
    {
     "name": "stderr",
     "output_type": "stream",
     "text": [
      "/home/natalia/Documents/github_image_analysis/image_analysis/image_analysis/fit/regionprops.py:25: RuntimeWarning: Mean of empty slice\n",
      "  img_arr_x = np.nanmean(np.nanmean(img_arr, axis=0), axis=0)\n",
      "/home/natalia/Documents/github_image_analysis/image_analysis/image_analysis/fit/regionprops.py:28: RuntimeWarning: Mean of empty slice\n",
      "  img_arr_y = np.nanmean(np.nanmean(img_arr, axis=0), axis=1)\n",
      "/home/natalia/Documents/github_image_analysis/image_analysis/image_analysis/fit/regionprops.py:31: RuntimeWarning: Mean of empty slice\n",
      "  img_arr_z = np.nanmean(np.nanmean(img_arr, axis=1), axis=1)\n"
     ]
    },
    {
     "name": "stdout",
     "output_type": "stream",
     "text": [
      "dictionary, with 3d data\n",
      "angle beetween ey and sf: -2\n",
      "rotation around x:\n",
      "9.659893078442337 0 0\n",
      "dictionary, with 3d data\n"
     ]
    },
    {
     "name": "stderr",
     "output_type": "stream",
     "text": [
      "/home/natalia/Documents/github_image_analysis/image_analysis/image_analysis/fit/regionprops.py:25: RuntimeWarning: Mean of empty slice\n",
      "  img_arr_x = np.nanmean(np.nanmean(img_arr, axis=0), axis=0)\n",
      "/home/natalia/Documents/github_image_analysis/image_analysis/image_analysis/fit/regionprops.py:28: RuntimeWarning: Mean of empty slice\n",
      "  img_arr_y = np.nanmean(np.nanmean(img_arr, axis=0), axis=1)\n",
      "/home/natalia/Documents/github_image_analysis/image_analysis/image_analysis/fit/regionprops.py:31: RuntimeWarning: Mean of empty slice\n",
      "  img_arr_z = np.nanmean(np.nanmean(img_arr, axis=1), axis=1)\n"
     ]
    },
    {
     "name": "stdout",
     "output_type": "stream",
     "text": [
      "dictionary, with 3d data\n",
      "rotation around y:\n",
      "0 0 31.15404257237139\n",
      "dictionary, with 3d data\n",
      "dictionary, with 3d data\n",
      "angle beetween ey and sf: 2\n"
     ]
    },
    {
     "name": "stderr",
     "output_type": "stream",
     "text": [
      "/home/natalia/Documents/github_image_analysis/image_analysis/image_analysis/fit/regionprops.py:25: RuntimeWarning: Mean of empty slice\n",
      "  img_arr_x = np.nanmean(np.nanmean(img_arr, axis=0), axis=0)\n",
      "/home/natalia/Documents/github_image_analysis/image_analysis/image_analysis/fit/regionprops.py:28: RuntimeWarning: Mean of empty slice\n",
      "  img_arr_y = np.nanmean(np.nanmean(img_arr, axis=0), axis=1)\n",
      "/home/natalia/Documents/github_image_analysis/image_analysis/image_analysis/fit/regionprops.py:31: RuntimeWarning: Mean of empty slice\n",
      "  img_arr_z = np.nanmean(np.nanmean(img_arr, axis=1), axis=1)\n"
     ]
    },
    {
     "name": "stdout",
     "output_type": "stream",
     "text": [
      "rotation around x:\n",
      "10.840305454330547 0 0\n",
      "dictionary, with 3d data\n",
      "dictionary, with 3d data\n",
      "rotation around y:\n",
      "0 0 31.13897243697886\n",
      "dictionary, with 3d data\n",
      "dictionary, with 3d data\n",
      "angle beetween ey and sf: 1\n",
      "rotation around x:\n",
      "11.56013079421777 0 0\n",
      "dictionary, with 3d data\n",
      "dictionary, with 3d data\n",
      "rotation around y:\n",
      "0 0 33.11134196037203\n"
     ]
    },
    {
     "name": "stderr",
     "output_type": "stream",
     "text": [
      "/home/natalia/Documents/github_image_analysis/image_analysis/image_analysis/fit/regionprops.py:25: RuntimeWarning: Mean of empty slice\n",
      "  img_arr_x = np.nanmean(np.nanmean(img_arr, axis=0), axis=0)\n",
      "/home/natalia/Documents/github_image_analysis/image_analysis/image_analysis/fit/regionprops.py:28: RuntimeWarning: Mean of empty slice\n",
      "  img_arr_y = np.nanmean(np.nanmean(img_arr, axis=0), axis=1)\n",
      "/home/natalia/Documents/github_image_analysis/image_analysis/image_analysis/fit/regionprops.py:31: RuntimeWarning: Mean of empty slice\n",
      "  img_arr_z = np.nanmean(np.nanmean(img_arr, axis=1), axis=1)\n",
      "18it [01:38,  4.22s/it]"
     ]
    },
    {
     "name": "stdout",
     "output_type": "stream",
     "text": [
      "dictionary, with 3d data\n",
      "dictionary, with 3d data\n",
      "angle beetween ey and sf: 1\n"
     ]
    },
    {
     "name": "stderr",
     "output_type": "stream",
     "text": [
      "/home/natalia/Documents/github_image_analysis/image_analysis/image_analysis/fit/regionprops.py:25: RuntimeWarning: Mean of empty slice\n",
      "  img_arr_x = np.nanmean(np.nanmean(img_arr, axis=0), axis=0)\n",
      "/home/natalia/Documents/github_image_analysis/image_analysis/image_analysis/fit/regionprops.py:28: RuntimeWarning: Mean of empty slice\n",
      "  img_arr_y = np.nanmean(np.nanmean(img_arr, axis=0), axis=1)\n",
      "/home/natalia/Documents/github_image_analysis/image_analysis/image_analysis/fit/regionprops.py:31: RuntimeWarning: Mean of empty slice\n",
      "  img_arr_z = np.nanmean(np.nanmean(img_arr, axis=1), axis=1)\n"
     ]
    },
    {
     "name": "stdout",
     "output_type": "stream",
     "text": [
      "rotation around x:\n",
      "15.124007308310553 0 0\n",
      "dictionary, with 3d data\n",
      "dictionary, with 3d data\n",
      "rotation around y:\n",
      "0 0 4.398705354995508\n",
      "dictionary, with 3d data\n",
      "dictionary, with 3d data\n",
      "angle beetween ey and sf: 5\n"
     ]
    },
    {
     "name": "stderr",
     "output_type": "stream",
     "text": [
      "/home/natalia/Documents/github_image_analysis/image_analysis/image_analysis/fit/regionprops.py:25: RuntimeWarning: Mean of empty slice\n",
      "  img_arr_x = np.nanmean(np.nanmean(img_arr, axis=0), axis=0)\n",
      "/home/natalia/Documents/github_image_analysis/image_analysis/image_analysis/fit/regionprops.py:28: RuntimeWarning: Mean of empty slice\n",
      "  img_arr_y = np.nanmean(np.nanmean(img_arr, axis=0), axis=1)\n",
      "/home/natalia/Documents/github_image_analysis/image_analysis/image_analysis/fit/regionprops.py:31: RuntimeWarning: Mean of empty slice\n",
      "  img_arr_z = np.nanmean(np.nanmean(img_arr, axis=1), axis=1)\n"
     ]
    },
    {
     "name": "stdout",
     "output_type": "stream",
     "text": [
      "rotation around x:\n",
      "11.888658039627984 0 0\n",
      "dictionary, with 3d data\n",
      "dictionary, with 3d data\n",
      "rotation around y:\n",
      "0 0 43.57730649007039\n",
      "dictionary, with 3d data\n",
      "dictionary, with 3d data\n",
      "angle beetween ey and sf: -1\n"
     ]
    },
    {
     "name": "stderr",
     "output_type": "stream",
     "text": [
      "/home/natalia/Documents/github_image_analysis/image_analysis/image_analysis/fit/regionprops.py:25: RuntimeWarning: Mean of empty slice\n",
      "  img_arr_x = np.nanmean(np.nanmean(img_arr, axis=0), axis=0)\n",
      "/home/natalia/Documents/github_image_analysis/image_analysis/image_analysis/fit/regionprops.py:28: RuntimeWarning: Mean of empty slice\n",
      "  img_arr_y = np.nanmean(np.nanmean(img_arr, axis=0), axis=1)\n",
      "/home/natalia/Documents/github_image_analysis/image_analysis/image_analysis/fit/regionprops.py:31: RuntimeWarning: Mean of empty slice\n",
      "  img_arr_z = np.nanmean(np.nanmean(img_arr, axis=1), axis=1)\n"
     ]
    },
    {
     "name": "stdout",
     "output_type": "stream",
     "text": [
      "rotation around x:\n",
      "14.036243467926482 0 0\n",
      "dictionary, with 3d data\n",
      "dictionary, with 3d data\n",
      "rotation around y:\n",
      "0 0 45.008949668923\n",
      "dictionary, with 3d data\n",
      "dictionary, with 3d data\n",
      "angle beetween ey and sf: -2\n"
     ]
    },
    {
     "name": "stderr",
     "output_type": "stream",
     "text": [
      "/home/natalia/Documents/github_image_analysis/image_analysis/image_analysis/fit/regionprops.py:25: RuntimeWarning: Mean of empty slice\n",
      "  img_arr_x = np.nanmean(np.nanmean(img_arr, axis=0), axis=0)\n",
      "/home/natalia/Documents/github_image_analysis/image_analysis/image_analysis/fit/regionprops.py:28: RuntimeWarning: Mean of empty slice\n",
      "  img_arr_y = np.nanmean(np.nanmean(img_arr, axis=0), axis=1)\n",
      "/home/natalia/Documents/github_image_analysis/image_analysis/image_analysis/fit/regionprops.py:31: RuntimeWarning: Mean of empty slice\n",
      "  img_arr_z = np.nanmean(np.nanmean(img_arr, axis=1), axis=1)\n"
     ]
    },
    {
     "name": "stdout",
     "output_type": "stream",
     "text": [
      "rotation around x:\n",
      "16.858398767738265 0 0\n",
      "dictionary, with 3d data\n",
      "dictionary, with 3d data\n",
      "rotation around y:\n",
      "0 0 47.17474411461006\n",
      "dictionary, with 3d data\n",
      "dictionary, with 3d data\n",
      "angle beetween ey and sf: 2\n"
     ]
    },
    {
     "name": "stderr",
     "output_type": "stream",
     "text": [
      "/home/natalia/Documents/github_image_analysis/image_analysis/image_analysis/fit/regionprops.py:25: RuntimeWarning: Mean of empty slice\n",
      "  img_arr_x = np.nanmean(np.nanmean(img_arr, axis=0), axis=0)\n",
      "/home/natalia/Documents/github_image_analysis/image_analysis/image_analysis/fit/regionprops.py:28: RuntimeWarning: Mean of empty slice\n",
      "  img_arr_y = np.nanmean(np.nanmean(img_arr, axis=0), axis=1)\n",
      "/home/natalia/Documents/github_image_analysis/image_analysis/image_analysis/fit/regionprops.py:31: RuntimeWarning: Mean of empty slice\n",
      "  img_arr_z = np.nanmean(np.nanmean(img_arr, axis=1), axis=1)\n"
     ]
    },
    {
     "name": "stdout",
     "output_type": "stream",
     "text": [
      "rotation around x:\n",
      "16.557071375636667 0 0\n",
      "dictionary, with 3d data\n",
      "dictionary, with 3d data\n",
      "rotation around y:\n",
      "0 0 42.06432655357883\n",
      "dictionary, with 3d data\n",
      "dictionary, with 3d data\n",
      "angle beetween ey and sf: 2\n"
     ]
    },
    {
     "name": "stderr",
     "output_type": "stream",
     "text": [
      "19it [01:39,  3.37s/it]/home/natalia/Documents/github_image_analysis/image_analysis/image_analysis/fit/regionprops.py:25: RuntimeWarning: Mean of empty slice\n",
      "  img_arr_x = np.nanmean(np.nanmean(img_arr, axis=0), axis=0)\n",
      "/home/natalia/Documents/github_image_analysis/image_analysis/image_analysis/fit/regionprops.py:28: RuntimeWarning: Mean of empty slice\n",
      "  img_arr_y = np.nanmean(np.nanmean(img_arr, axis=0), axis=1)\n",
      "/home/natalia/Documents/github_image_analysis/image_analysis/image_analysis/fit/regionprops.py:31: RuntimeWarning: Mean of empty slice\n",
      "  img_arr_z = np.nanmean(np.nanmean(img_arr, axis=1), axis=1)\n"
     ]
    },
    {
     "name": "stdout",
     "output_type": "stream",
     "text": [
      "rotation around x:\n",
      "15.945395900922875 0 0\n",
      "dictionary, with 3d data\n",
      "dictionary, with 3d data\n",
      "rotation around y:\n",
      "0 0 37.58396758885063\n",
      "dictionary, with 3d data\n",
      "dictionary, with 3d data\n",
      "angle beetween ey and sf: -2\n",
      "rotation around x:\n",
      "18.434948822922024 0 0\n",
      "dictionary, with 3d data\n",
      "dictionary, with 3d data\n",
      "rotation around y:\n",
      "0 0 30.252996305079648\n"
     ]
    },
    {
     "name": "stderr",
     "output_type": "stream",
     "text": [
      "/home/natalia/Documents/github_image_analysis/image_analysis/image_analysis/fit/regionprops.py:25: RuntimeWarning: Mean of empty slice\n",
      "  img_arr_x = np.nanmean(np.nanmean(img_arr, axis=0), axis=0)\n",
      "/home/natalia/Documents/github_image_analysis/image_analysis/image_analysis/fit/regionprops.py:28: RuntimeWarning: Mean of empty slice\n",
      "  img_arr_y = np.nanmean(np.nanmean(img_arr, axis=0), axis=1)\n",
      "/home/natalia/Documents/github_image_analysis/image_analysis/image_analysis/fit/regionprops.py:31: RuntimeWarning: Mean of empty slice\n",
      "  img_arr_z = np.nanmean(np.nanmean(img_arr, axis=1), axis=1)\n"
     ]
    },
    {
     "name": "stdout",
     "output_type": "stream",
     "text": [
      "dictionary, with 3d data\n",
      "dictionary, with 3d data\n",
      "angle beetween ey and sf: -3\n",
      "rotation around x:\n",
      "19.746836605426125 0 0\n",
      "dictionary, with 3d data\n"
     ]
    },
    {
     "name": "stderr",
     "output_type": "stream",
     "text": [
      "/home/natalia/Documents/github_image_analysis/image_analysis/image_analysis/fit/regionprops.py:25: RuntimeWarning: Mean of empty slice\n",
      "  img_arr_x = np.nanmean(np.nanmean(img_arr, axis=0), axis=0)\n",
      "/home/natalia/Documents/github_image_analysis/image_analysis/image_analysis/fit/regionprops.py:28: RuntimeWarning: Mean of empty slice\n",
      "  img_arr_y = np.nanmean(np.nanmean(img_arr, axis=0), axis=1)\n",
      "/home/natalia/Documents/github_image_analysis/image_analysis/image_analysis/fit/regionprops.py:31: RuntimeWarning: Mean of empty slice\n",
      "  img_arr_z = np.nanmean(np.nanmean(img_arr, axis=1), axis=1)\n"
     ]
    },
    {
     "name": "stdout",
     "output_type": "stream",
     "text": [
      "dictionary, with 3d data\n",
      "rotation around y:\n",
      "0 0 30.653304249289285\n",
      "dictionary, with 3d data\n",
      "dictionary, with 3d data\n",
      "angle beetween ey and sf: -3\n"
     ]
    },
    {
     "name": "stderr",
     "output_type": "stream",
     "text": [
      "/home/natalia/Documents/github_image_analysis/image_analysis/image_analysis/fit/regionprops.py:25: RuntimeWarning: Mean of empty slice\n",
      "  img_arr_x = np.nanmean(np.nanmean(img_arr, axis=0), axis=0)\n",
      "/home/natalia/Documents/github_image_analysis/image_analysis/image_analysis/fit/regionprops.py:28: RuntimeWarning: Mean of empty slice\n",
      "  img_arr_y = np.nanmean(np.nanmean(img_arr, axis=0), axis=1)\n",
      "/home/natalia/Documents/github_image_analysis/image_analysis/image_analysis/fit/regionprops.py:31: RuntimeWarning: Mean of empty slice\n",
      "  img_arr_z = np.nanmean(np.nanmean(img_arr, axis=1), axis=1)\n"
     ]
    },
    {
     "name": "stdout",
     "output_type": "stream",
     "text": [
      "rotation around x:\n",
      "21.801409486351787 0 0\n",
      "dictionary, with 3d data\n",
      "dictionary, with 3d data\n",
      "rotation around y:\n",
      "0 0 32.53726262079758\n",
      "dictionary, with 3d data\n",
      "dictionary, with 3d data\n",
      "angle beetween ey and sf: -3\n",
      "rotation around x:\n",
      "27.181111085477227 0 0\n",
      "dictionary, with 3d data\n",
      "dictionary, with 3d data\n",
      "rotation around y:\n",
      "0 0 34.917425812938404\n"
     ]
    },
    {
     "name": "stderr",
     "output_type": "stream",
     "text": [
      "/home/natalia/Documents/github_image_analysis/image_analysis/image_analysis/fit/regionprops.py:25: RuntimeWarning: Mean of empty slice\n",
      "  img_arr_x = np.nanmean(np.nanmean(img_arr, axis=0), axis=0)\n",
      "/home/natalia/Documents/github_image_analysis/image_analysis/image_analysis/fit/regionprops.py:28: RuntimeWarning: Mean of empty slice\n",
      "  img_arr_y = np.nanmean(np.nanmean(img_arr, axis=0), axis=1)\n",
      "/home/natalia/Documents/github_image_analysis/image_analysis/image_analysis/fit/regionprops.py:31: RuntimeWarning: Mean of empty slice\n",
      "  img_arr_z = np.nanmean(np.nanmean(img_arr, axis=1), axis=1)\n",
      "20it [01:41,  2.94s/it]"
     ]
    },
    {
     "name": "stdout",
     "output_type": "stream",
     "text": [
      "dictionary, with 3d data\n",
      "dictionary, with 3d data\n",
      "angle beetween ey and sf: -4\n"
     ]
    },
    {
     "name": "stderr",
     "output_type": "stream",
     "text": [
      "/home/natalia/Documents/github_image_analysis/image_analysis/image_analysis/fit/regionprops.py:25: RuntimeWarning: Mean of empty slice\n",
      "  img_arr_x = np.nanmean(np.nanmean(img_arr, axis=0), axis=0)\n",
      "/home/natalia/Documents/github_image_analysis/image_analysis/image_analysis/fit/regionprops.py:28: RuntimeWarning: Mean of empty slice\n",
      "  img_arr_y = np.nanmean(np.nanmean(img_arr, axis=0), axis=1)\n",
      "/home/natalia/Documents/github_image_analysis/image_analysis/image_analysis/fit/regionprops.py:31: RuntimeWarning: Mean of empty slice\n",
      "  img_arr_z = np.nanmean(np.nanmean(img_arr, axis=1), axis=1)\n"
     ]
    },
    {
     "name": "stdout",
     "output_type": "stream",
     "text": [
      "rotation around x:\n",
      "-4.969740728110281 0 0\n",
      "dictionary, with 3d data\n",
      "dictionary, with 3d data\n",
      "rotation around y:\n",
      "0 0 -7.5061427842557515\n",
      "dictionary, with 3d data\n",
      "dictionary, with 3d data\n",
      "angle beetween ey and sf: 4\n"
     ]
    },
    {
     "name": "stderr",
     "output_type": "stream",
     "text": [
      "/home/natalia/Documents/github_image_analysis/image_analysis/image_analysis/fit/regionprops.py:25: RuntimeWarning: Mean of empty slice\n",
      "  img_arr_x = np.nanmean(np.nanmean(img_arr, axis=0), axis=0)\n",
      "/home/natalia/Documents/github_image_analysis/image_analysis/image_analysis/fit/regionprops.py:28: RuntimeWarning: Mean of empty slice\n",
      "  img_arr_y = np.nanmean(np.nanmean(img_arr, axis=0), axis=1)\n",
      "/home/natalia/Documents/github_image_analysis/image_analysis/image_analysis/fit/regionprops.py:31: RuntimeWarning: Mean of empty slice\n",
      "  img_arr_z = np.nanmean(np.nanmean(img_arr, axis=1), axis=1)\n"
     ]
    },
    {
     "name": "stdout",
     "output_type": "stream",
     "text": [
      "rotation around x:\n",
      "-2.770215797200194 0 0\n",
      "dictionary, with 3d data\n",
      "dictionary, with 3d data\n",
      "rotation around y:\n",
      "0 0 10.99110865769256\n",
      "dictionary, with 3d data\n",
      "dictionary, with 3d data\n",
      "angle beetween ey and sf: -2\n"
     ]
    },
    {
     "name": "stderr",
     "output_type": "stream",
     "text": [
      "/home/natalia/Documents/github_image_analysis/image_analysis/image_analysis/fit/regionprops.py:25: RuntimeWarning: Mean of empty slice\n",
      "  img_arr_x = np.nanmean(np.nanmean(img_arr, axis=0), axis=0)\n",
      "/home/natalia/Documents/github_image_analysis/image_analysis/image_analysis/fit/regionprops.py:28: RuntimeWarning: Mean of empty slice\n",
      "  img_arr_y = np.nanmean(np.nanmean(img_arr, axis=0), axis=1)\n",
      "/home/natalia/Documents/github_image_analysis/image_analysis/image_analysis/fit/regionprops.py:31: RuntimeWarning: Mean of empty slice\n",
      "  img_arr_z = np.nanmean(np.nanmean(img_arr, axis=1), axis=1)\n"
     ]
    },
    {
     "name": "stdout",
     "output_type": "stream",
     "text": [
      "rotation around x:\n",
      "2.862405226111804 0 0\n",
      "dictionary, with 3d data\n",
      "dictionary, with 3d data\n",
      "rotation around y:\n",
      "0 0 15.450816860411468\n",
      "dictionary, with 3d data\n",
      "dictionary, with 3d data\n",
      "angle beetween ey and sf: -1\n"
     ]
    },
    {
     "name": "stderr",
     "output_type": "stream",
     "text": [
      "/home/natalia/Documents/github_image_analysis/image_analysis/image_analysis/fit/regionprops.py:25: RuntimeWarning: Mean of empty slice\n",
      "  img_arr_x = np.nanmean(np.nanmean(img_arr, axis=0), axis=0)\n",
      "/home/natalia/Documents/github_image_analysis/image_analysis/image_analysis/fit/regionprops.py:28: RuntimeWarning: Mean of empty slice\n",
      "  img_arr_y = np.nanmean(np.nanmean(img_arr, axis=0), axis=1)\n",
      "/home/natalia/Documents/github_image_analysis/image_analysis/image_analysis/fit/regionprops.py:31: RuntimeWarning: Mean of empty slice\n",
      "  img_arr_z = np.nanmean(np.nanmean(img_arr, axis=1), axis=1)\n"
     ]
    },
    {
     "name": "stdout",
     "output_type": "stream",
     "text": [
      "rotation around x:\n",
      "3.301865674435078 0 0\n",
      "dictionary, with 3d data\n",
      "dictionary, with 3d data\n",
      "rotation around y:\n",
      "0 0 22.93210043758979\n",
      "dictionary, with 3d data\n",
      "dictionary, with 3d data\n",
      "angle beetween ey and sf: 0\n"
     ]
    },
    {
     "name": "stderr",
     "output_type": "stream",
     "text": [
      "/home/natalia/Documents/github_image_analysis/image_analysis/image_analysis/fit/regionprops.py:25: RuntimeWarning: Mean of empty slice\n",
      "  img_arr_x = np.nanmean(np.nanmean(img_arr, axis=0), axis=0)\n",
      "/home/natalia/Documents/github_image_analysis/image_analysis/image_analysis/fit/regionprops.py:28: RuntimeWarning: Mean of empty slice\n",
      "  img_arr_y = np.nanmean(np.nanmean(img_arr, axis=0), axis=1)\n",
      "/home/natalia/Documents/github_image_analysis/image_analysis/image_analysis/fit/regionprops.py:31: RuntimeWarning: Mean of empty slice\n",
      "  img_arr_z = np.nanmean(np.nanmean(img_arr, axis=1), axis=1)\n"
     ]
    },
    {
     "name": "stdout",
     "output_type": "stream",
     "text": [
      "rotation around x:\n",
      "-0.0 0 0\n",
      "dictionary, with 3d data\n",
      "dictionary, with 3d data\n",
      "rotation around y:\n",
      "0 0 17.783888442692543\n",
      "dictionary, with 3d data\n",
      "dictionary, with 3d data\n",
      "angle beetween ey and sf: 0\n"
     ]
    },
    {
     "name": "stderr",
     "output_type": "stream",
     "text": [
      "21it [01:43,  2.51s/it]/home/natalia/Documents/github_image_analysis/image_analysis/image_analysis/fit/regionprops.py:25: RuntimeWarning: Mean of empty slice\n",
      "  img_arr_x = np.nanmean(np.nanmean(img_arr, axis=0), axis=0)\n",
      "/home/natalia/Documents/github_image_analysis/image_analysis/image_analysis/fit/regionprops.py:28: RuntimeWarning: Mean of empty slice\n",
      "  img_arr_y = np.nanmean(np.nanmean(img_arr, axis=0), axis=1)\n",
      "/home/natalia/Documents/github_image_analysis/image_analysis/image_analysis/fit/regionprops.py:31: RuntimeWarning: Mean of empty slice\n",
      "  img_arr_z = np.nanmean(np.nanmean(img_arr, axis=1), axis=1)\n"
     ]
    },
    {
     "name": "stdout",
     "output_type": "stream",
     "text": [
      "rotation around x:\n",
      "25.346175941946683 0 0\n",
      "dictionary, with 3d data\n",
      "dictionary, with 3d data\n",
      "rotation around y:\n",
      "0 0 9.074585885596855\n",
      "dictionary, with 3d data\n",
      "dictionary, with 3d data\n",
      "strange rotation\n",
      "angle beetween ey and sf: 6\n",
      "rotation around x:\n",
      "26.995838394086633 0 0\n",
      "dictionary, with 3d data\n",
      "dictionary, with 3d data\n"
     ]
    },
    {
     "name": "stderr",
     "output_type": "stream",
     "text": [
      "/home/natalia/Documents/github_image_analysis/image_analysis/image_analysis/fit/regionprops.py:25: RuntimeWarning: Mean of empty slice\n",
      "  img_arr_x = np.nanmean(np.nanmean(img_arr, axis=0), axis=0)\n",
      "/home/natalia/Documents/github_image_analysis/image_analysis/image_analysis/fit/regionprops.py:28: RuntimeWarning: Mean of empty slice\n",
      "  img_arr_y = np.nanmean(np.nanmean(img_arr, axis=0), axis=1)\n",
      "/home/natalia/Documents/github_image_analysis/image_analysis/image_analysis/fit/regionprops.py:31: RuntimeWarning: Mean of empty slice\n",
      "  img_arr_z = np.nanmean(np.nanmean(img_arr, axis=1), axis=1)\n"
     ]
    },
    {
     "name": "stdout",
     "output_type": "stream",
     "text": [
      "rotation around y:\n",
      "0 0 29.818316089195193\n",
      "dictionary, with 3d data\n",
      "dictionary, with 3d data\n",
      "angle beetween ey and sf: 5\n"
     ]
    },
    {
     "name": "stderr",
     "output_type": "stream",
     "text": [
      "/home/natalia/Documents/github_image_analysis/image_analysis/image_analysis/fit/regionprops.py:25: RuntimeWarning: Mean of empty slice\n",
      "  img_arr_x = np.nanmean(np.nanmean(img_arr, axis=0), axis=0)\n",
      "/home/natalia/Documents/github_image_analysis/image_analysis/image_analysis/fit/regionprops.py:28: RuntimeWarning: Mean of empty slice\n",
      "  img_arr_y = np.nanmean(np.nanmean(img_arr, axis=0), axis=1)\n",
      "/home/natalia/Documents/github_image_analysis/image_analysis/image_analysis/fit/regionprops.py:31: RuntimeWarning: Mean of empty slice\n",
      "  img_arr_z = np.nanmean(np.nanmean(img_arr, axis=1), axis=1)\n"
     ]
    },
    {
     "name": "stdout",
     "output_type": "stream",
     "text": [
      "rotation around x:\n",
      "26.980230718222856 0 0\n",
      "dictionary, with 3d data\n",
      "dictionary, with 3d data\n",
      "rotation around y:\n",
      "0 0 26.296209313642525\n",
      "dictionary, with 3d data\n",
      "dictionary, with 3d data\n",
      "angle beetween ey and sf: 4\n",
      "rotation around x:\n",
      "23.334041276709797 0 0\n",
      "dictionary, with 3d data\n",
      "dictionary, with 3d data\n"
     ]
    },
    {
     "name": "stderr",
     "output_type": "stream",
     "text": [
      "/home/natalia/Documents/github_image_analysis/image_analysis/image_analysis/fit/regionprops.py:25: RuntimeWarning: Mean of empty slice\n",
      "  img_arr_x = np.nanmean(np.nanmean(img_arr, axis=0), axis=0)\n",
      "/home/natalia/Documents/github_image_analysis/image_analysis/image_analysis/fit/regionprops.py:28: RuntimeWarning: Mean of empty slice\n",
      "  img_arr_y = np.nanmean(np.nanmean(img_arr, axis=0), axis=1)\n",
      "/home/natalia/Documents/github_image_analysis/image_analysis/image_analysis/fit/regionprops.py:31: RuntimeWarning: Mean of empty slice\n",
      "  img_arr_z = np.nanmean(np.nanmean(img_arr, axis=1), axis=1)\n"
     ]
    },
    {
     "name": "stdout",
     "output_type": "stream",
     "text": [
      "rotation around y:\n",
      "0 0 21.974507991471953\n",
      "dictionary, with 3d data\n",
      "dictionary, with 3d data\n",
      "angle beetween ey and sf: 2\n"
     ]
    },
    {
     "name": "stderr",
     "output_type": "stream",
     "text": [
      "/home/natalia/Documents/github_image_analysis/image_analysis/image_analysis/fit/regionprops.py:25: RuntimeWarning: Mean of empty slice\n",
      "  img_arr_x = np.nanmean(np.nanmean(img_arr, axis=0), axis=0)\n",
      "/home/natalia/Documents/github_image_analysis/image_analysis/image_analysis/fit/regionprops.py:28: RuntimeWarning: Mean of empty slice\n",
      "  img_arr_y = np.nanmean(np.nanmean(img_arr, axis=0), axis=1)\n",
      "/home/natalia/Documents/github_image_analysis/image_analysis/image_analysis/fit/regionprops.py:31: RuntimeWarning: Mean of empty slice\n",
      "  img_arr_z = np.nanmean(np.nanmean(img_arr, axis=1), axis=1)\n"
     ]
    },
    {
     "name": "stdout",
     "output_type": "stream",
     "text": [
      "rotation around x:\n",
      "21.974507991471967 0 0\n",
      "dictionary, with 3d data\n",
      "dictionary, with 3d data\n",
      "rotation around y:\n",
      "0 0 21.6285477059445\n",
      "dictionary, with 3d data\n",
      "dictionary, with 3d data\n"
     ]
    },
    {
     "name": "stderr",
     "output_type": "stream",
     "text": [
      "22it [01:45,  2.35s/it]"
     ]
    },
    {
     "name": "stdout",
     "output_type": "stream",
     "text": [
      "angle beetween ey and sf: -3\n"
     ]
    },
    {
     "name": "stderr",
     "output_type": "stream",
     "text": [
      "/home/natalia/Documents/github_image_analysis/image_analysis/image_analysis/fit/regionprops.py:25: RuntimeWarning: Mean of empty slice\n",
      "  img_arr_x = np.nanmean(np.nanmean(img_arr, axis=0), axis=0)\n",
      "/home/natalia/Documents/github_image_analysis/image_analysis/image_analysis/fit/regionprops.py:28: RuntimeWarning: Mean of empty slice\n",
      "  img_arr_y = np.nanmean(np.nanmean(img_arr, axis=0), axis=1)\n",
      "/home/natalia/Documents/github_image_analysis/image_analysis/image_analysis/fit/regionprops.py:31: RuntimeWarning: Mean of empty slice\n",
      "  img_arr_z = np.nanmean(np.nanmean(img_arr, axis=1), axis=1)\n"
     ]
    },
    {
     "name": "stdout",
     "output_type": "stream",
     "text": [
      "rotation around x:\n",
      "2.2906100426385763 0 0\n",
      "dictionary, with 3d data\n",
      "dictionary, with 3d data\n",
      "rotation around y:\n",
      "0 0 16.838697704135733\n",
      "dictionary, with 3d data\n",
      "dictionary, with 3d data\n",
      "strange rotation\n",
      "angle beetween ey and sf: -6\n"
     ]
    },
    {
     "name": "stderr",
     "output_type": "stream",
     "text": [
      "/home/natalia/Documents/github_image_analysis/image_analysis/image_analysis/fit/regionprops.py:25: RuntimeWarning: Mean of empty slice\n",
      "  img_arr_x = np.nanmean(np.nanmean(img_arr, axis=0), axis=0)\n",
      "/home/natalia/Documents/github_image_analysis/image_analysis/image_analysis/fit/regionprops.py:28: RuntimeWarning: Mean of empty slice\n",
      "  img_arr_y = np.nanmean(np.nanmean(img_arr, axis=0), axis=1)\n",
      "/home/natalia/Documents/github_image_analysis/image_analysis/image_analysis/fit/regionprops.py:31: RuntimeWarning: Mean of empty slice\n",
      "  img_arr_z = np.nanmean(np.nanmean(img_arr, axis=1), axis=1)\n"
     ]
    },
    {
     "name": "stdout",
     "output_type": "stream",
     "text": [
      "rotation around x:\n",
      "8.673174047879769 0 0\n",
      "dictionary, with 3d data\n",
      "dictionary, with 3d data\n",
      "rotation around y:\n",
      "0 0 25.426874169589805\n",
      "dictionary, with 3d data\n",
      "dictionary, with 3d data\n",
      "angle beetween ey and sf: 2\n",
      "rotation around x:\n",
      "5.527540151656126 0 0\n",
      "dictionary, with 3d data\n",
      "dictionary, with 3d data\n",
      "rotation around y:\n",
      "0 0 23.198590513648202\n",
      "dictionary, with 3d data\n",
      "dictionary, with 3d data\n"
     ]
    },
    {
     "name": "stderr",
     "output_type": "stream",
     "text": [
      "/home/natalia/Documents/github_image_analysis/image_analysis/image_analysis/fit/regionprops.py:25: RuntimeWarning: Mean of empty slice\n",
      "  img_arr_x = np.nanmean(np.nanmean(img_arr, axis=0), axis=0)\n",
      "/home/natalia/Documents/github_image_analysis/image_analysis/image_analysis/fit/regionprops.py:28: RuntimeWarning: Mean of empty slice\n",
      "  img_arr_y = np.nanmean(np.nanmean(img_arr, axis=0), axis=1)\n",
      "/home/natalia/Documents/github_image_analysis/image_analysis/image_analysis/fit/regionprops.py:31: RuntimeWarning: Mean of empty slice\n",
      "  img_arr_z = np.nanmean(np.nanmean(img_arr, axis=1), axis=1)\n"
     ]
    },
    {
     "name": "stdout",
     "output_type": "stream",
     "text": [
      "angle beetween ey and sf: -2\n",
      "rotation around x:\n",
      "5.273895957351783 0 0\n",
      "dictionary, with 3d data\n",
      "dictionary, with 3d data\n",
      "rotation around y:\n",
      "0 0 20.76125646804076\n",
      "dictionary, with 3d data\n",
      "dictionary, with 3d data\n"
     ]
    },
    {
     "name": "stderr",
     "output_type": "stream",
     "text": [
      "/home/natalia/Documents/github_image_analysis/image_analysis/image_analysis/fit/regionprops.py:25: RuntimeWarning: Mean of empty slice\n",
      "  img_arr_x = np.nanmean(np.nanmean(img_arr, axis=0), axis=0)\n",
      "/home/natalia/Documents/github_image_analysis/image_analysis/image_analysis/fit/regionprops.py:28: RuntimeWarning: Mean of empty slice\n",
      "  img_arr_y = np.nanmean(np.nanmean(img_arr, axis=0), axis=1)\n",
      "/home/natalia/Documents/github_image_analysis/image_analysis/image_analysis/fit/regionprops.py:31: RuntimeWarning: Mean of empty slice\n",
      "  img_arr_z = np.nanmean(np.nanmean(img_arr, axis=1), axis=1)\n"
     ]
    },
    {
     "name": "stdout",
     "output_type": "stream",
     "text": [
      "angle beetween ey and sf: -3\n",
      "rotation around x:\n",
      "14.534455080540141 0 0\n",
      "dictionary, with 3d data\n",
      "dictionary, with 3d data\n",
      "rotation around y:\n",
      "0 0 22.328656378019133\n"
     ]
    },
    {
     "name": "stderr",
     "output_type": "stream",
     "text": [
      "/home/natalia/Documents/github_image_analysis/image_analysis/image_analysis/fit/regionprops.py:25: RuntimeWarning: Mean of empty slice\n",
      "  img_arr_x = np.nanmean(np.nanmean(img_arr, axis=0), axis=0)\n",
      "/home/natalia/Documents/github_image_analysis/image_analysis/image_analysis/fit/regionprops.py:28: RuntimeWarning: Mean of empty slice\n",
      "  img_arr_y = np.nanmean(np.nanmean(img_arr, axis=0), axis=1)\n",
      "/home/natalia/Documents/github_image_analysis/image_analysis/image_analysis/fit/regionprops.py:31: RuntimeWarning: Mean of empty slice\n",
      "  img_arr_z = np.nanmean(np.nanmean(img_arr, axis=1), axis=1)\n",
      "23it [01:46,  2.11s/it]"
     ]
    },
    {
     "name": "stdout",
     "output_type": "stream",
     "text": [
      "dictionary, with 3d data\n",
      "dictionary, with 3d data\n",
      "angle beetween ey and sf: 1\n"
     ]
    },
    {
     "name": "stderr",
     "output_type": "stream",
     "text": [
      "/home/natalia/Documents/github_image_analysis/image_analysis/image_analysis/fit/regionprops.py:25: RuntimeWarning: Mean of empty slice\n",
      "  img_arr_x = np.nanmean(np.nanmean(img_arr, axis=0), axis=0)\n",
      "/home/natalia/Documents/github_image_analysis/image_analysis/image_analysis/fit/regionprops.py:28: RuntimeWarning: Mean of empty slice\n",
      "  img_arr_y = np.nanmean(np.nanmean(img_arr, axis=0), axis=1)\n",
      "/home/natalia/Documents/github_image_analysis/image_analysis/image_analysis/fit/regionprops.py:31: RuntimeWarning: Mean of empty slice\n",
      "  img_arr_z = np.nanmean(np.nanmean(img_arr, axis=1), axis=1)\n"
     ]
    },
    {
     "name": "stdout",
     "output_type": "stream",
     "text": [
      "rotation around x:\n",
      "11.093723011557842 0 0\n",
      "dictionary, with 3d data\n",
      "dictionary, with 3d data\n",
      "rotation around y:\n",
      "0 0 16.326065012368534\n",
      "dictionary, with 3d data\n",
      "dictionary, with 3d data\n",
      "strange rotation\n",
      "angle beetween ey and sf: -7\n",
      "rotation around x:\n",
      "13.799485396019406 0 0\n",
      "dictionary, with 3d data\n",
      "dictionary, with 3d data\n",
      "rotation around y:\n",
      "0 0 17.27797700454893\n"
     ]
    },
    {
     "name": "stderr",
     "output_type": "stream",
     "text": [
      "/home/natalia/Documents/github_image_analysis/image_analysis/image_analysis/fit/regionprops.py:25: RuntimeWarning: Mean of empty slice\n",
      "  img_arr_x = np.nanmean(np.nanmean(img_arr, axis=0), axis=0)\n",
      "/home/natalia/Documents/github_image_analysis/image_analysis/image_analysis/fit/regionprops.py:28: RuntimeWarning: Mean of empty slice\n",
      "  img_arr_y = np.nanmean(np.nanmean(img_arr, axis=0), axis=1)\n",
      "/home/natalia/Documents/github_image_analysis/image_analysis/image_analysis/fit/regionprops.py:31: RuntimeWarning: Mean of empty slice\n",
      "  img_arr_z = np.nanmean(np.nanmean(img_arr, axis=1), axis=1)\n"
     ]
    },
    {
     "name": "stdout",
     "output_type": "stream",
     "text": [
      "dictionary, with 3d data\n",
      "dictionary, with 3d data\n",
      "angle beetween ey and sf: -4\n"
     ]
    },
    {
     "name": "stderr",
     "output_type": "stream",
     "text": [
      "/home/natalia/Documents/github_image_analysis/image_analysis/image_analysis/fit/regionprops.py:25: RuntimeWarning: Mean of empty slice\n",
      "  img_arr_x = np.nanmean(np.nanmean(img_arr, axis=0), axis=0)\n",
      "/home/natalia/Documents/github_image_analysis/image_analysis/image_analysis/fit/regionprops.py:28: RuntimeWarning: Mean of empty slice\n",
      "  img_arr_y = np.nanmean(np.nanmean(img_arr, axis=0), axis=1)\n",
      "/home/natalia/Documents/github_image_analysis/image_analysis/image_analysis/fit/regionprops.py:31: RuntimeWarning: Mean of empty slice\n",
      "  img_arr_z = np.nanmean(np.nanmean(img_arr, axis=1), axis=1)\n"
     ]
    },
    {
     "name": "stdout",
     "output_type": "stream",
     "text": [
      "rotation around x:\n",
      "12.925999124705925 0 0\n",
      "dictionary, with 3d data\n",
      "dictionary, with 3d data\n",
      "rotation around y:\n",
      "0 0 22.168446158747468\n",
      "dictionary, with 3d data\n",
      "dictionary, with 3d data\n",
      "angle beetween ey and sf: -2\n",
      "rotation around x:\n",
      "12.72435568542241 0 0\n",
      "dictionary, with 3d data\n",
      "dictionary, with 3d data\n",
      "rotation around y:\n",
      "0 0 23.318161891152265\n"
     ]
    },
    {
     "name": "stderr",
     "output_type": "stream",
     "text": [
      "/home/natalia/Documents/github_image_analysis/image_analysis/image_analysis/fit/regionprops.py:25: RuntimeWarning: Mean of empty slice\n",
      "  img_arr_x = np.nanmean(np.nanmean(img_arr, axis=0), axis=0)\n",
      "/home/natalia/Documents/github_image_analysis/image_analysis/image_analysis/fit/regionprops.py:28: RuntimeWarning: Mean of empty slice\n",
      "  img_arr_y = np.nanmean(np.nanmean(img_arr, axis=0), axis=1)\n",
      "/home/natalia/Documents/github_image_analysis/image_analysis/image_analysis/fit/regionprops.py:31: RuntimeWarning: Mean of empty slice\n",
      "  img_arr_z = np.nanmean(np.nanmean(img_arr, axis=1), axis=1)\n"
     ]
    },
    {
     "name": "stdout",
     "output_type": "stream",
     "text": [
      "dictionary, with 3d data\n",
      "dictionary, with 3d data\n",
      "angle beetween ey and sf: -2\n",
      "rotation around x:\n",
      "8.880659150520245 0 0\n"
     ]
    },
    {
     "name": "stderr",
     "output_type": "stream",
     "text": [
      "/home/natalia/Documents/github_image_analysis/image_analysis/image_analysis/fit/regionprops.py:25: RuntimeWarning: Mean of empty slice\n",
      "  img_arr_x = np.nanmean(np.nanmean(img_arr, axis=0), axis=0)\n",
      "/home/natalia/Documents/github_image_analysis/image_analysis/image_analysis/fit/regionprops.py:28: RuntimeWarning: Mean of empty slice\n",
      "  img_arr_y = np.nanmean(np.nanmean(img_arr, axis=0), axis=1)\n",
      "/home/natalia/Documents/github_image_analysis/image_analysis/image_analysis/fit/regionprops.py:31: RuntimeWarning: Mean of empty slice\n",
      "  img_arr_z = np.nanmean(np.nanmean(img_arr, axis=1), axis=1)\n"
     ]
    },
    {
     "name": "stdout",
     "output_type": "stream",
     "text": [
      "dictionary, with 3d data\n",
      "dictionary, with 3d data\n",
      "rotation around y:\n",
      "0 0 21.515879369897338\n",
      "dictionary, with 3d data\n",
      "dictionary, with 3d data\n"
     ]
    },
    {
     "name": "stderr",
     "output_type": "stream",
     "text": [
      "24it [01:48,  2.06s/it]"
     ]
    },
    {
     "name": "stdout",
     "output_type": "stream",
     "text": [
      "angle beetween ey and sf: -2\n"
     ]
    },
    {
     "name": "stderr",
     "output_type": "stream",
     "text": [
      "/home/natalia/Documents/github_image_analysis/image_analysis/image_analysis/fit/regionprops.py:25: RuntimeWarning: Mean of empty slice\n",
      "  img_arr_x = np.nanmean(np.nanmean(img_arr, axis=0), axis=0)\n",
      "/home/natalia/Documents/github_image_analysis/image_analysis/image_analysis/fit/regionprops.py:28: RuntimeWarning: Mean of empty slice\n",
      "  img_arr_y = np.nanmean(np.nanmean(img_arr, axis=0), axis=1)\n",
      "/home/natalia/Documents/github_image_analysis/image_analysis/image_analysis/fit/regionprops.py:31: RuntimeWarning: Mean of empty slice\n",
      "  img_arr_z = np.nanmean(np.nanmean(img_arr, axis=1), axis=1)\n"
     ]
    },
    {
     "name": "stdout",
     "output_type": "stream",
     "text": [
      "rotation around x:\n",
      "36.86989764584402 0 0\n",
      "dictionary, with 3d data\n",
      "dictionary, with 3d data\n",
      "rotation around y:\n",
      "0 0 31.454300876818383\n",
      "dictionary, with 3d data\n",
      "dictionary, with 3d data\n",
      "strange rotation\n",
      "angle beetween ey and sf: 10\n",
      "rotation around x:\n",
      "48.576334374997344 0 0\n",
      "dictionary, with 3d data\n",
      "dictionary, with 3d data\n",
      "rotation around y:\n",
      "0 0 37.08498849224887\n",
      "dictionary, with 3d data\n"
     ]
    },
    {
     "name": "stderr",
     "output_type": "stream",
     "text": [
      "/home/natalia/Documents/github_image_analysis/image_analysis/image_analysis/fit/regionprops.py:25: RuntimeWarning: Mean of empty slice\n",
      "  img_arr_x = np.nanmean(np.nanmean(img_arr, axis=0), axis=0)\n",
      "/home/natalia/Documents/github_image_analysis/image_analysis/image_analysis/fit/regionprops.py:28: RuntimeWarning: Mean of empty slice\n",
      "  img_arr_y = np.nanmean(np.nanmean(img_arr, axis=0), axis=1)\n",
      "/home/natalia/Documents/github_image_analysis/image_analysis/image_analysis/fit/regionprops.py:31: RuntimeWarning: Mean of empty slice\n",
      "  img_arr_z = np.nanmean(np.nanmean(img_arr, axis=1), axis=1)\n"
     ]
    },
    {
     "name": "stdout",
     "output_type": "stream",
     "text": [
      "dictionary, with 3d data\n",
      "angle beetween ey and sf: 2\n",
      "rotation around x:\n",
      "48.46822925891715 0 0\n",
      "dictionary, with 3d data\n",
      "dictionary, with 3d data\n"
     ]
    },
    {
     "name": "stderr",
     "output_type": "stream",
     "text": [
      "/home/natalia/Documents/github_image_analysis/image_analysis/image_analysis/fit/regionprops.py:25: RuntimeWarning: Mean of empty slice\n",
      "  img_arr_x = np.nanmean(np.nanmean(img_arr, axis=0), axis=0)\n",
      "/home/natalia/Documents/github_image_analysis/image_analysis/image_analysis/fit/regionprops.py:28: RuntimeWarning: Mean of empty slice\n",
      "  img_arr_y = np.nanmean(np.nanmean(img_arr, axis=0), axis=1)\n",
      "/home/natalia/Documents/github_image_analysis/image_analysis/image_analysis/fit/regionprops.py:31: RuntimeWarning: Mean of empty slice\n",
      "  img_arr_z = np.nanmean(np.nanmean(img_arr, axis=1), axis=1)\n"
     ]
    },
    {
     "name": "stdout",
     "output_type": "stream",
     "text": [
      "rotation around y:\n",
      "0 0 38.96560450790923\n",
      "dictionary, with 3d data\n",
      "dictionary, with 3d data\n",
      "angle beetween ey and sf: 2\n",
      "rotation around x:\n",
      "48.46822925891715 0 0\n"
     ]
    },
    {
     "name": "stderr",
     "output_type": "stream",
     "text": [
      "/home/natalia/Documents/github_image_analysis/image_analysis/image_analysis/fit/regionprops.py:25: RuntimeWarning: Mean of empty slice\n",
      "  img_arr_x = np.nanmean(np.nanmean(img_arr, axis=0), axis=0)\n",
      "/home/natalia/Documents/github_image_analysis/image_analysis/image_analysis/fit/regionprops.py:28: RuntimeWarning: Mean of empty slice\n",
      "  img_arr_y = np.nanmean(np.nanmean(img_arr, axis=0), axis=1)\n",
      "/home/natalia/Documents/github_image_analysis/image_analysis/image_analysis/fit/regionprops.py:31: RuntimeWarning: Mean of empty slice\n",
      "  img_arr_z = np.nanmean(np.nanmean(img_arr, axis=1), axis=1)\n"
     ]
    },
    {
     "name": "stdout",
     "output_type": "stream",
     "text": [
      "dictionary, with 3d data\n",
      "dictionary, with 3d data\n",
      "rotation around y:\n",
      "0 0 38.95590783775889\n",
      "dictionary, with 3d data\n",
      "dictionary, with 3d data\n",
      "angle beetween ey and sf: 3\n"
     ]
    },
    {
     "name": "stderr",
     "output_type": "stream",
     "text": [
      "/home/natalia/Documents/github_image_analysis/image_analysis/image_analysis/fit/regionprops.py:25: RuntimeWarning: Mean of empty slice\n",
      "  img_arr_x = np.nanmean(np.nanmean(img_arr, axis=0), axis=0)\n",
      "/home/natalia/Documents/github_image_analysis/image_analysis/image_analysis/fit/regionprops.py:28: RuntimeWarning: Mean of empty slice\n",
      "  img_arr_y = np.nanmean(np.nanmean(img_arr, axis=0), axis=1)\n",
      "/home/natalia/Documents/github_image_analysis/image_analysis/image_analysis/fit/regionprops.py:31: RuntimeWarning: Mean of empty slice\n",
      "  img_arr_z = np.nanmean(np.nanmean(img_arr, axis=1), axis=1)\n"
     ]
    },
    {
     "name": "stdout",
     "output_type": "stream",
     "text": [
      "rotation around x:\n",
      "43.26429541107163 0 0\n",
      "dictionary, with 3d data\n",
      "dictionary, with 3d data\n",
      "rotation around y:\n",
      "0 0 38.96560450790923\n",
      "dictionary, with 3d data\n",
      "dictionary, with 3d data\n"
     ]
    },
    {
     "name": "stderr",
     "output_type": "stream",
     "text": [
      "25it [01:50,  1.93s/it]"
     ]
    },
    {
     "name": "stdout",
     "output_type": "stream",
     "text": [
      "angle beetween ey and sf: 1\n",
      "rotation around x:\n",
      "9.462322208025597 0 0\n",
      "dictionary, with 3d data\n"
     ]
    },
    {
     "name": "stderr",
     "output_type": "stream",
     "text": [
      "/home/natalia/Documents/github_image_analysis/image_analysis/image_analysis/fit/regionprops.py:25: RuntimeWarning: Mean of empty slice\n",
      "  img_arr_x = np.nanmean(np.nanmean(img_arr, axis=0), axis=0)\n",
      "/home/natalia/Documents/github_image_analysis/image_analysis/image_analysis/fit/regionprops.py:28: RuntimeWarning: Mean of empty slice\n",
      "  img_arr_y = np.nanmean(np.nanmean(img_arr, axis=0), axis=1)\n",
      "/home/natalia/Documents/github_image_analysis/image_analysis/image_analysis/fit/regionprops.py:31: RuntimeWarning: Mean of empty slice\n",
      "  img_arr_z = np.nanmean(np.nanmean(img_arr, axis=1), axis=1)\n"
     ]
    },
    {
     "name": "stdout",
     "output_type": "stream",
     "text": [
      "dictionary, with 3d data\n",
      "rotation around y:\n",
      "0 0 37.57724261305128\n",
      "dictionary, with 3d data\n",
      "dictionary, with 3d data\n",
      "angle beetween ey and sf: -4\n"
     ]
    },
    {
     "name": "stderr",
     "output_type": "stream",
     "text": [
      "/home/natalia/Documents/github_image_analysis/image_analysis/image_analysis/fit/regionprops.py:25: RuntimeWarning: Mean of empty slice\n",
      "  img_arr_x = np.nanmean(np.nanmean(img_arr, axis=0), axis=0)\n",
      "/home/natalia/Documents/github_image_analysis/image_analysis/image_analysis/fit/regionprops.py:28: RuntimeWarning: Mean of empty slice\n",
      "  img_arr_y = np.nanmean(np.nanmean(img_arr, axis=0), axis=1)\n",
      "/home/natalia/Documents/github_image_analysis/image_analysis/image_analysis/fit/regionprops.py:31: RuntimeWarning: Mean of empty slice\n",
      "  img_arr_z = np.nanmean(np.nanmean(img_arr, axis=1), axis=1)\n"
     ]
    },
    {
     "name": "stdout",
     "output_type": "stream",
     "text": [
      "rotation around x:\n",
      "12.011478386365411 0 0\n",
      "dictionary, with 3d data\n",
      "dictionary, with 3d data\n",
      "rotation around y:\n",
      "0 0 38.829805144253434\n",
      "dictionary, with 3d data\n",
      "dictionary, with 3d data\n",
      "angle beetween ey and sf: -5\n",
      "rotation around x:\n",
      "22.890551656248334 0 0\n",
      "dictionary, with 3d data\n",
      "dictionary, with 3d data\n"
     ]
    },
    {
     "name": "stderr",
     "output_type": "stream",
     "text": [
      "/home/natalia/Documents/github_image_analysis/image_analysis/image_analysis/fit/regionprops.py:25: RuntimeWarning: Mean of empty slice\n",
      "  img_arr_x = np.nanmean(np.nanmean(img_arr, axis=0), axis=0)\n",
      "/home/natalia/Documents/github_image_analysis/image_analysis/image_analysis/fit/regionprops.py:28: RuntimeWarning: Mean of empty slice\n",
      "  img_arr_y = np.nanmean(np.nanmean(img_arr, axis=0), axis=1)\n",
      "/home/natalia/Documents/github_image_analysis/image_analysis/image_analysis/fit/regionprops.py:31: RuntimeWarning: Mean of empty slice\n",
      "  img_arr_z = np.nanmean(np.nanmean(img_arr, axis=1), axis=1)\n"
     ]
    },
    {
     "name": "stdout",
     "output_type": "stream",
     "text": [
      "rotation around y:\n",
      "0 0 38.80487197739405\n",
      "dictionary, with 3d data\n",
      "dictionary, with 3d data\n",
      "angle beetween ey and sf: -3\n"
     ]
    },
    {
     "name": "stderr",
     "output_type": "stream",
     "text": [
      "/home/natalia/Documents/github_image_analysis/image_analysis/image_analysis/fit/regionprops.py:25: RuntimeWarning: Mean of empty slice\n",
      "  img_arr_x = np.nanmean(np.nanmean(img_arr, axis=0), axis=0)\n",
      "/home/natalia/Documents/github_image_analysis/image_analysis/image_analysis/fit/regionprops.py:28: RuntimeWarning: Mean of empty slice\n",
      "  img_arr_y = np.nanmean(np.nanmean(img_arr, axis=0), axis=1)\n",
      "/home/natalia/Documents/github_image_analysis/image_analysis/image_analysis/fit/regionprops.py:31: RuntimeWarning: Mean of empty slice\n",
      "  img_arr_z = np.nanmean(np.nanmean(img_arr, axis=1), axis=1)\n"
     ]
    },
    {
     "name": "stdout",
     "output_type": "stream",
     "text": [
      "rotation around x:\n",
      "24.075498255078855 0 0\n",
      "dictionary, with 3d data\n",
      "dictionary, with 3d data\n",
      "rotation around y:\n",
      "0 0 34.91940201245768\n",
      "dictionary, with 3d data\n",
      "dictionary, with 3d data\n",
      "angle beetween ey and sf: 1\n",
      "rotation around x:\n",
      "22.203478532057403 0 0\n",
      "dictionary, with 3d data\n",
      "dictionary, with 3d data\n"
     ]
    },
    {
     "name": "stderr",
     "output_type": "stream",
     "text": [
      "/home/natalia/Documents/github_image_analysis/image_analysis/image_analysis/fit/regionprops.py:25: RuntimeWarning: Mean of empty slice\n",
      "  img_arr_x = np.nanmean(np.nanmean(img_arr, axis=0), axis=0)\n",
      "/home/natalia/Documents/github_image_analysis/image_analysis/image_analysis/fit/regionprops.py:28: RuntimeWarning: Mean of empty slice\n",
      "  img_arr_y = np.nanmean(np.nanmean(img_arr, axis=0), axis=1)\n",
      "/home/natalia/Documents/github_image_analysis/image_analysis/image_analysis/fit/regionprops.py:31: RuntimeWarning: Mean of empty slice\n",
      "  img_arr_z = np.nanmean(np.nanmean(img_arr, axis=1), axis=1)\n"
     ]
    },
    {
     "name": "stdout",
     "output_type": "stream",
     "text": [
      "rotation around y:\n",
      "0 0 27.439727948199312\n",
      "dictionary, with 3d data\n",
      "dictionary, with 3d data\n",
      "angle beetween ey and sf: 0\n"
     ]
    },
    {
     "name": "stderr",
     "output_type": "stream",
     "text": [
      "26it [01:52,  1.95s/it]/home/natalia/Documents/github_image_analysis/image_analysis/image_analysis/fit/regionprops.py:25: RuntimeWarning: Mean of empty slice\n",
      "  img_arr_x = np.nanmean(np.nanmean(img_arr, axis=0), axis=0)\n",
      "/home/natalia/Documents/github_image_analysis/image_analysis/image_analysis/fit/regionprops.py:28: RuntimeWarning: Mean of empty slice\n",
      "  img_arr_y = np.nanmean(np.nanmean(img_arr, axis=0), axis=1)\n",
      "/home/natalia/Documents/github_image_analysis/image_analysis/image_analysis/fit/regionprops.py:31: RuntimeWarning: Mean of empty slice\n",
      "  img_arr_z = np.nanmean(np.nanmean(img_arr, axis=1), axis=1)\n"
     ]
    },
    {
     "name": "stdout",
     "output_type": "stream",
     "text": [
      "rotation around x:\n",
      "-1.0809241866605532 0 0\n",
      "dictionary, with 3d data\n",
      "dictionary, with 3d data\n",
      "rotation around y:\n",
      "0 0 32.206903917431816\n",
      "dictionary, with 3d data\n",
      "dictionary, with 3d data\n",
      "strange rotation\n",
      "angle beetween ey and sf: -8\n"
     ]
    },
    {
     "name": "stderr",
     "output_type": "stream",
     "text": [
      "/home/natalia/Documents/github_image_analysis/image_analysis/image_analysis/fit/regionprops.py:25: RuntimeWarning: Mean of empty slice\n",
      "  img_arr_x = np.nanmean(np.nanmean(img_arr, axis=0), axis=0)\n",
      "/home/natalia/Documents/github_image_analysis/image_analysis/image_analysis/fit/regionprops.py:28: RuntimeWarning: Mean of empty slice\n",
      "  img_arr_y = np.nanmean(np.nanmean(img_arr, axis=0), axis=1)\n",
      "/home/natalia/Documents/github_image_analysis/image_analysis/image_analysis/fit/regionprops.py:31: RuntimeWarning: Mean of empty slice\n",
      "  img_arr_z = np.nanmean(np.nanmean(img_arr, axis=1), axis=1)\n"
     ]
    },
    {
     "name": "stdout",
     "output_type": "stream",
     "text": [
      "rotation around x:\n",
      "16.18920625702694 0 0\n",
      "dictionary, with 3d data\n",
      "dictionary, with 3d data\n",
      "rotation around y:\n",
      "0 0 33.945785312247196\n",
      "dictionary, with 3d data\n",
      "dictionary, with 3d data\n",
      "angle beetween ey and sf: -2\n",
      "rotation around x:\n",
      "19.53665493812838 0 0\n",
      "dictionary, with 3d data\n",
      "dictionary, with 3d data\n"
     ]
    },
    {
     "name": "stderr",
     "output_type": "stream",
     "text": [
      "/home/natalia/Documents/github_image_analysis/image_analysis/image_analysis/fit/regionprops.py:25: RuntimeWarning: Mean of empty slice\n",
      "  img_arr_x = np.nanmean(np.nanmean(img_arr, axis=0), axis=0)\n",
      "/home/natalia/Documents/github_image_analysis/image_analysis/image_analysis/fit/regionprops.py:28: RuntimeWarning: Mean of empty slice\n",
      "  img_arr_y = np.nanmean(np.nanmean(img_arr, axis=0), axis=1)\n",
      "/home/natalia/Documents/github_image_analysis/image_analysis/image_analysis/fit/regionprops.py:31: RuntimeWarning: Mean of empty slice\n",
      "  img_arr_z = np.nanmean(np.nanmean(img_arr, axis=1), axis=1)\n"
     ]
    },
    {
     "name": "stdout",
     "output_type": "stream",
     "text": [
      "rotation around y:\n",
      "0 0 33.52120710116779\n",
      "dictionary, with 3d data\n",
      "dictionary, with 3d data\n",
      "angle beetween ey and sf: -2\n"
     ]
    },
    {
     "name": "stderr",
     "output_type": "stream",
     "text": [
      "/home/natalia/Documents/github_image_analysis/image_analysis/image_analysis/fit/regionprops.py:25: RuntimeWarning: Mean of empty slice\n",
      "  img_arr_x = np.nanmean(np.nanmean(img_arr, axis=0), axis=0)\n",
      "/home/natalia/Documents/github_image_analysis/image_analysis/image_analysis/fit/regionprops.py:28: RuntimeWarning: Mean of empty slice\n",
      "  img_arr_y = np.nanmean(np.nanmean(img_arr, axis=0), axis=1)\n",
      "/home/natalia/Documents/github_image_analysis/image_analysis/image_analysis/fit/regionprops.py:31: RuntimeWarning: Mean of empty slice\n",
      "  img_arr_z = np.nanmean(np.nanmean(img_arr, axis=1), axis=1)\n"
     ]
    },
    {
     "name": "stdout",
     "output_type": "stream",
     "text": [
      "rotation around x:\n",
      "22.32865637801916 0 0\n",
      "dictionary, with 3d data\n",
      "dictionary, with 3d data\n",
      "rotation around y:\n",
      "0 0 34.548367056011294\n",
      "dictionary, with 3d data\n",
      "dictionary, with 3d data\n",
      "angle beetween ey and sf: 1\n"
     ]
    },
    {
     "name": "stderr",
     "output_type": "stream",
     "text": [
      "/home/natalia/Documents/github_image_analysis/image_analysis/image_analysis/fit/regionprops.py:25: RuntimeWarning: Mean of empty slice\n",
      "  img_arr_x = np.nanmean(np.nanmean(img_arr, axis=0), axis=0)\n",
      "/home/natalia/Documents/github_image_analysis/image_analysis/image_analysis/fit/regionprops.py:28: RuntimeWarning: Mean of empty slice\n",
      "  img_arr_y = np.nanmean(np.nanmean(img_arr, axis=0), axis=1)\n",
      "/home/natalia/Documents/github_image_analysis/image_analysis/image_analysis/fit/regionprops.py:31: RuntimeWarning: Mean of empty slice\n",
      "  img_arr_z = np.nanmean(np.nanmean(img_arr, axis=1), axis=1)\n"
     ]
    },
    {
     "name": "stdout",
     "output_type": "stream",
     "text": [
      "rotation around x:\n",
      "24.443954780416533 0 0\n",
      "dictionary, with 3d data\n",
      "dictionary, with 3d data\n",
      "rotation around y:\n",
      "0 0 35.18069936124211\n",
      "dictionary, with 3d data\n",
      "dictionary, with 3d data\n",
      "angle beetween ey and sf: 1\n"
     ]
    },
    {
     "name": "stderr",
     "output_type": "stream",
     "text": [
      "27it [01:55,  2.12s/it]/home/natalia/Documents/github_image_analysis/image_analysis/image_analysis/fit/regionprops.py:25: RuntimeWarning: Mean of empty slice\n",
      "  img_arr_x = np.nanmean(np.nanmean(img_arr, axis=0), axis=0)\n",
      "/home/natalia/Documents/github_image_analysis/image_analysis/image_analysis/fit/regionprops.py:28: RuntimeWarning: Mean of empty slice\n",
      "  img_arr_y = np.nanmean(np.nanmean(img_arr, axis=0), axis=1)\n",
      "/home/natalia/Documents/github_image_analysis/image_analysis/image_analysis/fit/regionprops.py:31: RuntimeWarning: Mean of empty slice\n",
      "  img_arr_z = np.nanmean(np.nanmean(img_arr, axis=1), axis=1)\n"
     ]
    },
    {
     "name": "stdout",
     "output_type": "stream",
     "text": [
      "rotation around x:\n",
      "36.52885536698517 0 0\n",
      "dictionary, with 3d data\n",
      "dictionary, with 3d data\n",
      "rotation around y:\n",
      "0 0 -8.615969554704446\n",
      "dictionary, with 3d data\n",
      "dictionary, with 3d data\n",
      "angle beetween ey and sf: -3\n",
      "rotation around x:\n",
      "34.59228868750992 0 0\n",
      "dictionary, with 3d data\n",
      "dictionary, with 3d data\n"
     ]
    },
    {
     "name": "stderr",
     "output_type": "stream",
     "text": [
      "/home/natalia/Documents/github_image_analysis/image_analysis/image_analysis/fit/regionprops.py:25: RuntimeWarning: Mean of empty slice\n",
      "  img_arr_x = np.nanmean(np.nanmean(img_arr, axis=0), axis=0)\n",
      "/home/natalia/Documents/github_image_analysis/image_analysis/image_analysis/fit/regionprops.py:28: RuntimeWarning: Mean of empty slice\n",
      "  img_arr_y = np.nanmean(np.nanmean(img_arr, axis=0), axis=1)\n",
      "/home/natalia/Documents/github_image_analysis/image_analysis/image_analysis/fit/regionprops.py:31: RuntimeWarning: Mean of empty slice\n",
      "  img_arr_z = np.nanmean(np.nanmean(img_arr, axis=1), axis=1)\n"
     ]
    },
    {
     "name": "stdout",
     "output_type": "stream",
     "text": [
      "rotation around y:\n",
      "0 0 -12.062603037587762\n",
      "dictionary, with 3d data\n",
      "dictionary, with 3d data\n",
      "angle beetween ey and sf: -2\n"
     ]
    },
    {
     "name": "stderr",
     "output_type": "stream",
     "text": [
      "/home/natalia/Documents/github_image_analysis/image_analysis/image_analysis/fit/regionprops.py:25: RuntimeWarning: Mean of empty slice\n",
      "  img_arr_x = np.nanmean(np.nanmean(img_arr, axis=0), axis=0)\n",
      "/home/natalia/Documents/github_image_analysis/image_analysis/image_analysis/fit/regionprops.py:28: RuntimeWarning: Mean of empty slice\n",
      "  img_arr_y = np.nanmean(np.nanmean(img_arr, axis=0), axis=1)\n",
      "/home/natalia/Documents/github_image_analysis/image_analysis/image_analysis/fit/regionprops.py:31: RuntimeWarning: Mean of empty slice\n",
      "  img_arr_z = np.nanmean(np.nanmean(img_arr, axis=1), axis=1)\n"
     ]
    },
    {
     "name": "stdout",
     "output_type": "stream",
     "text": [
      "rotation around x:\n",
      "32.59258147259928 0 0\n",
      "dictionary, with 3d data\n",
      "dictionary, with 3d data\n",
      "rotation around y:\n",
      "0 0 -17.365862819717936\n",
      "dictionary, with 3d data\n",
      "dictionary, with 3d data\n",
      "angle beetween ey and sf: -3\n",
      "rotation around x:\n",
      "31.218402764346393 0 0\n",
      "dictionary, with 3d data\n",
      "dictionary, with 3d data\n"
     ]
    },
    {
     "name": "stderr",
     "output_type": "stream",
     "text": [
      "/home/natalia/Documents/github_image_analysis/image_analysis/image_analysis/fit/regionprops.py:25: RuntimeWarning: Mean of empty slice\n",
      "  img_arr_x = np.nanmean(np.nanmean(img_arr, axis=0), axis=0)\n",
      "/home/natalia/Documents/github_image_analysis/image_analysis/image_analysis/fit/regionprops.py:28: RuntimeWarning: Mean of empty slice\n",
      "  img_arr_y = np.nanmean(np.nanmean(img_arr, axis=0), axis=1)\n",
      "/home/natalia/Documents/github_image_analysis/image_analysis/image_analysis/fit/regionprops.py:31: RuntimeWarning: Mean of empty slice\n",
      "  img_arr_z = np.nanmean(np.nanmean(img_arr, axis=1), axis=1)\n"
     ]
    },
    {
     "name": "stdout",
     "output_type": "stream",
     "text": [
      "rotation around y:\n",
      "0 0 -22.394372167664127\n",
      "dictionary, with 3d data\n",
      "dictionary, with 3d data\n",
      "angle beetween ey and sf: -2\n"
     ]
    },
    {
     "name": "stderr",
     "output_type": "stream",
     "text": [
      "/home/natalia/Documents/github_image_analysis/image_analysis/image_analysis/fit/regionprops.py:25: RuntimeWarning: Mean of empty slice\n",
      "  img_arr_x = np.nanmean(np.nanmean(img_arr, axis=0), axis=0)\n",
      "/home/natalia/Documents/github_image_analysis/image_analysis/image_analysis/fit/regionprops.py:28: RuntimeWarning: Mean of empty slice\n",
      "  img_arr_y = np.nanmean(np.nanmean(img_arr, axis=0), axis=1)\n",
      "/home/natalia/Documents/github_image_analysis/image_analysis/image_analysis/fit/regionprops.py:31: RuntimeWarning: Mean of empty slice\n",
      "  img_arr_z = np.nanmean(np.nanmean(img_arr, axis=1), axis=1)\n"
     ]
    },
    {
     "name": "stdout",
     "output_type": "stream",
     "text": [
      "rotation around x:\n",
      "35.21759296819272 0 0\n",
      "dictionary, with 3d data\n",
      "dictionary, with 3d data\n",
      "rotation around y:\n",
      "0 0 -22.628165486576467\n",
      "dictionary, with 3d data\n",
      "dictionary, with 3d data\n"
     ]
    },
    {
     "name": "stderr",
     "output_type": "stream",
     "text": [
      "28it [01:57,  2.08s/it]"
     ]
    },
    {
     "name": "stdout",
     "output_type": "stream",
     "text": [
      "angle beetween ey and sf: -1\n",
      "rotation around x:\n",
      "-8.673174047879769 0 0\n"
     ]
    },
    {
     "name": "stderr",
     "output_type": "stream",
     "text": [
      "/home/natalia/Documents/github_image_analysis/image_analysis/image_analysis/fit/regionprops.py:25: RuntimeWarning: Mean of empty slice\n",
      "  img_arr_x = np.nanmean(np.nanmean(img_arr, axis=0), axis=0)\n",
      "/home/natalia/Documents/github_image_analysis/image_analysis/image_analysis/fit/regionprops.py:28: RuntimeWarning: Mean of empty slice\n",
      "  img_arr_y = np.nanmean(np.nanmean(img_arr, axis=0), axis=1)\n",
      "/home/natalia/Documents/github_image_analysis/image_analysis/image_analysis/fit/regionprops.py:31: RuntimeWarning: Mean of empty slice\n",
      "  img_arr_z = np.nanmean(np.nanmean(img_arr, axis=1), axis=1)\n"
     ]
    },
    {
     "name": "stdout",
     "output_type": "stream",
     "text": [
      "dictionary, with 3d data\n",
      "dictionary, with 3d data\n",
      "rotation around y:\n",
      "0 0 24.60497988844984\n",
      "dictionary, with 3d data\n",
      "dictionary, with 3d data\n",
      "angle beetween ey and sf: 1\n"
     ]
    },
    {
     "name": "stderr",
     "output_type": "stream",
     "text": [
      "/home/natalia/Documents/github_image_analysis/image_analysis/image_analysis/fit/regionprops.py:25: RuntimeWarning: Mean of empty slice\n",
      "  img_arr_x = np.nanmean(np.nanmean(img_arr, axis=0), axis=0)\n",
      "/home/natalia/Documents/github_image_analysis/image_analysis/image_analysis/fit/regionprops.py:28: RuntimeWarning: Mean of empty slice\n",
      "  img_arr_y = np.nanmean(np.nanmean(img_arr, axis=0), axis=1)\n",
      "/home/natalia/Documents/github_image_analysis/image_analysis/image_analysis/fit/regionprops.py:31: RuntimeWarning: Mean of empty slice\n",
      "  img_arr_z = np.nanmean(np.nanmean(img_arr, axis=1), axis=1)\n"
     ]
    },
    {
     "name": "stdout",
     "output_type": "stream",
     "text": [
      "rotation around x:\n",
      "-9.462322208025597 0 0\n",
      "dictionary, with 3d data\n",
      "dictionary, with 3d data\n",
      "rotation around y:\n",
      "0 0 17.323040651985202\n",
      "dictionary, with 3d data\n",
      "dictionary, with 3d data\n",
      "angle beetween ey and sf: 0\n"
     ]
    },
    {
     "name": "stderr",
     "output_type": "stream",
     "text": [
      "/home/natalia/Documents/github_image_analysis/image_analysis/image_analysis/fit/regionprops.py:25: RuntimeWarning: Mean of empty slice\n",
      "  img_arr_x = np.nanmean(np.nanmean(img_arr, axis=0), axis=0)\n",
      "/home/natalia/Documents/github_image_analysis/image_analysis/image_analysis/fit/regionprops.py:28: RuntimeWarning: Mean of empty slice\n",
      "  img_arr_y = np.nanmean(np.nanmean(img_arr, axis=0), axis=1)\n",
      "/home/natalia/Documents/github_image_analysis/image_analysis/image_analysis/fit/regionprops.py:31: RuntimeWarning: Mean of empty slice\n",
      "  img_arr_z = np.nanmean(np.nanmean(img_arr, axis=1), axis=1)\n"
     ]
    },
    {
     "name": "stdout",
     "output_type": "stream",
     "text": [
      "rotation around x:\n",
      "-5.527540151656126 0 0\n",
      "dictionary, with 3d data\n",
      "dictionary, with 3d data\n",
      "rotation around y:\n",
      "0 0 16.440379521680168\n",
      "dictionary, with 3d data\n",
      "dictionary, with 3d data\n",
      "angle beetween ey and sf: 0\n"
     ]
    },
    {
     "name": "stderr",
     "output_type": "stream",
     "text": [
      "/home/natalia/Documents/github_image_analysis/image_analysis/image_analysis/fit/regionprops.py:25: RuntimeWarning: Mean of empty slice\n",
      "  img_arr_x = np.nanmean(np.nanmean(img_arr, axis=0), axis=0)\n",
      "/home/natalia/Documents/github_image_analysis/image_analysis/image_analysis/fit/regionprops.py:28: RuntimeWarning: Mean of empty slice\n",
      "  img_arr_y = np.nanmean(np.nanmean(img_arr, axis=0), axis=1)\n",
      "/home/natalia/Documents/github_image_analysis/image_analysis/image_analysis/fit/regionprops.py:31: RuntimeWarning: Mean of empty slice\n",
      "  img_arr_z = np.nanmean(np.nanmean(img_arr, axis=1), axis=1)\n"
     ]
    },
    {
     "name": "stdout",
     "output_type": "stream",
     "text": [
      "rotation around x:\n",
      "-5.617580590126863 0 0\n",
      "dictionary, with 3d data\n",
      "dictionary, with 3d data\n",
      "rotation around y:\n",
      "0 0 13.134022306396325\n",
      "dictionary, with 3d data\n",
      "dictionary, with 3d data\n",
      "angle beetween ey and sf: 1\n"
     ]
    },
    {
     "name": "stderr",
     "output_type": "stream",
     "text": [
      "/home/natalia/Documents/github_image_analysis/image_analysis/image_analysis/fit/regionprops.py:25: RuntimeWarning: Mean of empty slice\n",
      "  img_arr_x = np.nanmean(np.nanmean(img_arr, axis=0), axis=0)\n",
      "/home/natalia/Documents/github_image_analysis/image_analysis/image_analysis/fit/regionprops.py:28: RuntimeWarning: Mean of empty slice\n",
      "  img_arr_y = np.nanmean(np.nanmean(img_arr, axis=0), axis=1)\n",
      "/home/natalia/Documents/github_image_analysis/image_analysis/image_analysis/fit/regionprops.py:31: RuntimeWarning: Mean of empty slice\n",
      "  img_arr_z = np.nanmean(np.nanmean(img_arr, axis=1), axis=1)\n"
     ]
    },
    {
     "name": "stdout",
     "output_type": "stream",
     "text": [
      "rotation around x:\n",
      "-6.54629078329404 0 0\n",
      "dictionary, with 3d data\n",
      "dictionary, with 3d data\n",
      "rotation around y:\n",
      "0 0 8.5824836888271\n",
      "dictionary, with 3d data\n",
      "dictionary, with 3d data\n",
      "angle beetween ey and sf: 1\n"
     ]
    },
    {
     "name": "stderr",
     "output_type": "stream",
     "text": [
      "29it [01:58,  1.84s/it]/home/natalia/Documents/github_image_analysis/image_analysis/image_analysis/fit/regionprops.py:25: RuntimeWarning: Mean of empty slice\n",
      "  img_arr_x = np.nanmean(np.nanmean(img_arr, axis=0), axis=0)\n",
      "/home/natalia/Documents/github_image_analysis/image_analysis/image_analysis/fit/regionprops.py:28: RuntimeWarning: Mean of empty slice\n",
      "  img_arr_y = np.nanmean(np.nanmean(img_arr, axis=0), axis=1)\n",
      "/home/natalia/Documents/github_image_analysis/image_analysis/image_analysis/fit/regionprops.py:31: RuntimeWarning: Mean of empty slice\n",
      "  img_arr_z = np.nanmean(np.nanmean(img_arr, axis=1), axis=1)\n",
      "/home/natalia/Documents/github_image_analysis/image_analysis/image_analysis/fit/regionprops.py:25: RuntimeWarning: Mean of empty slice\n",
      "  img_arr_x = np.nanmean(np.nanmean(img_arr, axis=0), axis=0)\n",
      "/home/natalia/Documents/github_image_analysis/image_analysis/image_analysis/fit/regionprops.py:28: RuntimeWarning: Mean of empty slice\n",
      "  img_arr_y = np.nanmean(np.nanmean(img_arr, axis=0), axis=1)\n",
      "/home/natalia/Documents/github_image_analysis/image_analysis/image_analysis/fit/regionprops.py:31: RuntimeWarning: Mean of empty slice\n",
      "  img_arr_z = np.nanmean(np.nanmean(img_arr, axis=1), axis=1)\n"
     ]
    },
    {
     "name": "stdout",
     "output_type": "stream",
     "text": [
      "rotation around x:\n",
      "-0.0 0 0\n",
      "dictionary, with 3d data\n",
      "dictionary, with 3d data\n",
      "rotation around y:\n",
      "0 0 30.256437163529263\n",
      "dictionary, with 3d data\n",
      "dictionary, with 3d data\n",
      "strange rotation\n",
      "angle beetween ey and sf: -26\n",
      "rotation around x:\n",
      "21.447736327105332 0 0\n",
      "dictionary, with 3d data\n",
      "dictionary, with 3d data\n",
      "rotation around y:\n",
      "0 0 37.9620133483561\n"
     ]
    },
    {
     "name": "stderr",
     "output_type": "stream",
     "text": [
      "/home/natalia/Documents/github_image_analysis/image_analysis/image_analysis/fit/regionprops.py:25: RuntimeWarning: Mean of empty slice\n",
      "  img_arr_x = np.nanmean(np.nanmean(img_arr, axis=0), axis=0)\n",
      "/home/natalia/Documents/github_image_analysis/image_analysis/image_analysis/fit/regionprops.py:28: RuntimeWarning: Mean of empty slice\n",
      "  img_arr_y = np.nanmean(np.nanmean(img_arr, axis=0), axis=1)\n",
      "/home/natalia/Documents/github_image_analysis/image_analysis/image_analysis/fit/regionprops.py:31: RuntimeWarning: Mean of empty slice\n",
      "  img_arr_z = np.nanmean(np.nanmean(img_arr, axis=1), axis=1)\n"
     ]
    },
    {
     "name": "stdout",
     "output_type": "stream",
     "text": [
      "dictionary, with 3d data\n",
      "dictionary, with 3d data\n",
      "strange rotation\n",
      "angle beetween ey and sf: -17\n",
      "rotation around x:\n",
      "25.709953780811276 0 0\n",
      "dictionary, with 3d data\n",
      "dictionary, with 3d data\n",
      "rotation around y:\n",
      "0 0 45.01398140111947\n",
      "dictionary, with 3d data\n"
     ]
    },
    {
     "name": "stderr",
     "output_type": "stream",
     "text": [
      "/home/natalia/Documents/github_image_analysis/image_analysis/image_analysis/fit/regionprops.py:25: RuntimeWarning: Mean of empty slice\n",
      "  img_arr_x = np.nanmean(np.nanmean(img_arr, axis=0), axis=0)\n",
      "/home/natalia/Documents/github_image_analysis/image_analysis/image_analysis/fit/regionprops.py:28: RuntimeWarning: Mean of empty slice\n",
      "  img_arr_y = np.nanmean(np.nanmean(img_arr, axis=0), axis=1)\n",
      "/home/natalia/Documents/github_image_analysis/image_analysis/image_analysis/fit/regionprops.py:31: RuntimeWarning: Mean of empty slice\n",
      "  img_arr_z = np.nanmean(np.nanmean(img_arr, axis=1), axis=1)\n"
     ]
    },
    {
     "name": "stdout",
     "output_type": "stream",
     "text": [
      "dictionary, with 3d data\n",
      "strange rotation\n",
      "angle beetween ey and sf: -11\n",
      "rotation around x:\n",
      "31.26373169437744 0 0\n",
      "dictionary, with 3d data\n",
      "dictionary, with 3d data\n",
      "rotation around y:\n",
      "0 0 52.9269266826896\n",
      "dictionary, with 3d data\n",
      "dictionary, with 3d data\n"
     ]
    },
    {
     "name": "stderr",
     "output_type": "stream",
     "text": [
      "/home/natalia/Documents/github_image_analysis/image_analysis/image_analysis/fit/regionprops.py:25: RuntimeWarning: Mean of empty slice\n",
      "  img_arr_x = np.nanmean(np.nanmean(img_arr, axis=0), axis=0)\n",
      "/home/natalia/Documents/github_image_analysis/image_analysis/image_analysis/fit/regionprops.py:28: RuntimeWarning: Mean of empty slice\n",
      "  img_arr_y = np.nanmean(np.nanmean(img_arr, axis=0), axis=1)\n",
      "/home/natalia/Documents/github_image_analysis/image_analysis/image_analysis/fit/regionprops.py:31: RuntimeWarning: Mean of empty slice\n",
      "  img_arr_z = np.nanmean(np.nanmean(img_arr, axis=1), axis=1)\n"
     ]
    },
    {
     "name": "stdout",
     "output_type": "stream",
     "text": [
      "angle beetween ey and sf: 1\n",
      "rotation around x:\n",
      "31.26373169437744 0 0\n",
      "dictionary, with 3d data\n",
      "dictionary, with 3d data\n",
      "rotation around y:\n",
      "0 0 53.75290679933846\n",
      "dictionary, with 3d data\n",
      "dictionary, with 3d data\n",
      "angle beetween ey and sf: 1\n"
     ]
    },
    {
     "name": "stderr",
     "output_type": "stream",
     "text": [
      "30it [01:59,  1.58s/it]/home/natalia/Documents/github_image_analysis/image_analysis/image_analysis/fit/regionprops.py:25: RuntimeWarning: Mean of empty slice\n",
      "  img_arr_x = np.nanmean(np.nanmean(img_arr, axis=0), axis=0)\n",
      "/home/natalia/Documents/github_image_analysis/image_analysis/image_analysis/fit/regionprops.py:28: RuntimeWarning: Mean of empty slice\n",
      "  img_arr_y = np.nanmean(np.nanmean(img_arr, axis=0), axis=1)\n",
      "/home/natalia/Documents/github_image_analysis/image_analysis/image_analysis/fit/regionprops.py:31: RuntimeWarning: Mean of empty slice\n",
      "  img_arr_z = np.nanmean(np.nanmean(img_arr, axis=1), axis=1)\n"
     ]
    },
    {
     "name": "stdout",
     "output_type": "stream",
     "text": [
      "rotation around x:\n",
      "2.910837826167892 0 0\n",
      "dictionary, with 3d data\n",
      "dictionary, with 3d data\n",
      "rotation around y:\n",
      "0 0 31.8274465766731\n",
      "dictionary, with 3d data\n",
      "dictionary, with 3d data\n",
      "angle beetween ey and sf: -2\n"
     ]
    },
    {
     "name": "stderr",
     "output_type": "stream",
     "text": [
      "/home/natalia/Documents/github_image_analysis/image_analysis/image_analysis/fit/regionprops.py:25: RuntimeWarning: Mean of empty slice\n",
      "  img_arr_x = np.nanmean(np.nanmean(img_arr, axis=0), axis=0)\n",
      "/home/natalia/Documents/github_image_analysis/image_analysis/image_analysis/fit/regionprops.py:28: RuntimeWarning: Mean of empty slice\n",
      "  img_arr_y = np.nanmean(np.nanmean(img_arr, axis=0), axis=1)\n",
      "/home/natalia/Documents/github_image_analysis/image_analysis/image_analysis/fit/regionprops.py:31: RuntimeWarning: Mean of empty slice\n",
      "  img_arr_z = np.nanmean(np.nanmean(img_arr, axis=1), axis=1)\n"
     ]
    },
    {
     "name": "stdout",
     "output_type": "stream",
     "text": [
      "rotation around x:\n",
      "12.40741852740075 0 0\n",
      "dictionary, with 3d data\n",
      "dictionary, with 3d data\n",
      "rotation around y:\n",
      "0 0 35.75388725443675\n",
      "dictionary, with 3d data\n",
      "dictionary, with 3d data\n",
      "angle beetween ey and sf: 0\n"
     ]
    },
    {
     "name": "stderr",
     "output_type": "stream",
     "text": [
      "/home/natalia/Documents/github_image_analysis/image_analysis/image_analysis/fit/regionprops.py:25: RuntimeWarning: Mean of empty slice\n",
      "  img_arr_x = np.nanmean(np.nanmean(img_arr, axis=0), axis=0)\n",
      "/home/natalia/Documents/github_image_analysis/image_analysis/image_analysis/fit/regionprops.py:28: RuntimeWarning: Mean of empty slice\n",
      "  img_arr_y = np.nanmean(np.nanmean(img_arr, axis=0), axis=1)\n",
      "/home/natalia/Documents/github_image_analysis/image_analysis/image_analysis/fit/regionprops.py:31: RuntimeWarning: Mean of empty slice\n",
      "  img_arr_z = np.nanmean(np.nanmean(img_arr, axis=1), axis=1)\n"
     ]
    },
    {
     "name": "stdout",
     "output_type": "stream",
     "text": [
      "rotation around x:\n",
      "12.652556500557978 0 0\n",
      "dictionary, with 3d data\n",
      "dictionary, with 3d data\n",
      "rotation around y:\n",
      "0 0 35.53767779197439\n",
      "dictionary, with 3d data\n",
      "dictionary, with 3d data\n",
      "angle beetween ey and sf: 0\n"
     ]
    },
    {
     "name": "stderr",
     "output_type": "stream",
     "text": [
      "/home/natalia/Documents/github_image_analysis/image_analysis/image_analysis/fit/regionprops.py:25: RuntimeWarning: Mean of empty slice\n",
      "  img_arr_x = np.nanmean(np.nanmean(img_arr, axis=0), axis=0)\n",
      "/home/natalia/Documents/github_image_analysis/image_analysis/image_analysis/fit/regionprops.py:28: RuntimeWarning: Mean of empty slice\n",
      "  img_arr_y = np.nanmean(np.nanmean(img_arr, axis=0), axis=1)\n",
      "/home/natalia/Documents/github_image_analysis/image_analysis/image_analysis/fit/regionprops.py:31: RuntimeWarning: Mean of empty slice\n",
      "  img_arr_z = np.nanmean(np.nanmean(img_arr, axis=1), axis=1)\n"
     ]
    },
    {
     "name": "stdout",
     "output_type": "stream",
     "text": [
      "rotation around x:\n",
      "11.534620653644737 0 0\n",
      "dictionary, with 3d data\n",
      "dictionary, with 3d data\n",
      "rotation around y:\n",
      "0 0 32.61924307119281\n",
      "dictionary, with 3d data\n",
      "dictionary, with 3d data\n",
      "angle beetween ey and sf: 0\n"
     ]
    },
    {
     "name": "stderr",
     "output_type": "stream",
     "text": [
      "/home/natalia/Documents/github_image_analysis/image_analysis/image_analysis/fit/regionprops.py:25: RuntimeWarning: Mean of empty slice\n",
      "  img_arr_x = np.nanmean(np.nanmean(img_arr, axis=0), axis=0)\n",
      "/home/natalia/Documents/github_image_analysis/image_analysis/image_analysis/fit/regionprops.py:28: RuntimeWarning: Mean of empty slice\n",
      "  img_arr_y = np.nanmean(np.nanmean(img_arr, axis=0), axis=1)\n",
      "/home/natalia/Documents/github_image_analysis/image_analysis/image_analysis/fit/regionprops.py:31: RuntimeWarning: Mean of empty slice\n",
      "  img_arr_z = np.nanmean(np.nanmean(img_arr, axis=1), axis=1)\n"
     ]
    },
    {
     "name": "stdout",
     "output_type": "stream",
     "text": [
      "rotation around x:\n",
      "9.81930063875788 0 0\n",
      "dictionary, with 3d data\n",
      "dictionary, with 3d data\n",
      "rotation around y:\n",
      "0 0 29.16255594384692\n",
      "dictionary, with 3d data\n",
      "dictionary, with 3d data\n"
     ]
    },
    {
     "name": "stderr",
     "output_type": "stream",
     "text": [
      "31it [02:01,  1.88s/it]"
     ]
    },
    {
     "name": "stdout",
     "output_type": "stream",
     "text": [
      "angle beetween ey and sf: 1\n",
      "rotation around x:\n",
      "59.03624346792648 0 0\n",
      "dictionary, with 3d data\n",
      "dictionary, with 3d data\n"
     ]
    },
    {
     "name": "stderr",
     "output_type": "stream",
     "text": [
      "/home/natalia/Documents/github_image_analysis/image_analysis/image_analysis/fit/regionprops.py:25: RuntimeWarning: Mean of empty slice\n",
      "  img_arr_x = np.nanmean(np.nanmean(img_arr, axis=0), axis=0)\n",
      "/home/natalia/Documents/github_image_analysis/image_analysis/image_analysis/fit/regionprops.py:28: RuntimeWarning: Mean of empty slice\n",
      "  img_arr_y = np.nanmean(np.nanmean(img_arr, axis=0), axis=1)\n",
      "/home/natalia/Documents/github_image_analysis/image_analysis/image_analysis/fit/regionprops.py:31: RuntimeWarning: Mean of empty slice\n",
      "  img_arr_z = np.nanmean(np.nanmean(img_arr, axis=1), axis=1)\n",
      "/home/natalia/Documents/github_image_analysis/image_analysis/image_analysis/fit/regionprops.py:25: RuntimeWarning: Mean of empty slice\n",
      "  img_arr_x = np.nanmean(np.nanmean(img_arr, axis=0), axis=0)\n",
      "/home/natalia/Documents/github_image_analysis/image_analysis/image_analysis/fit/regionprops.py:28: RuntimeWarning: Mean of empty slice\n",
      "  img_arr_y = np.nanmean(np.nanmean(img_arr, axis=0), axis=1)\n",
      "/home/natalia/Documents/github_image_analysis/image_analysis/image_analysis/fit/regionprops.py:31: RuntimeWarning: Mean of empty slice\n",
      "  img_arr_z = np.nanmean(np.nanmean(img_arr, axis=1), axis=1)\n"
     ]
    },
    {
     "name": "stdout",
     "output_type": "stream",
     "text": [
      "rotation around y:\n",
      "0 0 63.856904229213384\n",
      "dictionary, with 3d data\n",
      "dictionary, with 3d data\n",
      "angle beetween ey and sf: -1\n",
      "rotation around x:\n",
      "57.52880770915151 0 0\n",
      "dictionary, with 3d data\n",
      "dictionary, with 3d data\n",
      "rotation around y:\n",
      "0 0 59.716315334435706\n",
      "dictionary, with 3d data\n",
      "dictionary, with 3d data\n",
      "angle beetween ey and sf: -2\n",
      "rotation around x:\n",
      "60.01836063115066 0 0\n",
      "dictionary, with 3d data\n",
      "dictionary, with 3d data\n"
     ]
    },
    {
     "name": "stderr",
     "output_type": "stream",
     "text": [
      "/home/natalia/Documents/github_image_analysis/image_analysis/image_analysis/fit/regionprops.py:25: RuntimeWarning: Mean of empty slice\n",
      "  img_arr_x = np.nanmean(np.nanmean(img_arr, axis=0), axis=0)\n",
      "/home/natalia/Documents/github_image_analysis/image_analysis/image_analysis/fit/regionprops.py:28: RuntimeWarning: Mean of empty slice\n",
      "  img_arr_y = np.nanmean(np.nanmean(img_arr, axis=0), axis=1)\n",
      "/home/natalia/Documents/github_image_analysis/image_analysis/image_analysis/fit/regionprops.py:31: RuntimeWarning: Mean of empty slice\n",
      "  img_arr_z = np.nanmean(np.nanmean(img_arr, axis=1), axis=1)\n",
      "/home/natalia/Documents/github_image_analysis/image_analysis/image_analysis/fit/regionprops.py:25: RuntimeWarning: Mean of empty slice\n",
      "  img_arr_x = np.nanmean(np.nanmean(img_arr, axis=0), axis=0)\n"
     ]
    },
    {
     "name": "stdout",
     "output_type": "stream",
     "text": [
      "rotation around y:\n",
      "0 0 57.09977945573385\n",
      "dictionary, with 3d data\n",
      "dictionary, with 3d data\n",
      "angle beetween ey and sf: -1\n",
      "rotation around x:\n",
      "61.821409890040826 0 0\n",
      "dictionary, with 3d data\n",
      "dictionary, with 3d data\n",
      "rotation around y:\n",
      "0 0 55.249674532465384\n"
     ]
    },
    {
     "name": "stderr",
     "output_type": "stream",
     "text": [
      "/home/natalia/Documents/github_image_analysis/image_analysis/image_analysis/fit/regionprops.py:28: RuntimeWarning: Mean of empty slice\n",
      "  img_arr_y = np.nanmean(np.nanmean(img_arr, axis=0), axis=1)\n",
      "/home/natalia/Documents/github_image_analysis/image_analysis/image_analysis/fit/regionprops.py:31: RuntimeWarning: Mean of empty slice\n",
      "  img_arr_z = np.nanmean(np.nanmean(img_arr, axis=1), axis=1)\n",
      "/home/natalia/Documents/github_image_analysis/image_analysis/image_analysis/fit/regionprops.py:25: RuntimeWarning: Mean of empty slice\n",
      "  img_arr_x = np.nanmean(np.nanmean(img_arr, axis=0), axis=0)\n",
      "/home/natalia/Documents/github_image_analysis/image_analysis/image_analysis/fit/regionprops.py:28: RuntimeWarning: Mean of empty slice\n",
      "  img_arr_y = np.nanmean(np.nanmean(img_arr, axis=0), axis=1)\n",
      "/home/natalia/Documents/github_image_analysis/image_analysis/image_analysis/fit/regionprops.py:31: RuntimeWarning: Mean of empty slice\n",
      "  img_arr_z = np.nanmean(np.nanmean(img_arr, axis=1), axis=1)\n"
     ]
    },
    {
     "name": "stdout",
     "output_type": "stream",
     "text": [
      "dictionary, with 3d data\n",
      "dictionary, with 3d data\n",
      "angle beetween ey and sf: -2\n",
      "rotation around x:\n",
      "63.43494882292201 0 0\n",
      "dictionary, with 3d data\n",
      "dictionary, with 3d data\n",
      "rotation around y:\n",
      "0 0 56.826339935275726\n",
      "dictionary, with 3d data\n"
     ]
    },
    {
     "name": "stderr",
     "output_type": "stream",
     "text": [
      "32it [02:02,  1.63s/it]"
     ]
    },
    {
     "name": "stdout",
     "output_type": "stream",
     "text": [
      "dictionary, with 3d data\n",
      "angle beetween ey and sf: -2\n"
     ]
    },
    {
     "name": "stderr",
     "output_type": "stream",
     "text": [
      "/home/natalia/Documents/github_image_analysis/image_analysis/image_analysis/fit/regionprops.py:25: RuntimeWarning: Mean of empty slice\n",
      "  img_arr_x = np.nanmean(np.nanmean(img_arr, axis=0), axis=0)\n",
      "/home/natalia/Documents/github_image_analysis/image_analysis/image_analysis/fit/regionprops.py:28: RuntimeWarning: Mean of empty slice\n",
      "  img_arr_y = np.nanmean(np.nanmean(img_arr, axis=0), axis=1)\n",
      "/home/natalia/Documents/github_image_analysis/image_analysis/image_analysis/fit/regionprops.py:31: RuntimeWarning: Mean of empty slice\n",
      "  img_arr_z = np.nanmean(np.nanmean(img_arr, axis=1), axis=1)\n"
     ]
    },
    {
     "name": "stdout",
     "output_type": "stream",
     "text": [
      "rotation around x:\n",
      "-11.3099324740202 0 0\n",
      "dictionary, with 3d data\n",
      "dictionary, with 3d data\n",
      "rotation around y:\n",
      "0 0 31.476319203855496\n",
      "dictionary, with 3d data\n",
      "dictionary, with 3d data\n",
      "strange rotation\n",
      "angle beetween ey and sf: -14\n"
     ]
    },
    {
     "name": "stderr",
     "output_type": "stream",
     "text": [
      "/home/natalia/Documents/github_image_analysis/image_analysis/image_analysis/fit/regionprops.py:25: RuntimeWarning: Mean of empty slice\n",
      "  img_arr_x = np.nanmean(np.nanmean(img_arr, axis=0), axis=0)\n",
      "/home/natalia/Documents/github_image_analysis/image_analysis/image_analysis/fit/regionprops.py:28: RuntimeWarning: Mean of empty slice\n",
      "  img_arr_y = np.nanmean(np.nanmean(img_arr, axis=0), axis=1)\n",
      "/home/natalia/Documents/github_image_analysis/image_analysis/image_analysis/fit/regionprops.py:31: RuntimeWarning: Mean of empty slice\n",
      "  img_arr_z = np.nanmean(np.nanmean(img_arr, axis=1), axis=1)\n"
     ]
    },
    {
     "name": "stdout",
     "output_type": "stream",
     "text": [
      "rotation around x:\n",
      "-12.425942865427459 0 0\n",
      "dictionary, with 3d data\n",
      "dictionary, with 3d data\n",
      "rotation around y:\n",
      "0 0 27.7716544413015\n",
      "dictionary, with 3d data\n",
      "dictionary, with 3d data\n",
      "strange rotation\n",
      "angle beetween ey and sf: 12\n"
     ]
    },
    {
     "name": "stderr",
     "output_type": "stream",
     "text": [
      "/home/natalia/Documents/github_image_analysis/image_analysis/image_analysis/fit/regionprops.py:25: RuntimeWarning: Mean of empty slice\n",
      "  img_arr_x = np.nanmean(np.nanmean(img_arr, axis=0), axis=0)\n",
      "/home/natalia/Documents/github_image_analysis/image_analysis/image_analysis/fit/regionprops.py:28: RuntimeWarning: Mean of empty slice\n",
      "  img_arr_y = np.nanmean(np.nanmean(img_arr, axis=0), axis=1)\n",
      "/home/natalia/Documents/github_image_analysis/image_analysis/image_analysis/fit/regionprops.py:31: RuntimeWarning: Mean of empty slice\n",
      "  img_arr_z = np.nanmean(np.nanmean(img_arr, axis=1), axis=1)\n"
     ]
    },
    {
     "name": "stdout",
     "output_type": "stream",
     "text": [
      "rotation around x:\n",
      "-9.309940174986053 0 0\n",
      "dictionary, with 3d data\n",
      "dictionary, with 3d data\n",
      "rotation around y:\n",
      "0 0 26.301169359456903\n",
      "dictionary, with 3d data\n",
      "dictionary, with 3d data\n",
      "strange rotation\n",
      "angle beetween ey and sf: 6\n"
     ]
    },
    {
     "name": "stderr",
     "output_type": "stream",
     "text": [
      "/home/natalia/Documents/github_image_analysis/image_analysis/image_analysis/fit/regionprops.py:25: RuntimeWarning: Mean of empty slice\n",
      "  img_arr_x = np.nanmean(np.nanmean(img_arr, axis=0), axis=0)\n",
      "/home/natalia/Documents/github_image_analysis/image_analysis/image_analysis/fit/regionprops.py:28: RuntimeWarning: Mean of empty slice\n",
      "  img_arr_y = np.nanmean(np.nanmean(img_arr, axis=0), axis=1)\n",
      "/home/natalia/Documents/github_image_analysis/image_analysis/image_analysis/fit/regionprops.py:31: RuntimeWarning: Mean of empty slice\n",
      "  img_arr_z = np.nanmean(np.nanmean(img_arr, axis=1), axis=1)\n"
     ]
    },
    {
     "name": "stdout",
     "output_type": "stream",
     "text": [
      "rotation around x:\n",
      "-2.7263109939061962 0 0\n",
      "dictionary, with 3d data\n",
      "dictionary, with 3d data\n",
      "rotation around y:\n",
      "0 0 22.887732714953746\n",
      "dictionary, with 3d data\n",
      "dictionary, with 3d data\n",
      "strange rotation\n",
      "angle beetween ey and sf: -8\n"
     ]
    },
    {
     "name": "stderr",
     "output_type": "stream",
     "text": [
      "/home/natalia/Documents/github_image_analysis/image_analysis/image_analysis/fit/regionprops.py:25: RuntimeWarning: Mean of empty slice\n",
      "  img_arr_x = np.nanmean(np.nanmean(img_arr, axis=0), axis=0)\n",
      "/home/natalia/Documents/github_image_analysis/image_analysis/image_analysis/fit/regionprops.py:28: RuntimeWarning: Mean of empty slice\n",
      "  img_arr_y = np.nanmean(np.nanmean(img_arr, axis=0), axis=1)\n",
      "/home/natalia/Documents/github_image_analysis/image_analysis/image_analysis/fit/regionprops.py:31: RuntimeWarning: Mean of empty slice\n",
      "  img_arr_z = np.nanmean(np.nanmean(img_arr, axis=1), axis=1)\n"
     ]
    },
    {
     "name": "stdout",
     "output_type": "stream",
     "text": [
      "rotation around x:\n",
      "-4.707852244372191 0 0\n",
      "dictionary, with 3d data\n",
      "dictionary, with 3d data\n",
      "rotation around y:\n",
      "0 0 18.65285509420275\n",
      "dictionary, with 3d data\n",
      "dictionary, with 3d data\n",
      "angle beetween ey and sf: -1\n"
     ]
    },
    {
     "name": "stderr",
     "output_type": "stream",
     "text": [
      "33it [02:11,  3.60s/it]/home/natalia/Documents/github_image_analysis/image_analysis/image_analysis/fit/regionprops.py:25: RuntimeWarning: Mean of empty slice\n",
      "  img_arr_x = np.nanmean(np.nanmean(img_arr, axis=0), axis=0)\n",
      "/home/natalia/Documents/github_image_analysis/image_analysis/image_analysis/fit/regionprops.py:28: RuntimeWarning: Mean of empty slice\n",
      "  img_arr_y = np.nanmean(np.nanmean(img_arr, axis=0), axis=1)\n",
      "/home/natalia/Documents/github_image_analysis/image_analysis/image_analysis/fit/regionprops.py:31: RuntimeWarning: Mean of empty slice\n",
      "  img_arr_z = np.nanmean(np.nanmean(img_arr, axis=1), axis=1)\n"
     ]
    },
    {
     "name": "stdout",
     "output_type": "stream",
     "text": [
      "rotation around x:\n",
      "0.0 0 0\n",
      "dictionary, with 3d data\n",
      "dictionary, with 3d data\n",
      "rotation around y:\n",
      "0 0 -51.54629078329404\n",
      "dictionary, with 3d data\n",
      "dictionary, with 3d data\n",
      "angle beetween ey and sf: -4\n"
     ]
    },
    {
     "name": "stderr",
     "output_type": "stream",
     "text": [
      "/home/natalia/Documents/github_image_analysis/image_analysis/image_analysis/fit/regionprops.py:25: RuntimeWarning: Mean of empty slice\n",
      "  img_arr_x = np.nanmean(np.nanmean(img_arr, axis=0), axis=0)\n",
      "/home/natalia/Documents/github_image_analysis/image_analysis/image_analysis/fit/regionprops.py:28: RuntimeWarning: Mean of empty slice\n",
      "  img_arr_y = np.nanmean(np.nanmean(img_arr, axis=0), axis=1)\n",
      "/home/natalia/Documents/github_image_analysis/image_analysis/image_analysis/fit/regionprops.py:31: RuntimeWarning: Mean of empty slice\n",
      "  img_arr_z = np.nanmean(np.nanmean(img_arr, axis=1), axis=1)\n"
     ]
    },
    {
     "name": "stdout",
     "output_type": "stream",
     "text": [
      "rotation around x:\n",
      "-3.4336303624506144 0 0\n",
      "dictionary, with 3d data\n",
      "dictionary, with 3d data\n",
      "rotation around y:\n",
      "0 0 -57.38306903356596\n",
      "dictionary, with 3d data\n",
      "dictionary, with 3d data\n",
      "angle beetween ey and sf: -3\n"
     ]
    },
    {
     "name": "stderr",
     "output_type": "stream",
     "text": [
      "/home/natalia/Documents/github_image_analysis/image_analysis/image_analysis/fit/regionprops.py:25: RuntimeWarning: Mean of empty slice\n",
      "  img_arr_x = np.nanmean(np.nanmean(img_arr, axis=0), axis=0)\n",
      "/home/natalia/Documents/github_image_analysis/image_analysis/image_analysis/fit/regionprops.py:28: RuntimeWarning: Mean of empty slice\n",
      "  img_arr_y = np.nanmean(np.nanmean(img_arr, axis=0), axis=1)\n",
      "/home/natalia/Documents/github_image_analysis/image_analysis/image_analysis/fit/regionprops.py:31: RuntimeWarning: Mean of empty slice\n",
      "  img_arr_z = np.nanmean(np.nanmean(img_arr, axis=1), axis=1)\n"
     ]
    },
    {
     "name": "stdout",
     "output_type": "stream",
     "text": [
      "rotation around x:\n",
      "1.169139327907133 0 0\n",
      "dictionary, with 3d data\n",
      "dictionary, with 3d data\n",
      "rotation around y:\n",
      "0 0 -55.399479609759325\n",
      "dictionary, with 3d data\n",
      "dictionary, with 3d data\n",
      "angle beetween ey and sf: -2\n"
     ]
    },
    {
     "name": "stderr",
     "output_type": "stream",
     "text": [
      "/home/natalia/Documents/github_image_analysis/image_analysis/image_analysis/fit/regionprops.py:25: RuntimeWarning: Mean of empty slice\n",
      "  img_arr_x = np.nanmean(np.nanmean(img_arr, axis=0), axis=0)\n",
      "/home/natalia/Documents/github_image_analysis/image_analysis/image_analysis/fit/regionprops.py:28: RuntimeWarning: Mean of empty slice\n",
      "  img_arr_y = np.nanmean(np.nanmean(img_arr, axis=0), axis=1)\n",
      "/home/natalia/Documents/github_image_analysis/image_analysis/image_analysis/fit/regionprops.py:31: RuntimeWarning: Mean of empty slice\n",
      "  img_arr_z = np.nanmean(np.nanmean(img_arr, axis=1), axis=1)\n"
     ]
    },
    {
     "name": "stdout",
     "output_type": "stream",
     "text": [
      "rotation around x:\n",
      "18.034285567129853 0 0\n",
      "dictionary, with 3d data\n",
      "dictionary, with 3d data\n",
      "rotation around y:\n",
      "0 0 -59.48284931192593\n",
      "dictionary, with 3d data\n",
      "dictionary, with 3d data\n",
      "angle beetween ey and sf: 5\n"
     ]
    },
    {
     "name": "stderr",
     "output_type": "stream",
     "text": [
      "/home/natalia/Documents/github_image_analysis/image_analysis/image_analysis/fit/regionprops.py:25: RuntimeWarning: Mean of empty slice\n",
      "  img_arr_x = np.nanmean(np.nanmean(img_arr, axis=0), axis=0)\n",
      "/home/natalia/Documents/github_image_analysis/image_analysis/image_analysis/fit/regionprops.py:28: RuntimeWarning: Mean of empty slice\n",
      "  img_arr_y = np.nanmean(np.nanmean(img_arr, axis=0), axis=1)\n",
      "/home/natalia/Documents/github_image_analysis/image_analysis/image_analysis/fit/regionprops.py:31: RuntimeWarning: Mean of empty slice\n",
      "  img_arr_z = np.nanmean(np.nanmean(img_arr, axis=1), axis=1)\n"
     ]
    },
    {
     "name": "stdout",
     "output_type": "stream",
     "text": [
      "rotation around x:\n",
      "11.070202577939378 0 0\n",
      "dictionary, with 3d data\n",
      "dictionary, with 3d data\n",
      "rotation around y:\n",
      "0 0 -58.34872711328738\n",
      "dictionary, with 3d data\n",
      "dictionary, with 3d data\n",
      "angle beetween ey and sf: 3\n"
     ]
    },
    {
     "name": "stderr",
     "output_type": "stream",
     "text": [
      "34it [02:29,  8.07s/it]/home/natalia/Documents/github_image_analysis/image_analysis/image_analysis/fit/regionprops.py:25: RuntimeWarning: Mean of empty slice\n",
      "  img_arr_x = np.nanmean(np.nanmean(img_arr, axis=0), axis=0)\n",
      "/home/natalia/Documents/github_image_analysis/image_analysis/image_analysis/fit/regionprops.py:28: RuntimeWarning: Mean of empty slice\n",
      "  img_arr_y = np.nanmean(np.nanmean(img_arr, axis=0), axis=1)\n",
      "/home/natalia/Documents/github_image_analysis/image_analysis/image_analysis/fit/regionprops.py:31: RuntimeWarning: Mean of empty slice\n",
      "  img_arr_z = np.nanmean(np.nanmean(img_arr, axis=1), axis=1)\n"
     ]
    },
    {
     "name": "stdout",
     "output_type": "stream",
     "text": [
      "rotation around x:\n",
      "-5.527540151656126 0 0\n",
      "dictionary, with 3d data\n",
      "dictionary, with 3d data\n",
      "rotation around y:\n",
      "0 0 61.493263594931726\n",
      "dictionary, with 3d data\n",
      "dictionary, with 3d data\n",
      "angle beetween ey and sf: 5\n"
     ]
    },
    {
     "name": "stderr",
     "output_type": "stream",
     "text": [
      "/home/natalia/Documents/github_image_analysis/image_analysis/image_analysis/fit/regionprops.py:25: RuntimeWarning: Mean of empty slice\n",
      "  img_arr_x = np.nanmean(np.nanmean(img_arr, axis=0), axis=0)\n",
      "/home/natalia/Documents/github_image_analysis/image_analysis/image_analysis/fit/regionprops.py:28: RuntimeWarning: Mean of empty slice\n",
      "  img_arr_y = np.nanmean(np.nanmean(img_arr, axis=0), axis=1)\n",
      "/home/natalia/Documents/github_image_analysis/image_analysis/image_analysis/fit/regionprops.py:31: RuntimeWarning: Mean of empty slice\n",
      "  img_arr_z = np.nanmean(np.nanmean(img_arr, axis=1), axis=1)\n"
     ]
    },
    {
     "name": "stdout",
     "output_type": "stream",
     "text": [
      "rotation around x:\n",
      "-5.710593137499643 0 0\n",
      "dictionary, with 3d data\n",
      "dictionary, with 3d data\n",
      "rotation around y:\n",
      "0 0 70.13313962507335\n",
      "dictionary, with 3d data\n",
      "dictionary, with 3d data\n",
      "angle beetween ey and sf: 2\n"
     ]
    },
    {
     "name": "stderr",
     "output_type": "stream",
     "text": [
      "/home/natalia/Documents/github_image_analysis/image_analysis/image_analysis/fit/regionprops.py:25: RuntimeWarning: Mean of empty slice\n",
      "  img_arr_x = np.nanmean(np.nanmean(img_arr, axis=0), axis=0)\n",
      "/home/natalia/Documents/github_image_analysis/image_analysis/image_analysis/fit/regionprops.py:28: RuntimeWarning: Mean of empty slice\n",
      "  img_arr_y = np.nanmean(np.nanmean(img_arr, axis=0), axis=1)\n",
      "/home/natalia/Documents/github_image_analysis/image_analysis/image_analysis/fit/regionprops.py:31: RuntimeWarning: Mean of empty slice\n",
      "  img_arr_z = np.nanmean(np.nanmean(img_arr, axis=1), axis=1)\n"
     ]
    },
    {
     "name": "stdout",
     "output_type": "stream",
     "text": [
      "rotation around x:\n",
      "-3.366460663429933 0 0\n",
      "dictionary, with 3d data\n",
      "dictionary, with 3d data\n",
      "rotation around y:\n",
      "0 0 70.52969799053305\n",
      "dictionary, with 3d data\n",
      "dictionary, with 3d data\n",
      "angle beetween ey and sf: -4\n"
     ]
    },
    {
     "name": "stderr",
     "output_type": "stream",
     "text": [
      "/home/natalia/Documents/github_image_analysis/image_analysis/image_analysis/fit/regionprops.py:25: RuntimeWarning: Mean of empty slice\n",
      "  img_arr_x = np.nanmean(np.nanmean(img_arr, axis=0), axis=0)\n",
      "/home/natalia/Documents/github_image_analysis/image_analysis/image_analysis/fit/regionprops.py:28: RuntimeWarning: Mean of empty slice\n",
      "  img_arr_y = np.nanmean(np.nanmean(img_arr, axis=0), axis=1)\n",
      "/home/natalia/Documents/github_image_analysis/image_analysis/image_analysis/fit/regionprops.py:31: RuntimeWarning: Mean of empty slice\n",
      "  img_arr_z = np.nanmean(np.nanmean(img_arr, axis=1), axis=1)\n"
     ]
    },
    {
     "name": "stdout",
     "output_type": "stream",
     "text": [
      "rotation around x:\n",
      "-3.366460663429848 0 0\n",
      "dictionary, with 3d data\n",
      "dictionary, with 3d data\n",
      "rotation around y:\n",
      "0 0 64.51684481154851\n",
      "dictionary, with 3d data\n",
      "dictionary, with 3d data\n",
      "angle beetween ey and sf: -2\n"
     ]
    },
    {
     "name": "stderr",
     "output_type": "stream",
     "text": [
      "/home/natalia/Documents/github_image_analysis/image_analysis/image_analysis/fit/regionprops.py:25: RuntimeWarning: Mean of empty slice\n",
      "  img_arr_x = np.nanmean(np.nanmean(img_arr, axis=0), axis=0)\n",
      "/home/natalia/Documents/github_image_analysis/image_analysis/image_analysis/fit/regionprops.py:28: RuntimeWarning: Mean of empty slice\n",
      "  img_arr_y = np.nanmean(np.nanmean(img_arr, axis=0), axis=1)\n",
      "/home/natalia/Documents/github_image_analysis/image_analysis/image_analysis/fit/regionprops.py:31: RuntimeWarning: Mean of empty slice\n",
      "  img_arr_z = np.nanmean(np.nanmean(img_arr, axis=1), axis=1)\n"
     ]
    },
    {
     "name": "stdout",
     "output_type": "stream",
     "text": [
      "rotation around x:\n",
      "-8.130102354156008 0 0\n",
      "dictionary, with 3d data\n",
      "dictionary, with 3d data\n",
      "rotation around y:\n",
      "0 0 65.0146006093154\n",
      "dictionary, with 3d data\n",
      "dictionary, with 3d data\n",
      "angle beetween ey and sf: 1\n"
     ]
    },
    {
     "name": "stderr",
     "output_type": "stream",
     "text": [
      "35it [02:39,  8.68s/it]/home/natalia/Documents/github_image_analysis/image_analysis/image_analysis/fit/regionprops.py:25: RuntimeWarning: Mean of empty slice\n",
      "  img_arr_x = np.nanmean(np.nanmean(img_arr, axis=0), axis=0)\n",
      "/home/natalia/Documents/github_image_analysis/image_analysis/image_analysis/fit/regionprops.py:28: RuntimeWarning: Mean of empty slice\n",
      "  img_arr_y = np.nanmean(np.nanmean(img_arr, axis=0), axis=1)\n",
      "/home/natalia/Documents/github_image_analysis/image_analysis/image_analysis/fit/regionprops.py:31: RuntimeWarning: Mean of empty slice\n",
      "  img_arr_z = np.nanmean(np.nanmean(img_arr, axis=1), axis=1)\n"
     ]
    },
    {
     "name": "stdout",
     "output_type": "stream",
     "text": [
      "rotation around x:\n",
      "9.377060694304333 0 0\n",
      "dictionary, with 3d data\n",
      "dictionary, with 3d data\n",
      "rotation around y:\n",
      "0 0 18.909142677897297\n",
      "dictionary, with 3d data\n",
      "dictionary, with 3d data\n",
      "angle beetween ey and sf: -4\n"
     ]
    },
    {
     "name": "stderr",
     "output_type": "stream",
     "text": [
      "/home/natalia/Documents/github_image_analysis/image_analysis/image_analysis/fit/regionprops.py:25: RuntimeWarning: Mean of empty slice\n",
      "  img_arr_x = np.nanmean(np.nanmean(img_arr, axis=0), axis=0)\n",
      "/home/natalia/Documents/github_image_analysis/image_analysis/image_analysis/fit/regionprops.py:28: RuntimeWarning: Mean of empty slice\n",
      "  img_arr_y = np.nanmean(np.nanmean(img_arr, axis=0), axis=1)\n",
      "/home/natalia/Documents/github_image_analysis/image_analysis/image_analysis/fit/regionprops.py:31: RuntimeWarning: Mean of empty slice\n",
      "  img_arr_z = np.nanmean(np.nanmean(img_arr, axis=1), axis=1)\n"
     ]
    },
    {
     "name": "stdout",
     "output_type": "stream",
     "text": [
      "rotation around x:\n",
      "10.14079314611277 0 0\n",
      "dictionary, with 3d data\n",
      "dictionary, with 3d data\n",
      "rotation around y:\n",
      "0 0 17.896858763185104\n",
      "dictionary, with 3d data\n",
      "dictionary, with 3d data\n",
      "angle beetween ey and sf: -3\n"
     ]
    },
    {
     "name": "stderr",
     "output_type": "stream",
     "text": [
      "/home/natalia/Documents/github_image_analysis/image_analysis/image_analysis/fit/regionprops.py:25: RuntimeWarning: Mean of empty slice\n",
      "  img_arr_x = np.nanmean(np.nanmean(img_arr, axis=0), axis=0)\n",
      "/home/natalia/Documents/github_image_analysis/image_analysis/image_analysis/fit/regionprops.py:28: RuntimeWarning: Mean of empty slice\n",
      "  img_arr_y = np.nanmean(np.nanmean(img_arr, axis=0), axis=1)\n",
      "/home/natalia/Documents/github_image_analysis/image_analysis/image_analysis/fit/regionprops.py:31: RuntimeWarning: Mean of empty slice\n",
      "  img_arr_z = np.nanmean(np.nanmean(img_arr, axis=1), axis=1)\n"
     ]
    },
    {
     "name": "stdout",
     "output_type": "stream",
     "text": [
      "rotation around x:\n",
      "10.08059798754229 0 0\n",
      "dictionary, with 3d data\n",
      "dictionary, with 3d data\n",
      "rotation around y:\n",
      "0 0 15.332251374531387\n",
      "dictionary, with 3d data\n",
      "dictionary, with 3d data\n",
      "angle beetween ey and sf: 2\n"
     ]
    },
    {
     "name": "stderr",
     "output_type": "stream",
     "text": [
      "/home/natalia/Documents/github_image_analysis/image_analysis/image_analysis/fit/regionprops.py:25: RuntimeWarning: Mean of empty slice\n",
      "  img_arr_x = np.nanmean(np.nanmean(img_arr, axis=0), axis=0)\n",
      "/home/natalia/Documents/github_image_analysis/image_analysis/image_analysis/fit/regionprops.py:28: RuntimeWarning: Mean of empty slice\n",
      "  img_arr_y = np.nanmean(np.nanmean(img_arr, axis=0), axis=1)\n",
      "/home/natalia/Documents/github_image_analysis/image_analysis/image_analysis/fit/regionprops.py:31: RuntimeWarning: Mean of empty slice\n",
      "  img_arr_z = np.nanmean(np.nanmean(img_arr, axis=1), axis=1)\n"
     ]
    },
    {
     "name": "stdout",
     "output_type": "stream",
     "text": [
      "rotation around x:\n",
      "9.400780041023836 0 0\n",
      "dictionary, with 3d data\n",
      "dictionary, with 3d data\n",
      "rotation around y:\n",
      "0 0 12.771242564901412\n",
      "dictionary, with 3d data\n",
      "dictionary, with 3d data\n",
      "angle beetween ey and sf: 2\n"
     ]
    },
    {
     "name": "stderr",
     "output_type": "stream",
     "text": [
      "/home/natalia/Documents/github_image_analysis/image_analysis/image_analysis/fit/regionprops.py:25: RuntimeWarning: Mean of empty slice\n",
      "  img_arr_x = np.nanmean(np.nanmean(img_arr, axis=0), axis=0)\n",
      "/home/natalia/Documents/github_image_analysis/image_analysis/image_analysis/fit/regionprops.py:28: RuntimeWarning: Mean of empty slice\n",
      "  img_arr_y = np.nanmean(np.nanmean(img_arr, axis=0), axis=1)\n",
      "/home/natalia/Documents/github_image_analysis/image_analysis/image_analysis/fit/regionprops.py:31: RuntimeWarning: Mean of empty slice\n",
      "  img_arr_z = np.nanmean(np.nanmean(img_arr, axis=1), axis=1)\n"
     ]
    },
    {
     "name": "stdout",
     "output_type": "stream",
     "text": [
      "rotation around x:\n",
      "9.286927512496987 0 0\n",
      "dictionary, with 3d data\n",
      "dictionary, with 3d data\n",
      "rotation around y:\n",
      "0 0 8.261607543730866\n",
      "dictionary, with 3d data\n",
      "dictionary, with 3d data\n",
      "angle beetween ey and sf: -1\n"
     ]
    },
    {
     "name": "stderr",
     "output_type": "stream",
     "text": [
      "36it [02:50,  9.42s/it]/home/natalia/Documents/github_image_analysis/image_analysis/image_analysis/fit/regionprops.py:25: RuntimeWarning: Mean of empty slice\n",
      "  img_arr_x = np.nanmean(np.nanmean(img_arr, axis=0), axis=0)\n",
      "/home/natalia/Documents/github_image_analysis/image_analysis/image_analysis/fit/regionprops.py:28: RuntimeWarning: Mean of empty slice\n",
      "  img_arr_y = np.nanmean(np.nanmean(img_arr, axis=0), axis=1)\n",
      "/home/natalia/Documents/github_image_analysis/image_analysis/image_analysis/fit/regionprops.py:31: RuntimeWarning: Mean of empty slice\n",
      "  img_arr_z = np.nanmean(np.nanmean(img_arr, axis=1), axis=1)\n"
     ]
    },
    {
     "name": "stdout",
     "output_type": "stream",
     "text": [
      "rotation around x:\n",
      "-3.3997141591233344 0 0\n",
      "dictionary, with 3d data\n",
      "dictionary, with 3d data\n",
      "rotation around y:\n",
      "0 0 45.85957928702105\n",
      "dictionary, with 3d data\n",
      "dictionary, with 3d data\n",
      "angle beetween ey and sf: -4\n"
     ]
    },
    {
     "name": "stderr",
     "output_type": "stream",
     "text": [
      "/home/natalia/Documents/github_image_analysis/image_analysis/image_analysis/fit/regionprops.py:25: RuntimeWarning: Mean of empty slice\n",
      "  img_arr_x = np.nanmean(np.nanmean(img_arr, axis=0), axis=0)\n",
      "/home/natalia/Documents/github_image_analysis/image_analysis/image_analysis/fit/regionprops.py:28: RuntimeWarning: Mean of empty slice\n",
      "  img_arr_y = np.nanmean(np.nanmean(img_arr, axis=0), axis=1)\n",
      "/home/natalia/Documents/github_image_analysis/image_analysis/image_analysis/fit/regionprops.py:31: RuntimeWarning: Mean of empty slice\n",
      "  img_arr_z = np.nanmean(np.nanmean(img_arr, axis=1), axis=1)\n"
     ]
    },
    {
     "name": "stdout",
     "output_type": "stream",
     "text": [
      "rotation around x:\n",
      "-4.085616779974799 0 0\n",
      "dictionary, with 3d data\n",
      "dictionary, with 3d data\n",
      "rotation around y:\n",
      "0 0 47.25594484975703\n",
      "dictionary, with 3d data\n",
      "dictionary, with 3d data\n",
      "angle beetween ey and sf: -4\n"
     ]
    },
    {
     "name": "stderr",
     "output_type": "stream",
     "text": [
      "/home/natalia/Documents/github_image_analysis/image_analysis/image_analysis/fit/regionprops.py:25: RuntimeWarning: Mean of empty slice\n",
      "  img_arr_x = np.nanmean(np.nanmean(img_arr, axis=0), axis=0)\n",
      "/home/natalia/Documents/github_image_analysis/image_analysis/image_analysis/fit/regionprops.py:28: RuntimeWarning: Mean of empty slice\n",
      "  img_arr_y = np.nanmean(np.nanmean(img_arr, axis=0), axis=1)\n",
      "/home/natalia/Documents/github_image_analysis/image_analysis/image_analysis/fit/regionprops.py:31: RuntimeWarning: Mean of empty slice\n",
      "  img_arr_z = np.nanmean(np.nanmean(img_arr, axis=1), axis=1)\n"
     ]
    },
    {
     "name": "stdout",
     "output_type": "stream",
     "text": [
      "rotation around x:\n",
      "-2.489552921999291 0 0\n",
      "dictionary, with 3d data\n",
      "dictionary, with 3d data\n",
      "rotation around y:\n",
      "0 0 50.28045104907837\n",
      "dictionary, with 3d data\n",
      "dictionary, with 3d data\n",
      "angle beetween ey and sf: -3\n"
     ]
    },
    {
     "name": "stderr",
     "output_type": "stream",
     "text": [
      "/home/natalia/Documents/github_image_analysis/image_analysis/image_analysis/fit/regionprops.py:25: RuntimeWarning: Mean of empty slice\n",
      "  img_arr_x = np.nanmean(np.nanmean(img_arr, axis=0), axis=0)\n",
      "/home/natalia/Documents/github_image_analysis/image_analysis/image_analysis/fit/regionprops.py:28: RuntimeWarning: Mean of empty slice\n",
      "  img_arr_y = np.nanmean(np.nanmean(img_arr, axis=0), axis=1)\n",
      "/home/natalia/Documents/github_image_analysis/image_analysis/image_analysis/fit/regionprops.py:31: RuntimeWarning: Mean of empty slice\n",
      "  img_arr_z = np.nanmean(np.nanmean(img_arr, axis=1), axis=1)\n"
     ]
    },
    {
     "name": "stdout",
     "output_type": "stream",
     "text": [
      "rotation around x:\n",
      "-2.0638197284571334 0 0\n",
      "dictionary, with 3d data\n",
      "dictionary, with 3d data\n",
      "rotation around y:\n",
      "0 0 51.64595986379875\n",
      "dictionary, with 3d data\n",
      "dictionary, with 3d data\n",
      "angle beetween ey and sf: -1\n"
     ]
    },
    {
     "name": "stderr",
     "output_type": "stream",
     "text": [
      "/home/natalia/Documents/github_image_analysis/image_analysis/image_analysis/fit/regionprops.py:25: RuntimeWarning: Mean of empty slice\n",
      "  img_arr_x = np.nanmean(np.nanmean(img_arr, axis=0), axis=0)\n",
      "/home/natalia/Documents/github_image_analysis/image_analysis/image_analysis/fit/regionprops.py:28: RuntimeWarning: Mean of empty slice\n",
      "  img_arr_y = np.nanmean(np.nanmean(img_arr, axis=0), axis=1)\n",
      "/home/natalia/Documents/github_image_analysis/image_analysis/image_analysis/fit/regionprops.py:31: RuntimeWarning: Mean of empty slice\n",
      "  img_arr_z = np.nanmean(np.nanmean(img_arr, axis=1), axis=1)\n"
     ]
    },
    {
     "name": "stdout",
     "output_type": "stream",
     "text": [
      "rotation around x:\n",
      "-4.720136931043527 0 0\n",
      "dictionary, with 3d data\n",
      "dictionary, with 3d data\n",
      "rotation around y:\n",
      "0 0 53.81843448858555\n",
      "dictionary, with 3d data\n",
      "dictionary, with 3d data\n",
      "angle beetween ey and sf: 1\n"
     ]
    },
    {
     "name": "stderr",
     "output_type": "stream",
     "text": [
      "37it [03:07, 11.74s/it]/home/natalia/Documents/github_image_analysis/image_analysis/image_analysis/fit/regionprops.py:25: RuntimeWarning: Mean of empty slice\n",
      "  img_arr_x = np.nanmean(np.nanmean(img_arr, axis=0), axis=0)\n",
      "/home/natalia/Documents/github_image_analysis/image_analysis/image_analysis/fit/regionprops.py:28: RuntimeWarning: Mean of empty slice\n",
      "  img_arr_y = np.nanmean(np.nanmean(img_arr, axis=0), axis=1)\n",
      "/home/natalia/Documents/github_image_analysis/image_analysis/image_analysis/fit/regionprops.py:31: RuntimeWarning: Mean of empty slice\n",
      "  img_arr_z = np.nanmean(np.nanmean(img_arr, axis=1), axis=1)\n"
     ]
    },
    {
     "name": "stdout",
     "output_type": "stream",
     "text": [
      "rotation around x:\n",
      "6.340191745909891 0 0\n",
      "dictionary, with 3d data\n",
      "dictionary, with 3d data\n",
      "rotation around y:\n",
      "0 0 67.95053438280718\n",
      "dictionary, with 3d data\n",
      "dictionary, with 3d data\n",
      "angle beetween ey and sf: -2\n"
     ]
    },
    {
     "name": "stderr",
     "output_type": "stream",
     "text": [
      "/home/natalia/Documents/github_image_analysis/image_analysis/image_analysis/fit/regionprops.py:25: RuntimeWarning: Mean of empty slice\n",
      "  img_arr_x = np.nanmean(np.nanmean(img_arr, axis=0), axis=0)\n",
      "/home/natalia/Documents/github_image_analysis/image_analysis/image_analysis/fit/regionprops.py:28: RuntimeWarning: Mean of empty slice\n",
      "  img_arr_y = np.nanmean(np.nanmean(img_arr, axis=0), axis=1)\n",
      "/home/natalia/Documents/github_image_analysis/image_analysis/image_analysis/fit/regionprops.py:31: RuntimeWarning: Mean of empty slice\n",
      "  img_arr_z = np.nanmean(np.nanmean(img_arr, axis=1), axis=1)\n"
     ]
    },
    {
     "name": "stdout",
     "output_type": "stream",
     "text": [
      "rotation around x:\n",
      "8.820379552021052 0 0\n",
      "dictionary, with 3d data\n",
      "dictionary, with 3d data\n",
      "rotation around y:\n",
      "0 0 70.3044956184253\n",
      "dictionary, with 3d data\n",
      "dictionary, with 3d data\n",
      "angle beetween ey and sf: -3\n"
     ]
    },
    {
     "name": "stderr",
     "output_type": "stream",
     "text": [
      "/home/natalia/Documents/github_image_analysis/image_analysis/image_analysis/fit/regionprops.py:25: RuntimeWarning: Mean of empty slice\n",
      "  img_arr_x = np.nanmean(np.nanmean(img_arr, axis=0), axis=0)\n",
      "/home/natalia/Documents/github_image_analysis/image_analysis/image_analysis/fit/regionprops.py:28: RuntimeWarning: Mean of empty slice\n",
      "  img_arr_y = np.nanmean(np.nanmean(img_arr, axis=0), axis=1)\n",
      "/home/natalia/Documents/github_image_analysis/image_analysis/image_analysis/fit/regionprops.py:31: RuntimeWarning: Mean of empty slice\n",
      "  img_arr_z = np.nanmean(np.nanmean(img_arr, axis=1), axis=1)\n"
     ]
    },
    {
     "name": "stdout",
     "output_type": "stream",
     "text": [
      "rotation around x:\n",
      "-1.5074357587748466 0 0\n",
      "dictionary, with 3d data\n",
      "dictionary, with 3d data\n",
      "rotation around y:\n",
      "0 0 77.03097667129265\n",
      "dictionary, with 3d data\n",
      "dictionary, with 3d data\n",
      "angle beetween ey and sf: 1\n"
     ]
    },
    {
     "name": "stderr",
     "output_type": "stream",
     "text": [
      "/home/natalia/Documents/github_image_analysis/image_analysis/image_analysis/fit/regionprops.py:25: RuntimeWarning: Mean of empty slice\n",
      "  img_arr_x = np.nanmean(np.nanmean(img_arr, axis=0), axis=0)\n",
      "/home/natalia/Documents/github_image_analysis/image_analysis/image_analysis/fit/regionprops.py:28: RuntimeWarning: Mean of empty slice\n",
      "  img_arr_y = np.nanmean(np.nanmean(img_arr, axis=0), axis=1)\n",
      "/home/natalia/Documents/github_image_analysis/image_analysis/image_analysis/fit/regionprops.py:31: RuntimeWarning: Mean of empty slice\n",
      "  img_arr_z = np.nanmean(np.nanmean(img_arr, axis=1), axis=1)\n"
     ]
    },
    {
     "name": "stdout",
     "output_type": "stream",
     "text": [
      "rotation around x:\n",
      "-5.856013585428968 0 0\n",
      "dictionary, with 3d data\n",
      "dictionary, with 3d data\n",
      "rotation around y:\n",
      "0 0 76.77895123478159\n",
      "dictionary, with 3d data\n",
      "dictionary, with 3d data\n",
      "angle beetween ey and sf: 1\n"
     ]
    },
    {
     "name": "stderr",
     "output_type": "stream",
     "text": [
      "/home/natalia/Documents/github_image_analysis/image_analysis/image_analysis/fit/regionprops.py:25: RuntimeWarning: Mean of empty slice\n",
      "  img_arr_x = np.nanmean(np.nanmean(img_arr, axis=0), axis=0)\n",
      "/home/natalia/Documents/github_image_analysis/image_analysis/image_analysis/fit/regionprops.py:28: RuntimeWarning: Mean of empty slice\n",
      "  img_arr_y = np.nanmean(np.nanmean(img_arr, axis=0), axis=1)\n",
      "/home/natalia/Documents/github_image_analysis/image_analysis/image_analysis/fit/regionprops.py:31: RuntimeWarning: Mean of empty slice\n",
      "  img_arr_z = np.nanmean(np.nanmean(img_arr, axis=1), axis=1)\n"
     ]
    },
    {
     "name": "stdout",
     "output_type": "stream",
     "text": [
      "rotation around x:\n",
      "5.906141113770502 0 0\n",
      "dictionary, with 3d data\n",
      "dictionary, with 3d data\n",
      "rotation around y:\n",
      "0 0 70.30276413857383\n",
      "dictionary, with 3d data\n",
      "dictionary, with 3d data\n",
      "angle beetween ey and sf: 1\n"
     ]
    },
    {
     "name": "stderr",
     "output_type": "stream",
     "text": [
      "38it [03:26, 13.78s/it]/home/natalia/Documents/github_image_analysis/image_analysis/image_analysis/fit/regionprops.py:25: RuntimeWarning: Mean of empty slice\n",
      "  img_arr_x = np.nanmean(np.nanmean(img_arr, axis=0), axis=0)\n",
      "/home/natalia/Documents/github_image_analysis/image_analysis/image_analysis/fit/regionprops.py:28: RuntimeWarning: Mean of empty slice\n",
      "  img_arr_y = np.nanmean(np.nanmean(img_arr, axis=0), axis=1)\n",
      "/home/natalia/Documents/github_image_analysis/image_analysis/image_analysis/fit/regionprops.py:31: RuntimeWarning: Mean of empty slice\n",
      "  img_arr_z = np.nanmean(np.nanmean(img_arr, axis=1), axis=1)\n"
     ]
    },
    {
     "name": "stdout",
     "output_type": "stream",
     "text": [
      "rotation around x:\n",
      "13.392497753751087 0 0\n",
      "dictionary, with 3d data\n",
      "dictionary, with 3d data\n",
      "rotation around y:\n",
      "0 0 68.08860995831269\n",
      "dictionary, with 3d data\n",
      "dictionary, with 3d data\n",
      "angle beetween ey and sf: -1\n"
     ]
    },
    {
     "name": "stderr",
     "output_type": "stream",
     "text": [
      "/home/natalia/Documents/github_image_analysis/image_analysis/image_analysis/fit/regionprops.py:25: RuntimeWarning: Mean of empty slice\n",
      "  img_arr_x = np.nanmean(np.nanmean(img_arr, axis=0), axis=0)\n",
      "/home/natalia/Documents/github_image_analysis/image_analysis/image_analysis/fit/regionprops.py:28: RuntimeWarning: Mean of empty slice\n",
      "  img_arr_y = np.nanmean(np.nanmean(img_arr, axis=0), axis=1)\n",
      "/home/natalia/Documents/github_image_analysis/image_analysis/image_analysis/fit/regionprops.py:31: RuntimeWarning: Mean of empty slice\n",
      "  img_arr_z = np.nanmean(np.nanmean(img_arr, axis=1), axis=1)\n"
     ]
    },
    {
     "name": "stdout",
     "output_type": "stream",
     "text": [
      "rotation around x:\n",
      "14.588918732874617 0 0\n",
      "dictionary, with 3d data\n",
      "dictionary, with 3d data\n",
      "rotation around y:\n",
      "0 0 68.7801755421358\n",
      "dictionary, with 3d data\n",
      "dictionary, with 3d data\n",
      "angle beetween ey and sf: -3\n"
     ]
    },
    {
     "name": "stderr",
     "output_type": "stream",
     "text": [
      "/home/natalia/Documents/github_image_analysis/image_analysis/image_analysis/fit/regionprops.py:25: RuntimeWarning: Mean of empty slice\n",
      "  img_arr_x = np.nanmean(np.nanmean(img_arr, axis=0), axis=0)\n",
      "/home/natalia/Documents/github_image_analysis/image_analysis/image_analysis/fit/regionprops.py:28: RuntimeWarning: Mean of empty slice\n",
      "  img_arr_y = np.nanmean(np.nanmean(img_arr, axis=0), axis=1)\n",
      "/home/natalia/Documents/github_image_analysis/image_analysis/image_analysis/fit/regionprops.py:31: RuntimeWarning: Mean of empty slice\n",
      "  img_arr_z = np.nanmean(np.nanmean(img_arr, axis=1), axis=1)\n"
     ]
    },
    {
     "name": "stdout",
     "output_type": "stream",
     "text": [
      "rotation around x:\n",
      "25.55996517182382 0 0\n",
      "dictionary, with 3d data\n",
      "dictionary, with 3d data\n",
      "rotation around y:\n",
      "0 0 70.29554640032657\n",
      "dictionary, with 3d data\n",
      "dictionary, with 3d data\n",
      "angle beetween ey and sf: 4\n"
     ]
    },
    {
     "name": "stderr",
     "output_type": "stream",
     "text": [
      "/home/natalia/Documents/github_image_analysis/image_analysis/image_analysis/fit/regionprops.py:25: RuntimeWarning: Mean of empty slice\n",
      "  img_arr_x = np.nanmean(np.nanmean(img_arr, axis=0), axis=0)\n",
      "/home/natalia/Documents/github_image_analysis/image_analysis/image_analysis/fit/regionprops.py:28: RuntimeWarning: Mean of empty slice\n",
      "  img_arr_y = np.nanmean(np.nanmean(img_arr, axis=0), axis=1)\n",
      "/home/natalia/Documents/github_image_analysis/image_analysis/image_analysis/fit/regionprops.py:31: RuntimeWarning: Mean of empty slice\n",
      "  img_arr_z = np.nanmean(np.nanmean(img_arr, axis=1), axis=1)\n"
     ]
    },
    {
     "name": "stdout",
     "output_type": "stream",
     "text": [
      "rotation around x:\n",
      "33.453309454072695 0 0\n",
      "dictionary, with 3d data\n",
      "dictionary, with 3d data\n",
      "rotation around y:\n",
      "0 0 72.58281560647694\n",
      "dictionary, with 3d data\n",
      "dictionary, with 3d data\n",
      "angle beetween ey and sf: -1\n"
     ]
    },
    {
     "name": "stderr",
     "output_type": "stream",
     "text": [
      "/home/natalia/Documents/github_image_analysis/image_analysis/image_analysis/fit/regionprops.py:25: RuntimeWarning: Mean of empty slice\n",
      "  img_arr_x = np.nanmean(np.nanmean(img_arr, axis=0), axis=0)\n",
      "/home/natalia/Documents/github_image_analysis/image_analysis/image_analysis/fit/regionprops.py:28: RuntimeWarning: Mean of empty slice\n",
      "  img_arr_y = np.nanmean(np.nanmean(img_arr, axis=0), axis=1)\n",
      "/home/natalia/Documents/github_image_analysis/image_analysis/image_analysis/fit/regionprops.py:31: RuntimeWarning: Mean of empty slice\n",
      "  img_arr_z = np.nanmean(np.nanmean(img_arr, axis=1), axis=1)\n"
     ]
    },
    {
     "name": "stdout",
     "output_type": "stream",
     "text": [
      "rotation around x:\n",
      "69.90476880809518 0 0\n",
      "dictionary, with 3d data\n",
      "dictionary, with 3d data\n",
      "rotation around y:\n",
      "0 0 76.18042831706325\n",
      "dictionary, with 3d data\n",
      "dictionary, with 3d data\n",
      "angle beetween ey and sf: 0\n"
     ]
    },
    {
     "name": "stderr",
     "output_type": "stream",
     "text": [
      "39it [03:40, 13.74s/it]/home/natalia/Documents/github_image_analysis/image_analysis/image_analysis/fit/regionprops.py:25: RuntimeWarning: Mean of empty slice\n",
      "  img_arr_x = np.nanmean(np.nanmean(img_arr, axis=0), axis=0)\n",
      "/home/natalia/Documents/github_image_analysis/image_analysis/image_analysis/fit/regionprops.py:28: RuntimeWarning: Mean of empty slice\n",
      "  img_arr_y = np.nanmean(np.nanmean(img_arr, axis=0), axis=1)\n",
      "/home/natalia/Documents/github_image_analysis/image_analysis/image_analysis/fit/regionprops.py:31: RuntimeWarning: Mean of empty slice\n",
      "  img_arr_z = np.nanmean(np.nanmean(img_arr, axis=1), axis=1)\n"
     ]
    },
    {
     "name": "stdout",
     "output_type": "stream",
     "text": [
      "rotation around x:\n",
      "-4.5739212599008 0 0\n",
      "dictionary, with 3d data\n",
      "dictionary, with 3d data\n",
      "rotation around y:\n",
      "0 0 25.85607883545016\n",
      "dictionary, with 3d data\n",
      "dictionary, with 3d data\n",
      "strange rotation\n",
      "angle beetween ey and sf: 10\n"
     ]
    },
    {
     "name": "stderr",
     "output_type": "stream",
     "text": [
      "/home/natalia/Documents/github_image_analysis/image_analysis/image_analysis/fit/regionprops.py:25: RuntimeWarning: Mean of empty slice\n",
      "  img_arr_x = np.nanmean(np.nanmean(img_arr, axis=0), axis=0)\n",
      "/home/natalia/Documents/github_image_analysis/image_analysis/image_analysis/fit/regionprops.py:28: RuntimeWarning: Mean of empty slice\n",
      "  img_arr_y = np.nanmean(np.nanmean(img_arr, axis=0), axis=1)\n",
      "/home/natalia/Documents/github_image_analysis/image_analysis/image_analysis/fit/regionprops.py:31: RuntimeWarning: Mean of empty slice\n",
      "  img_arr_z = np.nanmean(np.nanmean(img_arr, axis=1), axis=1)\n"
     ]
    },
    {
     "name": "stdout",
     "output_type": "stream",
     "text": [
      "rotation around x:\n",
      "-7.125016348901767 0 0\n",
      "dictionary, with 3d data\n",
      "dictionary, with 3d data\n",
      "rotation around y:\n",
      "0 0 48.59566357138238\n",
      "dictionary, with 3d data\n",
      "dictionary, with 3d data\n",
      "angle beetween ey and sf: 4\n"
     ]
    },
    {
     "name": "stderr",
     "output_type": "stream",
     "text": [
      "/home/natalia/Documents/github_image_analysis/image_analysis/image_analysis/fit/regionprops.py:25: RuntimeWarning: Mean of empty slice\n",
      "  img_arr_x = np.nanmean(np.nanmean(img_arr, axis=0), axis=0)\n",
      "/home/natalia/Documents/github_image_analysis/image_analysis/image_analysis/fit/regionprops.py:28: RuntimeWarning: Mean of empty slice\n",
      "  img_arr_y = np.nanmean(np.nanmean(img_arr, axis=0), axis=1)\n",
      "/home/natalia/Documents/github_image_analysis/image_analysis/image_analysis/fit/regionprops.py:31: RuntimeWarning: Mean of empty slice\n",
      "  img_arr_z = np.nanmean(np.nanmean(img_arr, axis=1), axis=1)\n"
     ]
    },
    {
     "name": "stdout",
     "output_type": "stream",
     "text": [
      "rotation around x:\n",
      "-7.177245850855002 0 0\n",
      "dictionary, with 3d data\n",
      "dictionary, with 3d data\n",
      "rotation around y:\n",
      "0 0 49.170797051919386\n",
      "dictionary, with 3d data\n",
      "dictionary, with 3d data\n",
      "angle beetween ey and sf: 4\n"
     ]
    },
    {
     "name": "stderr",
     "output_type": "stream",
     "text": [
      "/home/natalia/Documents/github_image_analysis/image_analysis/image_analysis/fit/regionprops.py:25: RuntimeWarning: Mean of empty slice\n",
      "  img_arr_x = np.nanmean(np.nanmean(img_arr, axis=0), axis=0)\n",
      "/home/natalia/Documents/github_image_analysis/image_analysis/image_analysis/fit/regionprops.py:28: RuntimeWarning: Mean of empty slice\n",
      "  img_arr_y = np.nanmean(np.nanmean(img_arr, axis=0), axis=1)\n",
      "/home/natalia/Documents/github_image_analysis/image_analysis/image_analysis/fit/regionprops.py:31: RuntimeWarning: Mean of empty slice\n",
      "  img_arr_z = np.nanmean(np.nanmean(img_arr, axis=1), axis=1)\n"
     ]
    },
    {
     "name": "stdout",
     "output_type": "stream",
     "text": [
      "rotation around x:\n",
      "-10.591527747971384 0 0\n",
      "dictionary, with 3d data\n",
      "dictionary, with 3d data\n",
      "rotation around y:\n",
      "0 0 51.9892241212503\n",
      "dictionary, with 3d data\n",
      "dictionary, with 3d data\n",
      "angle beetween ey and sf: 2\n"
     ]
    },
    {
     "name": "stderr",
     "output_type": "stream",
     "text": [
      "/home/natalia/Documents/github_image_analysis/image_analysis/image_analysis/fit/regionprops.py:25: RuntimeWarning: Mean of empty slice\n",
      "  img_arr_x = np.nanmean(np.nanmean(img_arr, axis=0), axis=0)\n",
      "/home/natalia/Documents/github_image_analysis/image_analysis/image_analysis/fit/regionprops.py:28: RuntimeWarning: Mean of empty slice\n",
      "  img_arr_y = np.nanmean(np.nanmean(img_arr, axis=0), axis=1)\n",
      "/home/natalia/Documents/github_image_analysis/image_analysis/image_analysis/fit/regionprops.py:31: RuntimeWarning: Mean of empty slice\n",
      "  img_arr_z = np.nanmean(np.nanmean(img_arr, axis=1), axis=1)\n"
     ]
    },
    {
     "name": "stdout",
     "output_type": "stream",
     "text": [
      "rotation around x:\n",
      "-13.102789941262444 0 0\n",
      "dictionary, with 3d data\n",
      "dictionary, with 3d data\n",
      "rotation around y:\n",
      "0 0 53.02430882151116\n",
      "dictionary, with 3d data\n",
      "dictionary, with 3d data\n",
      "angle beetween ey and sf: 2\n"
     ]
    },
    {
     "name": "stderr",
     "output_type": "stream",
     "text": [
      "40it [04:04, 16.98s/it]/home/natalia/Documents/github_image_analysis/image_analysis/image_analysis/fit/regionprops.py:25: RuntimeWarning: Mean of empty slice\n",
      "  img_arr_x = np.nanmean(np.nanmean(img_arr, axis=0), axis=0)\n",
      "/home/natalia/Documents/github_image_analysis/image_analysis/image_analysis/fit/regionprops.py:28: RuntimeWarning: Mean of empty slice\n",
      "  img_arr_y = np.nanmean(np.nanmean(img_arr, axis=0), axis=1)\n",
      "/home/natalia/Documents/github_image_analysis/image_analysis/image_analysis/fit/regionprops.py:31: RuntimeWarning: Mean of empty slice\n",
      "  img_arr_z = np.nanmean(np.nanmean(img_arr, axis=1), axis=1)\n"
     ]
    },
    {
     "name": "stdout",
     "output_type": "stream",
     "text": [
      "rotation around x:\n",
      "-43.8308606720926 0 0\n",
      "dictionary, with 3d data\n",
      "dictionary, with 3d data\n",
      "rotation around y:\n",
      "0 0 -79.37617437937219\n",
      "dictionary, with 3d data\n",
      "dictionary, with 3d data\n",
      "strange rotation\n",
      "angle beetween ey and sf: -6\n"
     ]
    },
    {
     "name": "stderr",
     "output_type": "stream",
     "text": [
      "/home/natalia/Documents/github_image_analysis/image_analysis/image_analysis/fit/regionprops.py:25: RuntimeWarning: Mean of empty slice\n",
      "  img_arr_x = np.nanmean(np.nanmean(img_arr, axis=0), axis=0)\n",
      "/home/natalia/Documents/github_image_analysis/image_analysis/image_analysis/fit/regionprops.py:28: RuntimeWarning: Mean of empty slice\n",
      "  img_arr_y = np.nanmean(np.nanmean(img_arr, axis=0), axis=1)\n",
      "/home/natalia/Documents/github_image_analysis/image_analysis/image_analysis/fit/regionprops.py:31: RuntimeWarning: Mean of empty slice\n",
      "  img_arr_z = np.nanmean(np.nanmean(img_arr, axis=1), axis=1)\n"
     ]
    },
    {
     "name": "stdout",
     "output_type": "stream",
     "text": [
      "rotation around x:\n",
      "-39.80557109226518 0 0\n",
      "dictionary, with 3d data\n",
      "dictionary, with 3d data\n",
      "rotation around y:\n",
      "0 0 -79.57293524320991\n",
      "dictionary, with 3d data\n",
      "dictionary, with 3d data\n",
      "angle beetween ey and sf: -4\n"
     ]
    },
    {
     "name": "stderr",
     "output_type": "stream",
     "text": [
      "/home/natalia/Documents/github_image_analysis/image_analysis/image_analysis/fit/regionprops.py:25: RuntimeWarning: Mean of empty slice\n",
      "  img_arr_x = np.nanmean(np.nanmean(img_arr, axis=0), axis=0)\n",
      "/home/natalia/Documents/github_image_analysis/image_analysis/image_analysis/fit/regionprops.py:28: RuntimeWarning: Mean of empty slice\n",
      "  img_arr_y = np.nanmean(np.nanmean(img_arr, axis=0), axis=1)\n",
      "/home/natalia/Documents/github_image_analysis/image_analysis/image_analysis/fit/regionprops.py:31: RuntimeWarning: Mean of empty slice\n",
      "  img_arr_z = np.nanmean(np.nanmean(img_arr, axis=1), axis=1)\n"
     ]
    },
    {
     "name": "stdout",
     "output_type": "stream",
     "text": [
      "rotation around x:\n",
      "-43.994913994745815 0 0\n",
      "dictionary, with 3d data\n",
      "dictionary, with 3d data\n",
      "rotation around y:\n",
      "0 0 -78.47525933629066\n",
      "dictionary, with 3d data\n",
      "dictionary, with 3d data\n",
      "angle beetween ey and sf: -3\n"
     ]
    },
    {
     "name": "stderr",
     "output_type": "stream",
     "text": [
      "/home/natalia/Documents/github_image_analysis/image_analysis/image_analysis/fit/regionprops.py:25: RuntimeWarning: Mean of empty slice\n",
      "  img_arr_x = np.nanmean(np.nanmean(img_arr, axis=0), axis=0)\n",
      "/home/natalia/Documents/github_image_analysis/image_analysis/image_analysis/fit/regionprops.py:28: RuntimeWarning: Mean of empty slice\n",
      "  img_arr_y = np.nanmean(np.nanmean(img_arr, axis=0), axis=1)\n",
      "/home/natalia/Documents/github_image_analysis/image_analysis/image_analysis/fit/regionprops.py:31: RuntimeWarning: Mean of empty slice\n",
      "  img_arr_z = np.nanmean(np.nanmean(img_arr, axis=1), axis=1)\n"
     ]
    },
    {
     "name": "stdout",
     "output_type": "stream",
     "text": [
      "rotation around x:\n",
      "-34.99202019855866 0 0\n",
      "dictionary, with 3d data\n",
      "dictionary, with 3d data\n",
      "rotation around y:\n",
      "0 0 -79.57663461028639\n",
      "dictionary, with 3d data\n",
      "dictionary, with 3d data\n",
      "angle beetween ey and sf: -3\n"
     ]
    },
    {
     "name": "stderr",
     "output_type": "stream",
     "text": [
      "/home/natalia/Documents/github_image_analysis/image_analysis/image_analysis/fit/regionprops.py:25: RuntimeWarning: Mean of empty slice\n",
      "  img_arr_x = np.nanmean(np.nanmean(img_arr, axis=0), axis=0)\n",
      "/home/natalia/Documents/github_image_analysis/image_analysis/image_analysis/fit/regionprops.py:28: RuntimeWarning: Mean of empty slice\n",
      "  img_arr_y = np.nanmean(np.nanmean(img_arr, axis=0), axis=1)\n",
      "/home/natalia/Documents/github_image_analysis/image_analysis/image_analysis/fit/regionprops.py:31: RuntimeWarning: Mean of empty slice\n",
      "  img_arr_z = np.nanmean(np.nanmean(img_arr, axis=1), axis=1)\n"
     ]
    },
    {
     "name": "stdout",
     "output_type": "stream",
     "text": [
      "rotation around x:\n",
      "-23.198590513648213 0 0\n",
      "dictionary, with 3d data\n",
      "dictionary, with 3d data\n",
      "rotation around y:\n",
      "0 0 -71.15935812240564\n",
      "dictionary, with 3d data\n",
      "dictionary, with 3d data\n",
      "angle beetween ey and sf: -2\n"
     ]
    },
    {
     "name": "stderr",
     "output_type": "stream",
     "text": [
      "41it [05:05, 30.07s/it]/home/natalia/Documents/github_image_analysis/image_analysis/image_analysis/fit/regionprops.py:25: RuntimeWarning: Mean of empty slice\n",
      "  img_arr_x = np.nanmean(np.nanmean(img_arr, axis=0), axis=0)\n",
      "/home/natalia/Documents/github_image_analysis/image_analysis/image_analysis/fit/regionprops.py:28: RuntimeWarning: Mean of empty slice\n",
      "  img_arr_y = np.nanmean(np.nanmean(img_arr, axis=0), axis=1)\n",
      "/home/natalia/Documents/github_image_analysis/image_analysis/image_analysis/fit/regionprops.py:31: RuntimeWarning: Mean of empty slice\n",
      "  img_arr_z = np.nanmean(np.nanmean(img_arr, axis=1), axis=1)\n"
     ]
    },
    {
     "name": "stdout",
     "output_type": "stream",
     "text": [
      "rotation around x:\n",
      "73.4126614430726 0 0\n",
      "dictionary, with 3d data\n",
      "dictionary, with 3d data\n",
      "rotation around y:\n",
      "0 0 -62.25813142910107\n",
      "dictionary, with 3d data\n",
      "dictionary, with 3d data\n",
      "angle beetween ey and sf: -5\n"
     ]
    },
    {
     "name": "stderr",
     "output_type": "stream",
     "text": [
      "/home/natalia/Documents/github_image_analysis/image_analysis/image_analysis/fit/regionprops.py:25: RuntimeWarning: Mean of empty slice\n",
      "  img_arr_x = np.nanmean(np.nanmean(img_arr, axis=0), axis=0)\n",
      "/home/natalia/Documents/github_image_analysis/image_analysis/image_analysis/fit/regionprops.py:28: RuntimeWarning: Mean of empty slice\n",
      "  img_arr_y = np.nanmean(np.nanmean(img_arr, axis=0), axis=1)\n",
      "/home/natalia/Documents/github_image_analysis/image_analysis/image_analysis/fit/regionprops.py:31: RuntimeWarning: Mean of empty slice\n",
      "  img_arr_z = np.nanmean(np.nanmean(img_arr, axis=1), axis=1)\n"
     ]
    },
    {
     "name": "stdout",
     "output_type": "stream",
     "text": [
      "rotation around x:\n",
      "-68.8752808539275 0 0\n",
      "dictionary, with 3d data\n",
      "dictionary, with 3d data\n",
      "rotation around y:\n",
      "0 0 77.88560190808356\n",
      "dictionary, with 3d data\n",
      "dictionary, with 3d data\n",
      "angle beetween ey and sf: -3\n"
     ]
    },
    {
     "name": "stderr",
     "output_type": "stream",
     "text": [
      "/home/natalia/Documents/github_image_analysis/image_analysis/image_analysis/fit/regionprops.py:25: RuntimeWarning: Mean of empty slice\n",
      "  img_arr_x = np.nanmean(np.nanmean(img_arr, axis=0), axis=0)\n",
      "/home/natalia/Documents/github_image_analysis/image_analysis/image_analysis/fit/regionprops.py:28: RuntimeWarning: Mean of empty slice\n",
      "  img_arr_y = np.nanmean(np.nanmean(img_arr, axis=0), axis=1)\n",
      "/home/natalia/Documents/github_image_analysis/image_analysis/image_analysis/fit/regionprops.py:31: RuntimeWarning: Mean of empty slice\n",
      "  img_arr_z = np.nanmean(np.nanmean(img_arr, axis=1), axis=1)\n"
     ]
    },
    {
     "name": "stdout",
     "output_type": "stream",
     "text": [
      "rotation around x:\n",
      "-78.90627698844216 0 0\n",
      "dictionary, with 3d data\n",
      "dictionary, with 3d data\n",
      "rotation around y:\n",
      "0 0 76.47918688965771\n",
      "dictionary, with 3d data\n",
      "dictionary, with 3d data\n",
      "angle beetween ey and sf: -2\n"
     ]
    },
    {
     "name": "stderr",
     "output_type": "stream",
     "text": [
      "/home/natalia/Documents/github_image_analysis/image_analysis/image_analysis/fit/regionprops.py:25: RuntimeWarning: Mean of empty slice\n",
      "  img_arr_x = np.nanmean(np.nanmean(img_arr, axis=0), axis=0)\n",
      "/home/natalia/Documents/github_image_analysis/image_analysis/image_analysis/fit/regionprops.py:28: RuntimeWarning: Mean of empty slice\n",
      "  img_arr_y = np.nanmean(np.nanmean(img_arr, axis=0), axis=1)\n",
      "/home/natalia/Documents/github_image_analysis/image_analysis/image_analysis/fit/regionprops.py:31: RuntimeWarning: Mean of empty slice\n",
      "  img_arr_z = np.nanmean(np.nanmean(img_arr, axis=1), axis=1)\n"
     ]
    },
    {
     "name": "stdout",
     "output_type": "stream",
     "text": [
      "rotation around x:\n",
      "-74.05460409907715 0 0\n",
      "dictionary, with 3d data\n",
      "dictionary, with 3d data\n",
      "rotation around y:\n",
      "0 0 71.25880962813918\n",
      "dictionary, with 3d data\n",
      "dictionary, with 3d data\n",
      "angle beetween ey and sf: -4\n"
     ]
    },
    {
     "name": "stderr",
     "output_type": "stream",
     "text": [
      "/home/natalia/Documents/github_image_analysis/image_analysis/image_analysis/fit/regionprops.py:25: RuntimeWarning: Mean of empty slice\n",
      "  img_arr_x = np.nanmean(np.nanmean(img_arr, axis=0), axis=0)\n",
      "/home/natalia/Documents/github_image_analysis/image_analysis/image_analysis/fit/regionprops.py:28: RuntimeWarning: Mean of empty slice\n",
      "  img_arr_y = np.nanmean(np.nanmean(img_arr, axis=0), axis=1)\n",
      "/home/natalia/Documents/github_image_analysis/image_analysis/image_analysis/fit/regionprops.py:31: RuntimeWarning: Mean of empty slice\n",
      "  img_arr_z = np.nanmean(np.nanmean(img_arr, axis=1), axis=1)\n"
     ]
    },
    {
     "name": "stdout",
     "output_type": "stream",
     "text": [
      "rotation around x:\n",
      "-64.53665493812838 0 0\n",
      "dictionary, with 3d data\n",
      "dictionary, with 3d data\n",
      "rotation around y:\n",
      "0 0 71.4463299465566\n",
      "dictionary, with 3d data\n",
      "dictionary, with 3d data\n",
      "angle beetween ey and sf: -2\n"
     ]
    },
    {
     "name": "stderr",
     "output_type": "stream",
     "text": [
      "42it [06:02, 38.23s/it]/home/natalia/Documents/github_image_analysis/image_analysis/image_analysis/fit/regionprops.py:25: RuntimeWarning: Mean of empty slice\n",
      "  img_arr_x = np.nanmean(np.nanmean(img_arr, axis=0), axis=0)\n",
      "/home/natalia/Documents/github_image_analysis/image_analysis/image_analysis/fit/regionprops.py:28: RuntimeWarning: Mean of empty slice\n",
      "  img_arr_y = np.nanmean(np.nanmean(img_arr, axis=0), axis=1)\n",
      "/home/natalia/Documents/github_image_analysis/image_analysis/image_analysis/fit/regionprops.py:31: RuntimeWarning: Mean of empty slice\n",
      "  img_arr_z = np.nanmean(np.nanmean(img_arr, axis=1), axis=1)\n"
     ]
    },
    {
     "name": "stdout",
     "output_type": "stream",
     "text": [
      "rotation around x:\n",
      "83.8298249049704 0 0\n",
      "dictionary, with 3d data\n",
      "dictionary, with 3d data\n",
      "rotation around y:\n",
      "0 0 -79.56266603228741\n",
      "dictionary, with 3d data\n",
      "dictionary, with 3d data\n",
      "angle beetween ey and sf: -2\n"
     ]
    },
    {
     "name": "stderr",
     "output_type": "stream",
     "text": [
      "/home/natalia/Documents/github_image_analysis/image_analysis/image_analysis/fit/regionprops.py:25: RuntimeWarning: Mean of empty slice\n",
      "  img_arr_x = np.nanmean(np.nanmean(img_arr, axis=0), axis=0)\n",
      "/home/natalia/Documents/github_image_analysis/image_analysis/image_analysis/fit/regionprops.py:28: RuntimeWarning: Mean of empty slice\n",
      "  img_arr_y = np.nanmean(np.nanmean(img_arr, axis=0), axis=1)\n",
      "/home/natalia/Documents/github_image_analysis/image_analysis/image_analysis/fit/regionprops.py:31: RuntimeWarning: Mean of empty slice\n",
      "  img_arr_z = np.nanmean(np.nanmean(img_arr, axis=1), axis=1)\n"
     ]
    },
    {
     "name": "stdout",
     "output_type": "stream",
     "text": [
      "rotation around x:\n",
      "-63.92464441605124 0 0\n",
      "dictionary, with 3d data\n",
      "dictionary, with 3d data\n",
      "rotation around y:\n",
      "0 0 77.91161680935065\n",
      "dictionary, with 3d data\n",
      "dictionary, with 3d data\n",
      "angle beetween ey and sf: -3\n"
     ]
    },
    {
     "name": "stderr",
     "output_type": "stream",
     "text": [
      "/home/natalia/Documents/github_image_analysis/image_analysis/image_analysis/fit/regionprops.py:25: RuntimeWarning: Mean of empty slice\n",
      "  img_arr_x = np.nanmean(np.nanmean(img_arr, axis=0), axis=0)\n",
      "/home/natalia/Documents/github_image_analysis/image_analysis/image_analysis/fit/regionprops.py:28: RuntimeWarning: Mean of empty slice\n",
      "  img_arr_y = np.nanmean(np.nanmean(img_arr, axis=0), axis=1)\n",
      "/home/natalia/Documents/github_image_analysis/image_analysis/image_analysis/fit/regionprops.py:31: RuntimeWarning: Mean of empty slice\n",
      "  img_arr_z = np.nanmean(np.nanmean(img_arr, axis=1), axis=1)\n"
     ]
    },
    {
     "name": "stdout",
     "output_type": "stream",
     "text": [
      "rotation around x:\n",
      "-59.03624346792648 0 0\n",
      "dictionary, with 3d data\n",
      "dictionary, with 3d data\n",
      "rotation around y:\n",
      "0 0 77.66885445011945\n",
      "dictionary, with 3d data\n",
      "dictionary, with 3d data\n",
      "angle beetween ey and sf: 2\n"
     ]
    },
    {
     "name": "stderr",
     "output_type": "stream",
     "text": [
      "/home/natalia/Documents/github_image_analysis/image_analysis/image_analysis/fit/regionprops.py:25: RuntimeWarning: Mean of empty slice\n",
      "  img_arr_x = np.nanmean(np.nanmean(img_arr, axis=0), axis=0)\n",
      "/home/natalia/Documents/github_image_analysis/image_analysis/image_analysis/fit/regionprops.py:28: RuntimeWarning: Mean of empty slice\n",
      "  img_arr_y = np.nanmean(np.nanmean(img_arr, axis=0), axis=1)\n",
      "/home/natalia/Documents/github_image_analysis/image_analysis/image_analysis/fit/regionprops.py:31: RuntimeWarning: Mean of empty slice\n",
      "  img_arr_z = np.nanmean(np.nanmean(img_arr, axis=1), axis=1)\n"
     ]
    },
    {
     "name": "stdout",
     "output_type": "stream",
     "text": [
      "rotation around x:\n",
      "-53.471144633014845 0 0\n",
      "dictionary, with 3d data\n",
      "dictionary, with 3d data\n",
      "rotation around y:\n",
      "0 0 75.68967313642815\n",
      "dictionary, with 3d data\n",
      "dictionary, with 3d data\n",
      "angle beetween ey and sf: -1\n"
     ]
    },
    {
     "name": "stderr",
     "output_type": "stream",
     "text": [
      "/home/natalia/Documents/github_image_analysis/image_analysis/image_analysis/fit/regionprops.py:25: RuntimeWarning: Mean of empty slice\n",
      "  img_arr_x = np.nanmean(np.nanmean(img_arr, axis=0), axis=0)\n",
      "/home/natalia/Documents/github_image_analysis/image_analysis/image_analysis/fit/regionprops.py:28: RuntimeWarning: Mean of empty slice\n",
      "  img_arr_y = np.nanmean(np.nanmean(img_arr, axis=0), axis=1)\n",
      "/home/natalia/Documents/github_image_analysis/image_analysis/image_analysis/fit/regionprops.py:31: RuntimeWarning: Mean of empty slice\n",
      "  img_arr_z = np.nanmean(np.nanmean(img_arr, axis=1), axis=1)\n"
     ]
    },
    {
     "name": "stdout",
     "output_type": "stream",
     "text": [
      "rotation around x:\n",
      "-56.309932474020215 0 0\n",
      "dictionary, with 3d data\n",
      "dictionary, with 3d data\n",
      "rotation around y:\n",
      "0 0 73.98268662790106\n",
      "dictionary, with 3d data\n",
      "dictionary, with 3d data\n",
      "angle beetween ey and sf: 1\n"
     ]
    },
    {
     "name": "stderr",
     "output_type": "stream",
     "text": [
      "43it [06:53, 41.93s/it]/home/natalia/Documents/github_image_analysis/image_analysis/image_analysis/fit/regionprops.py:25: RuntimeWarning: Mean of empty slice\n",
      "  img_arr_x = np.nanmean(np.nanmean(img_arr, axis=0), axis=0)\n",
      "/home/natalia/Documents/github_image_analysis/image_analysis/image_analysis/fit/regionprops.py:28: RuntimeWarning: Mean of empty slice\n",
      "  img_arr_y = np.nanmean(np.nanmean(img_arr, axis=0), axis=1)\n",
      "/home/natalia/Documents/github_image_analysis/image_analysis/image_analysis/fit/regionprops.py:31: RuntimeWarning: Mean of empty slice\n",
      "  img_arr_z = np.nanmean(np.nanmean(img_arr, axis=1), axis=1)\n"
     ]
    },
    {
     "name": "stdout",
     "output_type": "stream",
     "text": [
      "rotation around x:\n",
      "60.524110996754246 0 0\n",
      "dictionary, with 3d data\n",
      "dictionary, with 3d data\n",
      "rotation around y:\n",
      "0 0 73.54224651917863\n",
      "dictionary, with 3d data\n",
      "dictionary, with 3d data\n",
      "angle beetween ey and sf: 2\n"
     ]
    },
    {
     "name": "stderr",
     "output_type": "stream",
     "text": [
      "/home/natalia/Documents/github_image_analysis/image_analysis/image_analysis/fit/regionprops.py:25: RuntimeWarning: Mean of empty slice\n",
      "  img_arr_x = np.nanmean(np.nanmean(img_arr, axis=0), axis=0)\n",
      "/home/natalia/Documents/github_image_analysis/image_analysis/image_analysis/fit/regionprops.py:28: RuntimeWarning: Mean of empty slice\n",
      "  img_arr_y = np.nanmean(np.nanmean(img_arr, axis=0), axis=1)\n",
      "/home/natalia/Documents/github_image_analysis/image_analysis/image_analysis/fit/regionprops.py:31: RuntimeWarning: Mean of empty slice\n",
      "  img_arr_z = np.nanmean(np.nanmean(img_arr, axis=1), axis=1)\n"
     ]
    },
    {
     "name": "stdout",
     "output_type": "stream",
     "text": [
      "rotation around x:\n",
      "-53.67317404787976 0 0\n",
      "dictionary, with 3d data\n",
      "dictionary, with 3d data\n",
      "rotation around y:\n",
      "0 0 -74.48964041178485\n",
      "dictionary, with 3d data\n",
      "dictionary, with 3d data\n",
      "angle beetween ey and sf: -3\n"
     ]
    },
    {
     "name": "stderr",
     "output_type": "stream",
     "text": [
      "/home/natalia/Documents/github_image_analysis/image_analysis/image_analysis/fit/regionprops.py:25: RuntimeWarning: Mean of empty slice\n",
      "  img_arr_x = np.nanmean(np.nanmean(img_arr, axis=0), axis=0)\n",
      "/home/natalia/Documents/github_image_analysis/image_analysis/image_analysis/fit/regionprops.py:28: RuntimeWarning: Mean of empty slice\n",
      "  img_arr_y = np.nanmean(np.nanmean(img_arr, axis=0), axis=1)\n",
      "/home/natalia/Documents/github_image_analysis/image_analysis/image_analysis/fit/regionprops.py:31: RuntimeWarning: Mean of empty slice\n",
      "  img_arr_z = np.nanmean(np.nanmean(img_arr, axis=1), axis=1)\n"
     ]
    },
    {
     "name": "stdout",
     "output_type": "stream",
     "text": [
      "rotation around x:\n",
      "-88.1523897340054 0 0\n",
      "dictionary, with 3d data\n",
      "dictionary, with 3d data\n",
      "rotation around y:\n",
      "0 0 -80.04418629599222\n",
      "dictionary, with 3d data\n",
      "dictionary, with 3d data\n",
      "angle beetween ey and sf: -1\n"
     ]
    },
    {
     "name": "stderr",
     "output_type": "stream",
     "text": [
      "/home/natalia/Documents/github_image_analysis/image_analysis/image_analysis/fit/regionprops.py:25: RuntimeWarning: Mean of empty slice\n",
      "  img_arr_x = np.nanmean(np.nanmean(img_arr, axis=0), axis=0)\n",
      "/home/natalia/Documents/github_image_analysis/image_analysis/image_analysis/fit/regionprops.py:28: RuntimeWarning: Mean of empty slice\n",
      "  img_arr_y = np.nanmean(np.nanmean(img_arr, axis=0), axis=1)\n",
      "/home/natalia/Documents/github_image_analysis/image_analysis/image_analysis/fit/regionprops.py:31: RuntimeWarning: Mean of empty slice\n",
      "  img_arr_z = np.nanmean(np.nanmean(img_arr, axis=1), axis=1)\n"
     ]
    },
    {
     "name": "stdout",
     "output_type": "stream",
     "text": [
      "rotation around x:\n",
      "-39.5596679689945 0 0\n",
      "dictionary, with 3d data\n",
      "dictionary, with 3d data\n",
      "rotation around y:\n",
      "0 0 -82.57172799257542\n",
      "dictionary, with 3d data\n",
      "dictionary, with 3d data\n",
      "angle beetween ey and sf: -4\n"
     ]
    },
    {
     "name": "stderr",
     "output_type": "stream",
     "text": [
      "/home/natalia/Documents/github_image_analysis/image_analysis/image_analysis/fit/regionprops.py:25: RuntimeWarning: Mean of empty slice\n",
      "  img_arr_x = np.nanmean(np.nanmean(img_arr, axis=0), axis=0)\n",
      "/home/natalia/Documents/github_image_analysis/image_analysis/image_analysis/fit/regionprops.py:28: RuntimeWarning: Mean of empty slice\n",
      "  img_arr_y = np.nanmean(np.nanmean(img_arr, axis=0), axis=1)\n",
      "/home/natalia/Documents/github_image_analysis/image_analysis/image_analysis/fit/regionprops.py:31: RuntimeWarning: Mean of empty slice\n",
      "  img_arr_z = np.nanmean(np.nanmean(img_arr, axis=1), axis=1)\n"
     ]
    },
    {
     "name": "stdout",
     "output_type": "stream",
     "text": [
      "rotation around x:\n",
      "-29.47588900324574 0 0\n",
      "dictionary, with 3d data\n",
      "dictionary, with 3d data\n",
      "rotation around y:\n",
      "0 0 -83.12108864321326\n",
      "dictionary, with 3d data\n",
      "dictionary, with 3d data\n",
      "angle beetween ey and sf: -2\n"
     ]
    },
    {
     "name": "stderr",
     "output_type": "stream",
     "text": [
      "44it [08:05, 51.04s/it]/home/natalia/Documents/github_image_analysis/image_analysis/image_analysis/fit/regionprops.py:25: RuntimeWarning: Mean of empty slice\n",
      "  img_arr_x = np.nanmean(np.nanmean(img_arr, axis=0), axis=0)\n",
      "/home/natalia/Documents/github_image_analysis/image_analysis/image_analysis/fit/regionprops.py:28: RuntimeWarning: Mean of empty slice\n",
      "  img_arr_y = np.nanmean(np.nanmean(img_arr, axis=0), axis=1)\n",
      "/home/natalia/Documents/github_image_analysis/image_analysis/image_analysis/fit/regionprops.py:31: RuntimeWarning: Mean of empty slice\n",
      "  img_arr_z = np.nanmean(np.nanmean(img_arr, axis=1), axis=1)\n"
     ]
    },
    {
     "name": "stdout",
     "output_type": "stream",
     "text": [
      "rotation around x:\n",
      "-77.7352262721076 0 0\n",
      "dictionary, with 3d data\n",
      "dictionary, with 3d data\n",
      "rotation around y:\n",
      "0 0 75.72565215195156\n",
      "dictionary, with 3d data\n",
      "dictionary, with 3d data\n",
      "angle beetween ey and sf: -5\n"
     ]
    },
    {
     "name": "stderr",
     "output_type": "stream",
     "text": [
      "/home/natalia/Documents/github_image_analysis/image_analysis/image_analysis/fit/regionprops.py:25: RuntimeWarning: Mean of empty slice\n",
      "  img_arr_x = np.nanmean(np.nanmean(img_arr, axis=0), axis=0)\n",
      "/home/natalia/Documents/github_image_analysis/image_analysis/image_analysis/fit/regionprops.py:28: RuntimeWarning: Mean of empty slice\n",
      "  img_arr_y = np.nanmean(np.nanmean(img_arr, axis=0), axis=1)\n",
      "/home/natalia/Documents/github_image_analysis/image_analysis/image_analysis/fit/regionprops.py:31: RuntimeWarning: Mean of empty slice\n",
      "  img_arr_z = np.nanmean(np.nanmean(img_arr, axis=1), axis=1)\n"
     ]
    },
    {
     "name": "stdout",
     "output_type": "stream",
     "text": [
      "rotation around x:\n",
      "72.47443162627714 0 0\n",
      "dictionary, with 3d data\n",
      "dictionary, with 3d data\n",
      "rotation around y:\n",
      "0 0 -69.49521603592159\n",
      "dictionary, with 3d data\n",
      "dictionary, with 3d data\n",
      "angle beetween ey and sf: 5\n"
     ]
    },
    {
     "name": "stderr",
     "output_type": "stream",
     "text": [
      "/home/natalia/Documents/github_image_analysis/image_analysis/image_analysis/fit/regionprops.py:25: RuntimeWarning: Mean of empty slice\n",
      "  img_arr_x = np.nanmean(np.nanmean(img_arr, axis=0), axis=0)\n",
      "/home/natalia/Documents/github_image_analysis/image_analysis/image_analysis/fit/regionprops.py:28: RuntimeWarning: Mean of empty slice\n",
      "  img_arr_y = np.nanmean(np.nanmean(img_arr, axis=0), axis=1)\n",
      "/home/natalia/Documents/github_image_analysis/image_analysis/image_analysis/fit/regionprops.py:31: RuntimeWarning: Mean of empty slice\n",
      "  img_arr_z = np.nanmean(np.nanmean(img_arr, axis=1), axis=1)\n"
     ]
    },
    {
     "name": "stdout",
     "output_type": "stream",
     "text": [
      "rotation around x:\n",
      "70.75047412731827 0 0\n",
      "dictionary, with 3d data\n",
      "dictionary, with 3d data\n",
      "rotation around y:\n",
      "0 0 -67.31967645075336\n",
      "dictionary, with 3d data\n",
      "dictionary, with 3d data\n",
      "angle beetween ey and sf: 4\n"
     ]
    },
    {
     "name": "stderr",
     "output_type": "stream",
     "text": [
      "/home/natalia/Documents/github_image_analysis/image_analysis/image_analysis/fit/regionprops.py:25: RuntimeWarning: Mean of empty slice\n",
      "  img_arr_x = np.nanmean(np.nanmean(img_arr, axis=0), axis=0)\n",
      "/home/natalia/Documents/github_image_analysis/image_analysis/image_analysis/fit/regionprops.py:28: RuntimeWarning: Mean of empty slice\n",
      "  img_arr_y = np.nanmean(np.nanmean(img_arr, axis=0), axis=1)\n",
      "/home/natalia/Documents/github_image_analysis/image_analysis/image_analysis/fit/regionprops.py:31: RuntimeWarning: Mean of empty slice\n",
      "  img_arr_z = np.nanmean(np.nanmean(img_arr, axis=1), axis=1)\n"
     ]
    },
    {
     "name": "stdout",
     "output_type": "stream",
     "text": [
      "rotation around x:\n",
      "64.84069808396835 0 0\n",
      "dictionary, with 3d data\n",
      "dictionary, with 3d data\n",
      "rotation around y:\n",
      "0 0 -64.22444496958923\n",
      "dictionary, with 3d data\n",
      "dictionary, with 3d data\n",
      "angle beetween ey and sf: 4\n"
     ]
    },
    {
     "name": "stderr",
     "output_type": "stream",
     "text": [
      "/home/natalia/Documents/github_image_analysis/image_analysis/image_analysis/fit/regionprops.py:25: RuntimeWarning: Mean of empty slice\n",
      "  img_arr_x = np.nanmean(np.nanmean(img_arr, axis=0), axis=0)\n",
      "/home/natalia/Documents/github_image_analysis/image_analysis/image_analysis/fit/regionprops.py:28: RuntimeWarning: Mean of empty slice\n",
      "  img_arr_y = np.nanmean(np.nanmean(img_arr, axis=0), axis=1)\n",
      "/home/natalia/Documents/github_image_analysis/image_analysis/image_analysis/fit/regionprops.py:31: RuntimeWarning: Mean of empty slice\n",
      "  img_arr_z = np.nanmean(np.nanmean(img_arr, axis=1), axis=1)\n"
     ]
    },
    {
     "name": "stdout",
     "output_type": "stream",
     "text": [
      "rotation around x:\n",
      "57.528807709151515 0 0\n",
      "dictionary, with 3d data\n",
      "dictionary, with 3d data\n",
      "rotation around y:\n",
      "0 0 -62.476144745740314\n",
      "dictionary, with 3d data\n",
      "dictionary, with 3d data\n",
      "angle beetween ey and sf: 4\n"
     ]
    },
    {
     "name": "stderr",
     "output_type": "stream",
     "text": [
      "45it [08:35, 44.69s/it]/home/natalia/Documents/github_image_analysis/image_analysis/image_analysis/fit/regionprops.py:25: RuntimeWarning: Mean of empty slice\n",
      "  img_arr_x = np.nanmean(np.nanmean(img_arr, axis=0), axis=0)\n",
      "/home/natalia/Documents/github_image_analysis/image_analysis/image_analysis/fit/regionprops.py:28: RuntimeWarning: Mean of empty slice\n",
      "  img_arr_y = np.nanmean(np.nanmean(img_arr, axis=0), axis=1)\n",
      "/home/natalia/Documents/github_image_analysis/image_analysis/image_analysis/fit/regionprops.py:31: RuntimeWarning: Mean of empty slice\n",
      "  img_arr_z = np.nanmean(np.nanmean(img_arr, axis=1), axis=1)\n"
     ]
    },
    {
     "name": "stdout",
     "output_type": "stream",
     "text": [
      "rotation around x:\n",
      "90.0 0 0\n",
      "dictionary, with 3d data\n",
      "dictionary, with 3d data\n",
      "rotation around y:\n",
      "0 0 85.10090754621223\n",
      "dictionary, with 3d data\n",
      "dictionary, with 3d data\n",
      "angle beetween ey and sf: 2\n"
     ]
    },
    {
     "name": "stderr",
     "output_type": "stream",
     "text": [
      "/home/natalia/Documents/github_image_analysis/image_analysis/image_analysis/fit/regionprops.py:25: RuntimeWarning: Mean of empty slice\n",
      "  img_arr_x = np.nanmean(np.nanmean(img_arr, axis=0), axis=0)\n",
      "/home/natalia/Documents/github_image_analysis/image_analysis/image_analysis/fit/regionprops.py:28: RuntimeWarning: Mean of empty slice\n",
      "  img_arr_y = np.nanmean(np.nanmean(img_arr, axis=0), axis=1)\n",
      "/home/natalia/Documents/github_image_analysis/image_analysis/image_analysis/fit/regionprops.py:31: RuntimeWarning: Mean of empty slice\n",
      "  img_arr_z = np.nanmean(np.nanmean(img_arr, axis=1), axis=1)\n"
     ]
    },
    {
     "name": "stdout",
     "output_type": "stream",
     "text": [
      "rotation around x:\n",
      "14.4702941000659 0 0\n",
      "dictionary, with 3d data\n",
      "dictionary, with 3d data\n",
      "rotation around y:\n",
      "0 0 73.1763323404346\n",
      "dictionary, with 3d data\n",
      "dictionary, with 3d data\n",
      "angle beetween ey and sf: 5\n"
     ]
    },
    {
     "name": "stderr",
     "output_type": "stream",
     "text": [
      "/home/natalia/Documents/github_image_analysis/image_analysis/image_analysis/fit/regionprops.py:25: RuntimeWarning: Mean of empty slice\n",
      "  img_arr_x = np.nanmean(np.nanmean(img_arr, axis=0), axis=0)\n",
      "/home/natalia/Documents/github_image_analysis/image_analysis/image_analysis/fit/regionprops.py:28: RuntimeWarning: Mean of empty slice\n",
      "  img_arr_y = np.nanmean(np.nanmean(img_arr, axis=0), axis=1)\n",
      "/home/natalia/Documents/github_image_analysis/image_analysis/image_analysis/fit/regionprops.py:31: RuntimeWarning: Mean of empty slice\n",
      "  img_arr_z = np.nanmean(np.nanmean(img_arr, axis=1), axis=1)\n"
     ]
    },
    {
     "name": "stdout",
     "output_type": "stream",
     "text": [
      "rotation around x:\n",
      "5.013113755035818 0 0\n",
      "dictionary, with 3d data\n",
      "dictionary, with 3d data\n",
      "rotation around y:\n",
      "0 0 64.19203916899978\n",
      "dictionary, with 3d data\n",
      "dictionary, with 3d data\n",
      "angle beetween ey and sf: -1\n"
     ]
    },
    {
     "name": "stderr",
     "output_type": "stream",
     "text": [
      "/home/natalia/Documents/github_image_analysis/image_analysis/image_analysis/fit/regionprops.py:25: RuntimeWarning: Mean of empty slice\n",
      "  img_arr_x = np.nanmean(np.nanmean(img_arr, axis=0), axis=0)\n",
      "/home/natalia/Documents/github_image_analysis/image_analysis/image_analysis/fit/regionprops.py:28: RuntimeWarning: Mean of empty slice\n",
      "  img_arr_y = np.nanmean(np.nanmean(img_arr, axis=0), axis=1)\n",
      "/home/natalia/Documents/github_image_analysis/image_analysis/image_analysis/fit/regionprops.py:31: RuntimeWarning: Mean of empty slice\n",
      "  img_arr_z = np.nanmean(np.nanmean(img_arr, axis=1), axis=1)\n"
     ]
    },
    {
     "name": "stdout",
     "output_type": "stream",
     "text": [
      "rotation around x:\n",
      "-12.011478386365411 0 0\n",
      "dictionary, with 3d data\n",
      "dictionary, with 3d data\n",
      "rotation around y:\n",
      "0 0 65.82200736161319\n",
      "dictionary, with 3d data\n",
      "dictionary, with 3d data\n",
      "angle beetween ey and sf: -2\n"
     ]
    },
    {
     "name": "stderr",
     "output_type": "stream",
     "text": [
      "/home/natalia/Documents/github_image_analysis/image_analysis/image_analysis/fit/regionprops.py:25: RuntimeWarning: Mean of empty slice\n",
      "  img_arr_x = np.nanmean(np.nanmean(img_arr, axis=0), axis=0)\n",
      "/home/natalia/Documents/github_image_analysis/image_analysis/image_analysis/fit/regionprops.py:28: RuntimeWarning: Mean of empty slice\n",
      "  img_arr_y = np.nanmean(np.nanmean(img_arr, axis=0), axis=1)\n",
      "/home/natalia/Documents/github_image_analysis/image_analysis/image_analysis/fit/regionprops.py:31: RuntimeWarning: Mean of empty slice\n",
      "  img_arr_z = np.nanmean(np.nanmean(img_arr, axis=1), axis=1)\n"
     ]
    },
    {
     "name": "stdout",
     "output_type": "stream",
     "text": [
      "rotation around x:\n",
      "-10.684912400002702 0 0\n",
      "dictionary, with 3d data\n",
      "dictionary, with 3d data\n",
      "rotation around y:\n",
      "0 0 61.16602707048735\n",
      "dictionary, with 3d data\n",
      "dictionary, with 3d data\n",
      "angle beetween ey and sf: 2\n"
     ]
    },
    {
     "name": "stderr",
     "output_type": "stream",
     "text": [
      "46it [09:23, 45.87s/it]/home/natalia/Documents/github_image_analysis/image_analysis/image_analysis/fit/regionprops.py:25: RuntimeWarning: Mean of empty slice\n",
      "  img_arr_x = np.nanmean(np.nanmean(img_arr, axis=0), axis=0)\n",
      "/home/natalia/Documents/github_image_analysis/image_analysis/image_analysis/fit/regionprops.py:28: RuntimeWarning: Mean of empty slice\n",
      "  img_arr_y = np.nanmean(np.nanmean(img_arr, axis=0), axis=1)\n",
      "/home/natalia/Documents/github_image_analysis/image_analysis/image_analysis/fit/regionprops.py:31: RuntimeWarning: Mean of empty slice\n",
      "  img_arr_z = np.nanmean(np.nanmean(img_arr, axis=1), axis=1)\n"
     ]
    },
    {
     "name": "stdout",
     "output_type": "stream",
     "text": [
      "rotation around x:\n",
      "6.340191745909966 0 0\n",
      "dictionary, with 3d data\n",
      "dictionary, with 3d data\n",
      "rotation around y:\n",
      "0 0 -57.92221532371046\n",
      "dictionary, with 3d data\n",
      "dictionary, with 3d data\n",
      "strange rotation\n",
      "angle beetween ey and sf: -20\n"
     ]
    },
    {
     "name": "stderr",
     "output_type": "stream",
     "text": [
      "/home/natalia/Documents/github_image_analysis/image_analysis/image_analysis/fit/regionprops.py:25: RuntimeWarning: Mean of empty slice\n",
      "  img_arr_x = np.nanmean(np.nanmean(img_arr, axis=0), axis=0)\n",
      "/home/natalia/Documents/github_image_analysis/image_analysis/image_analysis/fit/regionprops.py:28: RuntimeWarning: Mean of empty slice\n",
      "  img_arr_y = np.nanmean(np.nanmean(img_arr, axis=0), axis=1)\n",
      "/home/natalia/Documents/github_image_analysis/image_analysis/image_analysis/fit/regionprops.py:31: RuntimeWarning: Mean of empty slice\n",
      "  img_arr_z = np.nanmean(np.nanmean(img_arr, axis=1), axis=1)\n"
     ]
    },
    {
     "name": "stdout",
     "output_type": "stream",
     "text": [
      "rotation around x:\n",
      "7.125016348901756 0 0\n",
      "dictionary, with 3d data\n",
      "dictionary, with 3d data\n",
      "rotation around y:\n",
      "0 0 -80.31121343963319\n",
      "dictionary, with 3d data\n",
      "dictionary, with 3d data\n",
      "angle beetween ey and sf: 4\n"
     ]
    },
    {
     "name": "stderr",
     "output_type": "stream",
     "text": [
      "/home/natalia/Documents/github_image_analysis/image_analysis/image_analysis/fit/regionprops.py:25: RuntimeWarning: Mean of empty slice\n",
      "  img_arr_x = np.nanmean(np.nanmean(img_arr, axis=0), axis=0)\n",
      "/home/natalia/Documents/github_image_analysis/image_analysis/image_analysis/fit/regionprops.py:28: RuntimeWarning: Mean of empty slice\n",
      "  img_arr_y = np.nanmean(np.nanmean(img_arr, axis=0), axis=1)\n",
      "/home/natalia/Documents/github_image_analysis/image_analysis/image_analysis/fit/regionprops.py:31: RuntimeWarning: Mean of empty slice\n",
      "  img_arr_z = np.nanmean(np.nanmean(img_arr, axis=1), axis=1)\n"
     ]
    },
    {
     "name": "stdout",
     "output_type": "stream",
     "text": [
      "rotation around x:\n",
      "-0.0 0 0\n",
      "dictionary, with 3d data\n",
      "dictionary, with 3d data\n",
      "rotation around y:\n",
      "0 0 86.82016988013577\n",
      "dictionary, with 3d data\n",
      "dictionary, with 3d data\n",
      "angle beetween ey and sf: 1\n"
     ]
    },
    {
     "name": "stderr",
     "output_type": "stream",
     "text": [
      "/home/natalia/Documents/github_image_analysis/image_analysis/image_analysis/fit/regionprops.py:25: RuntimeWarning: Mean of empty slice\n",
      "  img_arr_x = np.nanmean(np.nanmean(img_arr, axis=0), axis=0)\n",
      "/home/natalia/Documents/github_image_analysis/image_analysis/image_analysis/fit/regionprops.py:28: RuntimeWarning: Mean of empty slice\n",
      "  img_arr_y = np.nanmean(np.nanmean(img_arr, axis=0), axis=1)\n",
      "/home/natalia/Documents/github_image_analysis/image_analysis/image_analysis/fit/regionprops.py:31: RuntimeWarning: Mean of empty slice\n",
      "  img_arr_z = np.nanmean(np.nanmean(img_arr, axis=1), axis=1)\n"
     ]
    },
    {
     "name": "stdout",
     "output_type": "stream",
     "text": [
      "rotation around x:\n",
      "-4.085616779974799 0 0\n",
      "dictionary, with 3d data\n",
      "dictionary, with 3d data\n",
      "rotation around y:\n",
      "0 0 77.47119229084849\n",
      "dictionary, with 3d data\n",
      "dictionary, with 3d data\n",
      "angle beetween ey and sf: 1\n"
     ]
    },
    {
     "name": "stderr",
     "output_type": "stream",
     "text": [
      "/home/natalia/Documents/github_image_analysis/image_analysis/image_analysis/fit/regionprops.py:25: RuntimeWarning: Mean of empty slice\n",
      "  img_arr_x = np.nanmean(np.nanmean(img_arr, axis=0), axis=0)\n",
      "/home/natalia/Documents/github_image_analysis/image_analysis/image_analysis/fit/regionprops.py:28: RuntimeWarning: Mean of empty slice\n",
      "  img_arr_y = np.nanmean(np.nanmean(img_arr, axis=0), axis=1)\n",
      "/home/natalia/Documents/github_image_analysis/image_analysis/image_analysis/fit/regionprops.py:31: RuntimeWarning: Mean of empty slice\n",
      "  img_arr_z = np.nanmean(np.nanmean(img_arr, axis=1), axis=1)\n"
     ]
    },
    {
     "name": "stdout",
     "output_type": "stream",
     "text": [
      "rotation around x:\n",
      "-0.0 0 0\n",
      "dictionary, with 3d data\n",
      "dictionary, with 3d data\n",
      "rotation around y:\n",
      "0 0 61.7826441452707\n",
      "dictionary, with 3d data\n",
      "dictionary, with 3d data\n",
      "angle beetween ey and sf: -2\n"
     ]
    },
    {
     "name": "stderr",
     "output_type": "stream",
     "text": [
      "47it [10:19, 48.66s/it]/home/natalia/Documents/github_image_analysis/image_analysis/image_analysis/fit/regionprops.py:25: RuntimeWarning: Mean of empty slice\n",
      "  img_arr_x = np.nanmean(np.nanmean(img_arr, axis=0), axis=0)\n",
      "/home/natalia/Documents/github_image_analysis/image_analysis/image_analysis/fit/regionprops.py:28: RuntimeWarning: Mean of empty slice\n",
      "  img_arr_y = np.nanmean(np.nanmean(img_arr, axis=0), axis=1)\n",
      "/home/natalia/Documents/github_image_analysis/image_analysis/image_analysis/fit/regionprops.py:31: RuntimeWarning: Mean of empty slice\n",
      "  img_arr_z = np.nanmean(np.nanmean(img_arr, axis=1), axis=1)\n"
     ]
    },
    {
     "name": "stdout",
     "output_type": "stream",
     "text": [
      "rotation around x:\n",
      "-50.19442890773479 0 0\n",
      "dictionary, with 3d data\n",
      "dictionary, with 3d data\n",
      "rotation around y:\n",
      "0 0 70.48980389814537\n",
      "dictionary, with 3d data\n",
      "dictionary, with 3d data\n",
      "angle beetween ey and sf: 2\n"
     ]
    },
    {
     "name": "stderr",
     "output_type": "stream",
     "text": [
      "/home/natalia/Documents/github_image_analysis/image_analysis/image_analysis/fit/regionprops.py:25: RuntimeWarning: Mean of empty slice\n",
      "  img_arr_x = np.nanmean(np.nanmean(img_arr, axis=0), axis=0)\n",
      "/home/natalia/Documents/github_image_analysis/image_analysis/image_analysis/fit/regionprops.py:28: RuntimeWarning: Mean of empty slice\n",
      "  img_arr_y = np.nanmean(np.nanmean(img_arr, axis=0), axis=1)\n",
      "/home/natalia/Documents/github_image_analysis/image_analysis/image_analysis/fit/regionprops.py:31: RuntimeWarning: Mean of empty slice\n",
      "  img_arr_z = np.nanmean(np.nanmean(img_arr, axis=1), axis=1)\n"
     ]
    },
    {
     "name": "stdout",
     "output_type": "stream",
     "text": [
      "rotation around x:\n",
      "-65.27268561330986 0 0\n",
      "dictionary, with 3d data\n",
      "dictionary, with 3d data\n",
      "rotation around y:\n",
      "0 0 69.3563912527964\n",
      "dictionary, with 3d data\n",
      "dictionary, with 3d data\n",
      "angle beetween ey and sf: -1\n"
     ]
    },
    {
     "name": "stderr",
     "output_type": "stream",
     "text": [
      "/home/natalia/Documents/github_image_analysis/image_analysis/image_analysis/fit/regionprops.py:25: RuntimeWarning: Mean of empty slice\n",
      "  img_arr_x = np.nanmean(np.nanmean(img_arr, axis=0), axis=0)\n",
      "/home/natalia/Documents/github_image_analysis/image_analysis/image_analysis/fit/regionprops.py:28: RuntimeWarning: Mean of empty slice\n",
      "  img_arr_y = np.nanmean(np.nanmean(img_arr, axis=0), axis=1)\n",
      "/home/natalia/Documents/github_image_analysis/image_analysis/image_analysis/fit/regionprops.py:31: RuntimeWarning: Mean of empty slice\n",
      "  img_arr_z = np.nanmean(np.nanmean(img_arr, axis=1), axis=1)\n"
     ]
    },
    {
     "name": "stdout",
     "output_type": "stream",
     "text": [
      "rotation around x:\n",
      "-74.6237487511738 0 0\n",
      "dictionary, with 3d data\n",
      "dictionary, with 3d data\n",
      "rotation around y:\n",
      "0 0 69.78740236958969\n",
      "dictionary, with 3d data\n",
      "dictionary, with 3d data\n",
      "angle beetween ey and sf: 0\n"
     ]
    },
    {
     "name": "stderr",
     "output_type": "stream",
     "text": [
      "/home/natalia/Documents/github_image_analysis/image_analysis/image_analysis/fit/regionprops.py:25: RuntimeWarning: Mean of empty slice\n",
      "  img_arr_x = np.nanmean(np.nanmean(img_arr, axis=0), axis=0)\n",
      "/home/natalia/Documents/github_image_analysis/image_analysis/image_analysis/fit/regionprops.py:28: RuntimeWarning: Mean of empty slice\n",
      "  img_arr_y = np.nanmean(np.nanmean(img_arr, axis=0), axis=1)\n",
      "/home/natalia/Documents/github_image_analysis/image_analysis/image_analysis/fit/regionprops.py:31: RuntimeWarning: Mean of empty slice\n",
      "  img_arr_z = np.nanmean(np.nanmean(img_arr, axis=1), axis=1)\n"
     ]
    },
    {
     "name": "stdout",
     "output_type": "stream",
     "text": [
      "rotation around x:\n",
      "-63.159490466786764 0 0\n",
      "dictionary, with 3d data\n",
      "dictionary, with 3d data\n",
      "rotation around y:\n",
      "0 0 67.39130650505223\n",
      "dictionary, with 3d data\n",
      "dictionary, with 3d data\n",
      "angle beetween ey and sf: 3\n"
     ]
    },
    {
     "name": "stderr",
     "output_type": "stream",
     "text": [
      "/home/natalia/Documents/github_image_analysis/image_analysis/image_analysis/fit/regionprops.py:25: RuntimeWarning: Mean of empty slice\n",
      "  img_arr_x = np.nanmean(np.nanmean(img_arr, axis=0), axis=0)\n",
      "/home/natalia/Documents/github_image_analysis/image_analysis/image_analysis/fit/regionprops.py:28: RuntimeWarning: Mean of empty slice\n",
      "  img_arr_y = np.nanmean(np.nanmean(img_arr, axis=0), axis=1)\n",
      "/home/natalia/Documents/github_image_analysis/image_analysis/image_analysis/fit/regionprops.py:31: RuntimeWarning: Mean of empty slice\n",
      "  img_arr_z = np.nanmean(np.nanmean(img_arr, axis=1), axis=1)\n"
     ]
    },
    {
     "name": "stdout",
     "output_type": "stream",
     "text": [
      "rotation around x:\n",
      "-72.61302782308448 0 0\n",
      "dictionary, with 3d data\n",
      "dictionary, with 3d data\n",
      "rotation around y:\n",
      "0 0 66.54950254217577\n",
      "dictionary, with 3d data\n",
      "dictionary, with 3d data\n",
      "angle beetween ey and sf: 0\n"
     ]
    },
    {
     "name": "stderr",
     "output_type": "stream",
     "text": [
      "48it [11:32, 55.98s/it]/home/natalia/Documents/github_image_analysis/image_analysis/image_analysis/fit/regionprops.py:25: RuntimeWarning: Mean of empty slice\n",
      "  img_arr_x = np.nanmean(np.nanmean(img_arr, axis=0), axis=0)\n",
      "/home/natalia/Documents/github_image_analysis/image_analysis/image_analysis/fit/regionprops.py:28: RuntimeWarning: Mean of empty slice\n",
      "  img_arr_y = np.nanmean(np.nanmean(img_arr, axis=0), axis=1)\n",
      "/home/natalia/Documents/github_image_analysis/image_analysis/image_analysis/fit/regionprops.py:31: RuntimeWarning: Mean of empty slice\n",
      "  img_arr_z = np.nanmean(np.nanmean(img_arr, axis=1), axis=1)\n"
     ]
    },
    {
     "name": "stdout",
     "output_type": "stream",
     "text": [
      "rotation around x:\n",
      "-29.913645991534878 0 0\n",
      "dictionary, with 3d data\n",
      "dictionary, with 3d data\n",
      "rotation around y:\n",
      "0 0 59.15982428960358\n",
      "dictionary, with 3d data\n",
      "dictionary, with 3d data\n",
      "angle beetween ey and sf: 4\n"
     ]
    },
    {
     "name": "stderr",
     "output_type": "stream",
     "text": [
      "/home/natalia/Documents/github_image_analysis/image_analysis/image_analysis/fit/regionprops.py:25: RuntimeWarning: Mean of empty slice\n",
      "  img_arr_x = np.nanmean(np.nanmean(img_arr, axis=0), axis=0)\n",
      "/home/natalia/Documents/github_image_analysis/image_analysis/image_analysis/fit/regionprops.py:28: RuntimeWarning: Mean of empty slice\n",
      "  img_arr_y = np.nanmean(np.nanmean(img_arr, axis=0), axis=1)\n",
      "/home/natalia/Documents/github_image_analysis/image_analysis/image_analysis/fit/regionprops.py:31: RuntimeWarning: Mean of empty slice\n",
      "  img_arr_z = np.nanmean(np.nanmean(img_arr, axis=1), axis=1)\n"
     ]
    },
    {
     "name": "stdout",
     "output_type": "stream",
     "text": [
      "rotation around x:\n",
      "-28.04015297793495 0 0\n",
      "dictionary, with 3d data\n",
      "dictionary, with 3d data\n",
      "rotation around y:\n",
      "0 0 58.764560556468965\n",
      "dictionary, with 3d data\n",
      "dictionary, with 3d data\n",
      "angle beetween ey and sf: 4\n"
     ]
    },
    {
     "name": "stderr",
     "output_type": "stream",
     "text": [
      "/home/natalia/Documents/github_image_analysis/image_analysis/image_analysis/fit/regionprops.py:25: RuntimeWarning: Mean of empty slice\n",
      "  img_arr_x = np.nanmean(np.nanmean(img_arr, axis=0), axis=0)\n",
      "/home/natalia/Documents/github_image_analysis/image_analysis/image_analysis/fit/regionprops.py:28: RuntimeWarning: Mean of empty slice\n",
      "  img_arr_y = np.nanmean(np.nanmean(img_arr, axis=0), axis=1)\n",
      "/home/natalia/Documents/github_image_analysis/image_analysis/image_analysis/fit/regionprops.py:31: RuntimeWarning: Mean of empty slice\n",
      "  img_arr_z = np.nanmean(np.nanmean(img_arr, axis=1), axis=1)\n"
     ]
    },
    {
     "name": "stdout",
     "output_type": "stream",
     "text": [
      "rotation around x:\n",
      "-34.15969454566945 0 0\n",
      "dictionary, with 3d data\n",
      "dictionary, with 3d data\n",
      "rotation around y:\n",
      "0 0 60.06748380676803\n",
      "dictionary, with 3d data\n",
      "dictionary, with 3d data\n",
      "angle beetween ey and sf: 2\n"
     ]
    },
    {
     "name": "stderr",
     "output_type": "stream",
     "text": [
      "/home/natalia/Documents/github_image_analysis/image_analysis/image_analysis/fit/regionprops.py:25: RuntimeWarning: Mean of empty slice\n",
      "  img_arr_x = np.nanmean(np.nanmean(img_arr, axis=0), axis=0)\n",
      "/home/natalia/Documents/github_image_analysis/image_analysis/image_analysis/fit/regionprops.py:28: RuntimeWarning: Mean of empty slice\n",
      "  img_arr_y = np.nanmean(np.nanmean(img_arr, axis=0), axis=1)\n",
      "/home/natalia/Documents/github_image_analysis/image_analysis/image_analysis/fit/regionprops.py:31: RuntimeWarning: Mean of empty slice\n",
      "  img_arr_z = np.nanmean(np.nanmean(img_arr, axis=1), axis=1)\n"
     ]
    },
    {
     "name": "stdout",
     "output_type": "stream",
     "text": [
      "rotation around x:\n",
      "-43.61964592655556 0 0\n",
      "dictionary, with 3d data\n",
      "dictionary, with 3d data\n",
      "rotation around y:\n",
      "0 0 58.34420794961779\n",
      "dictionary, with 3d data\n",
      "dictionary, with 3d data\n",
      "angle beetween ey and sf: 1\n"
     ]
    },
    {
     "name": "stderr",
     "output_type": "stream",
     "text": [
      "/home/natalia/Documents/github_image_analysis/image_analysis/image_analysis/fit/regionprops.py:25: RuntimeWarning: Mean of empty slice\n",
      "  img_arr_x = np.nanmean(np.nanmean(img_arr, axis=0), axis=0)\n",
      "/home/natalia/Documents/github_image_analysis/image_analysis/image_analysis/fit/regionprops.py:28: RuntimeWarning: Mean of empty slice\n",
      "  img_arr_y = np.nanmean(np.nanmean(img_arr, axis=0), axis=1)\n",
      "/home/natalia/Documents/github_image_analysis/image_analysis/image_analysis/fit/regionprops.py:31: RuntimeWarning: Mean of empty slice\n",
      "  img_arr_z = np.nanmean(np.nanmean(img_arr, axis=1), axis=1)\n"
     ]
    },
    {
     "name": "stdout",
     "output_type": "stream",
     "text": [
      "rotation around x:\n",
      "-41.34777721969368 0 0\n",
      "dictionary, with 3d data\n",
      "dictionary, with 3d data\n",
      "rotation around y:\n",
      "0 0 54.86618438731419\n",
      "dictionary, with 3d data\n",
      "dictionary, with 3d data\n",
      "angle beetween ey and sf: -1\n"
     ]
    },
    {
     "name": "stderr",
     "output_type": "stream",
     "text": [
      "49it [12:48, 62.22s/it]/home/natalia/Documents/github_image_analysis/image_analysis/image_analysis/fit/regionprops.py:25: RuntimeWarning: Mean of empty slice\n",
      "  img_arr_x = np.nanmean(np.nanmean(img_arr, axis=0), axis=0)\n",
      "/home/natalia/Documents/github_image_analysis/image_analysis/image_analysis/fit/regionprops.py:28: RuntimeWarning: Mean of empty slice\n",
      "  img_arr_y = np.nanmean(np.nanmean(img_arr, axis=0), axis=1)\n",
      "/home/natalia/Documents/github_image_analysis/image_analysis/image_analysis/fit/regionprops.py:31: RuntimeWarning: Mean of empty slice\n",
      "  img_arr_z = np.nanmean(np.nanmean(img_arr, axis=1), axis=1)\n"
     ]
    },
    {
     "name": "stdout",
     "output_type": "stream",
     "text": [
      "rotation around x:\n",
      "-11.97613244420333 0 0\n",
      "dictionary, with 3d data\n",
      "dictionary, with 3d data\n",
      "rotation around y:\n",
      "0 0 75.11398745055459\n",
      "dictionary, with 3d data\n",
      "dictionary, with 3d data\n",
      "angle beetween ey and sf: -3\n"
     ]
    },
    {
     "name": "stderr",
     "output_type": "stream",
     "text": [
      "/home/natalia/Documents/github_image_analysis/image_analysis/image_analysis/fit/regionprops.py:25: RuntimeWarning: Mean of empty slice\n",
      "  img_arr_x = np.nanmean(np.nanmean(img_arr, axis=0), axis=0)\n",
      "/home/natalia/Documents/github_image_analysis/image_analysis/image_analysis/fit/regionprops.py:28: RuntimeWarning: Mean of empty slice\n",
      "  img_arr_y = np.nanmean(np.nanmean(img_arr, axis=0), axis=1)\n",
      "/home/natalia/Documents/github_image_analysis/image_analysis/image_analysis/fit/regionprops.py:31: RuntimeWarning: Mean of empty slice\n",
      "  img_arr_z = np.nanmean(np.nanmean(img_arr, axis=1), axis=1)\n"
     ]
    },
    {
     "name": "stdout",
     "output_type": "stream",
     "text": [
      "rotation around x:\n",
      "-9.688786560366822 0 0\n",
      "dictionary, with 3d data\n",
      "dictionary, with 3d data\n",
      "rotation around y:\n",
      "0 0 73.78557304936677\n",
      "dictionary, with 3d data\n",
      "dictionary, with 3d data\n",
      "angle beetween ey and sf: -3\n"
     ]
    },
    {
     "name": "stderr",
     "output_type": "stream",
     "text": [
      "/home/natalia/Documents/github_image_analysis/image_analysis/image_analysis/fit/regionprops.py:25: RuntimeWarning: Mean of empty slice\n",
      "  img_arr_x = np.nanmean(np.nanmean(img_arr, axis=0), axis=0)\n",
      "/home/natalia/Documents/github_image_analysis/image_analysis/image_analysis/fit/regionprops.py:28: RuntimeWarning: Mean of empty slice\n",
      "  img_arr_y = np.nanmean(np.nanmean(img_arr, axis=0), axis=1)\n",
      "/home/natalia/Documents/github_image_analysis/image_analysis/image_analysis/fit/regionprops.py:31: RuntimeWarning: Mean of empty slice\n",
      "  img_arr_z = np.nanmean(np.nanmean(img_arr, axis=1), axis=1)\n"
     ]
    },
    {
     "name": "stdout",
     "output_type": "stream",
     "text": [
      "rotation around x:\n",
      "-1.2590452071750349 0 0\n",
      "dictionary, with 3d data\n",
      "dictionary, with 3d data\n",
      "rotation around y:\n",
      "0 0 72.04550766800614\n",
      "dictionary, with 3d data\n",
      "dictionary, with 3d data\n",
      "angle beetween ey and sf: 1\n"
     ]
    },
    {
     "name": "stderr",
     "output_type": "stream",
     "text": [
      "/home/natalia/Documents/github_image_analysis/image_analysis/image_analysis/fit/regionprops.py:25: RuntimeWarning: Mean of empty slice\n",
      "  img_arr_x = np.nanmean(np.nanmean(img_arr, axis=0), axis=0)\n",
      "/home/natalia/Documents/github_image_analysis/image_analysis/image_analysis/fit/regionprops.py:28: RuntimeWarning: Mean of empty slice\n",
      "  img_arr_y = np.nanmean(np.nanmean(img_arr, axis=0), axis=1)\n",
      "/home/natalia/Documents/github_image_analysis/image_analysis/image_analysis/fit/regionprops.py:31: RuntimeWarning: Mean of empty slice\n",
      "  img_arr_z = np.nanmean(np.nanmean(img_arr, axis=1), axis=1)\n"
     ]
    },
    {
     "name": "stdout",
     "output_type": "stream",
     "text": [
      "rotation around x:\n",
      "-2.5561500785781845 0 0\n",
      "dictionary, with 3d data\n",
      "dictionary, with 3d data\n",
      "rotation around y:\n",
      "0 0 68.94940970770064\n",
      "dictionary, with 3d data\n",
      "dictionary, with 3d data\n",
      "angle beetween ey and sf: 1\n"
     ]
    },
    {
     "name": "stderr",
     "output_type": "stream",
     "text": [
      "/home/natalia/Documents/github_image_analysis/image_analysis/image_analysis/fit/regionprops.py:25: RuntimeWarning: Mean of empty slice\n",
      "  img_arr_x = np.nanmean(np.nanmean(img_arr, axis=0), axis=0)\n",
      "/home/natalia/Documents/github_image_analysis/image_analysis/image_analysis/fit/regionprops.py:28: RuntimeWarning: Mean of empty slice\n",
      "  img_arr_y = np.nanmean(np.nanmean(img_arr, axis=0), axis=1)\n",
      "/home/natalia/Documents/github_image_analysis/image_analysis/image_analysis/fit/regionprops.py:31: RuntimeWarning: Mean of empty slice\n",
      "  img_arr_z = np.nanmean(np.nanmean(img_arr, axis=1), axis=1)\n"
     ]
    },
    {
     "name": "stdout",
     "output_type": "stream",
     "text": [
      "rotation around x:\n",
      "-5.663706258020511 0 0\n",
      "dictionary, with 3d data\n",
      "dictionary, with 3d data\n",
      "rotation around y:\n",
      "0 0 67.5107231418169\n",
      "dictionary, with 3d data\n",
      "dictionary, with 3d data\n",
      "angle beetween ey and sf: 1\n"
     ]
    },
    {
     "name": "stderr",
     "output_type": "stream",
     "text": [
      "50it [13:42, 59.77s/it]/home/natalia/Documents/github_image_analysis/image_analysis/image_analysis/fit/regionprops.py:25: RuntimeWarning: Mean of empty slice\n",
      "  img_arr_x = np.nanmean(np.nanmean(img_arr, axis=0), axis=0)\n",
      "/home/natalia/Documents/github_image_analysis/image_analysis/image_analysis/fit/regionprops.py:28: RuntimeWarning: Mean of empty slice\n",
      "  img_arr_y = np.nanmean(np.nanmean(img_arr, axis=0), axis=1)\n",
      "/home/natalia/Documents/github_image_analysis/image_analysis/image_analysis/fit/regionprops.py:31: RuntimeWarning: Mean of empty slice\n",
      "  img_arr_z = np.nanmean(np.nanmean(img_arr, axis=1), axis=1)\n"
     ]
    },
    {
     "name": "stdout",
     "output_type": "stream",
     "text": [
      "rotation around x:\n",
      "4.573921259900818 0 0\n",
      "dictionary, with 3d data\n",
      "dictionary, with 3d data\n",
      "rotation around y:\n",
      "0 0 -3.121718516720847\n",
      "dictionary, with 3d data\n",
      "dictionary, with 3d data\n",
      "angle beetween ey and sf: -4\n"
     ]
    },
    {
     "name": "stderr",
     "output_type": "stream",
     "text": [
      "/home/natalia/Documents/github_image_analysis/image_analysis/image_analysis/fit/regionprops.py:25: RuntimeWarning: Mean of empty slice\n",
      "  img_arr_x = np.nanmean(np.nanmean(img_arr, axis=0), axis=0)\n",
      "/home/natalia/Documents/github_image_analysis/image_analysis/image_analysis/fit/regionprops.py:28: RuntimeWarning: Mean of empty slice\n",
      "  img_arr_y = np.nanmean(np.nanmean(img_arr, axis=0), axis=1)\n",
      "/home/natalia/Documents/github_image_analysis/image_analysis/image_analysis/fit/regionprops.py:31: RuntimeWarning: Mean of empty slice\n",
      "  img_arr_z = np.nanmean(np.nanmean(img_arr, axis=1), axis=1)\n"
     ]
    },
    {
     "name": "stdout",
     "output_type": "stream",
     "text": [
      "rotation around x:\n",
      "3.613880752003559 0 0\n",
      "dictionary, with 3d data\n",
      "dictionary, with 3d data\n",
      "rotation around y:\n",
      "0 0 7.513621106618672\n",
      "dictionary, with 3d data\n",
      "dictionary, with 3d data\n",
      "angle beetween ey and sf: -5\n"
     ]
    },
    {
     "name": "stderr",
     "output_type": "stream",
     "text": [
      "/home/natalia/Documents/github_image_analysis/image_analysis/image_analysis/fit/regionprops.py:25: RuntimeWarning: Mean of empty slice\n",
      "  img_arr_x = np.nanmean(np.nanmean(img_arr, axis=0), axis=0)\n",
      "/home/natalia/Documents/github_image_analysis/image_analysis/image_analysis/fit/regionprops.py:28: RuntimeWarning: Mean of empty slice\n",
      "  img_arr_y = np.nanmean(np.nanmean(img_arr, axis=0), axis=1)\n",
      "/home/natalia/Documents/github_image_analysis/image_analysis/image_analysis/fit/regionprops.py:31: RuntimeWarning: Mean of empty slice\n",
      "  img_arr_z = np.nanmean(np.nanmean(img_arr, axis=1), axis=1)\n"
     ]
    },
    {
     "name": "stdout",
     "output_type": "stream",
     "text": [
      "rotation around x:\n",
      "11.469530332866935 0 0\n",
      "dictionary, with 3d data\n",
      "dictionary, with 3d data\n",
      "rotation around y:\n",
      "0 0 -3.518547139118084\n",
      "dictionary, with 3d data\n",
      "dictionary, with 3d data\n",
      "angle beetween ey and sf: -3\n"
     ]
    },
    {
     "name": "stderr",
     "output_type": "stream",
     "text": [
      "/home/natalia/Documents/github_image_analysis/image_analysis/image_analysis/fit/regionprops.py:25: RuntimeWarning: Mean of empty slice\n",
      "  img_arr_x = np.nanmean(np.nanmean(img_arr, axis=0), axis=0)\n",
      "/home/natalia/Documents/github_image_analysis/image_analysis/image_analysis/fit/regionprops.py:28: RuntimeWarning: Mean of empty slice\n",
      "  img_arr_y = np.nanmean(np.nanmean(img_arr, axis=0), axis=1)\n",
      "/home/natalia/Documents/github_image_analysis/image_analysis/image_analysis/fit/regionprops.py:31: RuntimeWarning: Mean of empty slice\n",
      "  img_arr_z = np.nanmean(np.nanmean(img_arr, axis=1), axis=1)\n"
     ]
    },
    {
     "name": "stdout",
     "output_type": "stream",
     "text": [
      "rotation around x:\n",
      "12.778733188406045 0 0\n",
      "dictionary, with 3d data\n",
      "dictionary, with 3d data\n",
      "rotation around y:\n",
      "0 0 -7.536970282539471\n",
      "dictionary, with 3d data\n",
      "dictionary, with 3d data\n",
      "strange rotation\n",
      "angle beetween ey and sf: -7\n"
     ]
    },
    {
     "name": "stderr",
     "output_type": "stream",
     "text": [
      "/home/natalia/Documents/github_image_analysis/image_analysis/image_analysis/fit/regionprops.py:25: RuntimeWarning: Mean of empty slice\n",
      "  img_arr_x = np.nanmean(np.nanmean(img_arr, axis=0), axis=0)\n",
      "/home/natalia/Documents/github_image_analysis/image_analysis/image_analysis/fit/regionprops.py:28: RuntimeWarning: Mean of empty slice\n",
      "  img_arr_y = np.nanmean(np.nanmean(img_arr, axis=0), axis=1)\n",
      "/home/natalia/Documents/github_image_analysis/image_analysis/image_analysis/fit/regionprops.py:31: RuntimeWarning: Mean of empty slice\n",
      "  img_arr_z = np.nanmean(np.nanmean(img_arr, axis=1), axis=1)\n"
     ]
    },
    {
     "name": "stdout",
     "output_type": "stream",
     "text": [
      "rotation around x:\n",
      "20.973493421320782 0 0\n",
      "dictionary, with 3d data\n",
      "dictionary, with 3d data\n",
      "rotation around y:\n",
      "0 0 -3.543051402425192\n",
      "dictionary, with 3d data\n",
      "dictionary, with 3d data\n",
      "angle beetween ey and sf: -2\n"
     ]
    },
    {
     "name": "stderr",
     "output_type": "stream",
     "text": [
      "51it [14:06, 48.83s/it]/home/natalia/Documents/github_image_analysis/image_analysis/image_analysis/fit/regionprops.py:25: RuntimeWarning: Mean of empty slice\n",
      "  img_arr_x = np.nanmean(np.nanmean(img_arr, axis=0), axis=0)\n",
      "/home/natalia/Documents/github_image_analysis/image_analysis/image_analysis/fit/regionprops.py:28: RuntimeWarning: Mean of empty slice\n",
      "  img_arr_y = np.nanmean(np.nanmean(img_arr, axis=0), axis=1)\n",
      "/home/natalia/Documents/github_image_analysis/image_analysis/image_analysis/fit/regionprops.py:31: RuntimeWarning: Mean of empty slice\n",
      "  img_arr_z = np.nanmean(np.nanmean(img_arr, axis=1), axis=1)\n"
     ]
    },
    {
     "name": "stdout",
     "output_type": "stream",
     "text": [
      "rotation around x:\n",
      "-34.11447294534128 0 0\n",
      "dictionary, with 3d data\n",
      "dictionary, with 3d data\n",
      "rotation around y:\n",
      "0 0 76.96372935042695\n",
      "dictionary, with 3d data\n",
      "dictionary, with 3d data\n",
      "strange rotation\n",
      "angle beetween ey and sf: -8\n"
     ]
    },
    {
     "name": "stderr",
     "output_type": "stream",
     "text": [
      "/home/natalia/Documents/github_image_analysis/image_analysis/image_analysis/fit/regionprops.py:25: RuntimeWarning: Mean of empty slice\n",
      "  img_arr_x = np.nanmean(np.nanmean(img_arr, axis=0), axis=0)\n",
      "/home/natalia/Documents/github_image_analysis/image_analysis/image_analysis/fit/regionprops.py:28: RuntimeWarning: Mean of empty slice\n",
      "  img_arr_y = np.nanmean(np.nanmean(img_arr, axis=0), axis=1)\n",
      "/home/natalia/Documents/github_image_analysis/image_analysis/image_analysis/fit/regionprops.py:31: RuntimeWarning: Mean of empty slice\n",
      "  img_arr_z = np.nanmean(np.nanmean(img_arr, axis=1), axis=1)\n"
     ]
    },
    {
     "name": "stdout",
     "output_type": "stream",
     "text": [
      "rotation around x:\n",
      "-7.650650955359396 0 0\n",
      "dictionary, with 3d data\n",
      "dictionary, with 3d data\n",
      "rotation around y:\n",
      "0 0 70.4405355776871\n",
      "dictionary, with 3d data\n",
      "dictionary, with 3d data\n",
      "angle beetween ey and sf: -3\n"
     ]
    },
    {
     "name": "stderr",
     "output_type": "stream",
     "text": [
      "/home/natalia/Documents/github_image_analysis/image_analysis/image_analysis/fit/regionprops.py:25: RuntimeWarning: Mean of empty slice\n",
      "  img_arr_x = np.nanmean(np.nanmean(img_arr, axis=0), axis=0)\n",
      "/home/natalia/Documents/github_image_analysis/image_analysis/image_analysis/fit/regionprops.py:28: RuntimeWarning: Mean of empty slice\n",
      "  img_arr_y = np.nanmean(np.nanmean(img_arr, axis=0), axis=1)\n",
      "/home/natalia/Documents/github_image_analysis/image_analysis/image_analysis/fit/regionprops.py:31: RuntimeWarning: Mean of empty slice\n",
      "  img_arr_z = np.nanmean(np.nanmean(img_arr, axis=1), axis=1)\n"
     ]
    },
    {
     "name": "stdout",
     "output_type": "stream",
     "text": [
      "rotation around x:\n",
      "11.16488017754861 0 0\n",
      "dictionary, with 3d data\n",
      "dictionary, with 3d data\n",
      "rotation around y:\n",
      "0 0 66.94075750792643\n",
      "dictionary, with 3d data\n",
      "dictionary, with 3d data\n",
      "angle beetween ey and sf: 1\n"
     ]
    },
    {
     "name": "stderr",
     "output_type": "stream",
     "text": [
      "/home/natalia/Documents/github_image_analysis/image_analysis/image_analysis/fit/regionprops.py:25: RuntimeWarning: Mean of empty slice\n",
      "  img_arr_x = np.nanmean(np.nanmean(img_arr, axis=0), axis=0)\n",
      "/home/natalia/Documents/github_image_analysis/image_analysis/image_analysis/fit/regionprops.py:28: RuntimeWarning: Mean of empty slice\n",
      "  img_arr_y = np.nanmean(np.nanmean(img_arr, axis=0), axis=1)\n",
      "/home/natalia/Documents/github_image_analysis/image_analysis/image_analysis/fit/regionprops.py:31: RuntimeWarning: Mean of empty slice\n",
      "  img_arr_z = np.nanmean(np.nanmean(img_arr, axis=1), axis=1)\n"
     ]
    },
    {
     "name": "stdout",
     "output_type": "stream",
     "text": [
      "rotation around x:\n",
      "12.824398102235136 0 0\n",
      "dictionary, with 3d data\n",
      "dictionary, with 3d data\n",
      "rotation around y:\n",
      "0 0 59.920542008703734\n",
      "dictionary, with 3d data\n",
      "dictionary, with 3d data\n",
      "angle beetween ey and sf: -1\n"
     ]
    },
    {
     "name": "stderr",
     "output_type": "stream",
     "text": [
      "/home/natalia/Documents/github_image_analysis/image_analysis/image_analysis/fit/regionprops.py:25: RuntimeWarning: Mean of empty slice\n",
      "  img_arr_x = np.nanmean(np.nanmean(img_arr, axis=0), axis=0)\n",
      "/home/natalia/Documents/github_image_analysis/image_analysis/image_analysis/fit/regionprops.py:28: RuntimeWarning: Mean of empty slice\n",
      "  img_arr_y = np.nanmean(np.nanmean(img_arr, axis=0), axis=1)\n",
      "/home/natalia/Documents/github_image_analysis/image_analysis/image_analysis/fit/regionprops.py:31: RuntimeWarning: Mean of empty slice\n",
      "  img_arr_z = np.nanmean(np.nanmean(img_arr, axis=1), axis=1)\n"
     ]
    },
    {
     "name": "stdout",
     "output_type": "stream",
     "text": [
      "rotation around x:\n",
      "25.050977816442867 0 0\n",
      "dictionary, with 3d data\n",
      "dictionary, with 3d data\n",
      "rotation around y:\n",
      "0 0 32.63779683254838\n",
      "dictionary, with 3d data\n",
      "dictionary, with 3d data\n",
      "strange rotation\n",
      "angle beetween ey and sf: 6\n"
     ]
    },
    {
     "name": "stderr",
     "output_type": "stream",
     "text": [
      "52it [14:42, 45.03s/it]/home/natalia/Documents/github_image_analysis/image_analysis/image_analysis/fit/regionprops.py:25: RuntimeWarning: Mean of empty slice\n",
      "  img_arr_x = np.nanmean(np.nanmean(img_arr, axis=0), axis=0)\n",
      "/home/natalia/Documents/github_image_analysis/image_analysis/image_analysis/fit/regionprops.py:28: RuntimeWarning: Mean of empty slice\n",
      "  img_arr_y = np.nanmean(np.nanmean(img_arr, axis=0), axis=1)\n",
      "/home/natalia/Documents/github_image_analysis/image_analysis/image_analysis/fit/regionprops.py:31: RuntimeWarning: Mean of empty slice\n",
      "  img_arr_z = np.nanmean(np.nanmean(img_arr, axis=1), axis=1)\n"
     ]
    },
    {
     "name": "stdout",
     "output_type": "stream",
     "text": [
      "rotation around x:\n",
      "-10.713123022791052 0 0\n",
      "dictionary, with 3d data\n",
      "dictionary, with 3d data\n",
      "rotation around y:\n",
      "0 0 56.315669749531104\n",
      "dictionary, with 3d data\n",
      "dictionary, with 3d data\n",
      "angle beetween ey and sf: -2\n"
     ]
    },
    {
     "name": "stderr",
     "output_type": "stream",
     "text": [
      "/home/natalia/Documents/github_image_analysis/image_analysis/image_analysis/fit/regionprops.py:25: RuntimeWarning: Mean of empty slice\n",
      "  img_arr_x = np.nanmean(np.nanmean(img_arr, axis=0), axis=0)\n",
      "/home/natalia/Documents/github_image_analysis/image_analysis/image_analysis/fit/regionprops.py:28: RuntimeWarning: Mean of empty slice\n",
      "  img_arr_y = np.nanmean(np.nanmean(img_arr, axis=0), axis=1)\n",
      "/home/natalia/Documents/github_image_analysis/image_analysis/image_analysis/fit/regionprops.py:31: RuntimeWarning: Mean of empty slice\n",
      "  img_arr_z = np.nanmean(np.nanmean(img_arr, axis=1), axis=1)\n"
     ]
    },
    {
     "name": "stdout",
     "output_type": "stream",
     "text": [
      "rotation around x:\n",
      "-81.6341138759674 0 0\n",
      "dictionary, with 3d data\n",
      "dictionary, with 3d data\n",
      "rotation around y:\n",
      "0 0 82.6768271009464\n",
      "dictionary, with 3d data\n",
      "dictionary, with 3d data\n",
      "angle beetween ey and sf: -1\n"
     ]
    },
    {
     "name": "stderr",
     "output_type": "stream",
     "text": [
      "/home/natalia/Documents/github_image_analysis/image_analysis/image_analysis/fit/regionprops.py:25: RuntimeWarning: Mean of empty slice\n",
      "  img_arr_x = np.nanmean(np.nanmean(img_arr, axis=0), axis=0)\n",
      "/home/natalia/Documents/github_image_analysis/image_analysis/image_analysis/fit/regionprops.py:28: RuntimeWarning: Mean of empty slice\n",
      "  img_arr_y = np.nanmean(np.nanmean(img_arr, axis=0), axis=1)\n",
      "/home/natalia/Documents/github_image_analysis/image_analysis/image_analysis/fit/regionprops.py:31: RuntimeWarning: Mean of empty slice\n",
      "  img_arr_z = np.nanmean(np.nanmean(img_arr, axis=1), axis=1)\n"
     ]
    },
    {
     "name": "stdout",
     "output_type": "stream",
     "text": [
      "rotation around x:\n",
      "-62.65012421993012 0 0\n",
      "dictionary, with 3d data\n",
      "dictionary, with 3d data\n",
      "rotation around y:\n",
      "0 0 82.30394827798342\n",
      "dictionary, with 3d data\n",
      "dictionary, with 3d data\n",
      "angle beetween ey and sf: 0\n"
     ]
    },
    {
     "name": "stderr",
     "output_type": "stream",
     "text": [
      "/home/natalia/Documents/github_image_analysis/image_analysis/image_analysis/fit/regionprops.py:25: RuntimeWarning: Mean of empty slice\n",
      "  img_arr_x = np.nanmean(np.nanmean(img_arr, axis=0), axis=0)\n",
      "/home/natalia/Documents/github_image_analysis/image_analysis/image_analysis/fit/regionprops.py:28: RuntimeWarning: Mean of empty slice\n",
      "  img_arr_y = np.nanmean(np.nanmean(img_arr, axis=0), axis=1)\n",
      "/home/natalia/Documents/github_image_analysis/image_analysis/image_analysis/fit/regionprops.py:31: RuntimeWarning: Mean of empty slice\n",
      "  img_arr_z = np.nanmean(np.nanmean(img_arr, axis=1), axis=1)\n"
     ]
    },
    {
     "name": "stdout",
     "output_type": "stream",
     "text": [
      "rotation around x:\n",
      "-78.69006752597979 0 0\n",
      "dictionary, with 3d data\n",
      "dictionary, with 3d data\n",
      "rotation around y:\n",
      "0 0 84.95083353241714\n",
      "dictionary, with 3d data\n",
      "dictionary, with 3d data\n",
      "angle beetween ey and sf: 1\n"
     ]
    },
    {
     "name": "stderr",
     "output_type": "stream",
     "text": [
      "/home/natalia/Documents/github_image_analysis/image_analysis/image_analysis/fit/regionprops.py:25: RuntimeWarning: Mean of empty slice\n",
      "  img_arr_x = np.nanmean(np.nanmean(img_arr, axis=0), axis=0)\n",
      "/home/natalia/Documents/github_image_analysis/image_analysis/image_analysis/fit/regionprops.py:28: RuntimeWarning: Mean of empty slice\n",
      "  img_arr_y = np.nanmean(np.nanmean(img_arr, axis=0), axis=1)\n",
      "/home/natalia/Documents/github_image_analysis/image_analysis/image_analysis/fit/regionprops.py:31: RuntimeWarning: Mean of empty slice\n",
      "  img_arr_z = np.nanmean(np.nanmean(img_arr, axis=1), axis=1)\n"
     ]
    },
    {
     "name": "stdout",
     "output_type": "stream",
     "text": [
      "rotation around x:\n",
      "43.53119928561417 0 0\n",
      "dictionary, with 3d data\n",
      "dictionary, with 3d data\n",
      "rotation around y:\n",
      "0 0 -80.542835353769\n",
      "dictionary, with 3d data\n",
      "dictionary, with 3d data\n",
      "angle beetween ey and sf: 2\n"
     ]
    },
    {
     "name": "stderr",
     "output_type": "stream",
     "text": [
      "53it [15:41, 49.18s/it]/home/natalia/Documents/github_image_analysis/image_analysis/image_analysis/fit/regionprops.py:25: RuntimeWarning: Mean of empty slice\n",
      "  img_arr_x = np.nanmean(np.nanmean(img_arr, axis=0), axis=0)\n",
      "/home/natalia/Documents/github_image_analysis/image_analysis/image_analysis/fit/regionprops.py:28: RuntimeWarning: Mean of empty slice\n",
      "  img_arr_y = np.nanmean(np.nanmean(img_arr, axis=0), axis=1)\n",
      "/home/natalia/Documents/github_image_analysis/image_analysis/image_analysis/fit/regionprops.py:31: RuntimeWarning: Mean of empty slice\n",
      "  img_arr_z = np.nanmean(np.nanmean(img_arr, axis=1), axis=1)\n"
     ]
    },
    {
     "name": "stdout",
     "output_type": "stream",
     "text": [
      "rotation around x:\n",
      "2.77021579720017 0 0\n",
      "dictionary, with 3d data\n",
      "dictionary, with 3d data\n",
      "rotation around y:\n",
      "0 0 -61.78264414527068\n",
      "dictionary, with 3d data\n",
      "dictionary, with 3d data\n",
      "angle beetween ey and sf: 5\n"
     ]
    },
    {
     "name": "stderr",
     "output_type": "stream",
     "text": [
      "/home/natalia/Documents/github_image_analysis/image_analysis/image_analysis/fit/regionprops.py:25: RuntimeWarning: Mean of empty slice\n",
      "  img_arr_x = np.nanmean(np.nanmean(img_arr, axis=0), axis=0)\n",
      "/home/natalia/Documents/github_image_analysis/image_analysis/image_analysis/fit/regionprops.py:28: RuntimeWarning: Mean of empty slice\n",
      "  img_arr_y = np.nanmean(np.nanmean(img_arr, axis=0), axis=1)\n",
      "/home/natalia/Documents/github_image_analysis/image_analysis/image_analysis/fit/regionprops.py:31: RuntimeWarning: Mean of empty slice\n",
      "  img_arr_z = np.nanmean(np.nanmean(img_arr, axis=1), axis=1)\n"
     ]
    },
    {
     "name": "stdout",
     "output_type": "stream",
     "text": [
      "rotation around x:\n",
      "5.7105931374996315 0 0\n",
      "dictionary, with 3d data\n",
      "dictionary, with 3d data\n",
      "rotation around y:\n",
      "0 0 -50.93072012431736\n",
      "dictionary, with 3d data\n",
      "dictionary, with 3d data\n",
      "angle beetween ey and sf: -2\n"
     ]
    },
    {
     "name": "stderr",
     "output_type": "stream",
     "text": [
      "/home/natalia/Documents/github_image_analysis/image_analysis/image_analysis/fit/regionprops.py:25: RuntimeWarning: Mean of empty slice\n",
      "  img_arr_x = np.nanmean(np.nanmean(img_arr, axis=0), axis=0)\n",
      "/home/natalia/Documents/github_image_analysis/image_analysis/image_analysis/fit/regionprops.py:28: RuntimeWarning: Mean of empty slice\n",
      "  img_arr_y = np.nanmean(np.nanmean(img_arr, axis=0), axis=1)\n",
      "/home/natalia/Documents/github_image_analysis/image_analysis/image_analysis/fit/regionprops.py:31: RuntimeWarning: Mean of empty slice\n",
      "  img_arr_z = np.nanmean(np.nanmean(img_arr, axis=1), axis=1)\n"
     ]
    },
    {
     "name": "stdout",
     "output_type": "stream",
     "text": [
      "rotation around x:\n",
      "6.2192296887911285 0 0\n",
      "dictionary, with 3d data\n",
      "dictionary, with 3d data\n",
      "rotation around y:\n",
      "0 0 -51.44991345457575\n",
      "dictionary, with 3d data\n",
      "dictionary, with 3d data\n",
      "angle beetween ey and sf: -1\n"
     ]
    },
    {
     "name": "stderr",
     "output_type": "stream",
     "text": [
      "/home/natalia/Documents/github_image_analysis/image_analysis/image_analysis/fit/regionprops.py:25: RuntimeWarning: Mean of empty slice\n",
      "  img_arr_x = np.nanmean(np.nanmean(img_arr, axis=0), axis=0)\n",
      "/home/natalia/Documents/github_image_analysis/image_analysis/image_analysis/fit/regionprops.py:28: RuntimeWarning: Mean of empty slice\n",
      "  img_arr_y = np.nanmean(np.nanmean(img_arr, axis=0), axis=1)\n",
      "/home/natalia/Documents/github_image_analysis/image_analysis/image_analysis/fit/regionprops.py:31: RuntimeWarning: Mean of empty slice\n",
      "  img_arr_z = np.nanmean(np.nanmean(img_arr, axis=1), axis=1)\n"
     ]
    },
    {
     "name": "stdout",
     "output_type": "stream",
     "text": [
      "rotation around x:\n",
      "7.495857639729885 0 0\n",
      "dictionary, with 3d data\n",
      "dictionary, with 3d data\n",
      "rotation around y:\n",
      "0 0 -53.08588299926245\n",
      "dictionary, with 3d data\n",
      "dictionary, with 3d data\n",
      "angle beetween ey and sf: -2\n"
     ]
    },
    {
     "name": "stderr",
     "output_type": "stream",
     "text": [
      "/home/natalia/Documents/github_image_analysis/image_analysis/image_analysis/fit/regionprops.py:25: RuntimeWarning: Mean of empty slice\n",
      "  img_arr_x = np.nanmean(np.nanmean(img_arr, axis=0), axis=0)\n",
      "/home/natalia/Documents/github_image_analysis/image_analysis/image_analysis/fit/regionprops.py:28: RuntimeWarning: Mean of empty slice\n",
      "  img_arr_y = np.nanmean(np.nanmean(img_arr, axis=0), axis=1)\n",
      "/home/natalia/Documents/github_image_analysis/image_analysis/image_analysis/fit/regionprops.py:31: RuntimeWarning: Mean of empty slice\n",
      "  img_arr_z = np.nanmean(np.nanmean(img_arr, axis=1), axis=1)\n"
     ]
    },
    {
     "name": "stdout",
     "output_type": "stream",
     "text": [
      "rotation around x:\n",
      "12.52880770915149 0 0\n",
      "dictionary, with 3d data\n",
      "dictionary, with 3d data\n",
      "rotation around y:\n",
      "0 0 -53.313889308454534\n",
      "dictionary, with 3d data\n",
      "dictionary, with 3d data\n",
      "angle beetween ey and sf: -2\n"
     ]
    },
    {
     "name": "stderr",
     "output_type": "stream",
     "text": [
      "54it [16:08, 42.51s/it]/home/natalia/Documents/github_image_analysis/image_analysis/image_analysis/fit/regionprops.py:25: RuntimeWarning: Mean of empty slice\n",
      "  img_arr_x = np.nanmean(np.nanmean(img_arr, axis=0), axis=0)\n",
      "/home/natalia/Documents/github_image_analysis/image_analysis/image_analysis/fit/regionprops.py:28: RuntimeWarning: Mean of empty slice\n",
      "  img_arr_y = np.nanmean(np.nanmean(img_arr, axis=0), axis=1)\n",
      "/home/natalia/Documents/github_image_analysis/image_analysis/image_analysis/fit/regionprops.py:31: RuntimeWarning: Mean of empty slice\n",
      "  img_arr_z = np.nanmean(np.nanmean(img_arr, axis=1), axis=1)\n"
     ]
    },
    {
     "name": "stdout",
     "output_type": "stream",
     "text": [
      "rotation around x:\n",
      "-30.291696100317267 0 0\n",
      "dictionary, with 3d data\n",
      "dictionary, with 3d data\n",
      "rotation around y:\n",
      "0 0 60.00385981857744\n",
      "dictionary, with 3d data\n",
      "dictionary, with 3d data\n",
      "angle beetween ey and sf: 5\n"
     ]
    },
    {
     "name": "stderr",
     "output_type": "stream",
     "text": [
      "/home/natalia/Documents/github_image_analysis/image_analysis/image_analysis/fit/regionprops.py:25: RuntimeWarning: Mean of empty slice\n",
      "  img_arr_x = np.nanmean(np.nanmean(img_arr, axis=0), axis=0)\n",
      "/home/natalia/Documents/github_image_analysis/image_analysis/image_analysis/fit/regionprops.py:28: RuntimeWarning: Mean of empty slice\n",
      "  img_arr_y = np.nanmean(np.nanmean(img_arr, axis=0), axis=1)\n",
      "/home/natalia/Documents/github_image_analysis/image_analysis/image_analysis/fit/regionprops.py:31: RuntimeWarning: Mean of empty slice\n",
      "  img_arr_z = np.nanmean(np.nanmean(img_arr, axis=1), axis=1)\n"
     ]
    },
    {
     "name": "stdout",
     "output_type": "stream",
     "text": [
      "rotation around x:\n",
      "-35.06590252964344 0 0\n",
      "dictionary, with 3d data\n",
      "dictionary, with 3d data\n",
      "rotation around y:\n",
      "0 0 62.31387900900742\n",
      "dictionary, with 3d data\n",
      "dictionary, with 3d data\n",
      "angle beetween ey and sf: 3\n"
     ]
    },
    {
     "name": "stderr",
     "output_type": "stream",
     "text": [
      "/home/natalia/Documents/github_image_analysis/image_analysis/image_analysis/fit/regionprops.py:25: RuntimeWarning: Mean of empty slice\n",
      "  img_arr_x = np.nanmean(np.nanmean(img_arr, axis=0), axis=0)\n",
      "/home/natalia/Documents/github_image_analysis/image_analysis/image_analysis/fit/regionprops.py:28: RuntimeWarning: Mean of empty slice\n",
      "  img_arr_y = np.nanmean(np.nanmean(img_arr, axis=0), axis=1)\n",
      "/home/natalia/Documents/github_image_analysis/image_analysis/image_analysis/fit/regionprops.py:31: RuntimeWarning: Mean of empty slice\n",
      "  img_arr_z = np.nanmean(np.nanmean(img_arr, axis=1), axis=1)\n"
     ]
    },
    {
     "name": "stdout",
     "output_type": "stream",
     "text": [
      "rotation around x:\n",
      "-35.89737751170807 0 0\n",
      "dictionary, with 3d data\n",
      "dictionary, with 3d data\n",
      "rotation around y:\n",
      "0 0 60.66168982552065\n",
      "dictionary, with 3d data\n",
      "dictionary, with 3d data\n",
      "angle beetween ey and sf: 5\n"
     ]
    },
    {
     "name": "stderr",
     "output_type": "stream",
     "text": [
      "/home/natalia/Documents/github_image_analysis/image_analysis/image_analysis/fit/regionprops.py:25: RuntimeWarning: Mean of empty slice\n",
      "  img_arr_x = np.nanmean(np.nanmean(img_arr, axis=0), axis=0)\n",
      "/home/natalia/Documents/github_image_analysis/image_analysis/image_analysis/fit/regionprops.py:28: RuntimeWarning: Mean of empty slice\n",
      "  img_arr_y = np.nanmean(np.nanmean(img_arr, axis=0), axis=1)\n",
      "/home/natalia/Documents/github_image_analysis/image_analysis/image_analysis/fit/regionprops.py:31: RuntimeWarning: Mean of empty slice\n",
      "  img_arr_z = np.nanmean(np.nanmean(img_arr, axis=1), axis=1)\n"
     ]
    },
    {
     "name": "stdout",
     "output_type": "stream",
     "text": [
      "rotation around x:\n",
      "-35.72739822279968 0 0\n",
      "dictionary, with 3d data\n",
      "dictionary, with 3d data\n",
      "rotation around y:\n",
      "0 0 55.63277329004399\n",
      "dictionary, with 3d data\n",
      "dictionary, with 3d data\n",
      "angle beetween ey and sf: 5\n"
     ]
    },
    {
     "name": "stderr",
     "output_type": "stream",
     "text": [
      "/home/natalia/Documents/github_image_analysis/image_analysis/image_analysis/fit/regionprops.py:25: RuntimeWarning: Mean of empty slice\n",
      "  img_arr_x = np.nanmean(np.nanmean(img_arr, axis=0), axis=0)\n",
      "/home/natalia/Documents/github_image_analysis/image_analysis/image_analysis/fit/regionprops.py:28: RuntimeWarning: Mean of empty slice\n",
      "  img_arr_y = np.nanmean(np.nanmean(img_arr, axis=0), axis=1)\n",
      "/home/natalia/Documents/github_image_analysis/image_analysis/image_analysis/fit/regionprops.py:31: RuntimeWarning: Mean of empty slice\n",
      "  img_arr_z = np.nanmean(np.nanmean(img_arr, axis=1), axis=1)\n"
     ]
    },
    {
     "name": "stdout",
     "output_type": "stream",
     "text": [
      "rotation around x:\n",
      "-38.86274405073803 0 0\n",
      "dictionary, with 3d data\n",
      "dictionary, with 3d data\n",
      "rotation around y:\n",
      "0 0 57.28454563864981\n",
      "dictionary, with 3d data\n",
      "dictionary, with 3d data\n",
      "angle beetween ey and sf: 2\n"
     ]
    },
    {
     "name": "stderr",
     "output_type": "stream",
     "text": [
      "55it [16:46, 41.22s/it]/home/natalia/Documents/github_image_analysis/image_analysis/image_analysis/fit/regionprops.py:25: RuntimeWarning: Mean of empty slice\n",
      "  img_arr_x = np.nanmean(np.nanmean(img_arr, axis=0), axis=0)\n",
      "/home/natalia/Documents/github_image_analysis/image_analysis/image_analysis/fit/regionprops.py:28: RuntimeWarning: Mean of empty slice\n",
      "  img_arr_y = np.nanmean(np.nanmean(img_arr, axis=0), axis=1)\n",
      "/home/natalia/Documents/github_image_analysis/image_analysis/image_analysis/fit/regionprops.py:31: RuntimeWarning: Mean of empty slice\n",
      "  img_arr_z = np.nanmean(np.nanmean(img_arr, axis=1), axis=1)\n"
     ]
    },
    {
     "name": "stdout",
     "output_type": "stream",
     "text": [
      "rotation around x:\n",
      "-72.89727103094764 0 0\n",
      "dictionary, with 3d data\n",
      "dictionary, with 3d data\n",
      "rotation around y:\n",
      "0 0 79.58454635700518\n",
      "dictionary, with 3d data\n",
      "dictionary, with 3d data\n",
      "angle beetween ey and sf: -5\n"
     ]
    },
    {
     "name": "stderr",
     "output_type": "stream",
     "text": [
      "/home/natalia/Documents/github_image_analysis/image_analysis/image_analysis/fit/regionprops.py:25: RuntimeWarning: Mean of empty slice\n",
      "  img_arr_x = np.nanmean(np.nanmean(img_arr, axis=0), axis=0)\n",
      "/home/natalia/Documents/github_image_analysis/image_analysis/image_analysis/fit/regionprops.py:28: RuntimeWarning: Mean of empty slice\n",
      "  img_arr_y = np.nanmean(np.nanmean(img_arr, axis=0), axis=1)\n",
      "/home/natalia/Documents/github_image_analysis/image_analysis/image_analysis/fit/regionprops.py:31: RuntimeWarning: Mean of empty slice\n",
      "  img_arr_z = np.nanmean(np.nanmean(img_arr, axis=1), axis=1)\n"
     ]
    },
    {
     "name": "stdout",
     "output_type": "stream",
     "text": [
      "rotation around x:\n",
      "-68.96248897457818 0 0\n",
      "dictionary, with 3d data\n",
      "dictionary, with 3d data\n",
      "rotation around y:\n",
      "0 0 78.37731275910184\n",
      "dictionary, with 3d data\n",
      "dictionary, with 3d data\n",
      "angle beetween ey and sf: -4\n"
     ]
    },
    {
     "name": "stderr",
     "output_type": "stream",
     "text": [
      "/home/natalia/Documents/github_image_analysis/image_analysis/image_analysis/fit/regionprops.py:25: RuntimeWarning: Mean of empty slice\n",
      "  img_arr_x = np.nanmean(np.nanmean(img_arr, axis=0), axis=0)\n",
      "/home/natalia/Documents/github_image_analysis/image_analysis/image_analysis/fit/regionprops.py:28: RuntimeWarning: Mean of empty slice\n",
      "  img_arr_y = np.nanmean(np.nanmean(img_arr, axis=0), axis=1)\n",
      "/home/natalia/Documents/github_image_analysis/image_analysis/image_analysis/fit/regionprops.py:31: RuntimeWarning: Mean of empty slice\n",
      "  img_arr_z = np.nanmean(np.nanmean(img_arr, axis=1), axis=1)\n"
     ]
    },
    {
     "name": "stdout",
     "output_type": "stream",
     "text": [
      "rotation around x:\n",
      "-41.49646835521554 0 0\n",
      "dictionary, with 3d data\n",
      "dictionary, with 3d data\n",
      "rotation around y:\n",
      "0 0 79.23185543889215\n",
      "dictionary, with 3d data\n",
      "dictionary, with 3d data\n",
      "angle beetween ey and sf: -1\n"
     ]
    },
    {
     "name": "stderr",
     "output_type": "stream",
     "text": [
      "/home/natalia/Documents/github_image_analysis/image_analysis/image_analysis/fit/regionprops.py:25: RuntimeWarning: Mean of empty slice\n",
      "  img_arr_x = np.nanmean(np.nanmean(img_arr, axis=0), axis=0)\n",
      "/home/natalia/Documents/github_image_analysis/image_analysis/image_analysis/fit/regionprops.py:28: RuntimeWarning: Mean of empty slice\n",
      "  img_arr_y = np.nanmean(np.nanmean(img_arr, axis=0), axis=1)\n",
      "/home/natalia/Documents/github_image_analysis/image_analysis/image_analysis/fit/regionprops.py:31: RuntimeWarning: Mean of empty slice\n",
      "  img_arr_z = np.nanmean(np.nanmean(img_arr, axis=1), axis=1)\n"
     ]
    },
    {
     "name": "stdout",
     "output_type": "stream",
     "text": [
      "rotation around x:\n",
      "15.642246457208728 0 0\n",
      "dictionary, with 3d data\n",
      "dictionary, with 3d data\n",
      "rotation around y:\n",
      "0 0 62.22009161968487\n",
      "dictionary, with 3d data\n",
      "dictionary, with 3d data\n",
      "angle beetween ey and sf: -3\n"
     ]
    },
    {
     "name": "stderr",
     "output_type": "stream",
     "text": [
      "/home/natalia/Documents/github_image_analysis/image_analysis/image_analysis/fit/regionprops.py:25: RuntimeWarning: Mean of empty slice\n",
      "  img_arr_x = np.nanmean(np.nanmean(img_arr, axis=0), axis=0)\n",
      "/home/natalia/Documents/github_image_analysis/image_analysis/image_analysis/fit/regionprops.py:28: RuntimeWarning: Mean of empty slice\n",
      "  img_arr_y = np.nanmean(np.nanmean(img_arr, axis=0), axis=1)\n",
      "/home/natalia/Documents/github_image_analysis/image_analysis/image_analysis/fit/regionprops.py:31: RuntimeWarning: Mean of empty slice\n",
      "  img_arr_z = np.nanmean(np.nanmean(img_arr, axis=1), axis=1)\n"
     ]
    },
    {
     "name": "stdout",
     "output_type": "stream",
     "text": [
      "rotation around x:\n",
      "15.851928154286924 0 0\n",
      "dictionary, with 3d data\n",
      "dictionary, with 3d data\n",
      "rotation around y:\n",
      "0 0 60.4675334588791\n",
      "dictionary, with 3d data\n",
      "dictionary, with 3d data\n",
      "angle beetween ey and sf: -3\n"
     ]
    },
    {
     "name": "stderr",
     "output_type": "stream",
     "text": [
      "56it [17:43, 45.93s/it]/home/natalia/Documents/github_image_analysis/image_analysis/image_analysis/fit/regionprops.py:25: RuntimeWarning: Mean of empty slice\n",
      "  img_arr_x = np.nanmean(np.nanmean(img_arr, axis=0), axis=0)\n",
      "/home/natalia/Documents/github_image_analysis/image_analysis/image_analysis/fit/regionprops.py:28: RuntimeWarning: Mean of empty slice\n",
      "  img_arr_y = np.nanmean(np.nanmean(img_arr, axis=0), axis=1)\n",
      "/home/natalia/Documents/github_image_analysis/image_analysis/image_analysis/fit/regionprops.py:31: RuntimeWarning: Mean of empty slice\n",
      "  img_arr_z = np.nanmean(np.nanmean(img_arr, axis=1), axis=1)\n"
     ]
    },
    {
     "name": "stdout",
     "output_type": "stream",
     "text": [
      "rotation around x:\n",
      "-6.340191745909948 0 0\n",
      "dictionary, with 3d data\n",
      "dictionary, with 3d data\n",
      "rotation around y:\n",
      "0 0 31.838189974107877\n",
      "dictionary, with 3d data\n",
      "dictionary, with 3d data\n",
      "strange rotation\n",
      "angle beetween ey and sf: 6\n"
     ]
    },
    {
     "name": "stderr",
     "output_type": "stream",
     "text": [
      "/home/natalia/Documents/github_image_analysis/image_analysis/image_analysis/fit/regionprops.py:25: RuntimeWarning: Mean of empty slice\n",
      "  img_arr_x = np.nanmean(np.nanmean(img_arr, axis=0), axis=0)\n",
      "/home/natalia/Documents/github_image_analysis/image_analysis/image_analysis/fit/regionprops.py:28: RuntimeWarning: Mean of empty slice\n",
      "  img_arr_y = np.nanmean(np.nanmean(img_arr, axis=0), axis=1)\n",
      "/home/natalia/Documents/github_image_analysis/image_analysis/image_analysis/fit/regionprops.py:31: RuntimeWarning: Mean of empty slice\n",
      "  img_arr_z = np.nanmean(np.nanmean(img_arr, axis=1), axis=1)\n"
     ]
    },
    {
     "name": "stdout",
     "output_type": "stream",
     "text": [
      "rotation around x:\n",
      "-6.540385828196634 0 0\n",
      "dictionary, with 3d data\n",
      "dictionary, with 3d data\n",
      "rotation around y:\n",
      "0 0 29.144417560839848\n",
      "dictionary, with 3d data\n",
      "dictionary, with 3d data\n",
      "angle beetween ey and sf: 0\n"
     ]
    },
    {
     "name": "stderr",
     "output_type": "stream",
     "text": [
      "/home/natalia/Documents/github_image_analysis/image_analysis/image_analysis/fit/regionprops.py:25: RuntimeWarning: Mean of empty slice\n",
      "  img_arr_x = np.nanmean(np.nanmean(img_arr, axis=0), axis=0)\n",
      "/home/natalia/Documents/github_image_analysis/image_analysis/image_analysis/fit/regionprops.py:28: RuntimeWarning: Mean of empty slice\n",
      "  img_arr_y = np.nanmean(np.nanmean(img_arr, axis=0), axis=1)\n",
      "/home/natalia/Documents/github_image_analysis/image_analysis/image_analysis/fit/regionprops.py:31: RuntimeWarning: Mean of empty slice\n",
      "  img_arr_z = np.nanmean(np.nanmean(img_arr, axis=1), axis=1)\n"
     ]
    },
    {
     "name": "stdout",
     "output_type": "stream",
     "text": [
      "rotation around x:\n",
      "-6.379248167613127 0 0\n",
      "dictionary, with 3d data\n",
      "dictionary, with 3d data\n",
      "rotation around y:\n",
      "0 0 31.015124142331402\n",
      "dictionary, with 3d data\n",
      "dictionary, with 3d data\n",
      "angle beetween ey and sf: 1\n"
     ]
    },
    {
     "name": "stderr",
     "output_type": "stream",
     "text": [
      "/home/natalia/Documents/github_image_analysis/image_analysis/image_analysis/fit/regionprops.py:25: RuntimeWarning: Mean of empty slice\n",
      "  img_arr_x = np.nanmean(np.nanmean(img_arr, axis=0), axis=0)\n",
      "/home/natalia/Documents/github_image_analysis/image_analysis/image_analysis/fit/regionprops.py:28: RuntimeWarning: Mean of empty slice\n",
      "  img_arr_y = np.nanmean(np.nanmean(img_arr, axis=0), axis=1)\n",
      "/home/natalia/Documents/github_image_analysis/image_analysis/image_analysis/fit/regionprops.py:31: RuntimeWarning: Mean of empty slice\n",
      "  img_arr_z = np.nanmean(np.nanmean(img_arr, axis=1), axis=1)\n"
     ]
    },
    {
     "name": "stdout",
     "output_type": "stream",
     "text": [
      "rotation around x:\n",
      "-7.8776996718668215 0 0\n",
      "dictionary, with 3d data\n",
      "dictionary, with 3d data\n",
      "rotation around y:\n",
      "0 0 34.08515885617736\n",
      "dictionary, with 3d data\n",
      "dictionary, with 3d data\n",
      "angle beetween ey and sf: 1\n"
     ]
    },
    {
     "name": "stderr",
     "output_type": "stream",
     "text": [
      "/home/natalia/Documents/github_image_analysis/image_analysis/image_analysis/fit/regionprops.py:25: RuntimeWarning: Mean of empty slice\n",
      "  img_arr_x = np.nanmean(np.nanmean(img_arr, axis=0), axis=0)\n",
      "/home/natalia/Documents/github_image_analysis/image_analysis/image_analysis/fit/regionprops.py:28: RuntimeWarning: Mean of empty slice\n",
      "  img_arr_y = np.nanmean(np.nanmean(img_arr, axis=0), axis=1)\n",
      "/home/natalia/Documents/github_image_analysis/image_analysis/image_analysis/fit/regionprops.py:31: RuntimeWarning: Mean of empty slice\n",
      "  img_arr_z = np.nanmean(np.nanmean(img_arr, axis=1), axis=1)\n"
     ]
    },
    {
     "name": "stdout",
     "output_type": "stream",
     "text": [
      "rotation around x:\n",
      "-8.901716032891983 0 0\n",
      "dictionary, with 3d data\n",
      "dictionary, with 3d data\n",
      "rotation around y:\n",
      "0 0 35.259928524205556\n",
      "dictionary, with 3d data\n",
      "dictionary, with 3d data\n",
      "angle beetween ey and sf: 2\n"
     ]
    },
    {
     "name": "stderr",
     "output_type": "stream",
     "text": [
      "57it [18:16, 42.00s/it]/home/natalia/Documents/github_image_analysis/image_analysis/image_analysis/fit/regionprops.py:25: RuntimeWarning: Mean of empty slice\n",
      "  img_arr_x = np.nanmean(np.nanmean(img_arr, axis=0), axis=0)\n",
      "/home/natalia/Documents/github_image_analysis/image_analysis/image_analysis/fit/regionprops.py:28: RuntimeWarning: Mean of empty slice\n",
      "  img_arr_y = np.nanmean(np.nanmean(img_arr, axis=0), axis=1)\n",
      "/home/natalia/Documents/github_image_analysis/image_analysis/image_analysis/fit/regionprops.py:31: RuntimeWarning: Mean of empty slice\n",
      "  img_arr_z = np.nanmean(np.nanmean(img_arr, axis=1), axis=1)\n"
     ]
    },
    {
     "name": "stdout",
     "output_type": "stream",
     "text": [
      "rotation around x:\n",
      "-88.02506598911802 0 0\n",
      "dictionary, with 3d data\n",
      "dictionary, with 3d data\n",
      "rotation around y:\n",
      "0 0 73.41213591551625\n",
      "dictionary, with 3d data\n",
      "dictionary, with 3d data\n",
      "angle beetween ey and sf: -2\n"
     ]
    },
    {
     "name": "stderr",
     "output_type": "stream",
     "text": [
      "/home/natalia/Documents/github_image_analysis/image_analysis/image_analysis/fit/regionprops.py:25: RuntimeWarning: Mean of empty slice\n",
      "  img_arr_x = np.nanmean(np.nanmean(img_arr, axis=0), axis=0)\n",
      "/home/natalia/Documents/github_image_analysis/image_analysis/image_analysis/fit/regionprops.py:28: RuntimeWarning: Mean of empty slice\n",
      "  img_arr_y = np.nanmean(np.nanmean(img_arr, axis=0), axis=1)\n",
      "/home/natalia/Documents/github_image_analysis/image_analysis/image_analysis/fit/regionprops.py:31: RuntimeWarning: Mean of empty slice\n",
      "  img_arr_z = np.nanmean(np.nanmean(img_arr, axis=1), axis=1)\n"
     ]
    },
    {
     "name": "stdout",
     "output_type": "stream",
     "text": [
      "rotation around x:\n",
      "-54.66866866108364 0 0\n",
      "dictionary, with 3d data\n",
      "dictionary, with 3d data\n",
      "rotation around y:\n",
      "0 0 73.92544104846905\n",
      "dictionary, with 3d data\n",
      "dictionary, with 3d data\n",
      "angle beetween ey and sf: -4\n"
     ]
    },
    {
     "name": "stderr",
     "output_type": "stream",
     "text": [
      "/home/natalia/Documents/github_image_analysis/image_analysis/image_analysis/fit/regionprops.py:25: RuntimeWarning: Mean of empty slice\n",
      "  img_arr_x = np.nanmean(np.nanmean(img_arr, axis=0), axis=0)\n",
      "/home/natalia/Documents/github_image_analysis/image_analysis/image_analysis/fit/regionprops.py:28: RuntimeWarning: Mean of empty slice\n",
      "  img_arr_y = np.nanmean(np.nanmean(img_arr, axis=0), axis=1)\n",
      "/home/natalia/Documents/github_image_analysis/image_analysis/image_analysis/fit/regionprops.py:31: RuntimeWarning: Mean of empty slice\n",
      "  img_arr_z = np.nanmean(np.nanmean(img_arr, axis=1), axis=1)\n"
     ]
    },
    {
     "name": "stdout",
     "output_type": "stream",
     "text": [
      "rotation around x:\n",
      "-45.84252426074042 0 0\n",
      "dictionary, with 3d data\n",
      "dictionary, with 3d data\n",
      "rotation around y:\n",
      "0 0 73.5749684414256\n",
      "dictionary, with 3d data\n",
      "dictionary, with 3d data\n",
      "angle beetween ey and sf: -3\n"
     ]
    },
    {
     "name": "stderr",
     "output_type": "stream",
     "text": [
      "/home/natalia/Documents/github_image_analysis/image_analysis/image_analysis/fit/regionprops.py:25: RuntimeWarning: Mean of empty slice\n",
      "  img_arr_x = np.nanmean(np.nanmean(img_arr, axis=0), axis=0)\n",
      "/home/natalia/Documents/github_image_analysis/image_analysis/image_analysis/fit/regionprops.py:28: RuntimeWarning: Mean of empty slice\n",
      "  img_arr_y = np.nanmean(np.nanmean(img_arr, axis=0), axis=1)\n",
      "/home/natalia/Documents/github_image_analysis/image_analysis/image_analysis/fit/regionprops.py:31: RuntimeWarning: Mean of empty slice\n",
      "  img_arr_z = np.nanmean(np.nanmean(img_arr, axis=1), axis=1)\n"
     ]
    },
    {
     "name": "stdout",
     "output_type": "stream",
     "text": [
      "rotation around x:\n",
      "-37.53480914387859 0 0\n",
      "dictionary, with 3d data\n",
      "dictionary, with 3d data\n",
      "rotation around y:\n",
      "0 0 73.00183006463506\n",
      "dictionary, with 3d data\n",
      "dictionary, with 3d data\n",
      "angle beetween ey and sf: -3\n"
     ]
    },
    {
     "name": "stderr",
     "output_type": "stream",
     "text": [
      "/home/natalia/Documents/github_image_analysis/image_analysis/image_analysis/fit/regionprops.py:25: RuntimeWarning: Mean of empty slice\n",
      "  img_arr_x = np.nanmean(np.nanmean(img_arr, axis=0), axis=0)\n",
      "/home/natalia/Documents/github_image_analysis/image_analysis/image_analysis/fit/regionprops.py:28: RuntimeWarning: Mean of empty slice\n",
      "  img_arr_y = np.nanmean(np.nanmean(img_arr, axis=0), axis=1)\n",
      "/home/natalia/Documents/github_image_analysis/image_analysis/image_analysis/fit/regionprops.py:31: RuntimeWarning: Mean of empty slice\n",
      "  img_arr_z = np.nanmean(np.nanmean(img_arr, axis=1), axis=1)\n"
     ]
    },
    {
     "name": "stdout",
     "output_type": "stream",
     "text": [
      "rotation around x:\n",
      "-25.14478563067894 0 0\n",
      "dictionary, with 3d data\n",
      "dictionary, with 3d data\n",
      "rotation around y:\n",
      "0 0 72.4929295008121\n",
      "dictionary, with 3d data\n",
      "dictionary, with 3d data\n",
      "angle beetween ey and sf: -1\n"
     ]
    },
    {
     "name": "stderr",
     "output_type": "stream",
     "text": [
      "58it [19:54, 59.01s/it]/home/natalia/Documents/github_image_analysis/image_analysis/image_analysis/fit/regionprops.py:25: RuntimeWarning: Mean of empty slice\n",
      "  img_arr_x = np.nanmean(np.nanmean(img_arr, axis=0), axis=0)\n",
      "/home/natalia/Documents/github_image_analysis/image_analysis/image_analysis/fit/regionprops.py:28: RuntimeWarning: Mean of empty slice\n",
      "  img_arr_y = np.nanmean(np.nanmean(img_arr, axis=0), axis=1)\n",
      "/home/natalia/Documents/github_image_analysis/image_analysis/image_analysis/fit/regionprops.py:31: RuntimeWarning: Mean of empty slice\n",
      "  img_arr_z = np.nanmean(np.nanmean(img_arr, axis=1), axis=1)\n"
     ]
    },
    {
     "name": "stdout",
     "output_type": "stream",
     "text": [
      "rotation around x:\n",
      "-14.534455080540141 0 0\n",
      "dictionary, with 3d data\n",
      "dictionary, with 3d data\n",
      "rotation around y:\n",
      "0 0 79.37724092168254\n",
      "dictionary, with 3d data\n",
      "dictionary, with 3d data\n",
      "angle beetween ey and sf: -3\n"
     ]
    },
    {
     "name": "stderr",
     "output_type": "stream",
     "text": [
      "/home/natalia/Documents/github_image_analysis/image_analysis/image_analysis/fit/regionprops.py:25: RuntimeWarning: Mean of empty slice\n",
      "  img_arr_x = np.nanmean(np.nanmean(img_arr, axis=0), axis=0)\n",
      "/home/natalia/Documents/github_image_analysis/image_analysis/image_analysis/fit/regionprops.py:28: RuntimeWarning: Mean of empty slice\n",
      "  img_arr_y = np.nanmean(np.nanmean(img_arr, axis=0), axis=1)\n",
      "/home/natalia/Documents/github_image_analysis/image_analysis/image_analysis/fit/regionprops.py:31: RuntimeWarning: Mean of empty slice\n",
      "  img_arr_z = np.nanmean(np.nanmean(img_arr, axis=1), axis=1)\n"
     ]
    },
    {
     "name": "stdout",
     "output_type": "stream",
     "text": [
      "rotation around x:\n",
      "-11.888658039627984 0 0\n",
      "dictionary, with 3d data\n",
      "dictionary, with 3d data\n",
      "rotation around y:\n",
      "0 0 75.59662899410095\n",
      "dictionary, with 3d data\n",
      "dictionary, with 3d data\n",
      "angle beetween ey and sf: -2\n"
     ]
    },
    {
     "name": "stderr",
     "output_type": "stream",
     "text": [
      "/home/natalia/Documents/github_image_analysis/image_analysis/image_analysis/fit/regionprops.py:25: RuntimeWarning: Mean of empty slice\n",
      "  img_arr_x = np.nanmean(np.nanmean(img_arr, axis=0), axis=0)\n",
      "/home/natalia/Documents/github_image_analysis/image_analysis/image_analysis/fit/regionprops.py:28: RuntimeWarning: Mean of empty slice\n",
      "  img_arr_y = np.nanmean(np.nanmean(img_arr, axis=0), axis=1)\n",
      "/home/natalia/Documents/github_image_analysis/image_analysis/image_analysis/fit/regionprops.py:31: RuntimeWarning: Mean of empty slice\n",
      "  img_arr_z = np.nanmean(np.nanmean(img_arr, axis=1), axis=1)\n"
     ]
    },
    {
     "name": "stdout",
     "output_type": "stream",
     "text": [
      "rotation around x:\n",
      "-7.5946433685914485 0 0\n",
      "dictionary, with 3d data\n",
      "dictionary, with 3d data\n",
      "rotation around y:\n",
      "0 0 73.15819689267464\n",
      "dictionary, with 3d data\n",
      "dictionary, with 3d data\n",
      "angle beetween ey and sf: -1\n"
     ]
    },
    {
     "name": "stderr",
     "output_type": "stream",
     "text": [
      "/home/natalia/Documents/github_image_analysis/image_analysis/image_analysis/fit/regionprops.py:25: RuntimeWarning: Mean of empty slice\n",
      "  img_arr_x = np.nanmean(np.nanmean(img_arr, axis=0), axis=0)\n",
      "/home/natalia/Documents/github_image_analysis/image_analysis/image_analysis/fit/regionprops.py:28: RuntimeWarning: Mean of empty slice\n",
      "  img_arr_y = np.nanmean(np.nanmean(img_arr, axis=0), axis=1)\n",
      "/home/natalia/Documents/github_image_analysis/image_analysis/image_analysis/fit/regionprops.py:31: RuntimeWarning: Mean of empty slice\n",
      "  img_arr_z = np.nanmean(np.nanmean(img_arr, axis=1), axis=1)\n"
     ]
    },
    {
     "name": "stdout",
     "output_type": "stream",
     "text": [
      "rotation around x:\n",
      "-7.765166018425333 0 0\n",
      "dictionary, with 3d data\n",
      "dictionary, with 3d data\n",
      "rotation around y:\n",
      "0 0 70.16787014978162\n",
      "dictionary, with 3d data\n",
      "dictionary, with 3d data\n",
      "angle beetween ey and sf: 1\n"
     ]
    },
    {
     "name": "stderr",
     "output_type": "stream",
     "text": [
      "/home/natalia/Documents/github_image_analysis/image_analysis/image_analysis/fit/regionprops.py:25: RuntimeWarning: Mean of empty slice\n",
      "  img_arr_x = np.nanmean(np.nanmean(img_arr, axis=0), axis=0)\n",
      "/home/natalia/Documents/github_image_analysis/image_analysis/image_analysis/fit/regionprops.py:28: RuntimeWarning: Mean of empty slice\n",
      "  img_arr_y = np.nanmean(np.nanmean(img_arr, axis=0), axis=1)\n",
      "/home/natalia/Documents/github_image_analysis/image_analysis/image_analysis/fit/regionprops.py:31: RuntimeWarning: Mean of empty slice\n",
      "  img_arr_z = np.nanmean(np.nanmean(img_arr, axis=1), axis=1)\n"
     ]
    },
    {
     "name": "stdout",
     "output_type": "stream",
     "text": [
      "rotation around x:\n",
      "-4.573921259900885 0 0\n",
      "dictionary, with 3d data\n",
      "dictionary, with 3d data\n",
      "rotation around y:\n",
      "0 0 71.4542277572322\n",
      "dictionary, with 3d data\n",
      "dictionary, with 3d data\n",
      "angle beetween ey and sf: 3\n"
     ]
    },
    {
     "name": "stderr",
     "output_type": "stream",
     "text": [
      "59it [20:50, 57.87s/it]/home/natalia/Documents/github_image_analysis/image_analysis/image_analysis/fit/regionprops.py:25: RuntimeWarning: Mean of empty slice\n",
      "  img_arr_x = np.nanmean(np.nanmean(img_arr, axis=0), axis=0)\n",
      "/home/natalia/Documents/github_image_analysis/image_analysis/image_analysis/fit/regionprops.py:28: RuntimeWarning: Mean of empty slice\n",
      "  img_arr_y = np.nanmean(np.nanmean(img_arr, axis=0), axis=1)\n",
      "/home/natalia/Documents/github_image_analysis/image_analysis/image_analysis/fit/regionprops.py:31: RuntimeWarning: Mean of empty slice\n",
      "  img_arr_z = np.nanmean(np.nanmean(img_arr, axis=1), axis=1)\n"
     ]
    },
    {
     "name": "stdout",
     "output_type": "stream",
     "text": [
      "rotation around x:\n",
      "-79.07719528013072 0 0\n",
      "dictionary, with 3d data\n",
      "dictionary, with 3d data\n",
      "rotation around y:\n",
      "0 0 78.40834593083152\n",
      "dictionary, with 3d data\n",
      "dictionary, with 3d data\n",
      "angle beetween ey and sf: 4\n"
     ]
    },
    {
     "name": "stderr",
     "output_type": "stream",
     "text": [
      "/home/natalia/Documents/github_image_analysis/image_analysis/image_analysis/fit/regionprops.py:25: RuntimeWarning: Mean of empty slice\n",
      "  img_arr_x = np.nanmean(np.nanmean(img_arr, axis=0), axis=0)\n",
      "/home/natalia/Documents/github_image_analysis/image_analysis/image_analysis/fit/regionprops.py:28: RuntimeWarning: Mean of empty slice\n",
      "  img_arr_y = np.nanmean(np.nanmean(img_arr, axis=0), axis=1)\n",
      "/home/natalia/Documents/github_image_analysis/image_analysis/image_analysis/fit/regionprops.py:31: RuntimeWarning: Mean of empty slice\n",
      "  img_arr_z = np.nanmean(np.nanmean(img_arr, axis=1), axis=1)\n"
     ]
    },
    {
     "name": "stdout",
     "output_type": "stream",
     "text": [
      "rotation around x:\n",
      "48.532294583890895 0 0\n",
      "dictionary, with 3d data\n",
      "dictionary, with 3d data\n",
      "rotation around y:\n",
      "0 0 -78.27847915646258\n",
      "dictionary, with 3d data\n",
      "dictionary, with 3d data\n",
      "angle beetween ey and sf: 1\n"
     ]
    },
    {
     "name": "stderr",
     "output_type": "stream",
     "text": [
      "/home/natalia/Documents/github_image_analysis/image_analysis/image_analysis/fit/regionprops.py:25: RuntimeWarning: Mean of empty slice\n",
      "  img_arr_x = np.nanmean(np.nanmean(img_arr, axis=0), axis=0)\n",
      "/home/natalia/Documents/github_image_analysis/image_analysis/image_analysis/fit/regionprops.py:28: RuntimeWarning: Mean of empty slice\n",
      "  img_arr_y = np.nanmean(np.nanmean(img_arr, axis=0), axis=1)\n",
      "/home/natalia/Documents/github_image_analysis/image_analysis/image_analysis/fit/regionprops.py:31: RuntimeWarning: Mean of empty slice\n",
      "  img_arr_z = np.nanmean(np.nanmean(img_arr, axis=1), axis=1)\n"
     ]
    },
    {
     "name": "stdout",
     "output_type": "stream",
     "text": [
      "rotation around x:\n",
      "22.023055496811264 0 0\n",
      "dictionary, with 3d data\n",
      "dictionary, with 3d data\n",
      "rotation around y:\n",
      "0 0 -72.91973305079526\n",
      "dictionary, with 3d data\n",
      "dictionary, with 3d data\n",
      "angle beetween ey and sf: -5\n"
     ]
    },
    {
     "name": "stderr",
     "output_type": "stream",
     "text": [
      "/home/natalia/Documents/github_image_analysis/image_analysis/image_analysis/fit/regionprops.py:25: RuntimeWarning: Mean of empty slice\n",
      "  img_arr_x = np.nanmean(np.nanmean(img_arr, axis=0), axis=0)\n",
      "/home/natalia/Documents/github_image_analysis/image_analysis/image_analysis/fit/regionprops.py:28: RuntimeWarning: Mean of empty slice\n",
      "  img_arr_y = np.nanmean(np.nanmean(img_arr, axis=0), axis=1)\n",
      "/home/natalia/Documents/github_image_analysis/image_analysis/image_analysis/fit/regionprops.py:31: RuntimeWarning: Mean of empty slice\n",
      "  img_arr_z = np.nanmean(np.nanmean(img_arr, axis=1), axis=1)\n"
     ]
    },
    {
     "name": "stdout",
     "output_type": "stream",
     "text": [
      "rotation around x:\n",
      "15.051219992590982 0 0\n",
      "dictionary, with 3d data\n",
      "dictionary, with 3d data\n",
      "rotation around y:\n",
      "0 0 -69.28572514714865\n",
      "dictionary, with 3d data\n",
      "dictionary, with 3d data\n",
      "angle beetween ey and sf: -4\n"
     ]
    },
    {
     "name": "stderr",
     "output_type": "stream",
     "text": [
      "/home/natalia/Documents/github_image_analysis/image_analysis/image_analysis/fit/regionprops.py:25: RuntimeWarning: Mean of empty slice\n",
      "  img_arr_x = np.nanmean(np.nanmean(img_arr, axis=0), axis=0)\n",
      "/home/natalia/Documents/github_image_analysis/image_analysis/image_analysis/fit/regionprops.py:28: RuntimeWarning: Mean of empty slice\n",
      "  img_arr_y = np.nanmean(np.nanmean(img_arr, axis=0), axis=1)\n",
      "/home/natalia/Documents/github_image_analysis/image_analysis/image_analysis/fit/regionprops.py:31: RuntimeWarning: Mean of empty slice\n",
      "  img_arr_z = np.nanmean(np.nanmean(img_arr, axis=1), axis=1)\n"
     ]
    },
    {
     "name": "stdout",
     "output_type": "stream",
     "text": [
      "rotation around x:\n",
      "16.33604288971848 0 0\n",
      "dictionary, with 3d data\n",
      "dictionary, with 3d data\n",
      "rotation around y:\n",
      "0 0 -69.76530947825218\n",
      "dictionary, with 3d data\n",
      "dictionary, with 3d data\n",
      "angle beetween ey and sf: -3\n"
     ]
    },
    {
     "name": "stderr",
     "output_type": "stream",
     "text": [
      "60it [22:25, 69.00s/it]/home/natalia/Documents/github_image_analysis/image_analysis/image_analysis/fit/regionprops.py:25: RuntimeWarning: Mean of empty slice\n",
      "  img_arr_x = np.nanmean(np.nanmean(img_arr, axis=0), axis=0)\n",
      "/home/natalia/Documents/github_image_analysis/image_analysis/image_analysis/fit/regionprops.py:28: RuntimeWarning: Mean of empty slice\n",
      "  img_arr_y = np.nanmean(np.nanmean(img_arr, axis=0), axis=1)\n",
      "/home/natalia/Documents/github_image_analysis/image_analysis/image_analysis/fit/regionprops.py:31: RuntimeWarning: Mean of empty slice\n",
      "  img_arr_z = np.nanmean(np.nanmean(img_arr, axis=1), axis=1)\n"
     ]
    },
    {
     "name": "stdout",
     "output_type": "stream",
     "text": [
      "rotation around x:\n",
      "10.713123022791066 0 0\n",
      "dictionary, with 3d data\n",
      "dictionary, with 3d data\n",
      "rotation around y:\n",
      "0 0 -84.64546451329005\n",
      "dictionary, with 3d data\n",
      "dictionary, with 3d data\n",
      "angle beetween ey and sf: 5\n"
     ]
    },
    {
     "name": "stderr",
     "output_type": "stream",
     "text": [
      "/home/natalia/Documents/github_image_analysis/image_analysis/image_analysis/fit/regionprops.py:25: RuntimeWarning: Mean of empty slice\n",
      "  img_arr_x = np.nanmean(np.nanmean(img_arr, axis=0), axis=0)\n",
      "/home/natalia/Documents/github_image_analysis/image_analysis/image_analysis/fit/regionprops.py:28: RuntimeWarning: Mean of empty slice\n",
      "  img_arr_y = np.nanmean(np.nanmean(img_arr, axis=0), axis=1)\n",
      "/home/natalia/Documents/github_image_analysis/image_analysis/image_analysis/fit/regionprops.py:31: RuntimeWarning: Mean of empty slice\n",
      "  img_arr_z = np.nanmean(np.nanmean(img_arr, axis=1), axis=1)\n"
     ]
    },
    {
     "name": "stdout",
     "output_type": "stream",
     "text": [
      "rotation around x:\n",
      "-18.88608736970929 0 0\n",
      "dictionary, with 3d data\n",
      "dictionary, with 3d data\n",
      "rotation around y:\n",
      "0 0 -81.61300207944628\n",
      "dictionary, with 3d data\n",
      "dictionary, with 3d data\n",
      "angle beetween ey and sf: 0\n"
     ]
    },
    {
     "name": "stderr",
     "output_type": "stream",
     "text": [
      "/home/natalia/Documents/github_image_analysis/image_analysis/image_analysis/fit/regionprops.py:25: RuntimeWarning: Mean of empty slice\n",
      "  img_arr_x = np.nanmean(np.nanmean(img_arr, axis=0), axis=0)\n",
      "/home/natalia/Documents/github_image_analysis/image_analysis/image_analysis/fit/regionprops.py:28: RuntimeWarning: Mean of empty slice\n",
      "  img_arr_y = np.nanmean(np.nanmean(img_arr, axis=0), axis=1)\n",
      "/home/natalia/Documents/github_image_analysis/image_analysis/image_analysis/fit/regionprops.py:31: RuntimeWarning: Mean of empty slice\n",
      "  img_arr_z = np.nanmean(np.nanmean(img_arr, axis=1), axis=1)\n"
     ]
    },
    {
     "name": "stdout",
     "output_type": "stream",
     "text": [
      "rotation around x:\n",
      "-14.470294100065894 0 0\n",
      "dictionary, with 3d data\n",
      "dictionary, with 3d data\n",
      "rotation around y:\n",
      "0 0 -82.84939736582614\n",
      "dictionary, with 3d data\n",
      "dictionary, with 3d data\n",
      "angle beetween ey and sf: -1\n"
     ]
    },
    {
     "name": "stderr",
     "output_type": "stream",
     "text": [
      "/home/natalia/Documents/github_image_analysis/image_analysis/image_analysis/fit/regionprops.py:25: RuntimeWarning: Mean of empty slice\n",
      "  img_arr_x = np.nanmean(np.nanmean(img_arr, axis=0), axis=0)\n",
      "/home/natalia/Documents/github_image_analysis/image_analysis/image_analysis/fit/regionprops.py:28: RuntimeWarning: Mean of empty slice\n",
      "  img_arr_y = np.nanmean(np.nanmean(img_arr, axis=0), axis=1)\n",
      "/home/natalia/Documents/github_image_analysis/image_analysis/image_analysis/fit/regionprops.py:31: RuntimeWarning: Mean of empty slice\n",
      "  img_arr_z = np.nanmean(np.nanmean(img_arr, axis=1), axis=1)\n"
     ]
    },
    {
     "name": "stdout",
     "output_type": "stream",
     "text": [
      "rotation around x:\n",
      "-66.8014094863518 0 0\n",
      "dictionary, with 3d data\n",
      "dictionary, with 3d data\n",
      "rotation around y:\n",
      "0 0 -82.75798345198211\n",
      "dictionary, with 3d data\n",
      "dictionary, with 3d data\n",
      "angle beetween ey and sf: 3\n"
     ]
    },
    {
     "name": "stderr",
     "output_type": "stream",
     "text": [
      "/home/natalia/Documents/github_image_analysis/image_analysis/image_analysis/fit/regionprops.py:25: RuntimeWarning: Mean of empty slice\n",
      "  img_arr_x = np.nanmean(np.nanmean(img_arr, axis=0), axis=0)\n",
      "/home/natalia/Documents/github_image_analysis/image_analysis/image_analysis/fit/regionprops.py:28: RuntimeWarning: Mean of empty slice\n",
      "  img_arr_y = np.nanmean(np.nanmean(img_arr, axis=0), axis=1)\n",
      "/home/natalia/Documents/github_image_analysis/image_analysis/image_analysis/fit/regionprops.py:31: RuntimeWarning: Mean of empty slice\n",
      "  img_arr_z = np.nanmean(np.nanmean(img_arr, axis=1), axis=1)\n"
     ]
    },
    {
     "name": "stdout",
     "output_type": "stream",
     "text": [
      "rotation around x:\n",
      "59.03624346792648 0 0\n",
      "dictionary, with 3d data\n",
      "dictionary, with 3d data\n",
      "rotation around y:\n",
      "0 0 88.40841855612344\n",
      "dictionary, with 3d data\n",
      "dictionary, with 3d data\n",
      "angle beetween ey and sf: -5\n"
     ]
    },
    {
     "name": "stderr",
     "output_type": "stream",
     "text": [
      "61it [23:30, 67.79s/it]/home/natalia/Documents/github_image_analysis/image_analysis/image_analysis/fit/regionprops.py:25: RuntimeWarning: Mean of empty slice\n",
      "  img_arr_x = np.nanmean(np.nanmean(img_arr, axis=0), axis=0)\n",
      "/home/natalia/Documents/github_image_analysis/image_analysis/image_analysis/fit/regionprops.py:28: RuntimeWarning: Mean of empty slice\n",
      "  img_arr_y = np.nanmean(np.nanmean(img_arr, axis=0), axis=1)\n",
      "/home/natalia/Documents/github_image_analysis/image_analysis/image_analysis/fit/regionprops.py:31: RuntimeWarning: Mean of empty slice\n",
      "  img_arr_z = np.nanmean(np.nanmean(img_arr, axis=1), axis=1)\n"
     ]
    },
    {
     "name": "stdout",
     "output_type": "stream",
     "text": [
      "rotation around x:\n",
      "37.40535663140856 0 0\n",
      "dictionary, with 3d data\n",
      "dictionary, with 3d data\n",
      "rotation around y:\n",
      "0 0 -87.6406810622523\n",
      "dictionary, with 3d data\n",
      "dictionary, with 3d data\n",
      "angle beetween ey and sf: 2\n"
     ]
    },
    {
     "name": "stderr",
     "output_type": "stream",
     "text": [
      "/home/natalia/Documents/github_image_analysis/image_analysis/image_analysis/fit/regionprops.py:25: RuntimeWarning: Mean of empty slice\n",
      "  img_arr_x = np.nanmean(np.nanmean(img_arr, axis=0), axis=0)\n",
      "/home/natalia/Documents/github_image_analysis/image_analysis/image_analysis/fit/regionprops.py:28: RuntimeWarning: Mean of empty slice\n",
      "  img_arr_y = np.nanmean(np.nanmean(img_arr, axis=0), axis=1)\n",
      "/home/natalia/Documents/github_image_analysis/image_analysis/image_analysis/fit/regionprops.py:31: RuntimeWarning: Mean of empty slice\n",
      "  img_arr_z = np.nanmean(np.nanmean(img_arr, axis=1), axis=1)\n"
     ]
    },
    {
     "name": "stdout",
     "output_type": "stream",
     "text": [
      "rotation around x:\n",
      "86.98721249581665 0 0\n",
      "dictionary, with 3d data\n",
      "dictionary, with 3d data\n",
      "rotation around y:\n",
      "0 0 -86.6236317144118\n",
      "dictionary, with 3d data\n",
      "dictionary, with 3d data\n",
      "angle beetween ey and sf: 1\n"
     ]
    },
    {
     "name": "stderr",
     "output_type": "stream",
     "text": [
      "/home/natalia/Documents/github_image_analysis/image_analysis/image_analysis/fit/regionprops.py:25: RuntimeWarning: Mean of empty slice\n",
      "  img_arr_x = np.nanmean(np.nanmean(img_arr, axis=0), axis=0)\n",
      "/home/natalia/Documents/github_image_analysis/image_analysis/image_analysis/fit/regionprops.py:28: RuntimeWarning: Mean of empty slice\n",
      "  img_arr_y = np.nanmean(np.nanmean(img_arr, axis=0), axis=1)\n",
      "/home/natalia/Documents/github_image_analysis/image_analysis/image_analysis/fit/regionprops.py:31: RuntimeWarning: Mean of empty slice\n",
      "  img_arr_z = np.nanmean(np.nanmean(img_arr, axis=1), axis=1)\n"
     ]
    },
    {
     "name": "stdout",
     "output_type": "stream",
     "text": [
      "rotation around x:\n",
      "-81.25383773744478 0 0\n",
      "dictionary, with 3d data\n",
      "dictionary, with 3d data\n",
      "rotation around y:\n",
      "0 0 88.03951260646151\n",
      "dictionary, with 3d data\n",
      "dictionary, with 3d data\n",
      "angle beetween ey and sf: -1\n"
     ]
    },
    {
     "name": "stderr",
     "output_type": "stream",
     "text": [
      "/home/natalia/Documents/github_image_analysis/image_analysis/image_analysis/fit/regionprops.py:25: RuntimeWarning: Mean of empty slice\n",
      "  img_arr_x = np.nanmean(np.nanmean(img_arr, axis=0), axis=0)\n",
      "/home/natalia/Documents/github_image_analysis/image_analysis/image_analysis/fit/regionprops.py:28: RuntimeWarning: Mean of empty slice\n",
      "  img_arr_y = np.nanmean(np.nanmean(img_arr, axis=0), axis=1)\n",
      "/home/natalia/Documents/github_image_analysis/image_analysis/image_analysis/fit/regionprops.py:31: RuntimeWarning: Mean of empty slice\n",
      "  img_arr_z = np.nanmean(np.nanmean(img_arr, axis=1), axis=1)\n"
     ]
    },
    {
     "name": "stdout",
     "output_type": "stream",
     "text": [
      "rotation around x:\n",
      "-68.55226367289465 0 0\n",
      "dictionary, with 3d data\n",
      "dictionary, with 3d data\n",
      "rotation around y:\n",
      "0 0 89.5984866641294\n",
      "dictionary, with 3d data\n",
      "dictionary, with 3d data\n",
      "angle beetween ey and sf: -2\n"
     ]
    },
    {
     "name": "stderr",
     "output_type": "stream",
     "text": [
      "/home/natalia/Documents/github_image_analysis/image_analysis/image_analysis/fit/regionprops.py:25: RuntimeWarning: Mean of empty slice\n",
      "  img_arr_x = np.nanmean(np.nanmean(img_arr, axis=0), axis=0)\n",
      "/home/natalia/Documents/github_image_analysis/image_analysis/image_analysis/fit/regionprops.py:28: RuntimeWarning: Mean of empty slice\n",
      "  img_arr_y = np.nanmean(np.nanmean(img_arr, axis=0), axis=1)\n",
      "/home/natalia/Documents/github_image_analysis/image_analysis/image_analysis/fit/regionprops.py:31: RuntimeWarning: Mean of empty slice\n",
      "  img_arr_z = np.nanmean(np.nanmean(img_arr, axis=1), axis=1)\n"
     ]
    },
    {
     "name": "stdout",
     "output_type": "stream",
     "text": [
      "rotation around x:\n",
      "-47.6025622024998 0 0\n",
      "dictionary, with 3d data\n",
      "dictionary, with 3d data\n",
      "rotation around y:\n",
      "0 0 88.4317570085637\n",
      "dictionary, with 3d data\n",
      "dictionary, with 3d data\n",
      "angle beetween ey and sf: -2\n"
     ]
    },
    {
     "name": "stderr",
     "output_type": "stream",
     "text": [
      "62it [25:04, 75.66s/it]/home/natalia/Documents/github_image_analysis/image_analysis/image_analysis/fit/regionprops.py:25: RuntimeWarning: Mean of empty slice\n",
      "  img_arr_x = np.nanmean(np.nanmean(img_arr, axis=0), axis=0)\n",
      "/home/natalia/Documents/github_image_analysis/image_analysis/image_analysis/fit/regionprops.py:28: RuntimeWarning: Mean of empty slice\n",
      "  img_arr_y = np.nanmean(np.nanmean(img_arr, axis=0), axis=1)\n",
      "/home/natalia/Documents/github_image_analysis/image_analysis/image_analysis/fit/regionprops.py:31: RuntimeWarning: Mean of empty slice\n",
      "  img_arr_z = np.nanmean(np.nanmean(img_arr, axis=1), axis=1)\n"
     ]
    },
    {
     "name": "stdout",
     "output_type": "stream",
     "text": [
      "rotation around x:\n",
      "-12.56177420695957 0 0\n",
      "dictionary, with 3d data\n",
      "dictionary, with 3d data\n",
      "rotation around y:\n",
      "0 0 63.287337596083006\n",
      "dictionary, with 3d data\n",
      "dictionary, with 3d data\n",
      "angle beetween ey and sf: 3\n"
     ]
    },
    {
     "name": "stderr",
     "output_type": "stream",
     "text": [
      "/home/natalia/Documents/github_image_analysis/image_analysis/image_analysis/fit/regionprops.py:25: RuntimeWarning: Mean of empty slice\n",
      "  img_arr_x = np.nanmean(np.nanmean(img_arr, axis=0), axis=0)\n",
      "/home/natalia/Documents/github_image_analysis/image_analysis/image_analysis/fit/regionprops.py:28: RuntimeWarning: Mean of empty slice\n",
      "  img_arr_y = np.nanmean(np.nanmean(img_arr, axis=0), axis=1)\n",
      "/home/natalia/Documents/github_image_analysis/image_analysis/image_analysis/fit/regionprops.py:31: RuntimeWarning: Mean of empty slice\n",
      "  img_arr_z = np.nanmean(np.nanmean(img_arr, axis=1), axis=1)\n"
     ]
    },
    {
     "name": "stdout",
     "output_type": "stream",
     "text": [
      "rotation around x:\n",
      "-11.142889858339345 0 0\n",
      "dictionary, with 3d data\n",
      "dictionary, with 3d data\n",
      "rotation around y:\n",
      "0 0 62.241821794066105\n",
      "dictionary, with 3d data\n",
      "dictionary, with 3d data\n",
      "strange rotation\n",
      "angle beetween ey and sf: 6\n"
     ]
    },
    {
     "name": "stderr",
     "output_type": "stream",
     "text": [
      "/home/natalia/Documents/github_image_analysis/image_analysis/image_analysis/fit/regionprops.py:25: RuntimeWarning: Mean of empty slice\n",
      "  img_arr_x = np.nanmean(np.nanmean(img_arr, axis=0), axis=0)\n",
      "/home/natalia/Documents/github_image_analysis/image_analysis/image_analysis/fit/regionprops.py:28: RuntimeWarning: Mean of empty slice\n",
      "  img_arr_y = np.nanmean(np.nanmean(img_arr, axis=0), axis=1)\n",
      "/home/natalia/Documents/github_image_analysis/image_analysis/image_analysis/fit/regionprops.py:31: RuntimeWarning: Mean of empty slice\n",
      "  img_arr_z = np.nanmean(np.nanmean(img_arr, axis=1), axis=1)\n"
     ]
    },
    {
     "name": "stdout",
     "output_type": "stream",
     "text": [
      "rotation around x:\n",
      "-18.2602671095334 0 0\n",
      "dictionary, with 3d data\n",
      "dictionary, with 3d data\n",
      "rotation around y:\n",
      "0 0 61.94067819256967\n",
      "dictionary, with 3d data\n",
      "dictionary, with 3d data\n",
      "strange rotation\n",
      "angle beetween ey and sf: 7\n"
     ]
    },
    {
     "name": "stderr",
     "output_type": "stream",
     "text": [
      "/home/natalia/Documents/github_image_analysis/image_analysis/image_analysis/fit/regionprops.py:25: RuntimeWarning: Mean of empty slice\n",
      "  img_arr_x = np.nanmean(np.nanmean(img_arr, axis=0), axis=0)\n",
      "/home/natalia/Documents/github_image_analysis/image_analysis/image_analysis/fit/regionprops.py:28: RuntimeWarning: Mean of empty slice\n",
      "  img_arr_y = np.nanmean(np.nanmean(img_arr, axis=0), axis=1)\n",
      "/home/natalia/Documents/github_image_analysis/image_analysis/image_analysis/fit/regionprops.py:31: RuntimeWarning: Mean of empty slice\n",
      "  img_arr_z = np.nanmean(np.nanmean(img_arr, axis=1), axis=1)\n"
     ]
    },
    {
     "name": "stdout",
     "output_type": "stream",
     "text": [
      "rotation around x:\n",
      "-34.200484130268535 0 0\n",
      "dictionary, with 3d data\n",
      "dictionary, with 3d data\n",
      "rotation around y:\n",
      "0 0 62.718701973426136\n",
      "dictionary, with 3d data\n",
      "dictionary, with 3d data\n",
      "angle beetween ey and sf: 3\n"
     ]
    },
    {
     "name": "stderr",
     "output_type": "stream",
     "text": [
      "/home/natalia/Documents/github_image_analysis/image_analysis/image_analysis/fit/regionprops.py:25: RuntimeWarning: Mean of empty slice\n",
      "  img_arr_x = np.nanmean(np.nanmean(img_arr, axis=0), axis=0)\n",
      "/home/natalia/Documents/github_image_analysis/image_analysis/image_analysis/fit/regionprops.py:28: RuntimeWarning: Mean of empty slice\n",
      "  img_arr_y = np.nanmean(np.nanmean(img_arr, axis=0), axis=1)\n",
      "/home/natalia/Documents/github_image_analysis/image_analysis/image_analysis/fit/regionprops.py:31: RuntimeWarning: Mean of empty slice\n",
      "  img_arr_z = np.nanmean(np.nanmean(img_arr, axis=1), axis=1)\n"
     ]
    },
    {
     "name": "stdout",
     "output_type": "stream",
     "text": [
      "rotation around x:\n",
      "-34.665497333306206 0 0\n",
      "dictionary, with 3d data\n",
      "dictionary, with 3d data\n",
      "rotation around y:\n",
      "0 0 60.84612039566949\n",
      "dictionary, with 3d data\n",
      "dictionary, with 3d data\n",
      "angle beetween ey and sf: -5\n"
     ]
    },
    {
     "name": "stderr",
     "output_type": "stream",
     "text": [
      "63it [26:58, 25.69s/it]\n"
     ]
    }
   ],
   "source": [
    "for i, file_name in tqdm( enumerate( df['pretreated_file_name'].values) ):\n",
    "    \n",
    "    file = os.path.join( folder_pretreated, file_name) + '.npy'\n",
    "    \n",
    "    keys = np.load( file.split('.npy')[0] + '_keys.npy' )\n",
    "    image = dict(zip(\n",
    "        keys,\n",
    "        np.load( file )\n",
    "    ))\n",
    "\n",
    "    for pc in [40, 50, 60, 70, 80]:\n",
    "        if (f'shh{pc}_clip' in keys) and (f'fgf{pc}_clip' in keys):\n",
    "            \n",
    "            image_to_rotate = dict(zip(\n",
    "                ['shh_clip', 'fgf_clip', 'tissue_mask_with_epi'],\n",
    "                [image[f'shh{pc}_clip'], image[f'fgf{pc}_clip'], image['tissue_mask_with_epi']]\n",
    "            ))\n",
    "             \n",
    "            regionprops_3d = regionprops.regionprops_3d(image_to_rotate, 1, 1, 1, pixel_size)\n",
    "            image_to_rotate = regionprops_3d.rotate_sf_to_ey()\n",
    "\n",
    "            S = regionprops.center_mass( image_to_rotate['shh_clip'] )\n",
    "            F = regionprops.center_mass( image_to_rotate['fgf_clip'] )\n",
    "\n",
    "            L = np.sum( \n",
    "                mask.largest_component( image_to_rotate['tissue_mask_with_epi'][S[0], :, S[2]]  )\n",
    "            ) * pixel_size\n",
    "            L_SF  = np.abs( S[1] - F[1] ) * pixel_size\n",
    "            \n",
    "            ymin = np.nonzero( mask.largest_component(image_to_rotate['tissue_mask_with_epi'][S[0], :, S[2]]) )[0][0]\n",
    "            ymax = np.nonzero( mask.largest_component(image_to_rotate['tissue_mask_with_epi'][S[0], :, S[2]]) )[0][-1]            \n",
    "            \n",
    "            x0_S = min( (S[1] - ymin) * pixel_size, (ymax - S[1]) * pixel_size )\n",
    "            x0_F = min( (F[1] - ymin) * pixel_size, (ymax - F[1]) * pixel_size )\n",
    "\n",
    "            df.loc[df['pretreated_file_name'] == file_name, f'system_size_L_along_SF_pc{pc}_um']  = L\n",
    "            df.loc[df['pretreated_file_name'] == file_name, f'length_L_SF_pc{pc}_um']             = L_SF\n",
    "            df.loc[df['pretreated_file_name'] == file_name, f'x0_pc{pc}_um_shh']                  = x0_S\n",
    "            df.loc[df['pretreated_file_name'] == file_name, f'x0_pc{pc}_um_fgf']                  = x0_F\n",
    "            \n",
    "df.to_excel(\"system_size_L_and_gaps_x0/system_size_L_and_gaps_x0.xlsx\", index=False)"
   ]
  },
  {
   "cell_type": "code",
   "execution_count": null,
   "id": "e8565417-8214-46c0-aa26-750d03b94965",
   "metadata": {},
   "outputs": [],
   "source": []
  },
  {
   "cell_type": "code",
   "execution_count": null,
   "id": "1d7841e7-b742-4da4-8975-b05af74d8370",
   "metadata": {},
   "outputs": [],
   "source": []
  },
  {
   "cell_type": "code",
   "execution_count": null,
   "id": "6c816c0a-7f10-4358-b9e3-c336e2bd008b",
   "metadata": {},
   "outputs": [],
   "source": []
  }
 ],
 "metadata": {
  "celltoolbar": "Hide code",
  "kernelspec": {
   "display_name": "Python 3 (ipykernel)",
   "language": "python",
   "name": "python3"
  },
  "language_info": {
   "codemirror_mode": {
    "name": "ipython",
    "version": 3
   },
   "file_extension": ".py",
   "mimetype": "text/x-python",
   "name": "python",
   "nbconvert_exporter": "python",
   "pygments_lexer": "ipython3",
   "version": "3.9.19"
  },
  "toc-showmarkdowntxt": false
 },
 "nbformat": 4,
 "nbformat_minor": 5
}
